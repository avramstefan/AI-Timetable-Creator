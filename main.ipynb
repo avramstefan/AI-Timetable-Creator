{
 "cells": [
  {
   "cell_type": "markdown",
   "metadata": {},
   "source": [
    "\n",
    "Import the necessary modules"
   ]
  },
  {
   "cell_type": "code",
   "execution_count": 391,
   "metadata": {},
   "outputs": [],
   "source": [
    "import matplotlib.pyplot as plt\n",
    "import random as rd\n",
    "import numpy as np\n",
    "import contextlib\n",
    "import itertools\n",
    "import utils\n",
    "import time\n",
    "import sys\n",
    "import io\n",
    "\n",
    "from tqdm import tqdm\n",
    "from heapq import heappop, heappush\n",
    "from utils import pretty_print_timetable\n",
    "from check_constraints import check_mandatory_constraints"
   ]
  },
  {
   "cell_type": "code",
   "execution_count": null,
   "metadata": {},
   "outputs": [],
   "source": [
    "class Day:\n",
    "    def __init__(self, name):\n",
    "        self.name = name"
   ]
  },
  {
   "cell_type": "code",
   "execution_count": null,
   "metadata": {},
   "outputs": [],
   "source": [
    "class Interval:\n",
    "    def __init__(self, interval):\n",
    "        self.interval = interval"
   ]
  },
  {
   "cell_type": "code",
   "execution_count": null,
   "metadata": {},
   "outputs": [],
   "source": [
    "class Subject:\n",
    "    def __init__(self, name, capacity, occupied=0):\n",
    "        self.name = name\n",
    "        self.capacity = capacity\n",
    "        self.occupied = occupied\n",
    "    \n",
    "    def is_covered(self):\n",
    "        return self.occupied >= self.capacity\n",
    "\n",
    "    def update(self, lecture_hall):\n",
    "        self.occupied += lecture_hall.capacity\n",
    "\n",
    "    def restart(self):\n",
    "        self.occupied = 0"
   ]
  },
  {
   "cell_type": "code",
   "execution_count": null,
   "metadata": {},
   "outputs": [],
   "source": [
    "class Constraints:\n",
    "    def __init__(self, constraints):\n",
    "        days = [\"Luni\", \"Marti\", \"Miercuri\", \"Joi\", \"Vineri\", \"Sambata\", \"Duminica\"]\n",
    "        self.prefferable_days = []\n",
    "        self.prefferable_intervals = []\n",
    "        self.c_pauses = []\n",
    "        \n",
    "        for c in constraints:\n",
    "            if c in days:\n",
    "                self.prefferable_days.append(c)\n",
    "            \n",
    "            if \"-\" in c and not \"!\" in c:\n",
    "                self.prefferable_intervals.append(c)\n",
    "\n",
    "            if \"Pauza\" in c:\n",
    "                self.c_pauses.append(c)"
   ]
  },
  {
   "cell_type": "code",
   "execution_count": null,
   "metadata": {},
   "outputs": [],
   "source": [
    "class Teacher:\n",
    "    def __init__(self, name, constraints, subjects, num_intervals=0, constraints_initialized=False):\n",
    "        self.name = name\n",
    "        self.num_intervals = num_intervals\n",
    "        self.constraints = Constraints(constraints) if not constraints_initialized else constraints\n",
    "        self.subjects = subjects\n",
    "\n",
    "    def is_available(self):\n",
    "        return self.num_intervals < 7\n",
    "\n",
    "    def is_specialized(self, s):\n",
    "        \"\"\"\n",
    "            Tells if the teacher may teach the subject s received as a parameter\n",
    "        \"\"\"\n",
    "        return s in self.subjects\n",
    "\n",
    "    def matches_teacher_copy(self, other):\n",
    "        return self.name == other.name\n",
    "\n",
    "    def update(self):\n",
    "        self.num_intervals += 1\n",
    "\n",
    "    def restart(self):\n",
    "        self.num_intervals = 0\n",
    "\n",
    "    def matches_requirements(self, searched_slot, slots):\n",
    "        return not any(slot.teacher == self for slot in [s for s in slots if s.interval == searched_slot.interval and s.day == searched_slot.day])\n",
    "\n",
    "    def soft_constraints_breached(self, slot):\n",
    "        # If the slot is not available, it means there are a teacher and a subject allocated for the slot\n",
    "        if slot.is_available():\n",
    "            # Day constraint breach\n",
    "            if slot.day.name not in self.constraints.prefferable_days:\n",
    "                return True\n",
    "            \n",
    "            # Interval constraint breach\n",
    "            slot_interval = get_interval_tuple(slot.interval.interval)\n",
    "            prefferable_intervals = [get_interval_tuple(interval, \"-\") for interval in self.constraints.prefferable_intervals]\n",
    "            interval_constraint_breach = lambda interval, searched_intervals: not any(interval[0] >= i[0] and interval[1] <= i[1] for i in searched_intervals)\n",
    "            if interval_constraint_breach(slot_interval, prefferable_intervals):\n",
    "                return True\n",
    "        else:\n",
    "            return True\n",
    "\n",
    "        return False\n"
   ]
  },
  {
   "cell_type": "code",
   "execution_count": null,
   "metadata": {},
   "outputs": [],
   "source": [
    "class LectureHall:\n",
    "    def __init__(self, name, capacity, subjects):\n",
    "        self.name = name\n",
    "        self.capacity = capacity\n",
    "        self.subjects = subjects"
   ]
  },
  {
   "cell_type": "code",
   "execution_count": null,
   "metadata": {},
   "outputs": [],
   "source": [
    "class Slot:\n",
    "    def __init__(self, day, interval, lecture_hall):\n",
    "        self.day = day\n",
    "        self.interval = interval\n",
    "        self.lecture_hall = lecture_hall\n",
    "\n",
    "        self.teacher = None\n",
    "        self.subject = None\n",
    "\n",
    "    def is_available(self):\n",
    "        return (self.subject is None) or (self.teacher is None)\n",
    "\n",
    "    def matches_requirements(self, lecture_hall, slots, teacher = None):\n",
    "        return self.lecture_hall.name == lecture_hall.name and (teacher is None or\\\n",
    "            not any(slot.teacher == teacher for slot in [s for s in slots if s.interval == self.interval and s.day == self.day]))\n",
    "\n",
    "    def matches_subject(self, subject: str):\n",
    "        return subject in [s.name for s in self.lecture_hall.subjects]\n",
    "\n",
    "    def matches_slot_copy(self, other):\n",
    "        return self.day.name == other.day.name and self.interval.interval == other.interval.interval and self.lecture_hall.name == other.lecture_hall.name\n",
    "\n",
    "    def matches_slot_assignments(self, other):\n",
    "        if self.is_available() and other.is_available():\n",
    "            return True\n",
    "        return not((not self.is_available() and other.is_available()) or\\\n",
    "            (self.is_available() and not other.is_available()) or\\\n",
    "            (not self.teacher.name == other.teacher.name or not self.subject.name == other.subject.name)) \n",
    "\n",
    "    def update(self, subject, teacher):\n",
    "        self.subject = subject\n",
    "        self.teacher = teacher\n",
    "\n",
    "    def restart(self):\n",
    "        self.subject = None\n",
    "        self.teacher = None\n",
    "\n",
    "    def swap(self, other):\n",
    "        self.subject, other.subject = other.subject, self.subject\n",
    "        self.teacher, other.teacher = other.teacher, self.teacher                \n",
    "\n",
    "    def get_same_interval_slots(slot, day, interval, timetable):\n",
    "        return [s for s in timetable[\"timetable\"].slots\\\n",
    "                if s.day == day and s.interval == interval and s != slot]\n",
    "\n",
    "    def can_swap(self, other, timetable):\n",
    "        def can_swap_helper(s1, s2, timetable):\n",
    "            # Check subject permissions\n",
    "            subject_permissions = s1.subject_permissions(s2) and s2.subject_permissions(s1)\n",
    "\n",
    "            if not subject_permissions:\n",
    "                return False\n",
    "\n",
    "            # Take all the slots from the same day and intervals\n",
    "            same_interval_slots = Slot.get_same_interval_slots(s1, s1.day, s1.interval, timetable)\n",
    "\n",
    "            # Check if the s2 teacher has another class\n",
    "            teacher_cond = not any(s2.teacher == s.teacher for s in same_interval_slots)\n",
    "\n",
    "            # Check if the s2 lecture hall is used in that interval\n",
    "            lecture_hall_cond = not any(not s.is_available() and s2.lecture_hall == s.lecture_hall for s in same_interval_slots)\n",
    "\n",
    "            return teacher_cond and lecture_hall_cond\n",
    "        \n",
    "        return can_swap_helper(self, other, timetable) and can_swap_helper(other, self, timetable)\n",
    "\n",
    "    def move(self, day, interval, slot):\n",
    "        slot_to_move = slot\n",
    "        slot_to_move.teacher = self.teacher\n",
    "        slot_to_move.subject = self.subject\n",
    "\n",
    "        self.teacher = None\n",
    "        self.subject = None\n",
    "    \n",
    "    def can_move(self, day, interval, timetable):\n",
    "        same_interval_slots = Slot.get_same_interval_slots(self, day, interval, timetable)\n",
    "        return not any(s.teacher == self.teacher for s in same_interval_slots) and\\\n",
    "            not any(not s.is_available() and s.lecture_hall == self.lecture_hall for s in same_interval_slots)\n",
    "\n",
    "    def assign_new_teacher(self, teacher):\n",
    "        old_teacher = self.teacher\n",
    "        old_teacher.num_intervals -= 1\n",
    "        self.teacher = teacher\n",
    "        teacher.update()\n",
    "\n",
    "    def can_assign_new_teacher(self, teacher, timetable):\n",
    "        if teacher is self.teacher:\n",
    "            return False\n",
    "\n",
    "        if not teacher.is_available():\n",
    "            return False\n",
    "        \n",
    "        same_interval_slots = Slot.get_same_interval_slots(self, self.day, self.interval, timetable)\n",
    "        \n",
    "        return not any(s.teacher == teacher for s in same_interval_slots) and teacher.is_specialized(self.subject)\n",
    "\n",
    "    def subject_permissions(self, other):\n",
    "        if self.subject is None:\n",
    "            return True\n",
    "    \n",
    "        if self.subject.name not in [s.name for s in other.lecture_hall.subjects]:\n",
    "            return False\n",
    "        \n",
    "        if self.lecture_hall.capacity != other.lecture_hall.capacity:\n",
    "            return False\n",
    "        return True\n"
   ]
  },
  {
   "cell_type": "code",
   "execution_count": null,
   "metadata": {},
   "outputs": [],
   "source": [
    "class Timetable:\n",
    "    def __init__(self, days=[], interval=[], lecture_halls=[]):\n",
    "        self.slots = []\n",
    "        for d in days:\n",
    "            for i in interval:\n",
    "                for l in lecture_halls:\n",
    "                    self.slots.append(Slot(d, i, l))"
   ]
  },
  {
   "cell_type": "code",
   "execution_count": null,
   "metadata": {},
   "outputs": [],
   "source": [
    "def process_data(data):\n",
    "    # Initialize Days and Intervals\n",
    "    days = [Day(day_name) for day_name in data[\"Zile\"]]\n",
    "    intervals = [Interval(interval) for interval in data[\"Intervale\"]]\n",
    "\n",
    "    # Initialize subjects\n",
    "    subjects = [Subject(name, capacity) for name, capacity in data[\"Materii\"].items()]\n",
    "    \n",
    "    # Initialize lecture halls\n",
    "    lecture_halls = [LectureHall(name, details[\"Capacitate\"], [s for s in subjects if s.name in details[\"Materii\"]]) for name, details in data[\"Sali\"].items()]\n",
    "\n",
    "    # Create empty timetable\n",
    "    timetable = Timetable(days, intervals, lecture_halls)\n",
    "\n",
    "    # Initialize teachers\n",
    "    teachers = [Teacher(name, details[\"Constrangeri\"], [s for s in subjects if s.name in details[\"Materii\"]]) for name, details in data[\"Profesori\"].items()]\n",
    "    \n",
    "    return {\n",
    "        \"timetable\": timetable,\n",
    "        \"days\": days,\n",
    "        \"intervals\": intervals,\n",
    "        \"subjects\": subjects,\n",
    "        \"lecture_halls\": lecture_halls,\n",
    "        \"teachers\": teachers\n",
    "    }"
   ]
  },
  {
   "cell_type": "code",
   "execution_count": null,
   "metadata": {},
   "outputs": [],
   "source": [
    "def print_data(data):\n",
    "    print(\"Timetable Slots:\")\n",
    "    for slot in data[\"timetable\"].slots:\n",
    "        slot_details = f\"{slot.day.name} {slot.interval.interval}, Subject: {slot.subject.name if slot.subject else 'None'}, \"\n",
    "        slot_details += f\"Teacher: {slot.teacher.name if slot.teacher else 'None'}, \"\n",
    "        slot_details += f\"Hall: {slot.lecture_hall.name if slot.lecture_hall else 'None'}\"\n",
    "        print(slot_details)\n",
    "\n",
    "    print(\"\\nSubjects:\")\n",
    "    for subject in data[\"subjects\"]:\n",
    "        print(f\"{subject.name}, Capacity: {subject.capacity}, Occupied: {subject.occupied}\")\n",
    "\n",
    "    print(\"\\nLecture Halls:\")\n",
    "    for hall in data[\"lecture_halls\"]:\n",
    "        subjects = ', '.join([s.name for s in hall.subjects])\n",
    "        print(f\"{hall.name}, Capacity: {hall.capacity}, Subjects: {subjects}\")\n",
    "\n",
    "    print(\"\\nTeachers:\")\n",
    "    for teacher in data[\"teachers\"]:\n",
    "        subjects = ', '.join([s.name for s in teacher.subjects])\n",
    "        constraints = f\"Days: {', '.join(teacher.constraints.prefferable_days)}, Intervals: {', '.join(teacher.constraints.prefferable_intervals)}, Pauses: {', '.join(teacher.constraints.c_pauses)}\"\n",
    "        print(f\"{teacher.name}, Subjects: {subjects}, Constraints: {constraints}\")"
   ]
  },
  {
   "cell_type": "code",
   "execution_count": null,
   "metadata": {},
   "outputs": [],
   "source": [
    "def get_interval_tuple(interval, delimiter=\", \"):\n",
    "    if delimiter == \"-\":\n",
    "        splitted = interval.split(delimiter)\n",
    "    else:\n",
    "        splitted = interval[1:len(interval) - 1].split(delimiter)\n",
    "    \n",
    "    first = int(splitted[0])\n",
    "    second = int(splitted[1])\n",
    "    return (first, second)"
   ]
  },
  {
   "cell_type": "code",
   "execution_count": null,
   "metadata": {},
   "outputs": [],
   "source": [
    "def save_timetable(data, file_path, save_to_file=True, data_processed=False):\n",
    "    if data_processed:\n",
    "        processed_data = data\n",
    "    else:\n",
    "        processed_data = {}\n",
    "        \n",
    "        for d in data[\"days\"]:\n",
    "            processed_data[d.name] = {}\n",
    "            for i in data[\"intervals\"]:\n",
    "                processed_data[d.name][get_interval_tuple(i.interval)] = {}\n",
    "                \n",
    "        for slot in data[\"timetable\"].slots:\n",
    "            processed_data[slot.day.name][get_interval_tuple(slot.interval.interval)][slot.lecture_hall.name] = (slot.teacher.name, slot.subject.name) if slot.teacher else None\n",
    "        \n",
    "    pretty_data = pretty_print_timetable(processed_data, file_path)\n",
    "\n",
    "    if save_to_file:\n",
    "        with open(f\"outputs/{file_path.split('/')[1].split('.')[0]}.txt\", \"w\") as f:\n",
    "            f.writelines(pretty_data)\n",
    "    else:\n",
    "        return processed_data\n",
    "        \n",
    "    "
   ]
  },
  {
   "cell_type": "code",
   "execution_count": 524,
   "metadata": {},
   "outputs": [],
   "source": [
    "class Astar():\n",
    "    days, intervals, subjects, lecture_halls = [], [], [], []\n",
    "    sorted_subjects = []\n",
    "    h2_W = 80\n",
    "    W = {}\n",
    "    \n",
    "    def f(g, h):\n",
    "        return g + h\n",
    "\n",
    "    def h1(S):\n",
    "        W = 10\n",
    "        try:\n",
    "            # Considering how much is occupied for each subject\n",
    "            cost = (sum(s.capacity for s in S[\"subjects\"]) / sum([s.occupied for s in S[\"subjects\"]])) * W\n",
    "\n",
    "            if all(s.occupied >= s.capacity for s in S[\"subjects\"]):\n",
    "                return 0\n",
    "        except ZeroDivisionError:\n",
    "            cost = 10\n",
    "        return cost\n",
    "\n",
    "    def h2(S):\n",
    "        W = Astar.h2_W\n",
    "        cost = 0\n",
    "\n",
    "        for s in [s for s in S[\"subjects\"] if not s.is_covered()]:\n",
    "            if s.occupied:\n",
    "                cost += (s.capacity - s.occupied) * W\n",
    "            else:\n",
    "                cost += s.capacity * W\n",
    "        cost += S[\"soft_constraints_breached\"] * W * 100\n",
    "        return cost       \n",
    "\n",
    "    def h3(S):\n",
    "        W = 10\n",
    "        try:\n",
    "            # Considering how much is occupied for each subject\n",
    "            cost = sum([max(s.capacity, s.occupied) / min(s.occupied if s.occupied else 1, s.capacity) for s in S[\"subjects\"]]) * W\n",
    "\n",
    "            if all(s.is_covered() for s in S[\"subjects\"]):\n",
    "                return 0\n",
    "        except ZeroDivisionError:\n",
    "            cost = 10\n",
    "        return cost\n",
    "\n",
    "    def h4(S):\n",
    "        W = Astar.h2_W\n",
    "        cost = 0\n",
    "\n",
    "        for s in S[\"subjects\"]:\n",
    "            if s.is_covered():\n",
    "                cost += 0 if s.occupied == s.capacity else (s.occupied / s.capacity) * W\n",
    "            elif s.occupied:\n",
    "                cost += (s.capacity / s.occupied) * W\n",
    "            else:\n",
    "                cost += s.capacity * W\n",
    "        return cost if not all(s.is_covered() for s in S[\"subjects\"]) else 0\n",
    "\n",
    "    def reinforcement_h(S):\n",
    "        cost = 0\n",
    "        for s in S[\"subjects\"]:\n",
    "            available_slots = Astar.__get_available_slots(S, s.name)\n",
    "            available_teachers = Astar.__get_available_teachers(S, s)\n",
    "            available_seats = sum([x.lecture_hall.capacity for x in available_slots])\n",
    "\n",
    "            if s.is_covered():\n",
    "                cost += 0\n",
    "            else:\n",
    "                diff = (s.capacity - s.occupied)\n",
    "                if available_seats < diff:\n",
    "                    return -1\n",
    "                else:\n",
    "                    cost += diff * (available_seats / max(1, len(available_slots))) * Astar.W[s.name]\n",
    "        cost += S[\"soft_constraints_breached\"] * 500\n",
    "\n",
    "        return cost\n",
    "    \n",
    "\n",
    "    def adjust_weights_based_on_progress(S):\n",
    "        critical_occupation_ratio = 0.90\n",
    "        weight_increase_factor = 0.1\n",
    "\n",
    "        for s in S[\"subjects\"]:\n",
    "            if s.occupied / s.capacity > critical_occupation_ratio and s.occupied != s.capacity:\n",
    "                Astar.W[s.name] = Astar.W.get(s.name, 1) + weight_increase_factor\n",
    "            else:\n",
    "                Astar.W[s.name] = max(1, Astar.W.get(s.name, 1) - weight_increase_factor)\n",
    "\n",
    "        total_weight = sum(Astar.W.values())\n",
    "        for key in Astar.W:\n",
    "            Astar.W[key] /= total_weight\n",
    "\n",
    "    def __cost_soft_constraints(S):\n",
    "        slots = S[\"timetable\"].slots\n",
    "        cost = 0\n",
    "\n",
    "        # Evaluate each slot in the timetable\n",
    "        for slot in slots:\n",
    "            # If the slot is not available, it means there are a teacher and a subject allocated for the slot\n",
    "            if not slot.is_available():\n",
    "                # Day constraint breach\n",
    "                if slot.day.name not in slot.teacher.constraints.prefferable_days:\n",
    "                    cost += 1\n",
    "                \n",
    "                # Interval constraint breach\n",
    "                slot_interval = get_interval_tuple(slot.interval.interval)\n",
    "                prefferable_intervals = [get_interval_tuple(interval, \"-\") for interval in slot.teacher.constraints.prefferable_intervals]\n",
    "                if Astar.__interval_constraint_breach(slot_interval, prefferable_intervals):\n",
    "                    cost += 1\n",
    "\n",
    "        return cost\n",
    "\n",
    "    def __interval_constraint_breach(interval, searched_intervals):\n",
    "        return not any(interval[0] >= i[0] and interval[1] <= i[1] for i in searched_intervals)\n",
    "\n",
    "    def init_sorted_subjects(S, reverse_sort=False):\n",
    "        Astar.sorted_subjects = [x[3] for x in sorted([[s.capacity, len([t for t in S[\"teachers\"] if s in t.subjects]), len([l for l in S[\"lecture_halls\"] if s in l.subjects]), s.name] for s in S[\"subjects\"]], key=lambda x: (x[0], x[2], x[1]), reverse=reverse_sort)]\n",
    "        Astar.W = {k: 1 for k in Astar.sorted_subjects}\n",
    "\n",
    "    def __deepcopy_state(S):\n",
    "        days = [Day(d.name) for d in S[\"days\"]]\n",
    "\n",
    "        intervals = [Interval(interval.interval) for interval in S[\"intervals\"]]\n",
    "\n",
    "        subjects = [Subject(s.name, s.capacity, s.occupied) for s in S[\"subjects\"]]\n",
    "\n",
    "        lecture_halls = [LectureHall(l.name, l.capacity, [s for s in subjects if s.name in [s2.name for s2 in l.subjects]]) for l in S[\"lecture_halls\"]]\n",
    "\n",
    "        timetable = Timetable(days, intervals, lecture_halls)\n",
    "\n",
    "        teachers = [Teacher(t.name, t.constraints, [s for s in subjects if s.name in [s2.name for s2 in t.subjects]], t.num_intervals, True) for t in S[\"teachers\"]]\n",
    "\n",
    "        # Update slots\n",
    "        for slot_pair in zip(S[\"timetable\"].slots, timetable.slots):\n",
    "            old_slot, new_slot = slot_pair[0], slot_pair[1]\n",
    "            if old_slot.is_available():\n",
    "                continue\n",
    "            new_slot.teacher = next((t for t in teachers if t.name == old_slot.teacher.name), None)\n",
    "            new_slot.subject = next((s for s in subjects if s.name == old_slot.subject.name), None)\n",
    "\n",
    "        \n",
    "        return {\n",
    "            \"timetable\": timetable,\n",
    "            \"days\": days,\n",
    "            \"intervals\": intervals,\n",
    "            \"subjects\": subjects,\n",
    "            \"lecture_halls\": lecture_halls,\n",
    "            \"teachers\": teachers\n",
    "        }\n",
    "\n",
    "    def __get_searched_subject(S):\n",
    "        state_subjects = {subject.name: subject.is_covered() for subject in S[\"subjects\"]}\n",
    "        print({subject.name: (subject.capacity, subject.occupied) for subject in S[\"subjects\"]})\n",
    "        return next((s for s in Astar.sorted_subjects if not state_subjects[s]), None)\n",
    "\n",
    "    def get_subject_by_name(S, searched_subject):\n",
    "        return [s for s in S[\"subjects\"] if s.name == searched_subject][0]\n",
    "\n",
    "    def __get_available_slots(S, searched_subject):\n",
    "        return [slot for slot in S[\"timetable\"].slots if slot.is_available() and slot.matches_subject(searched_subject)]\n",
    "\n",
    "    def __get_available_teachers(S, searched_subject):\n",
    "        return [teacher for teacher in S[\"teachers\"] if teacher.is_available() and teacher.is_specialized(searched_subject)]\n",
    "\n",
    "    def __get_slot_by_copy(S, slot):\n",
    "        return [s for s in S[\"timetable\"].slots if s.matches_slot_copy(slot)][0]\n",
    "\n",
    "    def __get_teacher_by_copy(S, teacher):\n",
    "        return [t for t in S[\"teachers\"] if t.matches_teacher_copy(teacher)][0]\n",
    "\n",
    "    def __add_new_slot(S, slot, teacher, searched_subject: str):\n",
    "        searched_slot = Astar.__get_slot_by_copy(S, slot)\n",
    "        searched_teacher = Astar.__get_teacher_by_copy(S, teacher)\n",
    "        searched_subject = Astar.get_subject_by_name(S, searched_subject)\n",
    "\n",
    "        searched_slot.update(searched_subject, searched_teacher)\n",
    "        searched_subject.update(searched_slot.lecture_hall)\n",
    "        searched_teacher.update()\n",
    "\n",
    "        soft_constraints_breached = 0\n",
    "\n",
    "        if searched_slot.day.name not in searched_slot.teacher.constraints.prefferable_days:\n",
    "            soft_constraints_breached += 1\n",
    "\n",
    "        slot_interval = get_interval_tuple(searched_slot.interval.interval)\n",
    "        prefferable_intervals = [get_interval_tuple(interval, \"-\") for interval in searched_teacher.constraints.prefferable_intervals]\n",
    "        if Astar.__interval_constraint_breach(slot_interval, prefferable_intervals):\n",
    "            soft_constraints_breached += 1\n",
    "\n",
    "        return S, soft_constraints_breached, searched_slot\n",
    "\n",
    "    def generate_successors(S, CLOSED):\n",
    "        \"\"\"\n",
    "            Generate the successors based on the following logic:\n",
    "                SUCC / S = {SLOTx}\n",
    "                not. SOFT = SOFT_BREACHED_CONSTRAINTS\n",
    "                not. HARD = HARD_BREACHED_CONSTRAINTS\n",
    "                where SLOTx belongs to {generated SLOTx | SOFT(SLOTx) = SOFT(S) = 0 and HARD(SLOTx) = 0}\n",
    "        \"\"\"\n",
    "        SUCCs = []\n",
    "        searched_subject = Astar.__get_searched_subject(S)\n",
    "\n",
    "        # If there is no searched subject, it means all subjects were covered\n",
    "        if not searched_subject:\n",
    "            return SUCCs, searched_subject\n",
    "\n",
    "        other_subjects = {subject.name: subject.is_covered() for subject in S[\"subjects\"] if subject.name != searched_subject}\n",
    "        last_subject = all(v for v in other_subjects.values())\n",
    "        available_slots = sorted(Astar.__get_available_slots(S, searched_subject), key=lambda slot: (len(slot.lecture_hall.subjects), slot.lecture_hall.capacity), reverse=last_subject)\n",
    "\n",
    "        # If there are no available_slots, it returns an empty list\n",
    "        if not available_slots:\n",
    "            return SUCCs, searched_subject\n",
    "\n",
    "        searched_subject_instance = Astar.get_subject_by_name(S, searched_subject)\n",
    "        # teachers = sorted(Astar.__get_available_teachers(S, searched_subject_instance), key=lambda t: len(list(itertools.product(t.constraints.prefferable_days, t.constraints.prefferable_intervals))))\n",
    "        # diff_states = [S_ for S_ in CLOSED if Astar.__number_diff_states(S, S_) == 1]\n",
    "        teachers = Astar.__get_available_teachers(S, searched_subject_instance)\n",
    "\n",
    "        for s in available_slots:\n",
    "            for t in teachers:\n",
    "                if not t.matches_requirements(s, S[\"timetable\"].slots):\n",
    "                    continue\n",
    "                SUCC = Astar.__deepcopy_state(S)\n",
    "                SUCC, soft_constraints_breached, new_slot = Astar.__add_new_slot(SUCC, s, t, searched_subject)\n",
    "                SUCC[\"soft_constraints_breached\"] = S[\"soft_constraints_breached\"] + soft_constraints_breached\n",
    "                \n",
    "                SUCCs.append(SUCC)\n",
    "        return SUCCs, searched_subject\n",
    "\n",
    "    def __SUCC_in_diff(diff, s):\n",
    "        def helper(searched, slots):\n",
    "            return any(searched.matches_slot_assignments(slot) for slot in slots)\n",
    "        return any(helper(s, CLOSED_STATE) for CLOSED_STATE in diff)\n",
    "\n",
    "    def __number_diff_states(S1, S2_slots):\n",
    "        return len([True for s in zip(S1[\"timetable\"].slots, S2_slots) if not s[0].matches_slot_assignments(s[1]) and (not s[0].is_available() and not s[1].is_available())])\n",
    "\n",
    "    def __compare_states(S1, S2_slots):\n",
    "        return all(s[0].matches_slot_assignments(s[1]) for s in zip(S1[\"timetable\"].slots, S2_slots))\n",
    "\n",
    "    def successor_in_closed(S, CLOSED):\n",
    "        return any(Astar.__compare_states(S, CLOSED_STATE) for CLOSED_STATE in CLOSED)\n",
    "\n",
    "    def is_final(S, h):\n",
    "        return not Astar.__get_searched_subject(S)\n",
    "    \n",
    "    def update_W(s):\n",
    "        Astar.W = {k: (max(0, v - 0.1) if k != s else min(10, v + 0.1)) for k, v in Astar.W.items()}\n",
    "        print(\"new update ->\", Astar.W)\n"
   ]
  },
  {
   "cell_type": "code",
   "execution_count": 529,
   "metadata": {},
   "outputs": [],
   "source": [
    "\n",
    "def astar(file_path, h):\n",
    "    # Initialize empty timetable\n",
    "    S = process_data(utils.read_yaml_file(file_path))\n",
    "    S[\"g\"] = 0 # initial cost\n",
    "    S[\"soft_constraints_breached\"] = 0\n",
    "    final_s = None\n",
    "    update_limit = 5\n",
    "    threshold = 0\n",
    "    unique_id = itertools.count()\n",
    "\n",
    "    Astar.init_sorted_subjects(S)\n",
    "    OPEN, CLOSED = [], []\n",
    "\n",
    "    heappush(OPEN, (Astar.f(S[\"g\"], h(S)), next(unique_id), S))\n",
    "\n",
    "    while OPEN:\n",
    "        _, _, S = heappop(OPEN)\n",
    "\n",
    "        if Astar.is_final(S, h):\n",
    "            final_s = S\n",
    "            break\n",
    "\n",
    "        SUCCs, s = Astar.generate_successors(S, CLOSED)\n",
    "\n",
    "        \"\"\"\n",
    "            Update for reinforcement learning\n",
    "        \"\"\"\n",
    "        if h is Astar.reinforcement_h:\n",
    "            th = Astar.get_subject_by_name(S, s).occupied\n",
    "            if th > threshold:\n",
    "                threshold = th\n",
    "                update_limit = 5\n",
    "            else:\n",
    "                update_limit -= 1\n",
    "\n",
    "            if not SUCCs or update_limit <= 0:\n",
    "                old_W = Astar.W\n",
    "                Astar.update_W(s)\n",
    "                if old_W != Astar.W:\n",
    "                    old_S = S\n",
    "                    COPY_OPEN = []\n",
    "                    while OPEN:\n",
    "                        _, _, S = heappop(OPEN)\n",
    "                        COPY_OPEN.append(S)\n",
    "                    for q in COPY_OPEN:\n",
    "                        S = q\n",
    "                        new_h = h(S)\n",
    "                        if new_h == -1:\n",
    "                            CLOSED.append(S[\"timetable\"].slots)\n",
    "                            continue\n",
    "                        heappush(OPEN, (Astar.f(S[\"g\"], new_h), next(unique_id), S))\n",
    "                    new_h = h(old_S)\n",
    "                    if not new_h == -1:\n",
    "                        heappush(OPEN, (Astar.f(old_S[\"g\"], new_h), next(unique_id), old_S))\n",
    "                    else:\n",
    "                        CLOSED.append(S[\"timetable\"].slots)\n",
    "                        \n",
    "                    update_limit = 5\n",
    "                    threshold = 0\n",
    "                    continue\n",
    "            else:\n",
    "                CLOSED.append(S[\"timetable\"].slots)\n",
    "        else:\n",
    "            CLOSED.append(S[\"timetable\"].slots)\n",
    "            \n",
    "        for SUCC in SUCCs:\n",
    "            SUCC[\"g\"] = S[\"g\"] + 0.1\n",
    "            if not Astar.successor_in_closed(SUCC, CLOSED):\n",
    "                heappush(OPEN, (Astar.f(SUCC[\"g\"], h(SUCC)), next(unique_id), SUCC))\n",
    "\n",
    "    if final_s:\n",
    "        save_timetable(final_s, file_path, save_to_file=True, data_processed=False)"
   ]
  },
  {
   "cell_type": "code",
   "execution_count": 497,
   "metadata": {},
   "outputs": [
    {
     "name": "stdout",
     "output_type": "stream",
     "text": [
      "{'DS': (100, 0), 'IA': (75, 0), 'MS': (100, 0)}\n",
      "{'DS': (100, 0), 'IA': (75, 0), 'MS': (100, 0)}\n",
      "{'DS': (100, 0), 'IA': (75, 25), 'MS': (100, 0)}\n",
      "{'DS': (100, 0), 'IA': (75, 25), 'MS': (100, 0)}\n",
      "{'DS': (100, 0), 'IA': (75, 50), 'MS': (100, 0)}\n",
      "{'DS': (100, 0), 'IA': (75, 50), 'MS': (100, 0)}\n",
      "{'DS': (100, 0), 'IA': (75, 75), 'MS': (100, 0)}\n",
      "{'DS': (100, 0), 'IA': (75, 75), 'MS': (100, 0)}\n",
      "{'DS': (100, 0), 'IA': (75, 75), 'MS': (100, 25)}\n",
      "{'DS': (100, 0), 'IA': (75, 75), 'MS': (100, 25)}\n",
      "{'DS': (100, 0), 'IA': (75, 75), 'MS': (100, 50)}\n",
      "{'DS': (100, 0), 'IA': (75, 75), 'MS': (100, 50)}\n",
      "{'DS': (100, 0), 'IA': (75, 75), 'MS': (100, 75)}\n",
      "{'DS': (100, 0), 'IA': (75, 75), 'MS': (100, 75)}\n",
      "{'DS': (100, 0), 'IA': (75, 75), 'MS': (100, 100)}\n",
      "{'DS': (100, 0), 'IA': (75, 75), 'MS': (100, 100)}\n",
      "{'DS': (100, 25), 'IA': (75, 75), 'MS': (100, 100)}\n",
      "{'DS': (100, 25), 'IA': (75, 75), 'MS': (100, 100)}\n",
      "{'DS': (100, 50), 'IA': (75, 75), 'MS': (100, 100)}\n",
      "{'DS': (100, 50), 'IA': (75, 75), 'MS': (100, 100)}\n",
      "{'DS': (100, 75), 'IA': (75, 75), 'MS': (100, 100)}\n",
      "{'DS': (100, 75), 'IA': (75, 75), 'MS': (100, 100)}\n",
      "{'DS': (100, 100), 'IA': (75, 75), 'MS': (100, 100)}\n"
     ]
    }
   ],
   "source": [
    "astar(\"inputs/dummy.yaml\", Astar.h2)"
   ]
  },
  {
   "cell_type": "code",
   "execution_count": 526,
   "metadata": {},
   "outputs": [
    {
     "name": "stdout",
     "output_type": "stream",
     "text": [
      "{'PA': (330, 0), 'PCom': (330, 0), 'PL': (300, 0)}\n",
      "{'PA': (330, 0), 'PCom': (330, 0), 'PL': (300, 0)}\n",
      "{'PA': (330, 0), 'PCom': (330, 0), 'PL': (300, 30)}\n",
      "{'PA': (330, 0), 'PCom': (330, 0), 'PL': (300, 30)}\n",
      "{'PA': (330, 0), 'PCom': (330, 0), 'PL': (300, 60)}\n",
      "{'PA': (330, 0), 'PCom': (330, 0), 'PL': (300, 60)}\n",
      "{'PA': (330, 0), 'PCom': (330, 0), 'PL': (300, 90)}\n",
      "{'PA': (330, 0), 'PCom': (330, 0), 'PL': (300, 90)}\n",
      "{'PA': (330, 0), 'PCom': (330, 0), 'PL': (300, 120)}\n",
      "{'PA': (330, 0), 'PCom': (330, 0), 'PL': (300, 120)}\n",
      "{'PA': (330, 0), 'PCom': (330, 0), 'PL': (300, 150)}\n",
      "{'PA': (330, 0), 'PCom': (330, 0), 'PL': (300, 150)}\n",
      "{'PA': (330, 0), 'PCom': (330, 0), 'PL': (300, 180)}\n",
      "{'PA': (330, 0), 'PCom': (330, 0), 'PL': (300, 180)}\n",
      "{'PA': (330, 0), 'PCom': (330, 0), 'PL': (300, 210)}\n",
      "{'PA': (330, 0), 'PCom': (330, 0), 'PL': (300, 210)}\n",
      "{'PA': (330, 0), 'PCom': (330, 0), 'PL': (300, 240)}\n",
      "{'PA': (330, 0), 'PCom': (330, 0), 'PL': (300, 240)}\n",
      "{'PA': (330, 0), 'PCom': (330, 0), 'PL': (300, 270)}\n",
      "{'PA': (330, 0), 'PCom': (330, 0), 'PL': (300, 270)}\n",
      "{'PA': (330, 0), 'PCom': (330, 0), 'PL': (300, 300)}\n",
      "{'PA': (330, 0), 'PCom': (330, 0), 'PL': (300, 300)}\n",
      "{'PA': (330, 0), 'PCom': (330, 30), 'PL': (300, 300)}\n",
      "{'PA': (330, 0), 'PCom': (330, 30), 'PL': (300, 300)}\n",
      "{'PA': (330, 0), 'PCom': (330, 60), 'PL': (300, 300)}\n",
      "{'PA': (330, 0), 'PCom': (330, 60), 'PL': (300, 300)}\n",
      "{'PA': (330, 0), 'PCom': (330, 90), 'PL': (300, 300)}\n",
      "{'PA': (330, 0), 'PCom': (330, 90), 'PL': (300, 300)}\n",
      "{'PA': (330, 0), 'PCom': (330, 120), 'PL': (300, 300)}\n",
      "{'PA': (330, 0), 'PCom': (330, 120), 'PL': (300, 300)}\n",
      "new update -> {'PL': 0.9, 'PCom': 1.1, 'PA': 0.9}\n",
      "{'PA': (330, 0), 'PCom': (330, 120), 'PL': (300, 300)}\n",
      "{'PA': (330, 0), 'PCom': (330, 120), 'PL': (300, 300)}\n",
      "{'PA': (330, 0), 'PCom': (330, 150), 'PL': (300, 300)}\n",
      "{'PA': (330, 0), 'PCom': (330, 150), 'PL': (300, 300)}\n",
      "{'PA': (330, 0), 'PCom': (330, 180), 'PL': (300, 300)}\n",
      "{'PA': (330, 0), 'PCom': (330, 180), 'PL': (300, 300)}\n",
      "{'PA': (330, 0), 'PCom': (330, 210), 'PL': (300, 300)}\n",
      "{'PA': (330, 0), 'PCom': (330, 210), 'PL': (300, 300)}\n",
      "{'PA': (330, 0), 'PCom': (330, 240), 'PL': (300, 300)}\n",
      "{'PA': (330, 0), 'PCom': (330, 240), 'PL': (300, 300)}\n",
      "{'PA': (330, 0), 'PCom': (330, 270), 'PL': (300, 300)}\n",
      "{'PA': (330, 0), 'PCom': (330, 270), 'PL': (300, 300)}\n",
      "{'PA': (330, 0), 'PCom': (330, 300), 'PL': (300, 300)}\n",
      "{'PA': (330, 0), 'PCom': (330, 300), 'PL': (300, 300)}\n",
      "{'PA': (330, 0), 'PCom': (330, 330), 'PL': (300, 300)}\n",
      "{'PA': (330, 0), 'PCom': (330, 330), 'PL': (300, 300)}\n",
      "{'PA': (330, 30), 'PCom': (330, 330), 'PL': (300, 300)}\n",
      "{'PA': (330, 30), 'PCom': (330, 330), 'PL': (300, 300)}\n",
      "{'PA': (330, 60), 'PCom': (330, 330), 'PL': (300, 300)}\n",
      "{'PA': (330, 60), 'PCom': (330, 330), 'PL': (300, 300)}\n",
      "{'PA': (330, 90), 'PCom': (330, 330), 'PL': (300, 300)}\n",
      "{'PA': (330, 90), 'PCom': (330, 330), 'PL': (300, 300)}\n",
      "{'PA': (330, 120), 'PCom': (330, 330), 'PL': (300, 300)}\n",
      "{'PA': (330, 120), 'PCom': (330, 330), 'PL': (300, 300)}\n",
      "new update -> {'PL': 0.8, 'PCom': 1.0, 'PA': 1.0}\n",
      "{'PA': (330, 120), 'PCom': (330, 330), 'PL': (300, 300)}\n",
      "{'PA': (330, 120), 'PCom': (330, 330), 'PL': (300, 300)}\n",
      "{'PA': (330, 150), 'PCom': (330, 330), 'PL': (300, 300)}\n",
      "{'PA': (330, 150), 'PCom': (330, 330), 'PL': (300, 300)}\n",
      "{'PA': (330, 180), 'PCom': (330, 330), 'PL': (300, 300)}\n",
      "{'PA': (330, 180), 'PCom': (330, 330), 'PL': (300, 300)}\n",
      "{'PA': (330, 200), 'PCom': (330, 330), 'PL': (300, 300)}\n",
      "{'PA': (330, 200), 'PCom': (330, 330), 'PL': (300, 300)}\n",
      "{'PA': (330, 220), 'PCom': (330, 330), 'PL': (300, 300)}\n",
      "{'PA': (330, 220), 'PCom': (330, 330), 'PL': (300, 300)}\n",
      "{'PA': (330, 240), 'PCom': (330, 330), 'PL': (300, 300)}\n",
      "{'PA': (330, 240), 'PCom': (330, 330), 'PL': (300, 300)}\n",
      "{'PA': (330, 260), 'PCom': (330, 330), 'PL': (300, 300)}\n",
      "{'PA': (330, 260), 'PCom': (330, 330), 'PL': (300, 300)}\n",
      "{'PA': (330, 280), 'PCom': (330, 330), 'PL': (300, 300)}\n",
      "{'PA': (330, 280), 'PCom': (330, 330), 'PL': (300, 300)}\n",
      "{'PA': (330, 300), 'PCom': (330, 330), 'PL': (300, 300)}\n",
      "{'PA': (330, 300), 'PCom': (330, 330), 'PL': (300, 300)}\n",
      "{'PA': (330, 320), 'PCom': (330, 330), 'PL': (300, 300)}\n",
      "{'PA': (330, 320), 'PCom': (330, 330), 'PL': (300, 300)}\n",
      "{'PA': (330, 340), 'PCom': (330, 330), 'PL': (300, 300)}\n"
     ]
    }
   ],
   "source": [
    "astar(\"inputs/orar_mic_exact.yaml\", Astar.reinforcement_h)"
   ]
  },
  {
   "cell_type": "code",
   "execution_count": 527,
   "metadata": {},
   "outputs": [
    {
     "name": "stdout",
     "output_type": "stream",
     "text": [
      "{'AA': (665, 0), 'MS': (660, 0), 'PL': (660, 0), 'SOC': (685, 0)}\n",
      "{'AA': (665, 0), 'MS': (660, 0), 'PL': (660, 0), 'SOC': (685, 0)}\n",
      "{'AA': (665, 0), 'MS': (660, 0), 'PL': (660, 70), 'SOC': (685, 0)}\n",
      "{'AA': (665, 0), 'MS': (660, 0), 'PL': (660, 70), 'SOC': (685, 0)}\n",
      "{'AA': (665, 0), 'MS': (660, 0), 'PL': (660, 140), 'SOC': (685, 0)}\n",
      "{'AA': (665, 0), 'MS': (660, 0), 'PL': (660, 140), 'SOC': (685, 0)}\n",
      "{'AA': (665, 0), 'MS': (660, 0), 'PL': (660, 210), 'SOC': (685, 0)}\n",
      "{'AA': (665, 0), 'MS': (660, 0), 'PL': (660, 210), 'SOC': (685, 0)}\n",
      "{'AA': (665, 0), 'MS': (660, 0), 'PL': (660, 280), 'SOC': (685, 0)}\n",
      "{'AA': (665, 0), 'MS': (660, 0), 'PL': (660, 280), 'SOC': (685, 0)}\n",
      "{'AA': (665, 0), 'MS': (660, 0), 'PL': (660, 350), 'SOC': (685, 0)}\n",
      "{'AA': (665, 0), 'MS': (660, 0), 'PL': (660, 350), 'SOC': (685, 0)}\n",
      "{'AA': (665, 0), 'MS': (660, 0), 'PL': (660, 420), 'SOC': (685, 0)}\n",
      "{'AA': (665, 0), 'MS': (660, 0), 'PL': (660, 420), 'SOC': (685, 0)}\n",
      "{'AA': (665, 0), 'MS': (660, 0), 'PL': (660, 490), 'SOC': (685, 0)}\n",
      "{'AA': (665, 0), 'MS': (660, 0), 'PL': (660, 490), 'SOC': (685, 0)}\n",
      "{'AA': (665, 0), 'MS': (660, 0), 'PL': (660, 560), 'SOC': (685, 0)}\n",
      "{'AA': (665, 0), 'MS': (660, 0), 'PL': (660, 560), 'SOC': (685, 0)}\n",
      "{'AA': (665, 0), 'MS': (660, 0), 'PL': (660, 630), 'SOC': (685, 0)}\n",
      "{'AA': (665, 0), 'MS': (660, 0), 'PL': (660, 630), 'SOC': (685, 0)}\n",
      "{'AA': (665, 0), 'MS': (660, 0), 'PL': (660, 700), 'SOC': (685, 0)}\n",
      "{'AA': (665, 0), 'MS': (660, 0), 'PL': (660, 700), 'SOC': (685, 0)}\n",
      "{'AA': (665, 0), 'MS': (660, 70), 'PL': (660, 700), 'SOC': (685, 0)}\n",
      "{'AA': (665, 0), 'MS': (660, 70), 'PL': (660, 700), 'SOC': (685, 0)}\n",
      "{'AA': (665, 0), 'MS': (660, 140), 'PL': (660, 700), 'SOC': (685, 0)}\n",
      "{'AA': (665, 0), 'MS': (660, 140), 'PL': (660, 700), 'SOC': (685, 0)}\n",
      "{'AA': (665, 0), 'MS': (660, 210), 'PL': (660, 700), 'SOC': (685, 0)}\n",
      "{'AA': (665, 0), 'MS': (660, 210), 'PL': (660, 700), 'SOC': (685, 0)}\n",
      "{'AA': (665, 0), 'MS': (660, 280), 'PL': (660, 700), 'SOC': (685, 0)}\n",
      "{'AA': (665, 0), 'MS': (660, 280), 'PL': (660, 700), 'SOC': (685, 0)}\n",
      "new update -> {'PL': 0.9, 'MS': 1.1, 'AA': 0.9, 'SOC': 0.9}\n",
      "{'AA': (665, 0), 'MS': (660, 280), 'PL': (660, 700), 'SOC': (685, 0)}\n",
      "{'AA': (665, 0), 'MS': (660, 280), 'PL': (660, 700), 'SOC': (685, 0)}\n",
      "{'AA': (665, 0), 'MS': (660, 350), 'PL': (660, 700), 'SOC': (685, 0)}\n",
      "{'AA': (665, 0), 'MS': (660, 350), 'PL': (660, 700), 'SOC': (685, 0)}\n",
      "{'AA': (665, 0), 'MS': (660, 420), 'PL': (660, 700), 'SOC': (685, 0)}\n",
      "{'AA': (665, 0), 'MS': (660, 420), 'PL': (660, 700), 'SOC': (685, 0)}\n",
      "{'AA': (665, 0), 'MS': (660, 490), 'PL': (660, 700), 'SOC': (685, 0)}\n",
      "{'AA': (665, 0), 'MS': (660, 490), 'PL': (660, 700), 'SOC': (685, 0)}\n",
      "{'AA': (665, 0), 'MS': (660, 560), 'PL': (660, 700), 'SOC': (685, 0)}\n",
      "{'AA': (665, 0), 'MS': (660, 560), 'PL': (660, 700), 'SOC': (685, 0)}\n",
      "{'AA': (665, 0), 'MS': (660, 630), 'PL': (660, 700), 'SOC': (685, 0)}\n",
      "{'AA': (665, 0), 'MS': (660, 630), 'PL': (660, 700), 'SOC': (685, 0)}\n",
      "{'AA': (665, 0), 'MS': (660, 700), 'PL': (660, 700), 'SOC': (685, 0)}\n",
      "{'AA': (665, 0), 'MS': (660, 700), 'PL': (660, 700), 'SOC': (685, 0)}\n",
      "{'AA': (665, 70), 'MS': (660, 700), 'PL': (660, 700), 'SOC': (685, 0)}\n",
      "{'AA': (665, 70), 'MS': (660, 700), 'PL': (660, 700), 'SOC': (685, 0)}\n",
      "{'AA': (665, 140), 'MS': (660, 700), 'PL': (660, 700), 'SOC': (685, 0)}\n",
      "{'AA': (665, 140), 'MS': (660, 700), 'PL': (660, 700), 'SOC': (685, 0)}\n",
      "{'AA': (665, 210), 'MS': (660, 700), 'PL': (660, 700), 'SOC': (685, 0)}\n",
      "{'AA': (665, 210), 'MS': (660, 700), 'PL': (660, 700), 'SOC': (685, 0)}\n",
      "{'AA': (665, 280), 'MS': (660, 700), 'PL': (660, 700), 'SOC': (685, 0)}\n",
      "{'AA': (665, 280), 'MS': (660, 700), 'PL': (660, 700), 'SOC': (685, 0)}\n",
      "new update -> {'PL': 0.8, 'MS': 1.0, 'AA': 1.0, 'SOC': 0.8}\n",
      "{'AA': (665, 280), 'MS': (660, 700), 'PL': (660, 700), 'SOC': (685, 0)}\n",
      "{'AA': (665, 280), 'MS': (660, 700), 'PL': (660, 700), 'SOC': (685, 0)}\n",
      "{'AA': (665, 350), 'MS': (660, 700), 'PL': (660, 700), 'SOC': (685, 0)}\n",
      "{'AA': (665, 350), 'MS': (660, 700), 'PL': (660, 700), 'SOC': (685, 0)}\n",
      "{'AA': (665, 420), 'MS': (660, 700), 'PL': (660, 700), 'SOC': (685, 0)}\n",
      "{'AA': (665, 420), 'MS': (660, 700), 'PL': (660, 700), 'SOC': (685, 0)}\n",
      "{'AA': (665, 490), 'MS': (660, 700), 'PL': (660, 700), 'SOC': (685, 0)}\n",
      "{'AA': (665, 490), 'MS': (660, 700), 'PL': (660, 700), 'SOC': (685, 0)}\n",
      "{'AA': (665, 560), 'MS': (660, 700), 'PL': (660, 700), 'SOC': (685, 0)}\n",
      "{'AA': (665, 560), 'MS': (660, 700), 'PL': (660, 700), 'SOC': (685, 0)}\n",
      "{'AA': (665, 630), 'MS': (660, 700), 'PL': (660, 700), 'SOC': (685, 0)}\n",
      "{'AA': (665, 630), 'MS': (660, 700), 'PL': (660, 700), 'SOC': (685, 0)}\n",
      "{'AA': (665, 700), 'MS': (660, 700), 'PL': (660, 700), 'SOC': (685, 0)}\n",
      "{'AA': (665, 700), 'MS': (660, 700), 'PL': (660, 700), 'SOC': (685, 0)}\n",
      "{'AA': (665, 700), 'MS': (660, 700), 'PL': (660, 700), 'SOC': (685, 35)}\n",
      "{'AA': (665, 700), 'MS': (660, 700), 'PL': (660, 700), 'SOC': (685, 35)}\n",
      "{'AA': (665, 700), 'MS': (660, 700), 'PL': (660, 700), 'SOC': (685, 70)}\n",
      "{'AA': (665, 700), 'MS': (660, 700), 'PL': (660, 700), 'SOC': (685, 70)}\n",
      "{'AA': (665, 700), 'MS': (660, 700), 'PL': (660, 700), 'SOC': (685, 105)}\n",
      "{'AA': (665, 700), 'MS': (660, 700), 'PL': (660, 700), 'SOC': (685, 105)}\n",
      "{'AA': (665, 700), 'MS': (660, 700), 'PL': (660, 700), 'SOC': (685, 140)}\n",
      "{'AA': (665, 700), 'MS': (660, 700), 'PL': (660, 700), 'SOC': (685, 140)}\n",
      "new update -> {'PL': 0.7000000000000001, 'MS': 0.9, 'AA': 0.9, 'SOC': 0.9}\n",
      "{'AA': (665, 700), 'MS': (660, 700), 'PL': (660, 700), 'SOC': (685, 140)}\n",
      "{'AA': (665, 700), 'MS': (660, 700), 'PL': (660, 700), 'SOC': (685, 140)}\n",
      "{'AA': (665, 700), 'MS': (660, 700), 'PL': (660, 700), 'SOC': (685, 175)}\n",
      "{'AA': (665, 700), 'MS': (660, 700), 'PL': (660, 700), 'SOC': (685, 175)}\n",
      "{'AA': (665, 700), 'MS': (660, 700), 'PL': (660, 700), 'SOC': (685, 210)}\n",
      "{'AA': (665, 700), 'MS': (660, 700), 'PL': (660, 700), 'SOC': (685, 210)}\n",
      "{'AA': (665, 700), 'MS': (660, 700), 'PL': (660, 700), 'SOC': (685, 245)}\n",
      "{'AA': (665, 700), 'MS': (660, 700), 'PL': (660, 700), 'SOC': (685, 245)}\n",
      "{'AA': (665, 700), 'MS': (660, 700), 'PL': (660, 700), 'SOC': (685, 280)}\n",
      "{'AA': (665, 700), 'MS': (660, 700), 'PL': (660, 700), 'SOC': (685, 280)}\n",
      "{'AA': (665, 700), 'MS': (660, 700), 'PL': (660, 700), 'SOC': (685, 315)}\n",
      "{'AA': (665, 700), 'MS': (660, 700), 'PL': (660, 700), 'SOC': (685, 315)}\n",
      "{'AA': (665, 700), 'MS': (660, 700), 'PL': (660, 700), 'SOC': (685, 350)}\n",
      "{'AA': (665, 700), 'MS': (660, 700), 'PL': (660, 700), 'SOC': (685, 350)}\n",
      "{'AA': (665, 700), 'MS': (660, 700), 'PL': (660, 700), 'SOC': (685, 385)}\n",
      "{'AA': (665, 700), 'MS': (660, 700), 'PL': (660, 700), 'SOC': (685, 385)}\n",
      "{'AA': (665, 700), 'MS': (660, 700), 'PL': (660, 700), 'SOC': (685, 420)}\n",
      "{'AA': (665, 700), 'MS': (660, 700), 'PL': (660, 700), 'SOC': (685, 420)}\n",
      "{'AA': (665, 700), 'MS': (660, 700), 'PL': (660, 700), 'SOC': (685, 455)}\n",
      "{'AA': (665, 700), 'MS': (660, 700), 'PL': (660, 700), 'SOC': (685, 455)}\n",
      "{'AA': (665, 700), 'MS': (660, 700), 'PL': (660, 700), 'SOC': (685, 490)}\n",
      "{'AA': (665, 700), 'MS': (660, 700), 'PL': (660, 700), 'SOC': (685, 490)}\n",
      "{'AA': (665, 700), 'MS': (660, 700), 'PL': (660, 700), 'SOC': (685, 525)}\n",
      "{'AA': (665, 700), 'MS': (660, 700), 'PL': (660, 700), 'SOC': (685, 525)}\n",
      "{'AA': (665, 700), 'MS': (660, 700), 'PL': (660, 700), 'SOC': (685, 560)}\n",
      "{'AA': (665, 700), 'MS': (660, 700), 'PL': (660, 700), 'SOC': (685, 560)}\n",
      "{'AA': (665, 700), 'MS': (660, 700), 'PL': (660, 700), 'SOC': (685, 595)}\n",
      "{'AA': (665, 700), 'MS': (660, 700), 'PL': (660, 700), 'SOC': (685, 595)}\n",
      "{'AA': (665, 700), 'MS': (660, 700), 'PL': (660, 700), 'SOC': (685, 630)}\n",
      "{'AA': (665, 700), 'MS': (660, 700), 'PL': (660, 700), 'SOC': (685, 630)}\n",
      "{'AA': (665, 700), 'MS': (660, 700), 'PL': (660, 700), 'SOC': (685, 665)}\n",
      "{'AA': (665, 700), 'MS': (660, 700), 'PL': (660, 700), 'SOC': (685, 665)}\n",
      "{'AA': (665, 700), 'MS': (660, 700), 'PL': (660, 700), 'SOC': (685, 700)}\n"
     ]
    }
   ],
   "source": [
    "astar(\"inputs/orar_mediu_relaxat.yaml\", Astar.reinforcement_h)"
   ]
  },
  {
   "cell_type": "code",
   "execution_count": 528,
   "metadata": {},
   "outputs": [
    {
     "name": "stdout",
     "output_type": "stream",
     "text": [
      "{'AA': (535, 0), 'ASC': (550, 0), 'IA': (475, 0), 'MS': (495, 0), 'PCom': (470, 0), 'PL': (530, 0), 'PP': (500, 0), 'PM': (475, 0)}\n",
      "{'AA': (535, 0), 'ASC': (550, 0), 'IA': (475, 0), 'MS': (495, 0), 'PCom': (470, 0), 'PL': (530, 0), 'PP': (500, 0), 'PM': (475, 0)}\n",
      "{'AA': (535, 0), 'ASC': (550, 0), 'IA': (475, 0), 'MS': (495, 0), 'PCom': (470, 85), 'PL': (530, 0), 'PP': (500, 0), 'PM': (475, 0)}\n",
      "{'AA': (535, 0), 'ASC': (550, 0), 'IA': (475, 0), 'MS': (495, 0), 'PCom': (470, 85), 'PL': (530, 0), 'PP': (500, 0), 'PM': (475, 0)}\n",
      "{'AA': (535, 0), 'ASC': (550, 0), 'IA': (475, 0), 'MS': (495, 0), 'PCom': (470, 170), 'PL': (530, 0), 'PP': (500, 0), 'PM': (475, 0)}\n",
      "{'AA': (535, 0), 'ASC': (550, 0), 'IA': (475, 0), 'MS': (495, 0), 'PCom': (470, 170), 'PL': (530, 0), 'PP': (500, 0), 'PM': (475, 0)}\n",
      "{'AA': (535, 0), 'ASC': (550, 0), 'IA': (475, 0), 'MS': (495, 0), 'PCom': (470, 255), 'PL': (530, 0), 'PP': (500, 0), 'PM': (475, 0)}\n",
      "{'AA': (535, 0), 'ASC': (550, 0), 'IA': (475, 0), 'MS': (495, 0), 'PCom': (470, 255), 'PL': (530, 0), 'PP': (500, 0), 'PM': (475, 0)}\n",
      "{'AA': (535, 0), 'ASC': (550, 0), 'IA': (475, 0), 'MS': (495, 0), 'PCom': (470, 340), 'PL': (530, 0), 'PP': (500, 0), 'PM': (475, 0)}\n",
      "{'AA': (535, 0), 'ASC': (550, 0), 'IA': (475, 0), 'MS': (495, 0), 'PCom': (470, 340), 'PL': (530, 0), 'PP': (500, 0), 'PM': (475, 0)}\n",
      "{'AA': (535, 0), 'ASC': (550, 0), 'IA': (475, 0), 'MS': (495, 0), 'PCom': (470, 425), 'PL': (530, 0), 'PP': (500, 0), 'PM': (475, 0)}\n",
      "{'AA': (535, 0), 'ASC': (550, 0), 'IA': (475, 0), 'MS': (495, 0), 'PCom': (470, 425), 'PL': (530, 0), 'PP': (500, 0), 'PM': (475, 0)}\n",
      "{'AA': (535, 0), 'ASC': (550, 0), 'IA': (475, 0), 'MS': (495, 0), 'PCom': (470, 510), 'PL': (530, 0), 'PP': (500, 0), 'PM': (475, 0)}\n",
      "{'AA': (535, 0), 'ASC': (550, 0), 'IA': (475, 0), 'MS': (495, 0), 'PCom': (470, 510), 'PL': (530, 0), 'PP': (500, 0), 'PM': (475, 0)}\n",
      "{'AA': (535, 0), 'ASC': (550, 0), 'IA': (475, 85), 'MS': (495, 0), 'PCom': (470, 510), 'PL': (530, 0), 'PP': (500, 0), 'PM': (475, 0)}\n",
      "{'AA': (535, 0), 'ASC': (550, 0), 'IA': (475, 85), 'MS': (495, 0), 'PCom': (470, 510), 'PL': (530, 0), 'PP': (500, 0), 'PM': (475, 0)}\n",
      "{'AA': (535, 0), 'ASC': (550, 0), 'IA': (475, 170), 'MS': (495, 0), 'PCom': (470, 510), 'PL': (530, 0), 'PP': (500, 0), 'PM': (475, 0)}\n",
      "{'AA': (535, 0), 'ASC': (550, 0), 'IA': (475, 170), 'MS': (495, 0), 'PCom': (470, 510), 'PL': (530, 0), 'PP': (500, 0), 'PM': (475, 0)}\n",
      "{'AA': (535, 0), 'ASC': (550, 0), 'IA': (475, 255), 'MS': (495, 0), 'PCom': (470, 510), 'PL': (530, 0), 'PP': (500, 0), 'PM': (475, 0)}\n",
      "{'AA': (535, 0), 'ASC': (550, 0), 'IA': (475, 255), 'MS': (495, 0), 'PCom': (470, 510), 'PL': (530, 0), 'PP': (500, 0), 'PM': (475, 0)}\n",
      "{'AA': (535, 0), 'ASC': (550, 0), 'IA': (475, 340), 'MS': (495, 0), 'PCom': (470, 510), 'PL': (530, 0), 'PP': (500, 0), 'PM': (475, 0)}\n",
      "{'AA': (535, 0), 'ASC': (550, 0), 'IA': (475, 340), 'MS': (495, 0), 'PCom': (470, 510), 'PL': (530, 0), 'PP': (500, 0), 'PM': (475, 0)}\n",
      "new update -> {'PCom': 0.9, 'IA': 1.1, 'PM': 0.9, 'MS': 0.9, 'PP': 0.9, 'PL': 0.9, 'AA': 0.9, 'ASC': 0.9}\n",
      "{'AA': (535, 0), 'ASC': (550, 0), 'IA': (475, 340), 'MS': (495, 0), 'PCom': (470, 510), 'PL': (530, 0), 'PP': (500, 0), 'PM': (475, 0)}\n",
      "{'AA': (535, 0), 'ASC': (550, 0), 'IA': (475, 340), 'MS': (495, 0), 'PCom': (470, 510), 'PL': (530, 0), 'PP': (500, 0), 'PM': (475, 0)}\n",
      "{'AA': (535, 0), 'ASC': (550, 0), 'IA': (475, 425), 'MS': (495, 0), 'PCom': (470, 510), 'PL': (530, 0), 'PP': (500, 0), 'PM': (475, 0)}\n",
      "{'AA': (535, 0), 'ASC': (550, 0), 'IA': (475, 425), 'MS': (495, 0), 'PCom': (470, 510), 'PL': (530, 0), 'PP': (500, 0), 'PM': (475, 0)}\n",
      "{'AA': (535, 0), 'ASC': (550, 0), 'IA': (475, 510), 'MS': (495, 0), 'PCom': (470, 510), 'PL': (530, 0), 'PP': (500, 0), 'PM': (475, 0)}\n",
      "{'AA': (535, 0), 'ASC': (550, 0), 'IA': (475, 510), 'MS': (495, 0), 'PCom': (470, 510), 'PL': (530, 0), 'PP': (500, 0), 'PM': (475, 0)}\n",
      "{'AA': (535, 0), 'ASC': (550, 0), 'IA': (475, 510), 'MS': (495, 0), 'PCom': (470, 510), 'PL': (530, 0), 'PP': (500, 0), 'PM': (475, 85)}\n",
      "{'AA': (535, 0), 'ASC': (550, 0), 'IA': (475, 510), 'MS': (495, 0), 'PCom': (470, 510), 'PL': (530, 0), 'PP': (500, 0), 'PM': (475, 85)}\n",
      "{'AA': (535, 0), 'ASC': (550, 0), 'IA': (475, 510), 'MS': (495, 0), 'PCom': (470, 510), 'PL': (530, 0), 'PP': (500, 0), 'PM': (475, 170)}\n",
      "{'AA': (535, 0), 'ASC': (550, 0), 'IA': (475, 510), 'MS': (495, 0), 'PCom': (470, 510), 'PL': (530, 0), 'PP': (500, 0), 'PM': (475, 170)}\n",
      "{'AA': (535, 0), 'ASC': (550, 0), 'IA': (475, 510), 'MS': (495, 0), 'PCom': (470, 510), 'PL': (530, 0), 'PP': (500, 0), 'PM': (475, 255)}\n",
      "{'AA': (535, 0), 'ASC': (550, 0), 'IA': (475, 510), 'MS': (495, 0), 'PCom': (470, 510), 'PL': (530, 0), 'PP': (500, 0), 'PM': (475, 255)}\n",
      "{'AA': (535, 0), 'ASC': (550, 0), 'IA': (475, 510), 'MS': (495, 0), 'PCom': (470, 510), 'PL': (530, 0), 'PP': (500, 0), 'PM': (475, 340)}\n",
      "{'AA': (535, 0), 'ASC': (550, 0), 'IA': (475, 510), 'MS': (495, 0), 'PCom': (470, 510), 'PL': (530, 0), 'PP': (500, 0), 'PM': (475, 340)}\n",
      "new update -> {'PCom': 0.8, 'IA': 1.0, 'PM': 1.0, 'MS': 0.8, 'PP': 0.8, 'PL': 0.8, 'AA': 0.8, 'ASC': 0.8}\n",
      "{'AA': (535, 0), 'ASC': (550, 0), 'IA': (475, 510), 'MS': (495, 0), 'PCom': (470, 510), 'PL': (530, 0), 'PP': (500, 0), 'PM': (475, 340)}\n",
      "{'AA': (535, 0), 'ASC': (550, 0), 'IA': (475, 510), 'MS': (495, 0), 'PCom': (470, 510), 'PL': (530, 0), 'PP': (500, 0), 'PM': (475, 340)}\n",
      "{'AA': (535, 0), 'ASC': (550, 0), 'IA': (475, 510), 'MS': (495, 0), 'PCom': (470, 510), 'PL': (530, 0), 'PP': (500, 0), 'PM': (475, 425)}\n",
      "{'AA': (535, 0), 'ASC': (550, 0), 'IA': (475, 510), 'MS': (495, 0), 'PCom': (470, 510), 'PL': (530, 0), 'PP': (500, 0), 'PM': (475, 425)}\n",
      "{'AA': (535, 0), 'ASC': (550, 0), 'IA': (475, 510), 'MS': (495, 0), 'PCom': (470, 510), 'PL': (530, 0), 'PP': (500, 0), 'PM': (475, 510)}\n",
      "{'AA': (535, 0), 'ASC': (550, 0), 'IA': (475, 510), 'MS': (495, 0), 'PCom': (470, 510), 'PL': (530, 0), 'PP': (500, 0), 'PM': (475, 510)}\n",
      "{'AA': (535, 0), 'ASC': (550, 0), 'IA': (475, 510), 'MS': (495, 85), 'PCom': (470, 510), 'PL': (530, 0), 'PP': (500, 0), 'PM': (475, 510)}\n",
      "{'AA': (535, 0), 'ASC': (550, 0), 'IA': (475, 510), 'MS': (495, 85), 'PCom': (470, 510), 'PL': (530, 0), 'PP': (500, 0), 'PM': (475, 510)}\n",
      "{'AA': (535, 0), 'ASC': (550, 0), 'IA': (475, 510), 'MS': (495, 170), 'PCom': (470, 510), 'PL': (530, 0), 'PP': (500, 0), 'PM': (475, 510)}\n",
      "{'AA': (535, 0), 'ASC': (550, 0), 'IA': (475, 510), 'MS': (495, 170), 'PCom': (470, 510), 'PL': (530, 0), 'PP': (500, 0), 'PM': (475, 510)}\n",
      "{'AA': (535, 0), 'ASC': (550, 0), 'IA': (475, 510), 'MS': (495, 255), 'PCom': (470, 510), 'PL': (530, 0), 'PP': (500, 0), 'PM': (475, 510)}\n",
      "{'AA': (535, 0), 'ASC': (550, 0), 'IA': (475, 510), 'MS': (495, 255), 'PCom': (470, 510), 'PL': (530, 0), 'PP': (500, 0), 'PM': (475, 510)}\n",
      "{'AA': (535, 0), 'ASC': (550, 0), 'IA': (475, 510), 'MS': (495, 340), 'PCom': (470, 510), 'PL': (530, 0), 'PP': (500, 0), 'PM': (475, 510)}\n",
      "{'AA': (535, 0), 'ASC': (550, 0), 'IA': (475, 510), 'MS': (495, 340), 'PCom': (470, 510), 'PL': (530, 0), 'PP': (500, 0), 'PM': (475, 510)}\n",
      "new update -> {'PCom': 0.7000000000000001, 'IA': 0.9, 'PM': 0.9, 'MS': 0.9, 'PP': 0.7000000000000001, 'PL': 0.7000000000000001, 'AA': 0.7000000000000001, 'ASC': 0.7000000000000001}\n",
      "{'AA': (535, 0), 'ASC': (550, 0), 'IA': (475, 510), 'MS': (495, 340), 'PCom': (470, 510), 'PL': (530, 0), 'PP': (500, 0), 'PM': (475, 510)}\n",
      "{'AA': (535, 0), 'ASC': (550, 0), 'IA': (475, 510), 'MS': (495, 340), 'PCom': (470, 510), 'PL': (530, 0), 'PP': (500, 0), 'PM': (475, 510)}\n",
      "{'AA': (535, 0), 'ASC': (550, 0), 'IA': (475, 510), 'MS': (495, 425), 'PCom': (470, 510), 'PL': (530, 0), 'PP': (500, 0), 'PM': (475, 510)}\n",
      "{'AA': (535, 0), 'ASC': (550, 0), 'IA': (475, 510), 'MS': (495, 425), 'PCom': (470, 510), 'PL': (530, 0), 'PP': (500, 0), 'PM': (475, 510)}\n",
      "{'AA': (535, 0), 'ASC': (550, 0), 'IA': (475, 510), 'MS': (495, 510), 'PCom': (470, 510), 'PL': (530, 0), 'PP': (500, 0), 'PM': (475, 510)}\n",
      "{'AA': (535, 0), 'ASC': (550, 0), 'IA': (475, 510), 'MS': (495, 510), 'PCom': (470, 510), 'PL': (530, 0), 'PP': (500, 0), 'PM': (475, 510)}\n",
      "{'AA': (535, 0), 'ASC': (550, 0), 'IA': (475, 510), 'MS': (495, 510), 'PCom': (470, 510), 'PL': (530, 0), 'PP': (500, 85), 'PM': (475, 510)}\n",
      "{'AA': (535, 0), 'ASC': (550, 0), 'IA': (475, 510), 'MS': (495, 510), 'PCom': (470, 510), 'PL': (530, 0), 'PP': (500, 85), 'PM': (475, 510)}\n",
      "{'AA': (535, 0), 'ASC': (550, 0), 'IA': (475, 510), 'MS': (495, 510), 'PCom': (470, 510), 'PL': (530, 0), 'PP': (500, 170), 'PM': (475, 510)}\n",
      "{'AA': (535, 0), 'ASC': (550, 0), 'IA': (475, 510), 'MS': (495, 510), 'PCom': (470, 510), 'PL': (530, 0), 'PP': (500, 170), 'PM': (475, 510)}\n",
      "{'AA': (535, 0), 'ASC': (550, 0), 'IA': (475, 510), 'MS': (495, 510), 'PCom': (470, 510), 'PL': (530, 0), 'PP': (500, 255), 'PM': (475, 510)}\n",
      "{'AA': (535, 0), 'ASC': (550, 0), 'IA': (475, 510), 'MS': (495, 510), 'PCom': (470, 510), 'PL': (530, 0), 'PP': (500, 255), 'PM': (475, 510)}\n",
      "{'AA': (535, 0), 'ASC': (550, 0), 'IA': (475, 510), 'MS': (495, 510), 'PCom': (470, 510), 'PL': (530, 0), 'PP': (500, 340), 'PM': (475, 510)}\n",
      "{'AA': (535, 0), 'ASC': (550, 0), 'IA': (475, 510), 'MS': (495, 510), 'PCom': (470, 510), 'PL': (530, 0), 'PP': (500, 340), 'PM': (475, 510)}\n",
      "new update -> {'PCom': 0.6000000000000001, 'IA': 0.8, 'PM': 0.8, 'MS': 0.8, 'PP': 0.8, 'PL': 0.6000000000000001, 'AA': 0.6000000000000001, 'ASC': 0.6000000000000001}\n",
      "{'AA': (535, 0), 'ASC': (550, 0), 'IA': (475, 510), 'MS': (495, 510), 'PCom': (470, 510), 'PL': (530, 0), 'PP': (500, 340), 'PM': (475, 510)}\n",
      "{'AA': (535, 0), 'ASC': (550, 0), 'IA': (475, 510), 'MS': (495, 510), 'PCom': (470, 510), 'PL': (530, 0), 'PP': (500, 340), 'PM': (475, 510)}\n",
      "{'AA': (535, 0), 'ASC': (550, 0), 'IA': (475, 510), 'MS': (495, 510), 'PCom': (470, 510), 'PL': (530, 0), 'PP': (500, 425), 'PM': (475, 510)}\n",
      "{'AA': (535, 0), 'ASC': (550, 0), 'IA': (475, 510), 'MS': (495, 510), 'PCom': (470, 510), 'PL': (530, 0), 'PP': (500, 425), 'PM': (475, 510)}\n",
      "{'AA': (535, 0), 'ASC': (550, 0), 'IA': (475, 510), 'MS': (495, 510), 'PCom': (470, 510), 'PL': (530, 0), 'PP': (500, 510), 'PM': (475, 510)}\n",
      "{'AA': (535, 0), 'ASC': (550, 0), 'IA': (475, 510), 'MS': (495, 510), 'PCom': (470, 510), 'PL': (530, 0), 'PP': (500, 510), 'PM': (475, 510)}\n",
      "{'AA': (535, 0), 'ASC': (550, 0), 'IA': (475, 510), 'MS': (495, 510), 'PCom': (470, 510), 'PL': (530, 85), 'PP': (500, 510), 'PM': (475, 510)}\n",
      "{'AA': (535, 0), 'ASC': (550, 0), 'IA': (475, 510), 'MS': (495, 510), 'PCom': (470, 510), 'PL': (530, 85), 'PP': (500, 510), 'PM': (475, 510)}\n",
      "{'AA': (535, 0), 'ASC': (550, 0), 'IA': (475, 510), 'MS': (495, 510), 'PCom': (470, 510), 'PL': (530, 170), 'PP': (500, 510), 'PM': (475, 510)}\n",
      "{'AA': (535, 0), 'ASC': (550, 0), 'IA': (475, 510), 'MS': (495, 510), 'PCom': (470, 510), 'PL': (530, 170), 'PP': (500, 510), 'PM': (475, 510)}\n",
      "{'AA': (535, 0), 'ASC': (550, 0), 'IA': (475, 510), 'MS': (495, 510), 'PCom': (470, 510), 'PL': (530, 255), 'PP': (500, 510), 'PM': (475, 510)}\n",
      "{'AA': (535, 0), 'ASC': (550, 0), 'IA': (475, 510), 'MS': (495, 510), 'PCom': (470, 510), 'PL': (530, 255), 'PP': (500, 510), 'PM': (475, 510)}\n",
      "{'AA': (535, 0), 'ASC': (550, 0), 'IA': (475, 510), 'MS': (495, 510), 'PCom': (470, 510), 'PL': (530, 340), 'PP': (500, 510), 'PM': (475, 510)}\n",
      "{'AA': (535, 0), 'ASC': (550, 0), 'IA': (475, 510), 'MS': (495, 510), 'PCom': (470, 510), 'PL': (530, 340), 'PP': (500, 510), 'PM': (475, 510)}\n",
      "new update -> {'PCom': 0.5000000000000001, 'IA': 0.7000000000000001, 'PM': 0.7000000000000001, 'MS': 0.7000000000000001, 'PP': 0.7000000000000001, 'PL': 0.7000000000000001, 'AA': 0.5000000000000001, 'ASC': 0.5000000000000001}\n",
      "{'AA': (535, 0), 'ASC': (550, 0), 'IA': (475, 510), 'MS': (495, 510), 'PCom': (470, 510), 'PL': (530, 340), 'PP': (500, 510), 'PM': (475, 510)}\n",
      "{'AA': (535, 0), 'ASC': (550, 0), 'IA': (475, 510), 'MS': (495, 510), 'PCom': (470, 510), 'PL': (530, 340), 'PP': (500, 510), 'PM': (475, 510)}\n",
      "{'AA': (535, 0), 'ASC': (550, 0), 'IA': (475, 510), 'MS': (495, 510), 'PCom': (470, 510), 'PL': (530, 425), 'PP': (500, 510), 'PM': (475, 510)}\n",
      "{'AA': (535, 0), 'ASC': (550, 0), 'IA': (475, 510), 'MS': (495, 510), 'PCom': (470, 510), 'PL': (530, 425), 'PP': (500, 510), 'PM': (475, 510)}\n",
      "{'AA': (535, 0), 'ASC': (550, 0), 'IA': (475, 510), 'MS': (495, 510), 'PCom': (470, 510), 'PL': (530, 510), 'PP': (500, 510), 'PM': (475, 510)}\n",
      "{'AA': (535, 0), 'ASC': (550, 0), 'IA': (475, 510), 'MS': (495, 510), 'PCom': (470, 510), 'PL': (530, 510), 'PP': (500, 510), 'PM': (475, 510)}\n",
      "{'AA': (535, 0), 'ASC': (550, 0), 'IA': (475, 510), 'MS': (495, 510), 'PCom': (470, 510), 'PL': (530, 595), 'PP': (500, 510), 'PM': (475, 510)}\n",
      "{'AA': (535, 0), 'ASC': (550, 0), 'IA': (475, 510), 'MS': (495, 510), 'PCom': (470, 510), 'PL': (530, 595), 'PP': (500, 510), 'PM': (475, 510)}\n",
      "{'AA': (535, 85), 'ASC': (550, 0), 'IA': (475, 510), 'MS': (495, 510), 'PCom': (470, 510), 'PL': (530, 595), 'PP': (500, 510), 'PM': (475, 510)}\n",
      "{'AA': (535, 85), 'ASC': (550, 0), 'IA': (475, 510), 'MS': (495, 510), 'PCom': (470, 510), 'PL': (530, 595), 'PP': (500, 510), 'PM': (475, 510)}\n",
      "{'AA': (535, 170), 'ASC': (550, 0), 'IA': (475, 510), 'MS': (495, 510), 'PCom': (470, 510), 'PL': (530, 595), 'PP': (500, 510), 'PM': (475, 510)}\n",
      "{'AA': (535, 170), 'ASC': (550, 0), 'IA': (475, 510), 'MS': (495, 510), 'PCom': (470, 510), 'PL': (530, 595), 'PP': (500, 510), 'PM': (475, 510)}\n",
      "{'AA': (535, 255), 'ASC': (550, 0), 'IA': (475, 510), 'MS': (495, 510), 'PCom': (470, 510), 'PL': (530, 595), 'PP': (500, 510), 'PM': (475, 510)}\n",
      "{'AA': (535, 255), 'ASC': (550, 0), 'IA': (475, 510), 'MS': (495, 510), 'PCom': (470, 510), 'PL': (530, 595), 'PP': (500, 510), 'PM': (475, 510)}\n",
      "{'AA': (535, 340), 'ASC': (550, 0), 'IA': (475, 510), 'MS': (495, 510), 'PCom': (470, 510), 'PL': (530, 595), 'PP': (500, 510), 'PM': (475, 510)}\n",
      "{'AA': (535, 340), 'ASC': (550, 0), 'IA': (475, 510), 'MS': (495, 510), 'PCom': (470, 510), 'PL': (530, 595), 'PP': (500, 510), 'PM': (475, 510)}\n",
      "new update -> {'PCom': 0.40000000000000013, 'IA': 0.6000000000000001, 'PM': 0.6000000000000001, 'MS': 0.6000000000000001, 'PP': 0.6000000000000001, 'PL': 0.6000000000000001, 'AA': 0.6000000000000001, 'ASC': 0.40000000000000013}\n",
      "{'AA': (535, 340), 'ASC': (550, 0), 'IA': (475, 510), 'MS': (495, 510), 'PCom': (470, 510), 'PL': (530, 595), 'PP': (500, 510), 'PM': (475, 510)}\n",
      "{'AA': (535, 340), 'ASC': (550, 0), 'IA': (475, 510), 'MS': (495, 510), 'PCom': (470, 510), 'PL': (530, 595), 'PP': (500, 510), 'PM': (475, 510)}\n",
      "{'AA': (535, 425), 'ASC': (550, 0), 'IA': (475, 510), 'MS': (495, 510), 'PCom': (470, 510), 'PL': (530, 595), 'PP': (500, 510), 'PM': (475, 510)}\n",
      "{'AA': (535, 425), 'ASC': (550, 0), 'IA': (475, 510), 'MS': (495, 510), 'PCom': (470, 510), 'PL': (530, 595), 'PP': (500, 510), 'PM': (475, 510)}\n",
      "{'AA': (535, 510), 'ASC': (550, 0), 'IA': (475, 510), 'MS': (495, 510), 'PCom': (470, 510), 'PL': (530, 595), 'PP': (500, 510), 'PM': (475, 510)}\n",
      "{'AA': (535, 510), 'ASC': (550, 0), 'IA': (475, 510), 'MS': (495, 510), 'PCom': (470, 510), 'PL': (530, 595), 'PP': (500, 510), 'PM': (475, 510)}\n",
      "{'AA': (535, 595), 'ASC': (550, 0), 'IA': (475, 510), 'MS': (495, 510), 'PCom': (470, 510), 'PL': (530, 595), 'PP': (500, 510), 'PM': (475, 510)}\n",
      "{'AA': (535, 595), 'ASC': (550, 0), 'IA': (475, 510), 'MS': (495, 510), 'PCom': (470, 510), 'PL': (530, 595), 'PP': (500, 510), 'PM': (475, 510)}\n",
      "{'AA': (535, 595), 'ASC': (550, 85), 'IA': (475, 510), 'MS': (495, 510), 'PCom': (470, 510), 'PL': (530, 595), 'PP': (500, 510), 'PM': (475, 510)}\n",
      "{'AA': (535, 595), 'ASC': (550, 85), 'IA': (475, 510), 'MS': (495, 510), 'PCom': (470, 510), 'PL': (530, 595), 'PP': (500, 510), 'PM': (475, 510)}\n",
      "{'AA': (535, 595), 'ASC': (550, 170), 'IA': (475, 510), 'MS': (495, 510), 'PCom': (470, 510), 'PL': (530, 595), 'PP': (500, 510), 'PM': (475, 510)}\n",
      "{'AA': (535, 595), 'ASC': (550, 170), 'IA': (475, 510), 'MS': (495, 510), 'PCom': (470, 510), 'PL': (530, 595), 'PP': (500, 510), 'PM': (475, 510)}\n",
      "{'AA': (535, 595), 'ASC': (550, 255), 'IA': (475, 510), 'MS': (495, 510), 'PCom': (470, 510), 'PL': (530, 595), 'PP': (500, 510), 'PM': (475, 510)}\n",
      "{'AA': (535, 595), 'ASC': (550, 255), 'IA': (475, 510), 'MS': (495, 510), 'PCom': (470, 510), 'PL': (530, 595), 'PP': (500, 510), 'PM': (475, 510)}\n",
      "{'AA': (535, 595), 'ASC': (550, 340), 'IA': (475, 510), 'MS': (495, 510), 'PCom': (470, 510), 'PL': (530, 595), 'PP': (500, 510), 'PM': (475, 510)}\n",
      "{'AA': (535, 595), 'ASC': (550, 340), 'IA': (475, 510), 'MS': (495, 510), 'PCom': (470, 510), 'PL': (530, 595), 'PP': (500, 510), 'PM': (475, 510)}\n",
      "new update -> {'PCom': 0.30000000000000016, 'IA': 0.5000000000000001, 'PM': 0.5000000000000001, 'MS': 0.5000000000000001, 'PP': 0.5000000000000001, 'PL': 0.5000000000000001, 'AA': 0.5000000000000001, 'ASC': 0.5000000000000001}\n",
      "{'AA': (535, 595), 'ASC': (550, 340), 'IA': (475, 510), 'MS': (495, 510), 'PCom': (470, 510), 'PL': (530, 595), 'PP': (500, 510), 'PM': (475, 510)}\n",
      "{'AA': (535, 595), 'ASC': (550, 340), 'IA': (475, 510), 'MS': (495, 510), 'PCom': (470, 510), 'PL': (530, 595), 'PP': (500, 510), 'PM': (475, 510)}\n",
      "{'AA': (535, 595), 'ASC': (550, 425), 'IA': (475, 510), 'MS': (495, 510), 'PCom': (470, 510), 'PL': (530, 595), 'PP': (500, 510), 'PM': (475, 510)}\n",
      "{'AA': (535, 595), 'ASC': (550, 425), 'IA': (475, 510), 'MS': (495, 510), 'PCom': (470, 510), 'PL': (530, 595), 'PP': (500, 510), 'PM': (475, 510)}\n",
      "{'AA': (535, 595), 'ASC': (550, 510), 'IA': (475, 510), 'MS': (495, 510), 'PCom': (470, 510), 'PL': (530, 595), 'PP': (500, 510), 'PM': (475, 510)}\n",
      "{'AA': (535, 595), 'ASC': (550, 510), 'IA': (475, 510), 'MS': (495, 510), 'PCom': (470, 510), 'PL': (530, 595), 'PP': (500, 510), 'PM': (475, 510)}\n",
      "{'AA': (535, 595), 'ASC': (550, 595), 'IA': (475, 510), 'MS': (495, 510), 'PCom': (470, 510), 'PL': (530, 595), 'PP': (500, 510), 'PM': (475, 510)}\n"
     ]
    }
   ],
   "source": [
    "astar(\"inputs/orar_mare_relaxat.yaml\", Astar.reinforcement_h)"
   ]
  },
  {
   "cell_type": "code",
   "execution_count": 525,
   "metadata": {},
   "outputs": [
    {
     "name": "stdout",
     "output_type": "stream",
     "text": [
      "{'DS': (780, 0), 'PCom': (720, 0), 'PM': (750, 0), 'SO': (810, 0)}\n",
      "{'DS': (780, 0), 'PCom': (720, 0), 'PM': (750, 0), 'SO': (810, 0)}\n",
      "{'DS': (780, 0), 'PCom': (720, 90), 'PM': (750, 0), 'SO': (810, 0)}\n",
      "{'DS': (780, 0), 'PCom': (720, 90), 'PM': (750, 0), 'SO': (810, 0)}\n",
      "{'DS': (780, 0), 'PCom': (720, 180), 'PM': (750, 0), 'SO': (810, 0)}\n",
      "{'DS': (780, 0), 'PCom': (720, 180), 'PM': (750, 0), 'SO': (810, 0)}\n",
      "{'DS': (780, 0), 'PCom': (720, 270), 'PM': (750, 0), 'SO': (810, 0)}\n",
      "{'DS': (780, 0), 'PCom': (720, 270), 'PM': (750, 0), 'SO': (810, 0)}\n",
      "{'DS': (780, 0), 'PCom': (720, 360), 'PM': (750, 0), 'SO': (810, 0)}\n",
      "{'DS': (780, 0), 'PCom': (720, 360), 'PM': (750, 0), 'SO': (810, 0)}\n",
      "{'DS': (780, 0), 'PCom': (720, 450), 'PM': (750, 0), 'SO': (810, 0)}\n",
      "{'DS': (780, 0), 'PCom': (720, 450), 'PM': (750, 0), 'SO': (810, 0)}\n",
      "{'DS': (780, 0), 'PCom': (720, 540), 'PM': (750, 0), 'SO': (810, 0)}\n",
      "{'DS': (780, 0), 'PCom': (720, 540), 'PM': (750, 0), 'SO': (810, 0)}\n",
      "{'DS': (780, 0), 'PCom': (720, 630), 'PM': (750, 0), 'SO': (810, 0)}\n",
      "{'DS': (780, 0), 'PCom': (720, 630), 'PM': (750, 0), 'SO': (810, 0)}\n",
      "{'DS': (780, 0), 'PCom': (720, 720), 'PM': (750, 0), 'SO': (810, 0)}\n",
      "{'DS': (780, 0), 'PCom': (720, 720), 'PM': (750, 0), 'SO': (810, 0)}\n",
      "{'DS': (780, 0), 'PCom': (720, 720), 'PM': (750, 90), 'SO': (810, 0)}\n",
      "{'DS': (780, 0), 'PCom': (720, 720), 'PM': (750, 90), 'SO': (810, 0)}\n",
      "{'DS': (780, 0), 'PCom': (720, 720), 'PM': (750, 180), 'SO': (810, 0)}\n",
      "{'DS': (780, 0), 'PCom': (720, 720), 'PM': (750, 180), 'SO': (810, 0)}\n",
      "{'DS': (780, 0), 'PCom': (720, 720), 'PM': (750, 270), 'SO': (810, 0)}\n",
      "{'DS': (780, 0), 'PCom': (720, 720), 'PM': (750, 270), 'SO': (810, 0)}\n",
      "{'DS': (780, 0), 'PCom': (720, 720), 'PM': (750, 360), 'SO': (810, 0)}\n",
      "{'DS': (780, 0), 'PCom': (720, 720), 'PM': (750, 360), 'SO': (810, 0)}\n",
      "new update -> {'PCom': 0.9, 'PM': 1.1, 'DS': 0.9, 'SO': 0.9}\n",
      "{'DS': (780, 0), 'PCom': (720, 720), 'PM': (750, 360), 'SO': (810, 0)}\n",
      "{'DS': (780, 0), 'PCom': (720, 720), 'PM': (750, 360), 'SO': (810, 0)}\n",
      "{'DS': (780, 0), 'PCom': (720, 720), 'PM': (750, 450), 'SO': (810, 0)}\n",
      "{'DS': (780, 0), 'PCom': (720, 720), 'PM': (750, 450), 'SO': (810, 0)}\n",
      "{'DS': (780, 0), 'PCom': (720, 720), 'PM': (750, 540), 'SO': (810, 0)}\n",
      "{'DS': (780, 0), 'PCom': (720, 720), 'PM': (750, 540), 'SO': (810, 0)}\n",
      "{'DS': (780, 0), 'PCom': (720, 720), 'PM': (750, 630), 'SO': (810, 0)}\n",
      "{'DS': (780, 0), 'PCom': (720, 720), 'PM': (750, 630), 'SO': (810, 0)}\n",
      "{'DS': (780, 0), 'PCom': (720, 720), 'PM': (750, 720), 'SO': (810, 0)}\n",
      "{'DS': (780, 0), 'PCom': (720, 720), 'PM': (750, 720), 'SO': (810, 0)}\n",
      "{'DS': (780, 0), 'PCom': (720, 720), 'PM': (750, 810), 'SO': (810, 0)}\n",
      "{'DS': (780, 0), 'PCom': (720, 720), 'PM': (750, 810), 'SO': (810, 0)}\n",
      "{'DS': (780, 90), 'PCom': (720, 720), 'PM': (750, 810), 'SO': (810, 0)}\n",
      "{'DS': (780, 90), 'PCom': (720, 720), 'PM': (750, 810), 'SO': (810, 0)}\n",
      "{'DS': (780, 180), 'PCom': (720, 720), 'PM': (750, 810), 'SO': (810, 0)}\n",
      "{'DS': (780, 180), 'PCom': (720, 720), 'PM': (750, 810), 'SO': (810, 0)}\n",
      "{'DS': (780, 270), 'PCom': (720, 720), 'PM': (750, 810), 'SO': (810, 0)}\n",
      "{'DS': (780, 270), 'PCom': (720, 720), 'PM': (750, 810), 'SO': (810, 0)}\n",
      "{'DS': (780, 360), 'PCom': (720, 720), 'PM': (750, 810), 'SO': (810, 0)}\n",
      "{'DS': (780, 360), 'PCom': (720, 720), 'PM': (750, 810), 'SO': (810, 0)}\n",
      "new update -> {'PCom': 0.8, 'PM': 1.0, 'DS': 1.0, 'SO': 0.8}\n",
      "{'DS': (780, 360), 'PCom': (720, 720), 'PM': (750, 810), 'SO': (810, 0)}\n",
      "{'DS': (780, 360), 'PCom': (720, 720), 'PM': (750, 810), 'SO': (810, 0)}\n",
      "{'DS': (780, 450), 'PCom': (720, 720), 'PM': (750, 810), 'SO': (810, 0)}\n",
      "{'DS': (780, 450), 'PCom': (720, 720), 'PM': (750, 810), 'SO': (810, 0)}\n",
      "{'DS': (780, 540), 'PCom': (720, 720), 'PM': (750, 810), 'SO': (810, 0)}\n",
      "{'DS': (780, 540), 'PCom': (720, 720), 'PM': (750, 810), 'SO': (810, 0)}\n",
      "{'DS': (780, 630), 'PCom': (720, 720), 'PM': (750, 810), 'SO': (810, 0)}\n",
      "{'DS': (780, 630), 'PCom': (720, 720), 'PM': (750, 810), 'SO': (810, 0)}\n",
      "{'DS': (780, 720), 'PCom': (720, 720), 'PM': (750, 810), 'SO': (810, 0)}\n",
      "{'DS': (780, 720), 'PCom': (720, 720), 'PM': (750, 810), 'SO': (810, 0)}\n",
      "{'DS': (780, 810), 'PCom': (720, 720), 'PM': (750, 810), 'SO': (810, 0)}\n",
      "{'DS': (780, 810), 'PCom': (720, 720), 'PM': (750, 810), 'SO': (810, 0)}\n",
      "{'DS': (780, 810), 'PCom': (720, 720), 'PM': (750, 810), 'SO': (810, 90)}\n",
      "{'DS': (780, 810), 'PCom': (720, 720), 'PM': (750, 810), 'SO': (810, 90)}\n",
      "{'DS': (780, 810), 'PCom': (720, 720), 'PM': (750, 810), 'SO': (810, 180)}\n",
      "{'DS': (780, 810), 'PCom': (720, 720), 'PM': (750, 810), 'SO': (810, 180)}\n",
      "{'DS': (780, 810), 'PCom': (720, 720), 'PM': (750, 810), 'SO': (810, 270)}\n",
      "{'DS': (780, 810), 'PCom': (720, 720), 'PM': (750, 810), 'SO': (810, 270)}\n",
      "{'DS': (780, 810), 'PCom': (720, 720), 'PM': (750, 810), 'SO': (810, 360)}\n",
      "{'DS': (780, 810), 'PCom': (720, 720), 'PM': (750, 810), 'SO': (810, 360)}\n",
      "new update -> {'PCom': 0.7000000000000001, 'PM': 0.9, 'DS': 0.9, 'SO': 0.9}\n",
      "{'DS': (780, 810), 'PCom': (720, 720), 'PM': (750, 810), 'SO': (810, 360)}\n",
      "{'DS': (780, 810), 'PCom': (720, 720), 'PM': (750, 810), 'SO': (810, 360)}\n",
      "{'DS': (780, 810), 'PCom': (720, 720), 'PM': (750, 810), 'SO': (810, 375)}\n",
      "{'DS': (780, 810), 'PCom': (720, 720), 'PM': (750, 810), 'SO': (810, 375)}\n",
      "{'DS': (780, 810), 'PCom': (720, 720), 'PM': (750, 810), 'SO': (810, 390)}\n",
      "{'DS': (780, 810), 'PCom': (720, 720), 'PM': (750, 810), 'SO': (810, 390)}\n",
      "{'DS': (780, 810), 'PCom': (720, 720), 'PM': (750, 810), 'SO': (810, 405)}\n",
      "{'DS': (780, 810), 'PCom': (720, 720), 'PM': (750, 810), 'SO': (810, 405)}\n",
      "{'DS': (780, 810), 'PCom': (720, 720), 'PM': (750, 810), 'SO': (810, 420)}\n",
      "{'DS': (780, 810), 'PCom': (720, 720), 'PM': (750, 810), 'SO': (810, 420)}\n",
      "{'DS': (780, 810), 'PCom': (720, 720), 'PM': (750, 810), 'SO': (810, 435)}\n",
      "{'DS': (780, 810), 'PCom': (720, 720), 'PM': (750, 810), 'SO': (810, 435)}\n",
      "{'DS': (780, 810), 'PCom': (720, 720), 'PM': (750, 810), 'SO': (810, 450)}\n",
      "{'DS': (780, 810), 'PCom': (720, 720), 'PM': (750, 810), 'SO': (810, 450)}\n",
      "{'DS': (780, 810), 'PCom': (720, 720), 'PM': (750, 810), 'SO': (810, 465)}\n",
      "{'DS': (780, 810), 'PCom': (720, 720), 'PM': (750, 810), 'SO': (810, 465)}\n",
      "{'DS': (780, 810), 'PCom': (720, 720), 'PM': (750, 810), 'SO': (810, 480)}\n",
      "{'DS': (780, 810), 'PCom': (720, 720), 'PM': (750, 810), 'SO': (810, 480)}\n",
      "{'DS': (780, 810), 'PCom': (720, 720), 'PM': (750, 810), 'SO': (810, 495)}\n",
      "{'DS': (780, 810), 'PCom': (720, 720), 'PM': (750, 810), 'SO': (810, 495)}\n",
      "{'DS': (780, 810), 'PCom': (720, 720), 'PM': (750, 810), 'SO': (810, 510)}\n",
      "{'DS': (780, 810), 'PCom': (720, 720), 'PM': (750, 810), 'SO': (810, 510)}\n",
      "{'DS': (780, 810), 'PCom': (720, 720), 'PM': (750, 810), 'SO': (810, 525)}\n",
      "{'DS': (780, 810), 'PCom': (720, 720), 'PM': (750, 810), 'SO': (810, 525)}\n",
      "{'DS': (780, 810), 'PCom': (720, 720), 'PM': (750, 810), 'SO': (810, 540)}\n",
      "{'DS': (780, 810), 'PCom': (720, 720), 'PM': (750, 810), 'SO': (810, 540)}\n",
      "{'DS': (780, 810), 'PCom': (720, 720), 'PM': (750, 810), 'SO': (810, 555)}\n",
      "{'DS': (780, 810), 'PCom': (720, 720), 'PM': (750, 810), 'SO': (810, 555)}\n",
      "{'DS': (780, 810), 'PCom': (720, 720), 'PM': (750, 810), 'SO': (810, 570)}\n",
      "{'DS': (780, 810), 'PCom': (720, 720), 'PM': (750, 810), 'SO': (810, 570)}\n",
      "{'DS': (780, 810), 'PCom': (720, 720), 'PM': (750, 810), 'SO': (810, 585)}\n",
      "{'DS': (780, 810), 'PCom': (720, 720), 'PM': (750, 810), 'SO': (810, 585)}\n",
      "{'DS': (780, 810), 'PCom': (720, 720), 'PM': (750, 810), 'SO': (810, 600)}\n",
      "{'DS': (780, 810), 'PCom': (720, 720), 'PM': (750, 810), 'SO': (810, 600)}\n",
      "{'DS': (780, 810), 'PCom': (720, 720), 'PM': (750, 810), 'SO': (810, 615)}\n",
      "{'DS': (780, 810), 'PCom': (720, 720), 'PM': (750, 810), 'SO': (810, 615)}\n",
      "{'DS': (780, 810), 'PCom': (720, 720), 'PM': (750, 810), 'SO': (810, 630)}\n",
      "{'DS': (780, 810), 'PCom': (720, 720), 'PM': (750, 810), 'SO': (810, 630)}\n",
      "{'DS': (780, 810), 'PCom': (720, 720), 'PM': (750, 810), 'SO': (810, 645)}\n",
      "{'DS': (780, 810), 'PCom': (720, 720), 'PM': (750, 810), 'SO': (810, 645)}\n",
      "{'DS': (780, 810), 'PCom': (720, 720), 'PM': (750, 810), 'SO': (810, 660)}\n",
      "{'DS': (780, 810), 'PCom': (720, 720), 'PM': (750, 810), 'SO': (810, 660)}\n",
      "{'DS': (780, 810), 'PCom': (720, 720), 'PM': (750, 810), 'SO': (810, 675)}\n",
      "{'DS': (780, 810), 'PCom': (720, 720), 'PM': (750, 810), 'SO': (810, 675)}\n",
      "{'DS': (780, 810), 'PCom': (720, 720), 'PM': (750, 810), 'SO': (810, 660)}\n",
      "{'DS': (780, 810), 'PCom': (720, 720), 'PM': (750, 810), 'SO': (810, 660)}\n",
      "{'DS': (780, 810), 'PCom': (720, 720), 'PM': (750, 810), 'SO': (810, 675)}\n",
      "{'DS': (780, 810), 'PCom': (720, 720), 'PM': (750, 810), 'SO': (810, 675)}\n",
      "{'DS': (780, 810), 'PCom': (720, 720), 'PM': (750, 810), 'SO': (810, 675)}\n",
      "{'DS': (780, 810), 'PCom': (720, 720), 'PM': (750, 810), 'SO': (810, 675)}\n",
      "{'DS': (780, 810), 'PCom': (720, 720), 'PM': (750, 810), 'SO': (810, 660)}\n",
      "{'DS': (780, 810), 'PCom': (720, 720), 'PM': (750, 810), 'SO': (810, 660)}\n",
      "{'DS': (780, 810), 'PCom': (720, 720), 'PM': (750, 810), 'SO': (810, 660)}\n",
      "{'DS': (780, 810), 'PCom': (720, 720), 'PM': (750, 810), 'SO': (810, 660)}\n",
      "new update -> {'PCom': 0.6000000000000001, 'PM': 0.8, 'DS': 0.8, 'SO': 1.0}\n",
      "{'DS': (780, 810), 'PCom': (720, 720), 'PM': (750, 810), 'SO': (810, 660)}\n",
      "{'DS': (780, 810), 'PCom': (720, 720), 'PM': (750, 810), 'SO': (810, 660)}\n",
      "{'DS': (780, 810), 'PCom': (720, 720), 'PM': (750, 810), 'SO': (810, 690)}\n",
      "{'DS': (780, 810), 'PCom': (720, 720), 'PM': (750, 810), 'SO': (810, 690)}\n",
      "{'DS': (780, 810), 'PCom': (720, 720), 'PM': (750, 810), 'SO': (810, 690)}\n",
      "{'DS': (780, 810), 'PCom': (720, 720), 'PM': (750, 810), 'SO': (810, 690)}\n",
      "{'DS': (780, 810), 'PCom': (720, 720), 'PM': (750, 810), 'SO': (810, 690)}\n",
      "{'DS': (780, 810), 'PCom': (720, 720), 'PM': (750, 810), 'SO': (810, 690)}\n",
      "{'DS': (780, 810), 'PCom': (720, 720), 'PM': (750, 810), 'SO': (810, 690)}\n",
      "{'DS': (780, 810), 'PCom': (720, 720), 'PM': (750, 810), 'SO': (810, 690)}\n",
      "{'DS': (780, 810), 'PCom': (720, 720), 'PM': (750, 810), 'SO': (810, 690)}\n",
      "{'DS': (780, 810), 'PCom': (720, 720), 'PM': (750, 810), 'SO': (810, 690)}\n",
      "{'DS': (780, 810), 'PCom': (720, 720), 'PM': (750, 810), 'SO': (810, 690)}\n",
      "{'DS': (780, 810), 'PCom': (720, 720), 'PM': (750, 810), 'SO': (810, 690)}\n",
      "new update -> {'PCom': 0.5000000000000001, 'PM': 0.7000000000000001, 'DS': 0.7000000000000001, 'SO': 1.1}\n",
      "{'DS': (780, 810), 'PCom': (720, 720), 'PM': (750, 810), 'SO': (810, 690)}\n",
      "{'DS': (780, 810), 'PCom': (720, 720), 'PM': (750, 810), 'SO': (810, 690)}\n",
      "{'DS': (780, 810), 'PCom': (720, 720), 'PM': (750, 810), 'SO': (810, 690)}\n",
      "{'DS': (780, 810), 'PCom': (720, 720), 'PM': (750, 810), 'SO': (810, 690)}\n",
      "{'DS': (780, 810), 'PCom': (720, 720), 'PM': (750, 810), 'SO': (810, 690)}\n",
      "{'DS': (780, 810), 'PCom': (720, 720), 'PM': (750, 810), 'SO': (810, 690)}\n",
      "{'DS': (780, 810), 'PCom': (720, 720), 'PM': (750, 810), 'SO': (810, 690)}\n",
      "{'DS': (780, 810), 'PCom': (720, 720), 'PM': (750, 810), 'SO': (810, 690)}\n",
      "{'DS': (780, 810), 'PCom': (720, 720), 'PM': (750, 810), 'SO': (810, 690)}\n",
      "{'DS': (780, 810), 'PCom': (720, 720), 'PM': (750, 810), 'SO': (810, 690)}\n",
      "{'DS': (780, 810), 'PCom': (720, 720), 'PM': (750, 810), 'SO': (810, 690)}\n",
      "{'DS': (780, 810), 'PCom': (720, 720), 'PM': (750, 810), 'SO': (810, 690)}\n",
      "new update -> {'PCom': 0.40000000000000013, 'PM': 0.6000000000000001, 'DS': 0.6000000000000001, 'SO': 1.2000000000000002}\n",
      "{'DS': (780, 810), 'PCom': (720, 720), 'PM': (750, 810), 'SO': (810, 690)}\n",
      "{'DS': (780, 810), 'PCom': (720, 720), 'PM': (750, 810), 'SO': (810, 690)}\n",
      "{'DS': (780, 810), 'PCom': (720, 720), 'PM': (750, 810), 'SO': (810, 690)}\n",
      "{'DS': (780, 810), 'PCom': (720, 720), 'PM': (750, 810), 'SO': (810, 690)}\n",
      "{'DS': (780, 810), 'PCom': (720, 720), 'PM': (750, 810), 'SO': (810, 690)}\n",
      "{'DS': (780, 810), 'PCom': (720, 720), 'PM': (750, 810), 'SO': (810, 690)}\n",
      "{'DS': (780, 810), 'PCom': (720, 720), 'PM': (750, 810), 'SO': (810, 690)}\n",
      "{'DS': (780, 810), 'PCom': (720, 720), 'PM': (750, 810), 'SO': (810, 690)}\n",
      "{'DS': (780, 810), 'PCom': (720, 720), 'PM': (750, 810), 'SO': (810, 690)}\n",
      "{'DS': (780, 810), 'PCom': (720, 720), 'PM': (750, 810), 'SO': (810, 690)}\n",
      "{'DS': (780, 810), 'PCom': (720, 720), 'PM': (750, 810), 'SO': (810, 690)}\n",
      "{'DS': (780, 810), 'PCom': (720, 720), 'PM': (750, 810), 'SO': (810, 690)}\n",
      "new update -> {'PCom': 0.30000000000000016, 'PM': 0.5000000000000001, 'DS': 0.5000000000000001, 'SO': 1.3000000000000003}\n",
      "{'DS': (780, 810), 'PCom': (720, 720), 'PM': (750, 810), 'SO': (810, 690)}\n",
      "{'DS': (780, 810), 'PCom': (720, 720), 'PM': (750, 810), 'SO': (810, 690)}\n",
      "{'DS': (780, 810), 'PCom': (720, 720), 'PM': (750, 810), 'SO': (810, 690)}\n",
      "{'DS': (780, 810), 'PCom': (720, 720), 'PM': (750, 810), 'SO': (810, 690)}\n",
      "{'DS': (780, 810), 'PCom': (720, 720), 'PM': (750, 810), 'SO': (810, 690)}\n",
      "{'DS': (780, 810), 'PCom': (720, 720), 'PM': (750, 810), 'SO': (810, 690)}\n",
      "{'DS': (780, 810), 'PCom': (720, 720), 'PM': (750, 810), 'SO': (810, 690)}\n",
      "{'DS': (780, 810), 'PCom': (720, 720), 'PM': (750, 810), 'SO': (810, 690)}\n",
      "{'DS': (780, 810), 'PCom': (720, 720), 'PM': (750, 810), 'SO': (810, 690)}\n",
      "{'DS': (780, 810), 'PCom': (720, 720), 'PM': (750, 810), 'SO': (810, 690)}\n",
      "{'DS': (780, 810), 'PCom': (720, 720), 'PM': (750, 810), 'SO': (810, 690)}\n",
      "{'DS': (780, 810), 'PCom': (720, 720), 'PM': (750, 810), 'SO': (810, 690)}\n",
      "new update -> {'PCom': 0.20000000000000015, 'PM': 0.40000000000000013, 'DS': 0.40000000000000013, 'SO': 1.4000000000000004}\n",
      "{'DS': (780, 810), 'PCom': (720, 720), 'PM': (750, 810), 'SO': (810, 690)}\n",
      "{'DS': (780, 810), 'PCom': (720, 720), 'PM': (750, 810), 'SO': (810, 690)}\n",
      "{'DS': (780, 810), 'PCom': (720, 720), 'PM': (750, 810), 'SO': (810, 690)}\n",
      "{'DS': (780, 810), 'PCom': (720, 720), 'PM': (750, 810), 'SO': (810, 690)}\n",
      "{'DS': (780, 810), 'PCom': (720, 720), 'PM': (750, 810), 'SO': (810, 690)}\n",
      "{'DS': (780, 810), 'PCom': (720, 720), 'PM': (750, 810), 'SO': (810, 690)}\n",
      "{'DS': (780, 810), 'PCom': (720, 720), 'PM': (750, 810), 'SO': (810, 690)}\n",
      "{'DS': (780, 810), 'PCom': (720, 720), 'PM': (750, 810), 'SO': (810, 690)}\n",
      "{'DS': (780, 810), 'PCom': (720, 720), 'PM': (750, 810), 'SO': (810, 690)}\n",
      "{'DS': (780, 810), 'PCom': (720, 720), 'PM': (750, 810), 'SO': (810, 690)}\n",
      "{'DS': (780, 810), 'PCom': (720, 720), 'PM': (750, 810), 'SO': (810, 690)}\n",
      "{'DS': (780, 810), 'PCom': (720, 720), 'PM': (750, 810), 'SO': (810, 690)}\n",
      "new update -> {'PCom': 0.10000000000000014, 'PM': 0.30000000000000016, 'DS': 0.30000000000000016, 'SO': 1.5000000000000004}\n",
      "{'DS': (780, 810), 'PCom': (720, 720), 'PM': (750, 810), 'SO': (810, 690)}\n",
      "{'DS': (780, 810), 'PCom': (720, 720), 'PM': (750, 810), 'SO': (810, 690)}\n",
      "{'DS': (780, 810), 'PCom': (720, 720), 'PM': (750, 810), 'SO': (810, 690)}\n",
      "{'DS': (780, 810), 'PCom': (720, 720), 'PM': (750, 810), 'SO': (810, 690)}\n",
      "{'DS': (780, 810), 'PCom': (720, 720), 'PM': (750, 810), 'SO': (810, 690)}\n",
      "{'DS': (780, 810), 'PCom': (720, 720), 'PM': (750, 810), 'SO': (810, 690)}\n",
      "{'DS': (780, 810), 'PCom': (720, 720), 'PM': (750, 810), 'SO': (810, 690)}\n",
      "{'DS': (780, 810), 'PCom': (720, 720), 'PM': (750, 810), 'SO': (810, 690)}\n",
      "{'DS': (780, 810), 'PCom': (720, 720), 'PM': (750, 810), 'SO': (810, 690)}\n",
      "{'DS': (780, 810), 'PCom': (720, 720), 'PM': (750, 810), 'SO': (810, 690)}\n",
      "{'DS': (780, 810), 'PCom': (720, 720), 'PM': (750, 810), 'SO': (810, 690)}\n",
      "{'DS': (780, 810), 'PCom': (720, 720), 'PM': (750, 810), 'SO': (810, 690)}\n",
      "new update -> {'PCom': 1.3877787807814457e-16, 'PM': 0.20000000000000015, 'DS': 0.20000000000000015, 'SO': 1.6000000000000005}\n",
      "{'DS': (780, 810), 'PCom': (720, 720), 'PM': (750, 810), 'SO': (810, 690)}\n",
      "{'DS': (780, 810), 'PCom': (720, 720), 'PM': (750, 810), 'SO': (810, 690)}\n",
      "{'DS': (780, 810), 'PCom': (720, 720), 'PM': (750, 810), 'SO': (810, 690)}\n",
      "{'DS': (780, 810), 'PCom': (720, 720), 'PM': (750, 810), 'SO': (810, 690)}\n",
      "{'DS': (780, 810), 'PCom': (720, 720), 'PM': (750, 810), 'SO': (810, 690)}\n",
      "{'DS': (780, 810), 'PCom': (720, 720), 'PM': (750, 810), 'SO': (810, 690)}\n",
      "{'DS': (780, 810), 'PCom': (720, 720), 'PM': (750, 810), 'SO': (810, 690)}\n",
      "{'DS': (780, 810), 'PCom': (720, 720), 'PM': (750, 810), 'SO': (810, 690)}\n",
      "{'DS': (780, 810), 'PCom': (720, 720), 'PM': (750, 810), 'SO': (810, 690)}\n",
      "{'DS': (780, 810), 'PCom': (720, 720), 'PM': (750, 810), 'SO': (810, 690)}\n",
      "{'DS': (780, 810), 'PCom': (720, 720), 'PM': (750, 810), 'SO': (810, 690)}\n",
      "{'DS': (780, 810), 'PCom': (720, 720), 'PM': (750, 810), 'SO': (810, 690)}\n",
      "new update -> {'PCom': 0, 'PM': 0.10000000000000014, 'DS': 0.10000000000000014, 'SO': 1.7000000000000006}\n",
      "{'DS': (780, 810), 'PCom': (720, 720), 'PM': (750, 810), 'SO': (810, 690)}\n",
      "{'DS': (780, 810), 'PCom': (720, 720), 'PM': (750, 810), 'SO': (810, 690)}\n",
      "{'DS': (780, 810), 'PCom': (720, 720), 'PM': (750, 810), 'SO': (810, 690)}\n",
      "{'DS': (780, 810), 'PCom': (720, 720), 'PM': (750, 810), 'SO': (810, 690)}\n",
      "{'DS': (780, 810), 'PCom': (720, 720), 'PM': (750, 810), 'SO': (810, 690)}\n",
      "{'DS': (780, 810), 'PCom': (720, 720), 'PM': (750, 810), 'SO': (810, 690)}\n",
      "{'DS': (780, 810), 'PCom': (720, 720), 'PM': (750, 810), 'SO': (810, 690)}\n",
      "{'DS': (780, 810), 'PCom': (720, 720), 'PM': (750, 810), 'SO': (810, 690)}\n",
      "{'DS': (780, 810), 'PCom': (720, 720), 'PM': (750, 810), 'SO': (810, 690)}\n",
      "{'DS': (780, 810), 'PCom': (720, 720), 'PM': (750, 810), 'SO': (810, 690)}\n",
      "{'DS': (780, 810), 'PCom': (720, 720), 'PM': (750, 810), 'SO': (810, 690)}\n",
      "{'DS': (780, 810), 'PCom': (720, 720), 'PM': (750, 810), 'SO': (810, 690)}\n",
      "new update -> {'PCom': 0, 'PM': 1.3877787807814457e-16, 'DS': 1.3877787807814457e-16, 'SO': 1.8000000000000007}\n",
      "{'DS': (780, 810), 'PCom': (720, 720), 'PM': (750, 810), 'SO': (810, 690)}\n",
      "{'DS': (780, 810), 'PCom': (720, 720), 'PM': (750, 810), 'SO': (810, 690)}\n",
      "{'DS': (780, 810), 'PCom': (720, 720), 'PM': (750, 810), 'SO': (810, 690)}\n",
      "{'DS': (780, 810), 'PCom': (720, 720), 'PM': (750, 810), 'SO': (810, 690)}\n",
      "{'DS': (780, 810), 'PCom': (720, 720), 'PM': (750, 810), 'SO': (810, 690)}\n",
      "{'DS': (780, 810), 'PCom': (720, 720), 'PM': (750, 810), 'SO': (810, 690)}\n",
      "{'DS': (780, 810), 'PCom': (720, 720), 'PM': (750, 810), 'SO': (810, 690)}\n",
      "{'DS': (780, 810), 'PCom': (720, 720), 'PM': (750, 810), 'SO': (810, 690)}\n",
      "{'DS': (780, 810), 'PCom': (720, 720), 'PM': (750, 810), 'SO': (810, 690)}\n",
      "{'DS': (780, 810), 'PCom': (720, 720), 'PM': (750, 810), 'SO': (810, 690)}\n",
      "{'DS': (780, 810), 'PCom': (720, 720), 'PM': (750, 810), 'SO': (810, 690)}\n",
      "{'DS': (780, 810), 'PCom': (720, 720), 'PM': (750, 810), 'SO': (810, 690)}\n",
      "new update -> {'PCom': 0, 'PM': 0, 'DS': 0, 'SO': 1.9000000000000008}\n",
      "{'DS': (780, 810), 'PCom': (720, 720), 'PM': (750, 810), 'SO': (810, 690)}\n",
      "{'DS': (780, 810), 'PCom': (720, 720), 'PM': (750, 810), 'SO': (810, 690)}\n",
      "{'DS': (780, 810), 'PCom': (720, 720), 'PM': (750, 810), 'SO': (810, 690)}\n",
      "{'DS': (780, 810), 'PCom': (720, 720), 'PM': (750, 810), 'SO': (810, 690)}\n",
      "{'DS': (780, 810), 'PCom': (720, 720), 'PM': (750, 810), 'SO': (810, 690)}\n",
      "{'DS': (780, 810), 'PCom': (720, 720), 'PM': (750, 810), 'SO': (810, 690)}\n",
      "{'DS': (780, 810), 'PCom': (720, 720), 'PM': (750, 810), 'SO': (810, 690)}\n",
      "{'DS': (780, 810), 'PCom': (720, 720), 'PM': (750, 810), 'SO': (810, 690)}\n",
      "{'DS': (780, 810), 'PCom': (720, 720), 'PM': (750, 810), 'SO': (810, 690)}\n",
      "{'DS': (780, 810), 'PCom': (720, 720), 'PM': (750, 810), 'SO': (810, 690)}\n",
      "{'DS': (780, 810), 'PCom': (720, 720), 'PM': (750, 810), 'SO': (810, 690)}\n",
      "{'DS': (780, 810), 'PCom': (720, 720), 'PM': (750, 810), 'SO': (810, 690)}\n",
      "new update -> {'PCom': 0, 'PM': 0, 'DS': 0, 'SO': 2.000000000000001}\n",
      "{'DS': (780, 810), 'PCom': (720, 720), 'PM': (750, 810), 'SO': (810, 690)}\n",
      "{'DS': (780, 810), 'PCom': (720, 720), 'PM': (750, 810), 'SO': (810, 690)}\n",
      "{'DS': (780, 810), 'PCom': (720, 720), 'PM': (750, 810), 'SO': (810, 690)}\n",
      "{'DS': (780, 810), 'PCom': (720, 720), 'PM': (750, 810), 'SO': (810, 690)}\n",
      "{'DS': (780, 810), 'PCom': (720, 720), 'PM': (750, 810), 'SO': (810, 690)}\n",
      "{'DS': (780, 810), 'PCom': (720, 720), 'PM': (750, 810), 'SO': (810, 690)}\n",
      "{'DS': (780, 810), 'PCom': (720, 720), 'PM': (750, 810), 'SO': (810, 690)}\n",
      "{'DS': (780, 810), 'PCom': (720, 720), 'PM': (750, 810), 'SO': (810, 690)}\n",
      "{'DS': (780, 810), 'PCom': (720, 720), 'PM': (750, 810), 'SO': (810, 690)}\n",
      "{'DS': (780, 810), 'PCom': (720, 720), 'PM': (750, 810), 'SO': (810, 690)}\n",
      "{'DS': (780, 810), 'PCom': (720, 720), 'PM': (750, 810), 'SO': (810, 690)}\n",
      "{'DS': (780, 810), 'PCom': (720, 720), 'PM': (750, 810), 'SO': (810, 690)}\n",
      "new update -> {'PCom': 0, 'PM': 0, 'DS': 0, 'SO': 2.100000000000001}\n",
      "{'DS': (780, 810), 'PCom': (720, 720), 'PM': (750, 810), 'SO': (810, 690)}\n",
      "{'DS': (780, 810), 'PCom': (720, 720), 'PM': (750, 810), 'SO': (810, 690)}\n",
      "{'DS': (780, 810), 'PCom': (720, 720), 'PM': (750, 810), 'SO': (810, 690)}\n",
      "{'DS': (780, 810), 'PCom': (720, 720), 'PM': (750, 810), 'SO': (810, 690)}\n",
      "{'DS': (780, 810), 'PCom': (720, 720), 'PM': (750, 810), 'SO': (810, 690)}\n",
      "{'DS': (780, 810), 'PCom': (720, 720), 'PM': (750, 810), 'SO': (810, 690)}\n",
      "{'DS': (780, 810), 'PCom': (720, 720), 'PM': (750, 810), 'SO': (810, 690)}\n",
      "{'DS': (780, 810), 'PCom': (720, 720), 'PM': (750, 810), 'SO': (810, 690)}\n",
      "{'DS': (780, 810), 'PCom': (720, 720), 'PM': (750, 810), 'SO': (810, 690)}\n",
      "{'DS': (780, 810), 'PCom': (720, 720), 'PM': (750, 810), 'SO': (810, 690)}\n",
      "{'DS': (780, 810), 'PCom': (720, 720), 'PM': (750, 810), 'SO': (810, 690)}\n",
      "{'DS': (780, 810), 'PCom': (720, 720), 'PM': (750, 810), 'SO': (810, 690)}\n",
      "new update -> {'PCom': 0, 'PM': 0, 'DS': 0, 'SO': 2.200000000000001}\n",
      "{'DS': (780, 810), 'PCom': (720, 720), 'PM': (750, 810), 'SO': (810, 690)}\n",
      "{'DS': (780, 810), 'PCom': (720, 720), 'PM': (750, 810), 'SO': (810, 690)}\n",
      "{'DS': (780, 810), 'PCom': (720, 720), 'PM': (750, 810), 'SO': (810, 690)}\n",
      "{'DS': (780, 810), 'PCom': (720, 720), 'PM': (750, 810), 'SO': (810, 690)}\n",
      "{'DS': (780, 810), 'PCom': (720, 720), 'PM': (750, 810), 'SO': (810, 690)}\n",
      "{'DS': (780, 810), 'PCom': (720, 720), 'PM': (750, 810), 'SO': (810, 690)}\n",
      "{'DS': (780, 810), 'PCom': (720, 720), 'PM': (750, 810), 'SO': (810, 690)}\n",
      "{'DS': (780, 810), 'PCom': (720, 720), 'PM': (750, 810), 'SO': (810, 690)}\n",
      "{'DS': (780, 810), 'PCom': (720, 720), 'PM': (750, 810), 'SO': (810, 690)}\n",
      "{'DS': (780, 810), 'PCom': (720, 720), 'PM': (750, 810), 'SO': (810, 690)}\n",
      "{'DS': (780, 810), 'PCom': (720, 720), 'PM': (750, 810), 'SO': (810, 690)}\n",
      "{'DS': (780, 810), 'PCom': (720, 720), 'PM': (750, 810), 'SO': (810, 690)}\n",
      "new update -> {'PCom': 0, 'PM': 0, 'DS': 0, 'SO': 2.300000000000001}\n",
      "{'DS': (780, 810), 'PCom': (720, 720), 'PM': (750, 810), 'SO': (810, 705)}\n",
      "{'DS': (780, 810), 'PCom': (720, 720), 'PM': (750, 810), 'SO': (810, 705)}\n",
      "{'DS': (780, 810), 'PCom': (720, 720), 'PM': (750, 810), 'SO': (810, 720)}\n",
      "{'DS': (780, 810), 'PCom': (720, 720), 'PM': (750, 810), 'SO': (810, 720)}\n",
      "{'DS': (780, 810), 'PCom': (720, 720), 'PM': (750, 810), 'SO': (810, 735)}\n",
      "{'DS': (780, 810), 'PCom': (720, 720), 'PM': (750, 810), 'SO': (810, 735)}\n",
      "{'DS': (780, 810), 'PCom': (720, 720), 'PM': (750, 810), 'SO': (810, 750)}\n",
      "{'DS': (780, 810), 'PCom': (720, 720), 'PM': (750, 810), 'SO': (810, 750)}\n",
      "{'DS': (780, 810), 'PCom': (720, 720), 'PM': (750, 810), 'SO': (810, 765)}\n",
      "{'DS': (780, 810), 'PCom': (720, 720), 'PM': (750, 810), 'SO': (810, 765)}\n",
      "{'DS': (780, 810), 'PCom': (720, 720), 'PM': (750, 810), 'SO': (810, 780)}\n",
      "{'DS': (780, 810), 'PCom': (720, 720), 'PM': (750, 810), 'SO': (810, 780)}\n",
      "{'DS': (780, 810), 'PCom': (720, 720), 'PM': (750, 810), 'SO': (810, 795)}\n",
      "{'DS': (780, 810), 'PCom': (720, 720), 'PM': (750, 810), 'SO': (810, 795)}\n",
      "{'DS': (780, 810), 'PCom': (720, 720), 'PM': (750, 810), 'SO': (810, 810)}\n"
     ]
    }
   ],
   "source": [
    "astar(\"inputs/orar_constrans_incalcat.yaml\", Astar.reinforcement_h)"
   ]
  },
  {
   "cell_type": "code",
   "execution_count": null,
   "metadata": {},
   "outputs": [],
   "source": [
    "weights = [10 * i for i in range(1, 11)]\n",
    "results = {k: [] for k in weights}\n",
    "for w in weights:\n",
    "    Astar.h2_W = w\n",
    "    for _ in range(5):\n",
    "        start_time = time.time()\n",
    "        astar(\"inputs/orar_mediu_relaxat.yaml\", Astar.h2)\n",
    "        end_time = time.time()\n",
    "        \n",
    "        elapsed_time = end_time - start_time\n",
    "        results[w].append(elapsed_time)\n",
    "results = {k: np.mean(v) for k, v in results.items()}\n",
    "print(results)"
   ]
  },
  {
   "cell_type": "code",
   "execution_count": 530,
   "metadata": {},
   "outputs": [],
   "source": [
    "class RandomRestartHillClimbing():\n",
    "    no_swaps = 0\n",
    "    SWAP, MOVE, NEW_TEACHER = 0, 1, 2\n",
    "    SLOT, DAY, INTERVAL, TEACHER = 0, 1, 2, 1\n",
    "\n",
    "    def __all_subjects_covered(subjects):\n",
    "        return all(s.is_covered() for s in subjects)\n",
    "    \n",
    "    def __interval_constraint_breach(interval, searched_intervals):\n",
    "        return not any(interval[0] >= i[0] and interval[1] <= i[1] for i in searched_intervals)\n",
    "    \n",
    "    def __filter_slots_by_teacher(slots, teacher):\n",
    "        filtered_slots = []\n",
    "        prefferable_intervals = [get_interval_tuple(interval, \"-\") for interval in teacher.constraints.prefferable_intervals]\n",
    "\n",
    "        # Try to filter the slots that matches teacher's prefferences for days and intervals\n",
    "        for slot in slots:\n",
    "            slot_interval = get_interval_tuple(slot.interval.interval)\n",
    "            if slot.day.name in teacher.constraints.prefferable_days and not RandomRestartHillClimbing.__interval_constraint_breach(slot_interval, prefferable_intervals):\n",
    "                filtered_slots.append(slot)\n",
    "\n",
    "        if filtered_slots:\n",
    "            return filtered_slots\n",
    "\n",
    "        # Try to filter the slots for at least one of the teacher's prefferences\n",
    "        for slot in slots:\n",
    "            slot_interval = get_interval_tuple(slot.interval.interval)\n",
    "            if slot.day.name in teacher.constraints.prefferable_days or not RandomRestartHillClimbing.__interval_constraint_breach(slot_interval, prefferable_intervals):\n",
    "                filtered_slots.append(slot)\n",
    "        \n",
    "        if filtered_slots:\n",
    "            return filtered_slots\n",
    "        else:\n",
    "            # If there were'nt found any filtered slots, then return the slots and consider\n",
    "            # the teacher's prefferences when swapping\n",
    "            return slots\n",
    "\n",
    "    def __filter_teachers_by_slot(teachers, slot):\n",
    "        filtered_teachers = []\n",
    "        slot_interval = get_interval_tuple(slot.interval.interval)\n",
    "\n",
    "        # Try to filter the teachers that matches slot's day and interval\n",
    "        for teacher in teachers:\n",
    "            prefferable_intervals = [get_interval_tuple(interval, \"-\") for interval in teacher.constraints.prefferable_intervals]\n",
    "            if slot.day.name in teacher.constraints.prefferable_days and not RandomRestartHillClimbing.__interval_constraint_breach(slot_interval, prefferable_intervals):\n",
    "                filtered_teachers.append(teacher)\n",
    "        \n",
    "        if filtered_teachers:\n",
    "            return filtered_teachers\n",
    "\n",
    "        # Try to filter the teachers for with less constraints violated\n",
    "        for teacher in teachers:\n",
    "            prefferable_intervals = [get_interval_tuple(interval, \"-\") for interval in teacher.constraints.prefferable_intervals]\n",
    "            if slot.day.name in teacher.constraints.prefferable_days or not RandomRestartHillClimbing.__interval_constraint_breach(slot_interval, prefferable_intervals):\n",
    "                filtered_teachers.append(teacher)\n",
    "        \n",
    "        if filtered_teachers:\n",
    "            return filtered_teachers\n",
    "        else:\n",
    "            # If there were'nt found any filtered teachers, then return the teachers and consider\n",
    "            # the teacher's prefferences when swapping\n",
    "            return teachers\n",
    "\n",
    "    def restart_random_restart_hill_climbing():\n",
    "        RandomRestartHillClimbing.no_swaps = 0\n",
    "    \n",
    "    def generate_initial_state_restart(data, restarts):\n",
    "        for slot in data[\"timetable\"].slots:\n",
    "            slot.restart()\n",
    "\n",
    "        for s in data[\"subjects\"]:\n",
    "            s.restart()\n",
    "    \n",
    "        for t in data[\"teachers\"]:\n",
    "            t.restart()\n",
    "\n",
    "        restarts += 1\n",
    "\n",
    "        sys.stdout.write(f\"\\rRestarts: {restarts}\")\n",
    "        sys.stdout.flush()\n",
    "\n",
    "        return data, restarts\n",
    "    \n",
    "    def generate_initial_state(data):\n",
    "        restarts = 0\n",
    "        print(\"\\nStarting to generate the initial state...\")\n",
    "        slots = data[\"timetable\"].slots\n",
    "\n",
    "        while not RandomRestartHillClimbing.__all_subjects_covered(data[\"subjects\"]):\n",
    "            # Choose a random subject\n",
    "            s = rd.choice([s for s in data[\"subjects\"] if not s.is_covered()])\n",
    "\n",
    "            while not s.is_covered():\n",
    "                # Choose a random lecture hall\n",
    "                try:\n",
    "                    l = rd.choice([l for l in data[\"lecture_halls\"] if s in l.subjects])\n",
    "                except IndexError:\n",
    "                    # if there is an IndexError, it means that the choice() method was applied on an empty list\n",
    "                    # therefore there are no lecture halls available so the generating algorithm has to be restarted\n",
    "                    data, restarts = RandomRestartHillClimbing.generate_initial_state_restart(data, restarts)\n",
    "                    break\n",
    "\n",
    "                # Choose a random slot\n",
    "                try:\n",
    "                    slot = rd.choice([slot for slot in slots\\\n",
    "                        if slot.is_available() and slot.matches_requirements(l, slots)])\n",
    "                except IndexError:\n",
    "                    # if there is an IndexError, it means that the choice() method was applied on an empty list\n",
    "                    # therefore there are no slots available so the generating algorithm has to be restarted\n",
    "                    data, restarts = RandomRestartHillClimbing.generate_initial_state_restart(data, restarts)\n",
    "                    break\n",
    "                \n",
    "                # Choose a random teacher\n",
    "                try:\n",
    "                    t = rd.choice(RandomRestartHillClimbing.__filter_teachers_by_slot([t for t in data[\"teachers\"]\\\n",
    "                        if t.is_available() and t.is_specialized(s) and t.matches_requirements(slot, slots)], slot))\n",
    "                except IndexError:\n",
    "                    # if there is an IndexError, it means that the choice() method was applied on an empty list\n",
    "                    # therefore there are no teachers available so the generating algorithm has to be restarted\n",
    "                    data, restarts = RandomRestartHillClimbing.generate_initial_state_restart(data, restarts)\n",
    "                    break\n",
    "            \n",
    "                slot.update(s, t)\n",
    "                s.update(l)\n",
    "                t.update()\n",
    "        sys.stdout.write(f\"\\rRestarts: {restarts}\")\n",
    "        sys.stdout.flush()\n",
    "        print(\"\\nGenerating the initial state - DONE\")\n",
    "        return data\n",
    "    \n",
    "    def eval(timetable):\n",
    "        \"\"\"\n",
    "            This is the method used for evaluating the cost of the current state/timetable.\n",
    "            It is used in Hill Climbing algorithm for choosing the next state.\n",
    "            The cost consists in the number of constraints that are not breached.\n",
    "\n",
    "            Used primarily for:\n",
    "                if Eval(S') > Eval(S) return S, where S' is max(s for s in SUCC(S))\n",
    "        \"\"\"\n",
    "        cost = 0\n",
    "        slots = timetable[\"timetable\"].slots\n",
    "    \n",
    "        # Evaluate each slot in the timetable\n",
    "        for slot in slots:\n",
    "            # If the slot is not available, it means there are a teacher and a subject allocated for the slot\n",
    "            if not slot.is_available():\n",
    "                # Day constraint breach\n",
    "                if slot.day.name not in slot.teacher.constraints.prefferable_days:\n",
    "                    cost += 1\n",
    "                \n",
    "                # Interval constraint breach\n",
    "                slot_interval = get_interval_tuple(slot.interval.interval)\n",
    "                prefferable_intervals = [get_interval_tuple(interval, \"-\") for interval in slot.teacher.constraints.prefferable_intervals]\n",
    "                if RandomRestartHillClimbing.__interval_constraint_breach(slot_interval, prefferable_intervals):\n",
    "                    cost += 1\n",
    "\n",
    "        return cost\n",
    "    \n",
    "    def __generate_successor_slot_swaps(S, improvement, best_cost):\n",
    "        \"\"\"\n",
    "            Slot swaps focuses on swapping both slots - meaning the algorithm\n",
    "            moves the slot's teacher, subject and lecture hall to another slot\n",
    "            and vice versa.\n",
    "        \"\"\"\n",
    "        best_swap = None\n",
    "        slot_swaps = list(itertools.combinations(S[\"timetable\"].slots, 2))\n",
    "\n",
    "        # Keep the same variable/timetable to avoid deep copy and duplicating overhead\n",
    "        for s1, s2 in slot_swaps:\n",
    "            # Check if the swap will cause breaches among the hard constraints\n",
    "            if not s1.can_swap(s2, S):\n",
    "                continue\n",
    "\n",
    "            # Realize the swap\n",
    "            s1.swap(s2)\n",
    "\n",
    "            # If the new state's cost is better than the best cost, update the best swap\n",
    "            new_cost = RandomRestartHillClimbing.eval(S)\n",
    "            if new_cost < best_cost or (improvement and new_cost == best_cost):\n",
    "                best_swap = (s1, s2)\n",
    "                best_cost = new_cost\n",
    "\n",
    "            # Undo the swap to proceed with the next ones\n",
    "            s1.swap(s2)\n",
    "            RandomRestartHillClimbing.no_swaps += 1\n",
    "        \n",
    "        return best_cost, best_swap\n",
    "    \n",
    "    def __generate_successor_slot_move(S, improvement, best_cost):\n",
    "        \"\"\"\n",
    "            Slot move focuses just on moving a slot without swapping, just taking\n",
    "            it and moving somewhere else.\n",
    "        \"\"\"\n",
    "        best_move = None\n",
    "        slot_moves = list(itertools.product(S[\"timetable\"].slots, S[\"days\"], S[\"intervals\"]))\n",
    "\n",
    "        # Keep the same variable/timetable to avoid deep copy and duplicating overhead\n",
    "        for slot_move in slot_moves:\n",
    "            slot = slot_move[RandomRestartHillClimbing.SLOT]\n",
    "            prev_day, day = slot.day, slot_move[RandomRestartHillClimbing.DAY]\n",
    "            prev_interval, interval = slot.interval, slot_move[RandomRestartHillClimbing.INTERVAL]\n",
    "            searched_slot = [s for s in S[\"timetable\"].slots if s.day == day and s.interval == interval and s.lecture_hall == slot.lecture_hall][0]\n",
    "\n",
    "            # Check if the move will cause breaches among the hard constraints\n",
    "            if searched_slot == slot or not slot.can_move(day, interval, S) or not slot.subject_permissions(searched_slot):\n",
    "                continue\n",
    "\n",
    "            # Realize the move\n",
    "            slot.move(day, interval, searched_slot)\n",
    "\n",
    "            # If the new state's cost is better than the best cost, update the best swap\n",
    "            new_cost = RandomRestartHillClimbing.eval(S)\n",
    "            if new_cost < best_cost or (improvement and new_cost == best_cost):\n",
    "                best_move = slot_move\n",
    "                best_cost = new_cost\n",
    "\n",
    "            # Undo the move to proceed with the next ones\n",
    "            searched_slot.move(prev_day, prev_interval, slot)\n",
    "        \n",
    "        return best_cost, best_move\n",
    "\n",
    "    def __generate_successor_new_teacher(S, improvement, best_cost):\n",
    "        \"\"\"\n",
    "            Assign new teacher for a slot without breaching the hard constraints.\n",
    "        \"\"\"\n",
    "        best_assign = None\n",
    "        assignments = list(itertools.product(S[\"timetable\"].slots, S[\"teachers\"]))\n",
    "\n",
    "        # Keep the same variable/timetable to avoid deep copy and duplicating overhead\n",
    "        for assignment in assignments:\n",
    "            slot = assignment[RandomRestartHillClimbing.SLOT]\n",
    "            prev_teacher, teacher = slot.teacher, assignment[RandomRestartHillClimbing.TEACHER]\n",
    "\n",
    "            # Check if the move will cause breaches among the hard constraints\n",
    "            if not slot.can_assign_new_teacher(teacher, S):\n",
    "                continue\n",
    "\n",
    "            # Realize the assign\n",
    "            slot.assign_new_teacher(teacher)\n",
    "\n",
    "            # If the new state's cost is better than the best cost, update the best swap\n",
    "            new_cost = RandomRestartHillClimbing.eval(S)\n",
    "            if new_cost < best_cost or (improvement and new_cost == best_cost):\n",
    "                best_assign = assignment\n",
    "                best_cost = new_cost\n",
    "\n",
    "            # Undo the assign to proceed with the next ones\n",
    "            slot.assign_new_teacher(prev_teacher)\n",
    "        \n",
    "        return best_cost, best_assign\n",
    "\n",
    "    def __get_prefferable_slots(searched_slot, teacher, S):\n",
    "        slots = S[\"timetable\"].slots\n",
    "        prefferable_slots = []\n",
    "\n",
    "        for slot in slots:\n",
    "            if slot.is_available():\n",
    "                # Day constraint breach\n",
    "                if slot.day.name not in teacher.constraints.prefferable_days:\n",
    "                    continue\n",
    "                \n",
    "                # Interval constraint breach\n",
    "                slot_interval = get_interval_tuple(slot.interval.interval)\n",
    "                prefferable_intervals = [get_interval_tuple(interval, \"-\") for interval in teacher.constraints.prefferable_intervals]\n",
    "                if RandomRestartHillClimbing.__interval_constraint_breach(slot_interval, prefferable_intervals):\n",
    "                    continue\n",
    "\n",
    "                if searched_slot.can_move(slot.day, slot.interval, S) and searched_slot.subject_permissions(slot):\n",
    "                    prefferable_slots.append(slot)\n",
    "        return prefferable_slots\n",
    "\n",
    "    def __filter_soft_constraints_breaches(S):\n",
    "        \"\"\"\n",
    "            Focuses on making small changes in the timetable, changing just\n",
    "            some days or intervals for the teachers so the algorithm can\n",
    "            reduce the number of violated soft constraints more easily.\n",
    "        \"\"\"\n",
    "        slots = S[\"timetable\"].slots\n",
    "\n",
    "        # Choose the slots that have teachers with unwanted day or interval\n",
    "        searched_slots = []\n",
    "\n",
    "        for slot in slots:\n",
    "            # If the slot is not available, it means there are a teacher and a subject allocated for the slot\n",
    "            if not slot.is_available():\n",
    "                # Day constraint breach\n",
    "                if slot.day.name not in slot.teacher.constraints.prefferable_days:\n",
    "                    searched_slots.append(slot)\n",
    "                    continue\n",
    "                \n",
    "                # Interval constraint breach\n",
    "                slot_interval = get_interval_tuple(slot.interval.interval)\n",
    "                prefferable_intervals = [get_interval_tuple(interval, \"-\") for interval in slot.teacher.constraints.prefferable_intervals]\n",
    "                if RandomRestartHillClimbing.__interval_constraint_breach(slot_interval, prefferable_intervals):\n",
    "                    searched_slots.append(slot)\n",
    "\n",
    "        for slot in searched_slots:\n",
    "            prefferable_slots = RandomRestartHillClimbing.__get_prefferable_slots(slot, slot.teacher, S)\n",
    "\n",
    "            try:\n",
    "                # Choose a random prefferable slot and move it there\n",
    "                prefferable_slot = rd.choice(prefferable_slots)\n",
    "                slot.move(prefferable_slot.day, prefferable_slot.interval, prefferable_slot)\n",
    "            except IndexError:\n",
    "                # if there is an IndexError, it means that the choice() method was applied on an empty list\n",
    "                # therefore there are no prefferable slots available\n",
    "                continue\n",
    "        return S\n",
    "\n",
    "    def generate_successor(S, improvement):\n",
    "        \"\"\"\n",
    "            Generate all successors from the current timetable.\n",
    "            These successors are similar to the latter timetable,\n",
    "            as there is just a swap taking place, interchanging two slots\n",
    "            for example.\n",
    "            This approach is useful for reducing the number of constraints.\n",
    "            Choose the best one based on the eval() method.\n",
    "        \"\"\"\n",
    "        S = RandomRestartHillClimbing.__filter_soft_constraints_breaches(S)\n",
    "\n",
    "        best_change, data = None, None\n",
    "        best_cost = RandomRestartHillClimbing.eval(S)\n",
    "        strategies = {\n",
    "            RandomRestartHillClimbing.__generate_successor_slot_swaps: RandomRestartHillClimbing.SWAP,\n",
    "            RandomRestartHillClimbing.__generate_successor_slot_move: RandomRestartHillClimbing.MOVE,\n",
    "            RandomRestartHillClimbing.__generate_successor_new_teacher: RandomRestartHillClimbing.NEW_TEACHER,\n",
    "        }\n",
    "\n",
    "        for func, change in strategies.items():\n",
    "            new_best_cost, new_data = func(S, improvement, best_cost)\n",
    "            if new_best_cost < best_cost or (improvement and new_best_cost == best_cost and new_data is not None):\n",
    "                best_change = change\n",
    "                best_cost = new_best_cost\n",
    "                data = new_data\n",
    "\n",
    "        if best_change == RandomRestartHillClimbing.SWAP:\n",
    "            s1, s2 = data[0], data[1]\n",
    "            s1.swap(s2)\n",
    "            return S, False, best_cost\n",
    "        elif best_change == RandomRestartHillClimbing.MOVE:\n",
    "            s, day, interval = data[RandomRestartHillClimbing.SLOT], data[RandomRestartHillClimbing.DAY], data[RandomRestartHillClimbing.INTERVAL]\n",
    "            searched_slot = [slot for slot in S[\"timetable\"].slots if slot.day == day and slot.interval == interval and slot.lecture_hall == s.lecture_hall][0]\n",
    "            print(\"here\")\n",
    "            if not s.is_available():\n",
    "                print(\"slot\", s.teacher.name, s.subject.name)\n",
    "            if not searched_slot.is_available():\n",
    "                print(\"prefferable_slot\", searched_slot.teacher.name, searched_slot.subject.name)\n",
    "          \n",
    "            s.move(day, interval, searched_slot)\n",
    "            if not s.is_available():\n",
    "                print(\"slot\", s.teacher.name, s.subject.name)\n",
    "            if not searched_slot.is_available():\n",
    "                print(\"prefferable_slot\", searched_slot.teacher.name, searched_slot.subject.name)\n",
    "            return S, False, best_cost\n",
    "        elif best_change == RandomRestartHillClimbing.NEW_TEACHER:\n",
    "            s, teacher = data[RandomRestartHillClimbing.SLOT], data[RandomRestartHillClimbing.TEACHER]\n",
    "            s.assign_new_teacher(teacher)\n",
    "            return S, False, best_cost\n",
    "        else:\n",
    "            # No better state found, should stop\n",
    "            return S, True, best_cost"
   ]
  },
  {
   "cell_type": "code",
   "execution_count": 531,
   "metadata": {},
   "outputs": [],
   "source": [
    "def random_restart_hill_climbing(file_path, improvement=False, improvement_limit=10):\n",
    "    \"\"\"\n",
    "        improvement parameter is used for continuing the search over Eval(S') = Eval(S)\n",
    "    \"\"\"\n",
    "    progress = tqdm(range(40), desc=\"Random Restarts\")\n",
    "    iteration = 0\n",
    "    best_cost = -1\n",
    "    best_cost_overall = 1000\n",
    "    saved_timetable = None\n",
    "    initial_improvement_limit = improvement_limit\n",
    "    # As in the course slides - aprox. 100 lateral moves for improvement\n",
    "    for i in progress:\n",
    "        iteration = i\n",
    "\n",
    "        # Generate the initial state (always read and process data to avoid keeping unnecessary data in memory)\n",
    "        S = RandomRestartHillClimbing.generate_initial_state(process_data(utils.read_yaml_file(file_path)))\n",
    "    \n",
    "        # Generate the best successor. If the best one is no better than the current state, it should stop.\n",
    "        stop = False\n",
    "        prev_best_cost = -1\n",
    "        while not stop:\n",
    "            S, stop, best_cost = RandomRestartHillClimbing.generate_successor(S, improvement)\n",
    "\n",
    "            if improvement and prev_best_cost == best_cost:\n",
    "                improvement_limit -= 1\n",
    "                if improvement_limit <= 0:\n",
    "                    break\n",
    "            if prev_best_cost != best_cost:\n",
    "                improvement_limit = initial_improvement_limit\n",
    "            prev_best_cost = best_cost\n",
    "\n",
    "            if best_cost < best_cost_overall:\n",
    "                saved_timetable = save_timetable(S, file_path, save_to_file=False, data_processed=False)\n",
    "                best_cost_overall = best_cost \n",
    "                \n",
    "        print(\"Best cost found!\", best_cost)\n",
    "            \n",
    "        if best_cost == 0:\n",
    "            save_timetable(S, file_path, save_to_file=True, data_processed=False)\n",
    "            progress.update(100 - progress.n) \n",
    "            break\n",
    "\n",
    "    if best_cost_overall != 0:\n",
    "        save_timetable(saved_timetable, file_path, save_to_file=True, data_processed=True)\n",
    "    RandomRestartHillClimbing.restart_random_restart_hill_climbing()\n",
    "    return iteration, best_cost\n",
    "    "
   ]
  },
  {
   "cell_type": "markdown",
   "metadata": {},
   "source": [
    "Run the algorithm for \"dummy.yaml\""
   ]
  },
  {
   "cell_type": "code",
   "execution_count": 532,
   "metadata": {},
   "outputs": [
    {
     "name": "stderr",
     "output_type": "stream",
     "text": [
      "Random Restarts:   0%|          | 0/40 [00:00<?, ?it/s]"
     ]
    },
    {
     "name": "stdout",
     "output_type": "stream",
     "text": [
      "\n",
      "Starting to generate the initial state...\n",
      "Restarts: 0"
     ]
    },
    {
     "name": "stderr",
     "output_type": "stream",
     "text": [
      "Random Restarts:   0%|          | 0/40 [00:00<?, ?it/s]"
     ]
    },
    {
     "name": "stdout",
     "output_type": "stream",
     "text": [
      "\n",
      "Generating the initial state - DONE\n",
      "Best cost found! 0\n"
     ]
    },
    {
     "name": "stderr",
     "output_type": "stream",
     "text": [
      "\n"
     ]
    },
    {
     "data": {
      "text/plain": [
       "(0, 0)"
      ]
     },
     "execution_count": 532,
     "metadata": {},
     "output_type": "execute_result"
    }
   ],
   "source": [
    "random_restart_hill_climbing(\"inputs/dummy.yaml\", improvement=False, improvement_limit=50)"
   ]
  },
  {
   "cell_type": "markdown",
   "metadata": {},
   "source": [
    "Run the algorithm for \"orar_mic_exact.yaml\""
   ]
  },
  {
   "cell_type": "code",
   "execution_count": 533,
   "metadata": {},
   "outputs": [
    {
     "name": "stderr",
     "output_type": "stream",
     "text": [
      "Random Restarts:   0%|          | 0/40 [00:00<?, ?it/s]"
     ]
    },
    {
     "name": "stdout",
     "output_type": "stream",
     "text": [
      "\n",
      "Starting to generate the initial state...\n",
      "Restarts: 0\n",
      "Generating the initial state - DONE\n"
     ]
    },
    {
     "name": "stderr",
     "output_type": "stream",
     "text": [
      "Random Restarts: 100it [00:00, 460.96it/s]             "
     ]
    },
    {
     "name": "stdout",
     "output_type": "stream",
     "text": [
      "Best cost found! 0\n"
     ]
    },
    {
     "name": "stderr",
     "output_type": "stream",
     "text": [
      "Random Restarts:   0%|          | 0/40 [00:00<?, ?it/s]\n"
     ]
    },
    {
     "data": {
      "text/plain": [
       "(0, 0)"
      ]
     },
     "execution_count": 533,
     "metadata": {},
     "output_type": "execute_result"
    }
   ],
   "source": [
    "random_restart_hill_climbing(\"inputs/orar_mic_exact.yaml\", improvement=False, improvement_limit=20)"
   ]
  },
  {
   "cell_type": "markdown",
   "metadata": {},
   "source": [
    "Run the algorithm for \"orar_mediu_relaxat.yaml\""
   ]
  },
  {
   "cell_type": "code",
   "execution_count": 534,
   "metadata": {},
   "outputs": [
    {
     "name": "stderr",
     "output_type": "stream",
     "text": [
      "Random Restarts:   0%|          | 0/40 [00:00<?, ?it/s]"
     ]
    },
    {
     "name": "stdout",
     "output_type": "stream",
     "text": [
      "\n",
      "Starting to generate the initial state...\n",
      "Restarts: 0\n",
      "Generating the initial state - DONE\n"
     ]
    },
    {
     "name": "stderr",
     "output_type": "stream",
     "text": [
      "Random Restarts:   0%|          | 0/40 [00:03<?, ?it/s]"
     ]
    },
    {
     "name": "stdout",
     "output_type": "stream",
     "text": [
      "Best cost found! 0\n"
     ]
    },
    {
     "name": "stderr",
     "output_type": "stream",
     "text": [
      "\n"
     ]
    },
    {
     "data": {
      "text/plain": [
       "(0, 0)"
      ]
     },
     "execution_count": 534,
     "metadata": {},
     "output_type": "execute_result"
    }
   ],
   "source": [
    "random_restart_hill_climbing(\"inputs/orar_mediu_relaxat.yaml\", improvement=True, improvement_limit=5)"
   ]
  },
  {
   "cell_type": "markdown",
   "metadata": {},
   "source": [
    "Run the algorithm for \"orar_constrans_incalcat.yaml\""
   ]
  },
  {
   "cell_type": "code",
   "execution_count": 535,
   "metadata": {},
   "outputs": [
    {
     "name": "stderr",
     "output_type": "stream",
     "text": [
      "Random Restarts:   0%|          | 0/40 [00:00<?, ?it/s]"
     ]
    },
    {
     "name": "stdout",
     "output_type": "stream",
     "text": [
      "\n",
      "Starting to generate the initial state...\n",
      "Restarts: 31\n",
      "Generating the initial state - DONE\n"
     ]
    },
    {
     "name": "stderr",
     "output_type": "stream",
     "text": [
      "Random Restarts:   2%|▎         | 1/40 [00:01<01:15,  1.94s/it]"
     ]
    },
    {
     "name": "stdout",
     "output_type": "stream",
     "text": [
      "Best cost found! 5\n",
      "\n",
      "Starting to generate the initial state...\n",
      "Restarts: 0\n",
      "Generating the initial state - DONE\n"
     ]
    },
    {
     "name": "stderr",
     "output_type": "stream",
     "text": [
      "Random Restarts:   5%|▌         | 2/40 [00:05<01:51,  2.93s/it]"
     ]
    },
    {
     "name": "stdout",
     "output_type": "stream",
     "text": [
      "Best cost found! 2\n",
      "\n",
      "Starting to generate the initial state...\n",
      "Restarts: 1\n",
      "Generating the initial state - DONE\n"
     ]
    },
    {
     "name": "stderr",
     "output_type": "stream",
     "text": [
      "Random Restarts:   8%|▊         | 3/40 [00:07<01:33,  2.52s/it]"
     ]
    },
    {
     "name": "stdout",
     "output_type": "stream",
     "text": [
      "Best cost found! 6\n",
      "\n",
      "Starting to generate the initial state...\n",
      "Restarts: 6\n",
      "Generating the initial state - DONE\n"
     ]
    },
    {
     "name": "stderr",
     "output_type": "stream",
     "text": [
      "Random Restarts:  10%|█         | 4/40 [00:10<01:41,  2.81s/it]"
     ]
    },
    {
     "name": "stdout",
     "output_type": "stream",
     "text": [
      "Best cost found! 4\n",
      "\n",
      "Starting to generate the initial state...\n",
      "Restarts: 1\n",
      "Generating the initial state - DONE\n"
     ]
    },
    {
     "name": "stderr",
     "output_type": "stream",
     "text": [
      "Random Restarts:  12%|█▎        | 5/40 [00:12<01:26,  2.47s/it]"
     ]
    },
    {
     "name": "stdout",
     "output_type": "stream",
     "text": [
      "Best cost found! 7\n",
      "\n",
      "Starting to generate the initial state...\n",
      "Restarts: 2\n",
      "Generating the initial state - DONE\n"
     ]
    },
    {
     "name": "stderr",
     "output_type": "stream",
     "text": [
      "Random Restarts:  15%|█▌        | 6/40 [00:15<01:27,  2.58s/it]"
     ]
    },
    {
     "name": "stdout",
     "output_type": "stream",
     "text": [
      "Best cost found! 7\n",
      "\n",
      "Starting to generate the initial state...\n",
      "Restarts: 6\n",
      "Generating the initial state - DONE\n"
     ]
    },
    {
     "name": "stderr",
     "output_type": "stream",
     "text": [
      "Random Restarts:  18%|█▊        | 7/40 [00:19<01:42,  3.09s/it]"
     ]
    },
    {
     "name": "stdout",
     "output_type": "stream",
     "text": [
      "Best cost found! 5\n",
      "\n",
      "Starting to generate the initial state...\n",
      "Restarts: 3\n",
      "Generating the initial state - DONE\n"
     ]
    },
    {
     "name": "stderr",
     "output_type": "stream",
     "text": [
      "Random Restarts:  20%|██        | 8/40 [00:22<01:36,  3.03s/it]"
     ]
    },
    {
     "name": "stdout",
     "output_type": "stream",
     "text": [
      "Best cost found! 7\n",
      "\n",
      "Starting to generate the initial state...\n",
      "Restarts: 10\n",
      "Generating the initial state - DONE\n"
     ]
    },
    {
     "name": "stderr",
     "output_type": "stream",
     "text": [
      "Random Restarts:  22%|██▎       | 9/40 [00:24<01:22,  2.68s/it]"
     ]
    },
    {
     "name": "stdout",
     "output_type": "stream",
     "text": [
      "Best cost found! 4\n",
      "\n",
      "Starting to generate the initial state...\n",
      "Restarts: 0\n",
      "Generating the initial state - DONE\n"
     ]
    },
    {
     "name": "stderr",
     "output_type": "stream",
     "text": [
      "Random Restarts:  25%|██▌       | 10/40 [00:27<01:20,  2.68s/it]"
     ]
    },
    {
     "name": "stdout",
     "output_type": "stream",
     "text": [
      "Best cost found! 5\n",
      "\n",
      "Starting to generate the initial state...\n",
      "Restarts: 7\n",
      "Generating the initial state - DONE\n",
      "here\n",
      "slot Cristina Popescu PM\n",
      "prefferable_slot Cristina Popescu PM\n"
     ]
    },
    {
     "name": "stderr",
     "output_type": "stream",
     "text": [
      "Random Restarts:  28%|██▊       | 11/40 [00:29<01:16,  2.65s/it]"
     ]
    },
    {
     "name": "stdout",
     "output_type": "stream",
     "text": [
      "Best cost found! 6\n",
      "\n",
      "Starting to generate the initial state...\n",
      "Restarts: 6\n",
      "Generating the initial state - DONE\n",
      "here\n",
      "slot Cristian Andronescu DS\n",
      "prefferable_slot Cristian Andronescu DS\n"
     ]
    },
    {
     "name": "stderr",
     "output_type": "stream",
     "text": [
      "Random Restarts:  30%|███       | 12/40 [00:31<01:10,  2.51s/it]"
     ]
    },
    {
     "name": "stdout",
     "output_type": "stream",
     "text": [
      "Best cost found! 8\n",
      "\n",
      "Starting to generate the initial state...\n",
      "Restarts: 13\n",
      "Generating the initial state - DONE\n"
     ]
    },
    {
     "name": "stderr",
     "output_type": "stream",
     "text": [
      "Random Restarts:  32%|███▎      | 13/40 [00:34<01:09,  2.56s/it]"
     ]
    },
    {
     "name": "stdout",
     "output_type": "stream",
     "text": [
      "Best cost found! 6\n",
      "\n",
      "Starting to generate the initial state...\n",
      "Restarts: 5\n",
      "Generating the initial state - DONE\n"
     ]
    },
    {
     "name": "stderr",
     "output_type": "stream",
     "text": [
      "Random Restarts:  35%|███▌      | 14/40 [00:36<01:01,  2.36s/it]"
     ]
    },
    {
     "name": "stdout",
     "output_type": "stream",
     "text": [
      "Best cost found! 7\n",
      "\n",
      "Starting to generate the initial state...\n",
      "Restarts: 1\n",
      "Generating the initial state - DONE\n"
     ]
    },
    {
     "name": "stderr",
     "output_type": "stream",
     "text": [
      "Random Restarts:  38%|███▊      | 15/40 [00:39<01:02,  2.51s/it]"
     ]
    },
    {
     "name": "stdout",
     "output_type": "stream",
     "text": [
      "Best cost found! 7\n",
      "\n",
      "Starting to generate the initial state...\n",
      "Restarts: 1\n",
      "Generating the initial state - DONE\n"
     ]
    },
    {
     "name": "stderr",
     "output_type": "stream",
     "text": [
      "Random Restarts:  40%|████      | 16/40 [00:41<00:55,  2.31s/it]"
     ]
    },
    {
     "name": "stdout",
     "output_type": "stream",
     "text": [
      "Best cost found! 6\n",
      "\n",
      "Starting to generate the initial state...\n",
      "Restarts: 4\n",
      "Generating the initial state - DONE\n"
     ]
    },
    {
     "name": "stderr",
     "output_type": "stream",
     "text": [
      "Random Restarts:  42%|████▎     | 17/40 [00:42<00:48,  2.10s/it]"
     ]
    },
    {
     "name": "stdout",
     "output_type": "stream",
     "text": [
      "Best cost found! 7\n",
      "\n",
      "Starting to generate the initial state...\n",
      "Restarts: 1\n",
      "Generating the initial state - DONE\n"
     ]
    },
    {
     "name": "stderr",
     "output_type": "stream",
     "text": [
      "Random Restarts:  45%|████▌     | 18/40 [00:44<00:44,  2.02s/it]"
     ]
    },
    {
     "name": "stdout",
     "output_type": "stream",
     "text": [
      "Best cost found! 6\n",
      "\n",
      "Starting to generate the initial state...\n",
      "Restarts: 7\n",
      "Generating the initial state - DONE\n"
     ]
    },
    {
     "name": "stderr",
     "output_type": "stream",
     "text": [
      "Random Restarts:  48%|████▊     | 19/40 [00:46<00:40,  1.91s/it]"
     ]
    },
    {
     "name": "stdout",
     "output_type": "stream",
     "text": [
      "Best cost found! 7\n",
      "\n",
      "Starting to generate the initial state...\n",
      "Restarts: 2\n",
      "Generating the initial state - DONE\n"
     ]
    },
    {
     "name": "stderr",
     "output_type": "stream",
     "text": [
      "Random Restarts:  50%|█████     | 20/40 [00:48<00:38,  1.92s/it]"
     ]
    },
    {
     "name": "stdout",
     "output_type": "stream",
     "text": [
      "Best cost found! 7\n",
      "\n",
      "Starting to generate the initial state...\n",
      "Restarts: 2\n",
      "Generating the initial state - DONE\n"
     ]
    },
    {
     "name": "stderr",
     "output_type": "stream",
     "text": [
      "Random Restarts:  52%|█████▎    | 21/40 [00:51<00:43,  2.30s/it]"
     ]
    },
    {
     "name": "stdout",
     "output_type": "stream",
     "text": [
      "Best cost found! 6\n",
      "\n",
      "Starting to generate the initial state...\n",
      "Restarts: 1\n",
      "Generating the initial state - DONE\n"
     ]
    },
    {
     "name": "stderr",
     "output_type": "stream",
     "text": [
      "Random Restarts:  55%|█████▌    | 22/40 [00:53<00:38,  2.15s/it]"
     ]
    },
    {
     "name": "stdout",
     "output_type": "stream",
     "text": [
      "Best cost found! 8\n",
      "\n",
      "Starting to generate the initial state...\n",
      "Restarts: 11\n",
      "Generating the initial state - DONE\n"
     ]
    },
    {
     "name": "stderr",
     "output_type": "stream",
     "text": [
      "Random Restarts:  57%|█████▊    | 23/40 [00:55<00:35,  2.09s/it]"
     ]
    },
    {
     "name": "stdout",
     "output_type": "stream",
     "text": [
      "Best cost found! 8\n",
      "\n",
      "Starting to generate the initial state...\n",
      "Restarts: 4\n",
      "Generating the initial state - DONE\n"
     ]
    },
    {
     "name": "stderr",
     "output_type": "stream",
     "text": [
      "Random Restarts:  60%|██████    | 24/40 [00:56<00:31,  1.98s/it]"
     ]
    },
    {
     "name": "stdout",
     "output_type": "stream",
     "text": [
      "Best cost found! 6\n",
      "\n",
      "Starting to generate the initial state...\n",
      "Restarts: 6\n",
      "Generating the initial state - DONE\n"
     ]
    },
    {
     "name": "stderr",
     "output_type": "stream",
     "text": [
      "Random Restarts:  62%|██████▎   | 25/40 [00:58<00:29,  1.95s/it]"
     ]
    },
    {
     "name": "stdout",
     "output_type": "stream",
     "text": [
      "Best cost found! 7\n",
      "\n",
      "Starting to generate the initial state...\n",
      "Restarts: 3\n",
      "Generating the initial state - DONE\n"
     ]
    },
    {
     "name": "stderr",
     "output_type": "stream",
     "text": [
      "Random Restarts:  65%|██████▌   | 26/40 [01:00<00:26,  1.92s/it]"
     ]
    },
    {
     "name": "stdout",
     "output_type": "stream",
     "text": [
      "Best cost found! 5\n",
      "\n",
      "Starting to generate the initial state...\n",
      "Restarts: 6\n",
      "Generating the initial state - DONE\n"
     ]
    },
    {
     "name": "stderr",
     "output_type": "stream",
     "text": [
      "Random Restarts:  68%|██████▊   | 27/40 [01:03<00:29,  2.23s/it]"
     ]
    },
    {
     "name": "stdout",
     "output_type": "stream",
     "text": [
      "Best cost found! 7\n",
      "\n",
      "Starting to generate the initial state...\n",
      "Restarts: 0\n",
      "Generating the initial state - DONE\n"
     ]
    },
    {
     "name": "stderr",
     "output_type": "stream",
     "text": [
      "Random Restarts:  70%|███████   | 28/40 [01:07<00:34,  2.86s/it]"
     ]
    },
    {
     "name": "stdout",
     "output_type": "stream",
     "text": [
      "Best cost found! 4\n",
      "\n",
      "Starting to generate the initial state...\n",
      "Restarts: 0\n",
      "Generating the initial state - DONE\n"
     ]
    },
    {
     "name": "stderr",
     "output_type": "stream",
     "text": [
      "Random Restarts:  72%|███████▎  | 29/40 [01:10<00:30,  2.78s/it]"
     ]
    },
    {
     "name": "stdout",
     "output_type": "stream",
     "text": [
      "Best cost found! 8\n",
      "\n",
      "Starting to generate the initial state...\n",
      "Restarts: 1\n",
      "Generating the initial state - DONE\n",
      "here\n",
      "slot Cristian Popa DS\n",
      "prefferable_slot Cristian Popa DS\n"
     ]
    },
    {
     "name": "stderr",
     "output_type": "stream",
     "text": [
      "Random Restarts:  75%|███████▌  | 30/40 [01:12<00:26,  2.67s/it]"
     ]
    },
    {
     "name": "stdout",
     "output_type": "stream",
     "text": [
      "Best cost found! 5\n",
      "\n",
      "Starting to generate the initial state...\n",
      "Restarts: 2\n",
      "Generating the initial state - DONE\n"
     ]
    },
    {
     "name": "stderr",
     "output_type": "stream",
     "text": [
      "Random Restarts:  78%|███████▊  | 31/40 [01:14<00:21,  2.39s/it]"
     ]
    },
    {
     "name": "stdout",
     "output_type": "stream",
     "text": [
      "Best cost found! 5\n",
      "\n",
      "Starting to generate the initial state...\n",
      "Restarts: 7\n",
      "Generating the initial state - DONE\n"
     ]
    },
    {
     "name": "stderr",
     "output_type": "stream",
     "text": [
      "Random Restarts:  80%|████████  | 32/40 [01:17<00:20,  2.61s/it]"
     ]
    },
    {
     "name": "stdout",
     "output_type": "stream",
     "text": [
      "Best cost found! 3\n",
      "\n",
      "Starting to generate the initial state...\n",
      "Restarts: 2\n",
      "Generating the initial state - DONE\n"
     ]
    },
    {
     "name": "stderr",
     "output_type": "stream",
     "text": [
      "Random Restarts:  82%|████████▎ | 33/40 [01:21<00:20,  2.92s/it]"
     ]
    },
    {
     "name": "stdout",
     "output_type": "stream",
     "text": [
      "Best cost found! 8\n",
      "\n",
      "Starting to generate the initial state...\n",
      "Restarts: 3\n",
      "Generating the initial state - DONE\n",
      "here\n",
      "slot Cristian Andronescu DS\n",
      "prefferable_slot Cristian Andronescu DS\n"
     ]
    },
    {
     "name": "stderr",
     "output_type": "stream",
     "text": [
      "Random Restarts:  85%|████████▌ | 34/40 [01:24<00:17,  2.94s/it]"
     ]
    },
    {
     "name": "stdout",
     "output_type": "stream",
     "text": [
      "Best cost found! 3\n",
      "\n",
      "Starting to generate the initial state...\n",
      "Restarts: 3\n",
      "Generating the initial state - DONE\n"
     ]
    },
    {
     "name": "stderr",
     "output_type": "stream",
     "text": [
      "Random Restarts:  88%|████████▊ | 35/40 [01:26<00:13,  2.63s/it]"
     ]
    },
    {
     "name": "stdout",
     "output_type": "stream",
     "text": [
      "Best cost found! 6\n",
      "\n",
      "Starting to generate the initial state...\n",
      "Restarts: 10\n",
      "Generating the initial state - DONE\n"
     ]
    },
    {
     "name": "stderr",
     "output_type": "stream",
     "text": [
      "Random Restarts:  90%|█████████ | 36/40 [01:28<00:09,  2.45s/it]"
     ]
    },
    {
     "name": "stdout",
     "output_type": "stream",
     "text": [
      "Best cost found! 6\n",
      "\n",
      "Starting to generate the initial state...\n",
      "Restarts: 0\n",
      "Generating the initial state - DONE\n"
     ]
    },
    {
     "name": "stderr",
     "output_type": "stream",
     "text": [
      "Random Restarts:  92%|█████████▎| 37/40 [01:30<00:07,  2.48s/it]"
     ]
    },
    {
     "name": "stdout",
     "output_type": "stream",
     "text": [
      "Best cost found! 5\n",
      "\n",
      "Starting to generate the initial state...\n",
      "Restarts: 2\n",
      "Generating the initial state - DONE\n"
     ]
    },
    {
     "name": "stderr",
     "output_type": "stream",
     "text": [
      "Random Restarts:  95%|█████████▌| 38/40 [01:33<00:04,  2.40s/it]"
     ]
    },
    {
     "name": "stdout",
     "output_type": "stream",
     "text": [
      "Best cost found! 10\n",
      "\n",
      "Starting to generate the initial state...\n",
      "Restarts: 5\n",
      "Generating the initial state - DONE\n"
     ]
    },
    {
     "name": "stderr",
     "output_type": "stream",
     "text": [
      "Random Restarts:  98%|█████████▊| 39/40 [01:35<00:02,  2.39s/it]"
     ]
    },
    {
     "name": "stdout",
     "output_type": "stream",
     "text": [
      "Best cost found! 9\n",
      "\n",
      "Starting to generate the initial state...\n",
      "Restarts: 16\n",
      "Generating the initial state - DONE\n"
     ]
    },
    {
     "name": "stderr",
     "output_type": "stream",
     "text": [
      "Random Restarts: 100%|██████████| 40/40 [01:37<00:00,  2.44s/it]"
     ]
    },
    {
     "name": "stdout",
     "output_type": "stream",
     "text": [
      "Best cost found! 5\n"
     ]
    },
    {
     "name": "stderr",
     "output_type": "stream",
     "text": [
      "\n"
     ]
    },
    {
     "data": {
      "text/plain": [
       "(39, 5)"
      ]
     },
     "execution_count": 535,
     "metadata": {},
     "output_type": "execute_result"
    }
   ],
   "source": [
    "random_restart_hill_climbing(\"inputs/orar_constrans_incalcat.yaml\", improvement=True, improvement_limit=5)"
   ]
  },
  {
   "cell_type": "markdown",
   "metadata": {},
   "source": [
    "Run the algorithm for \"orar_mare_relaxat.yaml\""
   ]
  },
  {
   "cell_type": "code",
   "execution_count": 536,
   "metadata": {},
   "outputs": [
    {
     "name": "stderr",
     "output_type": "stream",
     "text": [
      "Random Restarts:   0%|          | 0/40 [00:00<?, ?it/s]"
     ]
    },
    {
     "name": "stdout",
     "output_type": "stream",
     "text": [
      "\n",
      "Starting to generate the initial state...\n",
      "Restarts: 0\n",
      "Generating the initial state - DONE\n"
     ]
    },
    {
     "name": "stderr",
     "output_type": "stream",
     "text": [
      "Random Restarts:   2%|▎         | 1/40 [00:03<02:01,  3.12s/it]"
     ]
    },
    {
     "name": "stdout",
     "output_type": "stream",
     "text": [
      "Best cost found! 2\n",
      "\n",
      "Starting to generate the initial state...\n",
      "Restarts: 0\n",
      "Generating the initial state - DONE\n"
     ]
    },
    {
     "name": "stderr",
     "output_type": "stream",
     "text": [
      "Random Restarts:   5%|▌         | 2/40 [00:04<01:28,  2.32s/it]"
     ]
    },
    {
     "name": "stdout",
     "output_type": "stream",
     "text": [
      "Best cost found! 1\n",
      "\n",
      "Starting to generate the initial state...\n",
      "Restarts: 0\n",
      "Generating the initial state - DONE\n",
      "here\n",
      "slot Ion Anton PL\n",
      "prefferable_slot Ion Anton PL\n"
     ]
    },
    {
     "name": "stderr",
     "output_type": "stream",
     "text": [
      "Random Restarts:   8%|▊         | 3/40 [00:06<01:19,  2.14s/it]"
     ]
    },
    {
     "name": "stdout",
     "output_type": "stream",
     "text": [
      "Best cost found! 2\n",
      "\n",
      "Starting to generate the initial state...\n",
      "Restarts: 0\n",
      "Generating the initial state - DONE\n"
     ]
    },
    {
     "name": "stderr",
     "output_type": "stream",
     "text": [
      "Random Restarts:  10%|█         | 4/40 [00:08<01:14,  2.06s/it]"
     ]
    },
    {
     "name": "stdout",
     "output_type": "stream",
     "text": [
      "Best cost found! 2\n",
      "\n",
      "Starting to generate the initial state...\n",
      "Restarts: 0\n",
      "Generating the initial state - DONE\n"
     ]
    },
    {
     "name": "stderr",
     "output_type": "stream",
     "text": [
      "Random Restarts:  12%|█▎        | 5/40 [00:10<01:11,  2.06s/it]"
     ]
    },
    {
     "name": "stdout",
     "output_type": "stream",
     "text": [
      "Best cost found! 2\n",
      "\n",
      "Starting to generate the initial state...\n",
      "Restarts: 0\n",
      "Generating the initial state - DONE\n"
     ]
    },
    {
     "name": "stderr",
     "output_type": "stream",
     "text": [
      "Random Restarts:  15%|█▌        | 6/40 [00:12<01:08,  2.03s/it]"
     ]
    },
    {
     "name": "stdout",
     "output_type": "stream",
     "text": [
      "Best cost found! 4\n",
      "\n",
      "Starting to generate the initial state...\n",
      "Restarts: 0\n",
      "Generating the initial state - DONE\n"
     ]
    },
    {
     "name": "stderr",
     "output_type": "stream",
     "text": [
      "Random Restarts:  18%|█▊        | 7/40 [00:13<00:57,  1.74s/it]"
     ]
    },
    {
     "name": "stdout",
     "output_type": "stream",
     "text": [
      "Best cost found! 4\n",
      "\n",
      "Starting to generate the initial state...\n",
      "Restarts: 0\n",
      "Generating the initial state - DONE\n"
     ]
    },
    {
     "name": "stderr",
     "output_type": "stream",
     "text": [
      "Random Restarts:  20%|██        | 8/40 [00:15<00:58,  1.83s/it]"
     ]
    },
    {
     "name": "stdout",
     "output_type": "stream",
     "text": [
      "Best cost found! 4\n",
      "\n",
      "Starting to generate the initial state...\n",
      "Restarts: 0\n",
      "Generating the initial state - DONE\n"
     ]
    },
    {
     "name": "stderr",
     "output_type": "stream",
     "text": [
      "Random Restarts:  22%|██▎       | 9/40 [00:16<00:48,  1.55s/it]"
     ]
    },
    {
     "name": "stdout",
     "output_type": "stream",
     "text": [
      "Best cost found! 4\n",
      "\n",
      "Starting to generate the initial state...\n",
      "Restarts: 0\n",
      "Generating the initial state - DONE\n"
     ]
    },
    {
     "name": "stderr",
     "output_type": "stream",
     "text": [
      "Random Restarts:  25%|██▌       | 10/40 [00:20<01:09,  2.32s/it]"
     ]
    },
    {
     "name": "stdout",
     "output_type": "stream",
     "text": [
      "Best cost found! 2\n",
      "\n",
      "Starting to generate the initial state...\n",
      "Restarts: 0\n",
      "Generating the initial state - DONE\n"
     ]
    },
    {
     "name": "stderr",
     "output_type": "stream",
     "text": [
      "Random Restarts:  28%|██▊       | 11/40 [00:21<00:55,  1.90s/it]"
     ]
    },
    {
     "name": "stdout",
     "output_type": "stream",
     "text": [
      "Best cost found! 1\n",
      "\n",
      "Starting to generate the initial state...\n",
      "Restarts: 0\n",
      "Generating the initial state - DONE\n"
     ]
    },
    {
     "name": "stderr",
     "output_type": "stream",
     "text": [
      "Random Restarts:  30%|███       | 12/40 [00:23<00:52,  1.89s/it]"
     ]
    },
    {
     "name": "stdout",
     "output_type": "stream",
     "text": [
      "Best cost found! 2\n",
      "\n",
      "Starting to generate the initial state...\n",
      "Restarts: 0\n",
      "Generating the initial state - DONE\n"
     ]
    },
    {
     "name": "stderr",
     "output_type": "stream",
     "text": [
      "Random Restarts:  32%|███▎      | 13/40 [00:25<00:50,  1.86s/it]"
     ]
    },
    {
     "name": "stdout",
     "output_type": "stream",
     "text": [
      "Best cost found! 3\n",
      "\n",
      "Starting to generate the initial state...\n",
      "Restarts: 0\n",
      "Generating the initial state - DONE\n"
     ]
    },
    {
     "name": "stderr",
     "output_type": "stream",
     "text": [
      "Random Restarts:  35%|███▌      | 14/40 [00:26<00:41,  1.61s/it]"
     ]
    },
    {
     "name": "stdout",
     "output_type": "stream",
     "text": [
      "Best cost found! 2\n",
      "\n",
      "Starting to generate the initial state...\n",
      "Restarts: 0\n",
      "Generating the initial state - DONE\n"
     ]
    },
    {
     "name": "stderr",
     "output_type": "stream",
     "text": [
      "Random Restarts:  35%|███▌      | 14/40 [00:28<00:52,  2.03s/it]"
     ]
    },
    {
     "name": "stdout",
     "output_type": "stream",
     "text": [
      "Best cost found! 0\n"
     ]
    },
    {
     "name": "stderr",
     "output_type": "stream",
     "text": [
      "\n"
     ]
    },
    {
     "data": {
      "text/plain": [
       "(14, 0)"
      ]
     },
     "execution_count": 536,
     "metadata": {},
     "output_type": "execute_result"
    }
   ],
   "source": [
    "random_restart_hill_climbing(\"inputs/orar_mare_relaxat.yaml\")"
   ]
  },
  {
   "cell_type": "markdown",
   "metadata": {},
   "source": [
    "Run the algorithm for all files"
   ]
  },
  {
   "cell_type": "code",
   "execution_count": null,
   "metadata": {},
   "outputs": [],
   "source": [
    "def collect_data(file_path, runs=5, improvement=False):\n",
    "    results = np.zeros((runs, 2), dtype=int) # Array to store (iterations, best_cost)\n",
    "    averages = {}\n",
    "\n",
    "    for i in range(runs):\n",
    "        iterations, best_cost = random_restart_hill_climbing(file_path, improvement, improvement_limit=4)\n",
    "        if iterations not in averages:\n",
    "            averages[iterations] = [best_cost]\n",
    "        else:\n",
    "            averages[iterations].append(best_cost)\n",
    "        \n",
    "    averages = {k: int(np.mean(v)) for k, v in averages.items()}\n",
    "    return averages\n",
    "\n",
    "def plot_random_restart_hc(file_path):\n",
    "    results_without_improvement = collect_data(file_path, improvement=False)\n",
    "    results_with_improvement = collect_data(file_path, improvement=True)\n",
    "\n",
    "    fig, axs = plt.subplots(2, 1, figsize=(10, 10))\n",
    "    print(results_without_improvement)\n",
    "    print(results_with_improvement)\n",
    "    # Plot without improvement\n",
    "    axs[0].bar(results_without_improvement.values(), results_without_improvement.keys(), color='b', label='Iterations')\n",
    "    axs[0].set_title(f'{file_path} - Random Restart HC Without Improvement')\n",
    "    axs[0].set_xlabel('Best Cost')\n",
    "    axs[0].set_ylabel('Iterations')\n",
    "    axs[0].legend()\n",
    "\n",
    "    # Plot with improvement\n",
    "    axs[1].bar(results_with_improvement.values(), results_with_improvement.keys(), color='g', label='Iterations')\n",
    "    axs[1].set_title(f'{file_path} - Random Restart HC With Improvement')\n",
    "    axs[1].set_xlabel('Best Cost')\n",
    "    axs[1].set_ylabel('Iterations')\n",
    "    axs[1].legend()\n",
    "\n",
    "    plt.tight_layout()\n",
    "    plt.show()"
   ]
  },
  {
   "cell_type": "code",
   "execution_count": null,
   "metadata": {},
   "outputs": [],
   "source": [
    "# input_files = [\n",
    "#     \"inputs/dummy.yaml\",\n",
    "#     # \"inputs/orar_bonus_exact.yaml\",\n",
    "#     \"inputs/orar_constrans_incalcat.yaml\",\n",
    "#     \"inputs/orar_mare_relaxat.yaml\",\n",
    "#     \"inputs/orar_mediu_relaxat.yaml\",\n",
    "#     \"inputs/orar_mic_exact.yaml\",\n",
    "# ]\n",
    "\n",
    "# with contextlib.redirect_stdout(io.StringIO()):\n",
    "#     for input_file in input_files:\n",
    "#         plot_random_restart_hc(input_file)\n",
    "\n",
    "# for file in input_files:\n",
    "#     random_restart_hill_climbing(file)"
   ]
  }
 ],
 "metadata": {
  "kernelspec": {
   "display_name": "Python 3",
   "language": "python",
   "name": "python3"
  },
  "language_info": {
   "codemirror_mode": {
    "name": "ipython",
    "version": 3
   },
   "file_extension": ".py",
   "mimetype": "text/x-python",
   "name": "python",
   "nbconvert_exporter": "python",
   "pygments_lexer": "ipython3",
   "version": "3.9.13"
  }
 },
 "nbformat": 4,
 "nbformat_minor": 2
}

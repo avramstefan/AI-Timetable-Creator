{
 "cells": [
  {
   "cell_type": "markdown",
   "metadata": {},
   "source": [
    "\n",
    "Import the necessary modules"
   ]
  },
  {
   "cell_type": "code",
   "execution_count": 181,
   "metadata": {},
   "outputs": [],
   "source": [
    "import matplotlib.pyplot as plt\n",
    "import random as rd\n",
    "import numpy as np\n",
    "import contextlib\n",
    "import itertools\n",
    "import utils\n",
    "import time\n",
    "import sys\n",
    "import io\n",
    "\n",
    "from tqdm import tqdm\n",
    "from heapq import heappop, heappush\n",
    "from utils import pretty_print_timetable\n",
    "from check_constraints import check_mandatory_constraints"
   ]
  },
  {
   "cell_type": "code",
   "execution_count": null,
   "metadata": {},
   "outputs": [],
   "source": [
    "class Day:\n",
    "    def __init__(self, name):\n",
    "        self.name = name"
   ]
  },
  {
   "cell_type": "code",
   "execution_count": null,
   "metadata": {},
   "outputs": [],
   "source": [
    "class Interval:\n",
    "    def __init__(self, interval):\n",
    "        self.interval = interval"
   ]
  },
  {
   "cell_type": "code",
   "execution_count": null,
   "metadata": {},
   "outputs": [],
   "source": [
    "class Subject:\n",
    "    def __init__(self, name, capacity):\n",
    "        self.name = name\n",
    "        self.capacity = capacity\n",
    "        self.occupied = 0\n",
    "    \n",
    "    def is_covered(self):\n",
    "        return self.occupied >= self.capacity\n",
    "\n",
    "    def update(self, lecture_hall):\n",
    "        self.occupied += lecture_hall.capacity\n",
    "\n",
    "    def restart(self):\n",
    "        self.occupied = 0"
   ]
  },
  {
   "cell_type": "code",
   "execution_count": null,
   "metadata": {},
   "outputs": [],
   "source": [
    "class Constraints:\n",
    "    def __init__(self, constraints):\n",
    "        days = [\"Luni\", \"Marti\", \"Miercuri\", \"Joi\", \"Vineri\", \"Sambata\", \"Duminica\"]\n",
    "        self.prefferable_days = []\n",
    "        self.prefferable_intervals = []\n",
    "        self.c_pauses = []\n",
    "        \n",
    "        for c in constraints:\n",
    "            if c in days:\n",
    "                self.prefferable_days.append(c)\n",
    "            \n",
    "            if \"-\" in c and not \"!\" in c:\n",
    "                self.prefferable_intervals.append(c)\n",
    "\n",
    "            if \"Pauza\" in c:\n",
    "                self.c_pauses.append(c)"
   ]
  },
  {
   "cell_type": "code",
   "execution_count": null,
   "metadata": {},
   "outputs": [],
   "source": [
    "class Teacher:\n",
    "    def __init__(self, name, constraints, subjects):\n",
    "        self.name = name\n",
    "        self.num_intervals = 0\n",
    "        self.constraints = Constraints(constraints)\n",
    "        self.subjects = subjects\n",
    "\n",
    "    def is_available(self):\n",
    "        return self.num_intervals < 7\n",
    "\n",
    "    def is_specialized(self, s):\n",
    "        \"\"\"\n",
    "            Tells if the teacher may teach the subject s received as a parameter\n",
    "        \"\"\"\n",
    "        return s in self.subjects\n",
    "\n",
    "    def update(self):\n",
    "        self.num_intervals += 1\n",
    "\n",
    "    def restart(self):\n",
    "        self.num_intervals = 0\n",
    "        \n",
    "    def matches_requirements(self, searched_slot, slots):\n",
    "        return not any(slot.teacher == self for slot in [s for s in slots if s.interval == searched_slot.interval and s.day == searched_slot.day])\n"
   ]
  },
  {
   "cell_type": "code",
   "execution_count": null,
   "metadata": {},
   "outputs": [],
   "source": [
    "class LectureHall:\n",
    "    def __init__(self, name, capacity, subjects):\n",
    "        self.name = name\n",
    "        self.capacity = capacity\n",
    "        self.subjects = subjects"
   ]
  },
  {
   "cell_type": "code",
   "execution_count": null,
   "metadata": {},
   "outputs": [],
   "source": [
    "class Slot:\n",
    "    def __init__(self, day, interval, lecture_hall):\n",
    "        self.day = day\n",
    "        self.interval = interval\n",
    "        self.lecture_hall = lecture_hall\n",
    "\n",
    "        self.teacher = None\n",
    "        self.subject = None\n",
    "\n",
    "    def is_available(self):\n",
    "        return (self.subject is None) or (self.teacher is None)\n",
    "\n",
    "    def matches_requirements(self, lecture_hall, slots, teacher = None):\n",
    "        return self.lecture_hall.name == lecture_hall.name and (teacher is None or\\\n",
    "            not any(slot.teacher == teacher for slot in [s for s in slots if s.interval == self.interval and s.day == self.day]))\n",
    "\n",
    "    def update(self, subject, teacher):\n",
    "        self.subject = subject\n",
    "        self.teacher = teacher\n",
    "\n",
    "    def restart(self):\n",
    "        self.subject = None\n",
    "        self.teacher = None\n",
    "\n",
    "    def swap(self, other):\n",
    "        self.subject, other.subject = other.subject, self.subject\n",
    "        self.teacher, other.teacher = other.teacher, self.teacher\n",
    "\n",
    "    def can_swap(self, other, timetable):\n",
    "        def can_swap_helper(s1, s2, timetable):\n",
    "            if s2.teacher is None or s2.lecture_hall is None:\n",
    "                return True\n",
    "\n",
    "            # Take all the slots from the same day and intervals\n",
    "            same_interval_slots = [s for s in timetable[\"timetable\"].slots\\\n",
    "                if s.day == s1.day and s.interval == s1.interval and s != s1]\n",
    "\n",
    "            # Check if the s2 teacher has another class\n",
    "            teacher_cond = not any(s2.teacher == s.teacher for s in same_interval_slots)\n",
    "\n",
    "            # Check if the s2 lecture hall is used in that interval\n",
    "            lecture_hall_cond = not any(s2.lecture_hall == s.lecture_hall for s in same_interval_slots)\n",
    "\n",
    "            return teacher_cond and lecture_hall_cond\n",
    "        \n",
    "        return can_swap_helper(self, other, timetable) and can_swap_helper(other, self, timetable)\n"
   ]
  },
  {
   "cell_type": "code",
   "execution_count": null,
   "metadata": {},
   "outputs": [],
   "source": [
    "class Timetable:\n",
    "    def __init__(self, days, interval, lecture_halls):\n",
    "        self.slots = []\n",
    "        for d in days:\n",
    "            for i in interval:\n",
    "                for l in lecture_halls:\n",
    "                    self.slots.append(Slot(d, i, l))"
   ]
  },
  {
   "cell_type": "code",
   "execution_count": null,
   "metadata": {},
   "outputs": [],
   "source": [
    "def process_data(data):\n",
    "    # Initialize Days and Intervals\n",
    "    days = [Day(day_name) for day_name in data[\"Zile\"]]\n",
    "    intervals = [Interval(interval) for interval in data[\"Intervale\"]]\n",
    "\n",
    "    # Initialize subjects\n",
    "    subjects = [Subject(name, capacity) for name, capacity in data[\"Materii\"].items()]\n",
    "    \n",
    "    # Initialize lecture halls\n",
    "    lecture_halls = [LectureHall(name, details[\"Capacitate\"], [s for s in subjects if s.name in details[\"Materii\"]]) for name, details in data[\"Sali\"].items()]\n",
    "\n",
    "    # Create empty timetable\n",
    "    timetable = Timetable(days, intervals, lecture_halls)\n",
    "\n",
    "    # Initialize teachers\n",
    "    teachers = [Teacher(name, details[\"Constrangeri\"], [s for s in subjects if s.name in details[\"Materii\"]]) for name, details in data[\"Profesori\"].items()]\n",
    "    \n",
    "    return {\n",
    "        \"timetable\": timetable,\n",
    "        \"days\": days,\n",
    "        \"intervals\": intervals,\n",
    "        \"subjects\": subjects,\n",
    "        \"lecture_halls\": lecture_halls,\n",
    "        \"teachers\": teachers\n",
    "    }"
   ]
  },
  {
   "cell_type": "code",
   "execution_count": null,
   "metadata": {},
   "outputs": [],
   "source": [
    "def print_data(data):\n",
    "    print(\"Timetable Slots:\")\n",
    "    for slot in data[\"timetable\"].slots:\n",
    "        slot_details = f\"{slot.day.name} {slot.interval.interval}, Subject: {slot.subject.name if slot.subject else 'None'}, \"\n",
    "        slot_details += f\"Teacher: {slot.teacher.name if slot.teacher else 'None'}, \"\n",
    "        slot_details += f\"Hall: {slot.lecture_hall.name if slot.lecture_hall else 'None'}\"\n",
    "        print(slot_details)\n",
    "\n",
    "    print(\"\\nSubjects:\")\n",
    "    for subject in data[\"subjects\"]:\n",
    "        print(f\"{subject.name}, Capacity: {subject.capacity}, Occupied: {subject.occupied}\")\n",
    "\n",
    "    print(\"\\nLecture Halls:\")\n",
    "    for hall in data[\"lecture_halls\"]:\n",
    "        subjects = ', '.join([s.name for s in hall.subjects])\n",
    "        print(f\"{hall.name}, Capacity: {hall.capacity}, Subjects: {subjects}\")\n",
    "\n",
    "    print(\"\\nTeachers:\")\n",
    "    for teacher in data[\"teachers\"]:\n",
    "        subjects = ', '.join([s.name for s in teacher.subjects])\n",
    "        constraints = f\"Days: {', '.join(teacher.constraints.prefferable_days)}, Intervals: {', '.join(teacher.constraints.prefferable_intervals)}, Pauses: {', '.join(teacher.constraints.c_pauses)}\"\n",
    "        print(f\"{teacher.name}, Subjects: {subjects}, Constraints: {constraints}\")"
   ]
  },
  {
   "cell_type": "code",
   "execution_count": null,
   "metadata": {},
   "outputs": [],
   "source": [
    "def get_interval_tuple(interval, delimiter=\", \"):\n",
    "    if delimiter == \"-\":\n",
    "        splitted = interval.split(delimiter)\n",
    "    else:\n",
    "        splitted = interval[1:len(interval) - 1].split(delimiter)\n",
    "    \n",
    "    first = int(splitted[0])\n",
    "    second = int(splitted[1])\n",
    "    return (first, second)"
   ]
  },
  {
   "cell_type": "code",
   "execution_count": null,
   "metadata": {},
   "outputs": [],
   "source": [
    "def save_timetable(data, file_path):\n",
    "    processed_data = {}\n",
    "\n",
    "    for d in data[\"days\"]:\n",
    "        processed_data[d.name] = {}\n",
    "        for i in data[\"intervals\"]:\n",
    "            processed_data[d.name][get_interval_tuple(i.interval)] = {}\n",
    "            \n",
    "    for slot in data[\"timetable\"].slots:\n",
    "        processed_data[slot.day.name][get_interval_tuple(slot.interval.interval)][slot.lecture_hall.name] = (slot.teacher.name, slot.subject.name) if slot.teacher else None\n",
    "    \n",
    "    pretty_data = pretty_print_timetable(processed_data, file_path)\n",
    "\n",
    "    with open(f\"outputs/{file_path.split('/')[1].split('.')[0]}.txt\", \"w\") as f:\n",
    "        f.writelines(pretty_data)\n",
    "    "
   ]
  },
  {
   "cell_type": "markdown",
   "metadata": {},
   "source": [
    "Function to run the algorithm\n"
   ]
  },
  {
   "cell_type": "code",
   "execution_count": null,
   "metadata": {},
   "outputs": [],
   "source": [
    "def run_algorithm(file_path, func, h=None) -> None:\n",
    "    data = process_data(utils.read_yaml_file(file_path))\n",
    "\n",
    "    if h is not None:\n",
    "        data[\"h\"] = h\n",
    "\n",
    "    # TODO run the algorithm\n",
    "    func(data, file_path)"
   ]
  },
  {
   "cell_type": "code",
   "execution_count": null,
   "metadata": {},
   "outputs": [],
   "source": [
    "def is_solution(timetable, specs):\n",
    "    return not check_mandatory_constraints(timetable.state, specs)"
   ]
  },
  {
   "cell_type": "code",
   "execution_count": null,
   "metadata": {},
   "outputs": [],
   "source": [
    "def astar(data):\n",
    "    h = data[\"h\"]\n",
    "    \n",
    "    # Initialize empty timetable\n",
    "    start_timetable = Timetable(0, h(data), h, data)\n",
    "    \n",
    "    OPEN = []\n",
    "    CLOSED = set()\n",
    "    heappush(OPEN, (start_timetable.f, start_timetable))\n",
    "    \n",
    "    while OPEN:\n",
    "        _, curr = heappop(OPEN)\n",
    "\n",
    "        if is_solution(curr, data):\n",
    "            return curr\n",
    "\n",
    "        CLOSED.add(curr)\n",
    "        for SUCC in curr.generate_successors():\n",
    "            if SUCC not in CLOSED:\n",
    "                heappush(OPEN, (SUCC.f, SUCC))\n",
    "    \n",
    "    \n",
    "    "
   ]
  },
  {
   "cell_type": "code",
   "execution_count": null,
   "metadata": {},
   "outputs": [],
   "source": [
    "def h1():\n",
    "    pass"
   ]
  },
  {
   "cell_type": "code",
   "execution_count": 174,
   "metadata": {},
   "outputs": [],
   "source": [
    "class RandomRestartHillClimbing():\n",
    "    no_swaps = 0\n",
    "\n",
    "    def __all_subjects_covered(subjects):\n",
    "        return all(s.is_covered() for s in subjects)\n",
    "    \n",
    "    def __interval_constraint_breach(interval, searched_intervals):\n",
    "        return not any(interval[0] >= i[0] and interval[1] <= i[1] for i in searched_intervals)\n",
    "    \n",
    "    def __filter_slots_by_teacher(slots, teacher):\n",
    "        filtered_slots = []\n",
    "        prefferable_intervals = [get_interval_tuple(interval, \"-\") for interval in teacher.constraints.prefferable_intervals]\n",
    "\n",
    "        # Try to filter the slots that matches teacher's prefferences for days and intervals\n",
    "        for slot in slots:\n",
    "            slot_interval = get_interval_tuple(slot.interval.interval)\n",
    "            if slot.day.name in teacher.constraints.prefferable_days and not RandomRestartHillClimbing.__interval_constraint_breach(slot_interval, prefferable_intervals):\n",
    "                filtered_slots.append(slot)\n",
    "\n",
    "        if filtered_slots:\n",
    "            return filtered_slots\n",
    "\n",
    "        # Try to filter the slots for at least one of the teacher's prefferences\n",
    "        for slot in slots:\n",
    "            slot_interval = get_interval_tuple(slot.interval.interval)\n",
    "            if slot.day.name in teacher.constraints.prefferable_days or not RandomRestartHillClimbing.__interval_constraint_breach(slot_interval, prefferable_intervals):\n",
    "                filtered_slots.append(slot)\n",
    "        \n",
    "        if filtered_slots:\n",
    "            return filtered_slots\n",
    "        else:\n",
    "            # If there were'nt found any filtered slots, then return the slots and consider\n",
    "            # the teacher's prefferences when swapping\n",
    "            return slots\n",
    "\n",
    "    def __filter_teachers_by_slot(teachers, slot):\n",
    "        filtered_teachers = []\n",
    "        slot_interval = get_interval_tuple(slot.interval.interval)\n",
    "\n",
    "        # Try to filter the teachers that matches slot's day and interval\n",
    "        for teacher in teachers:\n",
    "            prefferable_intervals = [get_interval_tuple(interval, \"-\") for interval in teacher.constraints.prefferable_intervals]\n",
    "            if slot.day.name in teacher.constraints.prefferable_days and not RandomRestartHillClimbing.__interval_constraint_breach(slot_interval, prefferable_intervals):\n",
    "                filtered_teachers.append(teacher)\n",
    "        \n",
    "        if filtered_teachers:\n",
    "            return filtered_teachers\n",
    "\n",
    "        # Try to filter the teachers for with less constraints violated\n",
    "        for teacher in teachers:\n",
    "            prefferable_intervals = [get_interval_tuple(interval, \"-\") for interval in teacher.constraints.prefferable_intervals]\n",
    "            if slot.day.name in teacher.constraints.prefferable_days or not RandomRestartHillClimbing.__interval_constraint_breach(slot_interval, prefferable_intervals):\n",
    "                filtered_teachers.append(teacher)\n",
    "        \n",
    "        if filtered_teachers:\n",
    "            return filtered_teachers\n",
    "        else:\n",
    "            # If there were'nt found any filtered teachers, then return the teachers and consider\n",
    "            # the teacher's prefferences when swapping\n",
    "            return teachers\n",
    "\n",
    "    def restart_random_restart_hill_climbing():\n",
    "        RandomRestartHillClimbing.no_swaps = 0\n",
    "    \n",
    "    def generate_initial_state_restart(data, restarts):\n",
    "        for slot in data[\"timetable\"].slots:\n",
    "            slot.restart()\n",
    "\n",
    "        for s in data[\"subjects\"]:\n",
    "            s.restart()\n",
    "    \n",
    "        for t in data[\"teachers\"]:\n",
    "            t.restart()\n",
    "\n",
    "        restarts += 1\n",
    "\n",
    "        sys.stdout.write(f\"\\rRestarts: {restarts}\")\n",
    "        sys.stdout.flush()\n",
    "\n",
    "        return data, restarts\n",
    "    \n",
    "    def generate_initial_state(data):\n",
    "        restarts = 0\n",
    "        print(\"\\nStarting to generate the initial state...\")\n",
    "        slots = data[\"timetable\"].slots\n",
    "\n",
    "        while not RandomRestartHillClimbing.__all_subjects_covered(data[\"subjects\"]):\n",
    "            # Choose a random subject\n",
    "            s = rd.choice([s for s in data[\"subjects\"] if not s.is_covered()])\n",
    "\n",
    "            while not s.is_covered():\n",
    "                # Choose a random lecture hall\n",
    "                try:\n",
    "                    l = rd.choice([l for l in data[\"lecture_halls\"] if s in l.subjects])\n",
    "                except IndexError:\n",
    "                    # if there is an IndexError, it means that the choice() method was applied on an empty list\n",
    "                    # therefore there are no lecture halls available so the generating algorithm has to be restarted\n",
    "                    data, restarts = RandomRestartHillClimbing.generate_initial_state_restart(data, restarts)\n",
    "                    break\n",
    "\n",
    "                # Choose a random slot\n",
    "                try:\n",
    "                    slot = rd.choice([slot for slot in slots\\\n",
    "                        if slot.is_available() and slot.matches_requirements(l, slots)])\n",
    "                except IndexError:\n",
    "                    # if there is an IndexError, it means that the choice() method was applied on an empty list\n",
    "                    # therefore there are no slots available so the generating algorithm has to be restarted\n",
    "                    data, restarts = RandomRestartHillClimbing.generate_initial_state_restart(data, restarts)\n",
    "                    break\n",
    "                \n",
    "                # Choose a random teacher\n",
    "                try:\n",
    "                    t = rd.choice(RandomRestartHillClimbing.__filter_teachers_by_slot([t for t in data[\"teachers\"]\\\n",
    "                        if t.is_available() and t.is_specialized(s) and t.matches_requirements(slot, slots)], slot))\n",
    "                except IndexError:\n",
    "                    # if there is an IndexError, it means that the choice() method was applied on an empty list\n",
    "                    # therefore there are no teachers available so the generating algorithm has to be restarted\n",
    "                    data, restarts = RandomRestartHillClimbing.generate_initial_state_restart(data, restarts)\n",
    "                    break\n",
    "            \n",
    "                slot.update(s, t)\n",
    "                s.update(l)\n",
    "                t.update()\n",
    "        sys.stdout.write(f\"\\rRestarts: {restarts}\")\n",
    "        sys.stdout.flush()\n",
    "        print(\"\\nGenerating the initial state - DONE\")\n",
    "        return data\n",
    "    \n",
    "    def eval(timetable):\n",
    "        \"\"\"\n",
    "            This is the method used for evaluating the cost of the current state/timetable.\n",
    "            It is used in Hill Climbing algorithm for choosing the next state.\n",
    "            The cost consists in the number of constraints that are not breached.\n",
    "\n",
    "            Used primarily for:\n",
    "                if Eval(S') > Eval(S) return S, where S' is max(s for s in SUCC(S))\n",
    "        \"\"\"\n",
    "        cost = 0\n",
    "        slots = timetable[\"timetable\"].slots\n",
    "    \n",
    "        # Evaluate each slot in the timetable\n",
    "        for slot in slots:\n",
    "            # If the slot is not available, it means there are a teacher and a subject allocated for the slot\n",
    "            if not slot.is_available():\n",
    "                # Day constraint breach\n",
    "                if slot.day.name not in slot.teacher.constraints.prefferable_days:\n",
    "                    cost += 1\n",
    "                \n",
    "                # Interval constraint breach\n",
    "                slot_interval = get_interval_tuple(slot.interval.interval)\n",
    "                prefferable_intervals = [get_interval_tuple(interval, \"-\") for interval in slot.teacher.constraints.prefferable_intervals]\n",
    "                if RandomRestartHillClimbing.__interval_constraint_breach(slot_interval, prefferable_intervals):\n",
    "                    cost += 1\n",
    "\n",
    "        return cost\n",
    "\n",
    "    def generate_successor(S, improvement):\n",
    "        \"\"\"\n",
    "            Generate all successors from the current timetable.\n",
    "            These successors are similar to the latter timetable,\n",
    "            as there is just a swap taking place, interchanging two slots\n",
    "            for example.\n",
    "            This approach is useful for reducing the number of constraints.\n",
    "            Choose the best one based on the eval() method.\n",
    "        \"\"\"\n",
    "        best_swap = None\n",
    "        best_cost = RandomRestartHillClimbing.eval(S)\n",
    "        slot_swaps = list(itertools.combinations(S[\"timetable\"].slots, 2))\n",
    "\n",
    "        # Keep the same variable/timetable to avoid deep copy and duplicating overhead\n",
    "        for s1, s2 in slot_swaps:\n",
    "            # Check if the swap will cause breaches among the hard constraints\n",
    "            if not s1.can_swap(s2, S):\n",
    "                continue\n",
    "\n",
    "            # Realize the swap\n",
    "            s1.swap(s2)\n",
    "\n",
    "            # If the new state's cost is better than the best cost, update the best swap\n",
    "            new_cost = RandomRestartHillClimbing.eval(S)\n",
    "            if new_cost < best_cost or (improvement and new_cost == best_cost):\n",
    "                best_swap = (s1, s2)\n",
    "                best_cost = new_cost\n",
    "\n",
    "            # Undo the swap to proceed with the next ones\n",
    "            s1.swap(s2)\n",
    "            RandomRestartHillClimbing.no_swaps += 1\n",
    "\n",
    "        if best_swap:\n",
    "            s1, s2 = best_swap[0], best_swap[1]\n",
    "            s1.swap(s2)\n",
    "            return S, False, best_cost\n",
    "        else:\n",
    "            # No better state found, should stop\n",
    "            return S, True, best_cost"
   ]
  },
  {
   "cell_type": "code",
   "execution_count": 191,
   "metadata": {},
   "outputs": [],
   "source": [
    "def random_restart_hill_climbing(file_path, improvement=False, improvement_limit=500):\n",
    "    \"\"\"\n",
    "        improvement parameter is used for continuing the search over Eval(S') = Eval(S)\n",
    "    \"\"\"\n",
    "    progress = tqdm(range(100), desc=\"Random Restarts\")\n",
    "    iteration = 0\n",
    "    best_cost = -1\n",
    "    initial_improvement_limit = improvement_limit\n",
    "    # As in the course slides - aprox. 100 lateral moves for improvement\n",
    "    for i in progress:\n",
    "        iteration = i\n",
    "\n",
    "        # Generate the initial state (always read and process data to avoid keeping unnecessary data in memory)\n",
    "        S = RandomRestartHillClimbing.generate_initial_state(process_data(utils.read_yaml_file(file_path)))\n",
    "\n",
    "        # Generate the best successor. If the best one is no better than the current state, it should stop.\n",
    "        stop = False\n",
    "        prev_best_cost = -1\n",
    "        while not stop:\n",
    "            S, stop, best_cost = RandomRestartHillClimbing.generate_successor(S, improvement)\n",
    "\n",
    "            if improvement and prev_best_cost == best_cost:\n",
    "                improvement_limit -= 1\n",
    "                if improvement_limit <= 0:\n",
    "                    break\n",
    "            if prev_best_cost != best_cost:\n",
    "                improvement_limit = initial_improvement_limit\n",
    "            prev_best_cost = best_cost\n",
    "\n",
    "        print(\"Best cost found!\", best_cost)\n",
    "            \n",
    "        if best_cost == 0:\n",
    "            progress.update(100 - progress.n) \n",
    "            break\n",
    "\n",
    "    save_timetable(S, file_path)\n",
    "    RandomRestartHillClimbing.restart_random_restart_hill_climbing()\n",
    "    return iteration, best_cost\n",
    "    "
   ]
  },
  {
   "cell_type": "markdown",
   "metadata": {},
   "source": [
    "Run the algorithm for \"dummy.yaml\""
   ]
  },
  {
   "cell_type": "code",
   "execution_count": 194,
   "metadata": {},
   "outputs": [
    {
     "name": "stderr",
     "output_type": "stream",
     "text": [
      "Random Restarts:   0%|          | 0/100 [00:00<?, ?it/s]"
     ]
    },
    {
     "name": "stdout",
     "output_type": "stream",
     "text": [
      "\n",
      "Starting to generate the initial state...\n",
      "Restarts: 0"
     ]
    },
    {
     "name": "stderr",
     "output_type": "stream",
     "text": [
      "Random Restarts:   1%|          | 1/100 [00:00<00:17,  5.69it/s]"
     ]
    },
    {
     "name": "stdout",
     "output_type": "stream",
     "text": [
      "\n",
      "Generating the initial state - DONE\n",
      "Best cost found! 1\n",
      "\n",
      "Starting to generate the initial state...\n",
      "Restarts: 0\n",
      "Generating the initial state - DONE\n"
     ]
    },
    {
     "name": "stderr",
     "output_type": "stream",
     "text": [
      "Random Restarts:   2%|▏         | 2/100 [00:00<00:18,  5.20it/s]"
     ]
    },
    {
     "name": "stdout",
     "output_type": "stream",
     "text": [
      "Best cost found! 1\n",
      "\n",
      "Starting to generate the initial state...\n",
      "Restarts: 0\n",
      "Generating the initial state - DONE\n"
     ]
    },
    {
     "name": "stderr",
     "output_type": "stream",
     "text": [
      "Random Restarts:   3%|▎         | 3/100 [00:00<00:19,  4.93it/s]"
     ]
    },
    {
     "name": "stdout",
     "output_type": "stream",
     "text": [
      "Best cost found! 1\n",
      "\n",
      "Starting to generate the initial state...\n",
      "Restarts: 0\n",
      "Generating the initial state - DONE\n"
     ]
    },
    {
     "name": "stderr",
     "output_type": "stream",
     "text": [
      "Random Restarts:   4%|▍         | 4/100 [00:00<00:18,  5.06it/s]"
     ]
    },
    {
     "name": "stdout",
     "output_type": "stream",
     "text": [
      "Best cost found! 2\n",
      "\n",
      "Starting to generate the initial state...\n",
      "Restarts: 0\n",
      "Generating the initial state - DONE\n"
     ]
    },
    {
     "name": "stderr",
     "output_type": "stream",
     "text": [
      "Random Restarts:   5%|▌         | 5/100 [00:01<00:20,  4.61it/s]"
     ]
    },
    {
     "name": "stdout",
     "output_type": "stream",
     "text": [
      "Best cost found! 1\n",
      "\n",
      "Starting to generate the initial state...\n",
      "Restarts: 0\n",
      "Generating the initial state - DONE\n"
     ]
    },
    {
     "name": "stderr",
     "output_type": "stream",
     "text": [
      "Random Restarts: 100%|██████████| 100/100 [00:01<00:00, 144.87it/s]"
     ]
    },
    {
     "name": "stdout",
     "output_type": "stream",
     "text": [
      "Best cost found! 0\n"
     ]
    },
    {
     "name": "stderr",
     "output_type": "stream",
     "text": [
      "Random Restarts:   5%|▌         | 5/100 [00:01<00:24,  3.89it/s]   \n"
     ]
    },
    {
     "data": {
      "text/plain": [
       "(5, 0)"
      ]
     },
     "execution_count": 194,
     "metadata": {},
     "output_type": "execute_result"
    }
   ],
   "source": [
    "random_restart_hill_climbing(\"inputs/dummy.yaml\", improvement=True, improvement_limit=50)"
   ]
  },
  {
   "cell_type": "markdown",
   "metadata": {},
   "source": [
    "Run the algorithm for \"orar_mic_exact.yaml\""
   ]
  },
  {
   "cell_type": "code",
   "execution_count": 197,
   "metadata": {},
   "outputs": [
    {
     "name": "stderr",
     "output_type": "stream",
     "text": [
      "Random Restarts:   0%|          | 0/100 [00:00<?, ?it/s]"
     ]
    },
    {
     "name": "stdout",
     "output_type": "stream",
     "text": [
      "\n",
      "Starting to generate the initial state...\n",
      "Restarts: 0\n",
      "Generating the initial state - DONE\n"
     ]
    },
    {
     "name": "stderr",
     "output_type": "stream",
     "text": [
      "Random Restarts:   0%|          | 0/100 [00:01<?, ?it/s]          "
     ]
    },
    {
     "name": "stdout",
     "output_type": "stream",
     "text": [
      "Best cost found! 0\n"
     ]
    },
    {
     "name": "stderr",
     "output_type": "stream",
     "text": [
      "\n"
     ]
    },
    {
     "data": {
      "text/plain": [
       "(0, 0)"
      ]
     },
     "execution_count": 197,
     "metadata": {},
     "output_type": "execute_result"
    }
   ],
   "source": [
    "random_restart_hill_climbing(\"inputs/orar_mic_exact.yaml\", improvement=True, improvement_limit=20)"
   ]
  },
  {
   "cell_type": "markdown",
   "metadata": {},
   "source": [
    "Run the algorithm for \"orar_mediu_relaxat.yaml\""
   ]
  },
  {
   "cell_type": "code",
   "execution_count": null,
   "metadata": {},
   "outputs": [],
   "source": [
    "random_restart_hill_climbing(\"inputs/orar_mediu_relaxat.yaml\")"
   ]
  },
  {
   "cell_type": "markdown",
   "metadata": {},
   "source": [
    "Run the algorithm for \"orar_constrans_incalcat.yaml\""
   ]
  },
  {
   "cell_type": "code",
   "execution_count": null,
   "metadata": {},
   "outputs": [],
   "source": [
    "random_restart_hill_climbing(\"inputs/orar_constrans_incalcat.yaml\")"
   ]
  },
  {
   "cell_type": "markdown",
   "metadata": {},
   "source": [
    "Run the algorithm for \"orar_mare_relaxat.yaml\""
   ]
  },
  {
   "cell_type": "code",
   "execution_count": null,
   "metadata": {},
   "outputs": [],
   "source": [
    "random_restart_hill_climbing(\"inputs/orar_mare_relaxat.yaml\")"
   ]
  },
  {
   "cell_type": "markdown",
   "metadata": {},
   "source": [
    "Run the algorithm for all files"
   ]
  },
  {
   "cell_type": "code",
   "execution_count": 218,
   "metadata": {},
   "outputs": [],
   "source": [
    "def collect_data(file_path, runs=5, improvement=False):\n",
    "    results = np.zeros((runs, 2), dtype=int) # Array to store (iterations, best_cost)\n",
    "    averages = {}\n",
    "\n",
    "    for i in range(runs):\n",
    "        iterations, best_cost = random_restart_hill_climbing(file_path, improvement, improvement_limit=4)\n",
    "        if iterations not in averages:\n",
    "            averages[iterations] = [best_cost]\n",
    "        else:\n",
    "            averages[iterations].append(best_cost)\n",
    "        \n",
    "    averages = {k: int(np.mean(v)) for k, v in averages.items()}\n",
    "    return averages\n",
    "\n",
    "def plot_random_restart_hc(file_path):\n",
    "    results_without_improvement = collect_data(file_path, improvement=False)\n",
    "    results_with_improvement = collect_data(file_path, improvement=True)\n",
    "\n",
    "    fig, axs = plt.subplots(2, 1, figsize=(10, 10))\n",
    "    print(results_without_improvement)\n",
    "    print(results_with_improvement)\n",
    "    # Plot without improvement\n",
    "    axs[0].bar(results_without_improvement.values(), results_without_improvement.keys(), color='b', label='Iterations')\n",
    "    axs[0].set_title(f'{file_path} - Random Restart HC Without Improvement')\n",
    "    axs[0].set_xlabel('Best Cost')\n",
    "    axs[0].set_ylabel('Iterations')\n",
    "    axs[0].legend()\n",
    "\n",
    "    # Plot with improvement\n",
    "    axs[1].bar(results_with_improvement.values(), results_with_improvement.keys(), color='g', label='Iterations')\n",
    "    axs[1].set_title(f'{file_path} - Random Restart HC With Improvement')\n",
    "    axs[1].set_xlabel('Best Cost')\n",
    "    axs[1].set_ylabel('Iterations')\n",
    "    axs[1].legend()\n",
    "\n",
    "    plt.tight_layout()\n",
    "    plt.show()"
   ]
  },
  {
   "cell_type": "code",
   "execution_count": 220,
   "metadata": {},
   "outputs": [
    {
     "name": "stderr",
     "output_type": "stream",
     "text": [
      "Random Restarts:   0%|          | 0/100 [00:00<?, ?it/s]\n",
      "Random Restarts:   0%|          | 0/100 [00:00<?, ?it/s]\n",
      "Random Restarts:   0%|          | 0/100 [00:00<?, ?it/s]\n",
      "Random Restarts:   0%|          | 0/100 [00:00<?, ?it/s]\n",
      "Random Restarts:   1%|          | 1/100 [00:00<00:02, 37.04it/s]\n",
      "Random Restarts:   0%|          | 0/100 [00:00<?, ?it/s]\n",
      "Random Restarts:   1%|          | 1/100 [00:00<00:06, 15.87it/s]\n",
      "Random Restarts:   1%|          | 1/100 [00:00<00:06, 16.12it/s]\n",
      "Random Restarts:   0%|          | 0/100 [00:00<?, ?it/s]\n",
      "Random Restarts:   0%|          | 0/100 [00:00<?, ?it/s]\n"
     ]
    },
    {
     "data": {
      "image/png": "[encoded data removed]",
      "text/plain": [
       "<Figure size 720x720 with 2 Axes>"
      ]
     },
     "metadata": {
      "needs_background": "light"
     },
     "output_type": "display_data"
    },
    {
     "name": "stderr",
     "output_type": "stream",
     "text": [
      "Random Restarts:   7%|▋         | 7/100 [00:04<00:56,  1.65it/s]  \n",
      "Random Restarts:   3%|▎         | 3/100 [00:02<01:14,  1.29it/s]  \n",
      "Random Restarts:   2%|▏         | 2/100 [00:02<01:44,  1.07s/it]  \n",
      "Random Restarts:   0%|          | 0/100 [00:01<?, ?it/s]          \n",
      "Random Restarts:   1%|          | 1/100 [00:01<02:52,  1.75s/it]  \n",
      "Random Restarts:   9%|▉         | 9/100 [00:12<02:07,  1.40s/it]  \n",
      "Random Restarts:   6%|▌         | 6/100 [00:07<01:55,  1.23s/it]  \n",
      "Random Restarts:  17%|█▋        | 17/100 [00:17<01:23,  1.01s/it] \n",
      "Random Restarts:   0%|          | 0/100 [00:01<?, ?it/s]          \n",
      "Random Restarts:   5%|▌         | 5/100 [00:05<01:45,  1.11s/it]  \n"
     ]
    },
    {
     "data": {
      "image/png": "[encoded data removed]",
      "text/plain": [
       "<Figure size 720x720 with 2 Axes>"
      ]
     },
     "metadata": {
      "needs_background": "light"
     },
     "output_type": "display_data"
    }
   ],
   "source": [
    "input_files = [\n",
    "    \"inputs/dummy.yaml\",\n",
    "    # \"inputs/orar_bonus_exact.yaml\",\n",
    "    # \"inputs/orar_constrans_incalcat.yaml\",\n",
    "    # \"inputs/orar_mare_relaxat.yaml\",\n",
    "    # \"inputs/orar_mediu_relaxat.yaml\",\n",
    "    \"inputs/orar_mic_exact.yaml\",\n",
    "]\n",
    "\n",
    "with contextlib.redirect_stdout(io.StringIO()):\n",
    "    for input_file in input_files:\n",
    "        plot_random_restart_hc(input_file)\n",
    "\n",
    "# for file in input_files:\n",
    "#     random_restart_hill_climbing(file)"
   ]
  }
 ],
 "metadata": {
  "kernelspec": {
   "display_name": "Python 3",
   "language": "python",
   "name": "python3"
  },
  "language_info": {
   "codemirror_mode": {
    "name": "ipython",
    "version": 3
   },
   "file_extension": ".py",
   "mimetype": "text/x-python",
   "name": "python",
   "nbconvert_exporter": "python",
   "pygments_lexer": "ipython3",
   "version": "3.9.13"
  }
 },
 "nbformat": 4,
 "nbformat_minor": 2
}

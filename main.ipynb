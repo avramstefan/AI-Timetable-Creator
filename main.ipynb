{
 "cells": [
  {
   "cell_type": "markdown",
   "metadata": {},
   "source": [
    "\n",
    "Import the necessary modules"
   ]
  },
  {
   "cell_type": "code",
   "execution_count": 411,
   "metadata": {},
   "outputs": [],
   "source": [
    "import random as rd\n",
    "import numpy as np\n",
    "import utils\n",
    "import time\n",
    "import sys\n",
    "\n",
    "from heapq import heappop, heappush\n",
    "from utils import pretty_print_timetable\n",
    "from check_constraints import check_mandatory_constraints"
   ]
  },
  {
   "cell_type": "code",
   "execution_count": 412,
   "metadata": {},
   "outputs": [],
   "source": [
    "class Day:\n",
    "    def __init__(self, name):\n",
    "        self.name = name"
   ]
  },
  {
   "cell_type": "code",
   "execution_count": 413,
   "metadata": {},
   "outputs": [],
   "source": [
    "class Interval:\n",
    "    def __init__(self, interval):\n",
    "        self.interval = interval"
   ]
  },
  {
   "cell_type": "code",
   "execution_count": 414,
   "metadata": {},
   "outputs": [],
   "source": [
    "class Subject:\n",
    "    def __init__(self, name, capacity):\n",
    "        self.name = name\n",
    "        self.capacity = capacity\n",
    "        self.occupied = 0\n",
    "    \n",
    "    def is_covered(self):\n",
    "        return self.occupied >= self.capacity\n",
    "\n",
    "    def update(self, lecture_hall):\n",
    "        self.occupied += lecture_hall.capacity\n",
    "\n",
    "    def restart(self):\n",
    "        self.occupied = 0"
   ]
  },
  {
   "cell_type": "code",
   "execution_count": 415,
   "metadata": {},
   "outputs": [],
   "source": [
    "class Constraints:\n",
    "    def __init__(self, constraints):\n",
    "        days = [\"Luni\", \"Marti\", \"Miercuri\", \"Joi\", \"Vineri\", \"Sambata\", \"Duminica\"]\n",
    "        self.c_days = []\n",
    "        self.c_intervals = []\n",
    "        self.c_pauses = []\n",
    "        \n",
    "        for c in constraints:\n",
    "            if c in days or ''.join(list(c)[1:]) in days:\n",
    "                self.c_days.append(c)\n",
    "            elif \"-\" in c:\n",
    "                self.c_intervals.append(c)\n",
    "            else:\n",
    "                self.c_pauses.append(c)"
   ]
  },
  {
   "cell_type": "code",
   "execution_count": 416,
   "metadata": {},
   "outputs": [],
   "source": [
    "class Teacher:\n",
    "    def __init__(self, name, constraints, subjects):\n",
    "        self.name = name\n",
    "        self.num_intervals = 0\n",
    "        self.constraints = Constraints(constraints)\n",
    "        self.subjects = subjects\n",
    "\n",
    "    def is_available(self):\n",
    "        return self.num_intervals < 7\n",
    "\n",
    "    def is_specialized(self, s):\n",
    "        \"\"\"\n",
    "            Tells if the teacher may teach the subject s received as a parameter\n",
    "        \"\"\"\n",
    "        return s in self.subjects\n",
    "\n",
    "    def update(self):\n",
    "        self.num_intervals += 1\n",
    "\n",
    "    def restart(self):\n",
    "        self.num_intervals = 0"
   ]
  },
  {
   "cell_type": "code",
   "execution_count": 417,
   "metadata": {},
   "outputs": [],
   "source": [
    "class LectureHall:\n",
    "    def __init__(self, name, capacity, subjects):\n",
    "        self.name = name\n",
    "        self.capacity = capacity\n",
    "        self.subjects = subjects"
   ]
  },
  {
   "cell_type": "code",
   "execution_count": 432,
   "metadata": {},
   "outputs": [],
   "source": [
    "class Slot:\n",
    "    def __init__(self, day, interval, lecture_hall):\n",
    "        self.day = day\n",
    "        self.interval = interval\n",
    "        self.lecture_hall = lecture_hall\n",
    "\n",
    "        self.teacher = None\n",
    "        self.subject = None\n",
    "\n",
    "    def is_available(self):\n",
    "        return (self.subject is None) or (self.teacher is None)\n",
    "\n",
    "    def matches_requirements(self, lecture_hall, teacher, slots):\n",
    "        return self.lecture_hall.name == lecture_hall.name and\\\n",
    "            not any(slot.teacher == teacher for slot in [s for s in slots if s.interval == self.interval and s.day == self.day])\n",
    "\n",
    "    def update(self, subject, teacher):\n",
    "        self.subject = subject\n",
    "        self.teacher = teacher\n",
    "\n",
    "    def restart(self):\n",
    "        self.subject = None\n",
    "        self.teacher = None"
   ]
  },
  {
   "cell_type": "code",
   "execution_count": 419,
   "metadata": {},
   "outputs": [],
   "source": [
    "class Timetable:\n",
    "    def __init__(self, days, interval, lecture_halls):\n",
    "        self.slots = []\n",
    "        for d in days:\n",
    "            for i in interval:\n",
    "                for l in lecture_halls:\n",
    "                    self.slots.append(Slot(d, i, l))"
   ]
  },
  {
   "cell_type": "code",
   "execution_count": 420,
   "metadata": {},
   "outputs": [],
   "source": [
    "def process_data(data):\n",
    "    # Initialize Days and Intervals\n",
    "    days = [Day(day_name) for day_name in data[\"Zile\"]]\n",
    "    intervals = [Interval(interval) for interval in data[\"Intervale\"]]\n",
    "\n",
    "    # Initialize subjects\n",
    "    subjects = [Subject(name, capacity) for name, capacity in data[\"Materii\"].items()]\n",
    "    \n",
    "    # Initialize lecture halls\n",
    "    lecture_halls = [LectureHall(name, details[\"Capacitate\"], [s for s in subjects if s.name in details[\"Materii\"]]) for name, details in data[\"Sali\"].items()]\n",
    "\n",
    "    # Create empty timetable\n",
    "    timetable = Timetable(days, intervals, lecture_halls)\n",
    "\n",
    "    # Initialize teachers\n",
    "    teachers = [Teacher(name, details[\"Constrangeri\"], [s for s in subjects if s.name in details[\"Materii\"]]) for name, details in data[\"Profesori\"].items()]\n",
    "    \n",
    "    return {\n",
    "        \"timetable\": timetable,\n",
    "        \"days\": days,\n",
    "        \"intervals\": intervals,\n",
    "        \"subjects\": subjects,\n",
    "        \"lecture_halls\": lecture_halls,\n",
    "        \"teachers\": teachers\n",
    "    }"
   ]
  },
  {
   "cell_type": "code",
   "execution_count": 421,
   "metadata": {},
   "outputs": [],
   "source": [
    "def print_data(data):\n",
    "    print(\"Timetable Slots:\")\n",
    "    for slot in data[\"timetable\"].slots:\n",
    "        slot_details = f\"{slot.day.name} {slot.interval.interval}, Subject: {slot.subject.name if slot.subject else 'None'}, \"\n",
    "        slot_details += f\"Teacher: {slot.teacher.name if slot.teacher else 'None'}, \"\n",
    "        slot_details += f\"Hall: {slot.lecture_hall.name if slot.lecture_hall else 'None'}\"\n",
    "        print(slot_details)\n",
    "\n",
    "    print(\"\\nSubjects:\")\n",
    "    for subject in data[\"subjects\"]:\n",
    "        print(f\"{subject.name}, Capacity: {subject.capacity}, Occupied: {subject.occupied}\")\n",
    "\n",
    "    print(\"\\nLecture Halls:\")\n",
    "    for hall in data[\"lecture_halls\"]:\n",
    "        subjects = ', '.join([s.name for s in hall.subjects])\n",
    "        print(f\"{hall.name}, Capacity: {hall.capacity}, Subjects: {subjects}\")\n",
    "\n",
    "    print(\"\\nTeachers:\")\n",
    "    for teacher in data[\"teachers\"]:\n",
    "        subjects = ', '.join([s.name for s in teacher.subjects])\n",
    "        constraints = f\"Days: {', '.join(teacher.constraints.c_days)}, Intervals: {', '.join(teacher.constraints.c_intervals)}, Pauses: {', '.join(teacher.constraints.c_pauses)}\"\n",
    "        print(f\"{teacher.name}, Subjects: {subjects}, Constraints: {constraints}\")"
   ]
  },
  {
   "cell_type": "code",
   "execution_count": 422,
   "metadata": {},
   "outputs": [],
   "source": [
    "def get_interval_tuple(interval):\n",
    "    splitted = interval[1:len(interval) - 1].split(\",\")\n",
    "    first = int(splitted[0])\n",
    "    second = int(splitted[1][1:])\n",
    "    return (first, second)"
   ]
  },
  {
   "cell_type": "code",
   "execution_count": 423,
   "metadata": {},
   "outputs": [],
   "source": [
    "def save_timetable(data, file_path):\n",
    "    processed_data = {}\n",
    "\n",
    "    for d in data[\"days\"]:\n",
    "        processed_data[d.name] = {}\n",
    "        for i in data[\"intervals\"]:\n",
    "            processed_data[d.name][get_interval_tuple(i.interval)] = {}\n",
    "            \n",
    "    for slot in data[\"timetable\"].slots:\n",
    "        processed_data[slot.day.name][get_interval_tuple(slot.interval.interval)][slot.lecture_hall.name] = (slot.teacher.name, slot.subject.name) if slot.teacher else None\n",
    "    \n",
    "    pretty_data = pretty_print_timetable(processed_data, file_path)\n",
    "\n",
    "    with open(f\"outputs/{file_path.split('/')[1].split('.')[0]}.txt\", \"w\") as f:\n",
    "        f.writelines(pretty_data)\n",
    "    "
   ]
  },
  {
   "cell_type": "markdown",
   "metadata": {},
   "source": [
    "Function to run the algorithm\n"
   ]
  },
  {
   "cell_type": "code",
   "execution_count": 424,
   "metadata": {},
   "outputs": [],
   "source": [
    "def run_algorithm(file_path, func, h=None) -> None:\n",
    "    data = process_data(utils.read_yaml_file(file_path))\n",
    "\n",
    "    if h is not None:\n",
    "        data[\"h\"] = h\n",
    "\n",
    "    # TODO run the algorithm\n",
    "    func(data, file_path)"
   ]
  },
  {
   "cell_type": "code",
   "execution_count": 425,
   "metadata": {},
   "outputs": [],
   "source": [
    "def is_solution(timetable, specs):\n",
    "    return not check_mandatory_constraints(timetable.state, specs)"
   ]
  },
  {
   "cell_type": "code",
   "execution_count": 426,
   "metadata": {},
   "outputs": [],
   "source": [
    "def astar(data):\n",
    "    h = data[\"h\"]\n",
    "    \n",
    "    # Initialize empty timetable\n",
    "    start_timetable = Timetable(0, h(data), h, data)\n",
    "    \n",
    "    OPEN = []\n",
    "    CLOSED = set()\n",
    "    heappush(OPEN, (start_timetable.f, start_timetable))\n",
    "    \n",
    "    while OPEN:\n",
    "        _, curr = heappop(OPEN)\n",
    "\n",
    "        if is_solution(curr, data):\n",
    "            return curr\n",
    "\n",
    "        CLOSED.add(curr)\n",
    "        for SUCC in curr.generate_successors():\n",
    "            if SUCC not in CLOSED:\n",
    "                heappush(OPEN, (SUCC.f, SUCC))\n",
    "    \n",
    "    \n",
    "    "
   ]
  },
  {
   "cell_type": "code",
   "execution_count": 427,
   "metadata": {},
   "outputs": [],
   "source": [
    "def h1():\n",
    "    pass"
   ]
  },
  {
   "cell_type": "code",
   "execution_count": 428,
   "metadata": {},
   "outputs": [],
   "source": [
    "class RandomRestartHillClimbing():\n",
    "    def _all_subjects_covered(subjects):\n",
    "        return all(s.is_covered() for s in subjects)\n",
    "    \n",
    "    def generate_initial_state_restart(data, restarts):\n",
    "        for slot in data[\"timetable\"].slots:\n",
    "            slot.restart()\n",
    "\n",
    "        for s in data[\"subjects\"]:\n",
    "            s.restart()\n",
    "    \n",
    "        for t in data[\"teachers\"]:\n",
    "            t.restart()\n",
    "\n",
    "        restarts += 1\n",
    "\n",
    "        sys.stdout.write(f\"\\rRestarts: {restarts}\")\n",
    "        sys.stdout.flush()\n",
    "\n",
    "        return data, restarts\n",
    "    \n",
    "    def generate_initial_state(data):\n",
    "        restarts = 0\n",
    "        print(\"Starting to generate the initial state...\")\n",
    "\n",
    "        while not RandomRestartHillClimbing._all_subjects_covered(data[\"subjects\"]):\n",
    "            # Choose a random subject\n",
    "            s = rd.choice([s for s in data[\"subjects\"] if not s.is_covered()])\n",
    "\n",
    "            while not s.is_covered():\n",
    "                # Choose a random lecture hall\n",
    "                try:\n",
    "                    l = rd.choice([l for l in data[\"lecture_halls\"] if s in l.subjects])\n",
    "                except IndexError:\n",
    "                    # if there is an IndexError, it means that the choice() method was applied on an empty list\n",
    "                    # therefore there are no lecture halls available so the generating algorithm has to be restarted\n",
    "                    data, restarts = RandomRestartHillClimbing.generate_initial_state_restart(data, restarts)\n",
    "                    break\n",
    "\n",
    "                # Choose a random teacher\n",
    "                try:\n",
    "                    t = rd.choice([t for t in data[\"teachers\"] if t.is_available() and t.is_specialized(s)])\n",
    "                except IndexError:\n",
    "                    # if there is an IndexError, it means that the choice() method was applied on an empty list\n",
    "                    # therefore there are no teachers available so the generating algorithm has to be restarted\n",
    "                    data, restarts = RandomRestartHillClimbing.generate_initial_state_restart(data, restarts)\n",
    "                    break\n",
    "\n",
    "                # Choose a random slot\n",
    "                try:\n",
    "                    slot = rd.choice([slot for slot in data[\"timetable\"].slots\\\n",
    "                        if slot.is_available() and slot.matches_requirements(l, t, data[\"timetable\"].slots)])\n",
    "                except IndexError:\n",
    "                    # if there is an IndexError, it means that the choice() method was applied on an empty list\n",
    "                    # therefore there are no slots available so the generating algorithm has to be restarted\n",
    "                    data, restarts = RandomRestartHillClimbing.generate_initial_state_restart(data, restarts)\n",
    "                    break\n",
    "            \n",
    "                slot.update(s, t)\n",
    "                s.update(l)\n",
    "                t.update()\n",
    "        # sys.stdout.write(\"\\n\")\n",
    "        # sys.stdout.flush()\n",
    "        print(\"Generating the initial state - DONE\")\n",
    "        return data\n"
   ]
  },
  {
   "cell_type": "code",
   "execution_count": 429,
   "metadata": {},
   "outputs": [],
   "source": [
    "def random_restart_hill_climbing(data, file_path):\n",
    "    # Generate the initial state\n",
    "    S = RandomRestartHillClimbing.generate_initial_state(data)\n",
    "\n",
    "    save_timetable(S, file_path)\n",
    "    "
   ]
  },
  {
   "cell_type": "markdown",
   "metadata": {},
   "source": [
    "Run the algorithm for \"dummy.yaml\""
   ]
  },
  {
   "cell_type": "code",
   "execution_count": 434,
   "metadata": {},
   "outputs": [
    {
     "name": "stdout",
     "output_type": "stream",
     "text": [
      "Starting to generate the initial state...\n",
      "Generating the initial state - DONE\n"
     ]
    }
   ],
   "source": [
    "run_algorithm(\"inputs/dummy.yaml\", random_restart_hill_climbing)"
   ]
  },
  {
   "cell_type": "markdown",
   "metadata": {},
   "source": [
    "Run the algorithm for \"orar_constrans_incalcat.yaml\""
   ]
  },
  {
   "cell_type": "code",
   "execution_count": null,
   "metadata": {},
   "outputs": [
    {
     "ename": "TypeError",
     "evalue": "run_algorithm() missing 1 required positional argument: 'func'",
     "output_type": "error",
     "traceback": [
      "\u001b[1;31m---------------------------------------------------------------------------\u001b[0m",
      "\u001b[1;31mTypeError\u001b[0m                                 Traceback (most recent call last)",
      "\u001b[1;32m~\\AppData\\Local\\Temp/ipykernel_10004/3266231344.py\u001b[0m in \u001b[0;36m<module>\u001b[1;34m\u001b[0m\n\u001b[1;32m----> 1\u001b[1;33m \u001b[0mrun_algorithm\u001b[0m\u001b[1;33m(\u001b[0m\u001b[1;34m\"inputs/orar_constrans_incalcat.yaml\"\u001b[0m\u001b[1;33m,\u001b[0m \u001b[0mh\u001b[0m\u001b[1;33m=\u001b[0m\u001b[0mh1\u001b[0m\u001b[1;33m)\u001b[0m\u001b[1;33m\u001b[0m\u001b[1;33m\u001b[0m\u001b[0m\n\u001b[0m",
      "\u001b[1;31mTypeError\u001b[0m: run_algorithm() missing 1 required positional argument: 'func'"
     ]
    }
   ],
   "source": [
    "run_algorithm(\"inputs/orar_constrans_incalcat.yaml\", h=h1)"
   ]
  },
  {
   "cell_type": "markdown",
   "metadata": {},
   "source": [
    "Run the algorithm for \"orar_mic_exact.yaml\""
   ]
  },
  {
   "cell_type": "code",
   "execution_count": null,
   "metadata": {},
   "outputs": [],
   "source": [
    "run_algorithm(\"inputs/orar_mic_exact.yaml\", h=h1)"
   ]
  },
  {
   "cell_type": "markdown",
   "metadata": {},
   "source": [
    "Run the algorithm for \"orar_mediu_relaxat.yaml\""
   ]
  },
  {
   "cell_type": "code",
   "execution_count": null,
   "metadata": {},
   "outputs": [],
   "source": [
    "run_algorithm(\"inputs/orar_mediu_relaxat.yaml\", h=h1)"
   ]
  },
  {
   "cell_type": "markdown",
   "metadata": {},
   "source": [
    "Run the algorithm for \"orar_mare_relaxat.yaml\""
   ]
  },
  {
   "cell_type": "code",
   "execution_count": null,
   "metadata": {},
   "outputs": [],
   "source": [
    "run_algorithm(\"inputs/orar_mare_relaxat.yaml\", h=h1)"
   ]
  },
  {
   "cell_type": "markdown",
   "metadata": {},
   "source": [
    "Run the algorithm for all files"
   ]
  },
  {
   "cell_type": "code",
   "execution_count": 435,
   "metadata": {},
   "outputs": [
    {
     "name": "stdout",
     "output_type": "stream",
     "text": [
      "Starting to generate the initial state...\n",
      "Generating the initial state - DONE\n",
      "Starting to generate the initial state...\n",
      "Restarts: 4Generating the initial state - DONE\n",
      "Starting to generate the initial state...\n",
      "Generating the initial state - DONE\n",
      "Starting to generate the initial state...\n",
      "Generating the initial state - DONE\n",
      "Starting to generate the initial state...\n",
      "Generating the initial state - DONE\n",
      "Starting to generate the initial state...\n",
      "Generating the initial state - DONE\n"
     ]
    }
   ],
   "source": [
    "input_files = [\n",
    "    \"inputs/dummy.yaml\",\n",
    "    \"inputs/orar_bonus_exact.yaml\",\n",
    "    \"inputs/orar_constrans_incalcat.yaml\",\n",
    "    \"inputs/orar_mare_relaxat.yaml\",\n",
    "    \"inputs/orar_mediu_relaxat.yaml\",\n",
    "    \"inputs/orar_mic_exact.yaml\",\n",
    "]\n",
    "\n",
    "for file in input_files:\n",
    "    run_algorithm(file, random_restart_hill_climbing)"
   ]
  }
 ],
 "metadata": {
  "kernelspec": {
   "display_name": "Python 3",
   "language": "python",
   "name": "python3"
  },
  "language_info": {
   "codemirror_mode": {
    "name": "ipython",
    "version": 3
   },
   "file_extension": ".py",
   "mimetype": "text/x-python",
   "name": "python",
   "nbconvert_exporter": "python",
   "pygments_lexer": "ipython3",
   "version": "3.9.13"
  }
 },
 "nbformat": 4,
 "nbformat_minor": 2
}

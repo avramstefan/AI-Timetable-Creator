{
 "cells": [
  {
   "cell_type": "markdown",
   "metadata": {},
   "source": [
    "\n",
    "Import the necessary modules"
   ]
  },
  {
   "cell_type": "code",
   "execution_count": 595,
   "metadata": {},
   "outputs": [],
   "source": [
    "import random as rd\n",
    "import numpy as np\n",
    "import itertools\n",
    "import utils\n",
    "import time\n",
    "import sys\n",
    "\n",
    "from heapq import heappop, heappush\n",
    "from utils import pretty_print_timetable\n",
    "from check_constraints import check_mandatory_constraints"
   ]
  },
  {
   "cell_type": "code",
   "execution_count": 596,
   "metadata": {},
   "outputs": [],
   "source": [
    "class Day:\n",
    "    def __init__(self, name):\n",
    "        self.name = name"
   ]
  },
  {
   "cell_type": "code",
   "execution_count": 597,
   "metadata": {},
   "outputs": [],
   "source": [
    "class Interval:\n",
    "    def __init__(self, interval):\n",
    "        self.interval = interval"
   ]
  },
  {
   "cell_type": "code",
   "execution_count": 598,
   "metadata": {},
   "outputs": [],
   "source": [
    "class Subject:\n",
    "    def __init__(self, name, capacity):\n",
    "        self.name = name\n",
    "        self.capacity = capacity\n",
    "        self.occupied = 0\n",
    "    \n",
    "    def is_covered(self):\n",
    "        return self.occupied >= self.capacity\n",
    "\n",
    "    def update(self, lecture_hall):\n",
    "        self.occupied += lecture_hall.capacity\n",
    "\n",
    "    def restart(self):\n",
    "        self.occupied = 0"
   ]
  },
  {
   "cell_type": "code",
   "execution_count": 599,
   "metadata": {},
   "outputs": [],
   "source": [
    "class Constraints:\n",
    "    def __init__(self, constraints):\n",
    "        days = [\"Luni\", \"Marti\", \"Miercuri\", \"Joi\", \"Vineri\", \"Sambata\", \"Duminica\"]\n",
    "        self.prefferable_days = []\n",
    "        self.prefferable_intervals = []\n",
    "        self.c_pauses = []\n",
    "        \n",
    "        for c in constraints:\n",
    "            if c in days:\n",
    "                self.prefferable_days.append(c)\n",
    "            \n",
    "            if \"-\" in c and not \"!\" in c:\n",
    "                self.prefferable_intervals.append(c)\n",
    "\n",
    "            if \"Pauza\" in c:\n",
    "                self.c_pauses.append(c)"
   ]
  },
  {
   "cell_type": "code",
   "execution_count": 600,
   "metadata": {},
   "outputs": [],
   "source": [
    "class Teacher:\n",
    "    def __init__(self, name, constraints, subjects):\n",
    "        self.name = name\n",
    "        self.num_intervals = 0\n",
    "        self.constraints = Constraints(constraints)\n",
    "        self.subjects = subjects\n",
    "\n",
    "    def is_available(self):\n",
    "        return self.num_intervals < 7\n",
    "\n",
    "    def is_specialized(self, s):\n",
    "        \"\"\"\n",
    "            Tells if the teacher may teach the subject s received as a parameter\n",
    "        \"\"\"\n",
    "        return s in self.subjects\n",
    "\n",
    "    def update(self):\n",
    "        self.num_intervals += 1\n",
    "\n",
    "    def restart(self):\n",
    "        self.num_intervals = 0"
   ]
  },
  {
   "cell_type": "code",
   "execution_count": 601,
   "metadata": {},
   "outputs": [],
   "source": [
    "class LectureHall:\n",
    "    def __init__(self, name, capacity, subjects):\n",
    "        self.name = name\n",
    "        self.capacity = capacity\n",
    "        self.subjects = subjects"
   ]
  },
  {
   "cell_type": "code",
   "execution_count": 602,
   "metadata": {},
   "outputs": [],
   "source": [
    "class Slot:\n",
    "    def __init__(self, day, interval, lecture_hall):\n",
    "        self.day = day\n",
    "        self.interval = interval\n",
    "        self.lecture_hall = lecture_hall\n",
    "\n",
    "        self.teacher = None\n",
    "        self.subject = None\n",
    "\n",
    "    def is_available(self):\n",
    "        return (self.subject is None) or (self.teacher is None)\n",
    "\n",
    "    def matches_requirements(self, lecture_hall, teacher, slots):\n",
    "        return self.lecture_hall.name == lecture_hall.name and\\\n",
    "            not any(slot.teacher == teacher for slot in [s for s in slots if s.interval == self.interval and s.day == self.day])\n",
    "\n",
    "    def update(self, subject, teacher):\n",
    "        self.subject = subject\n",
    "        self.teacher = teacher\n",
    "\n",
    "    def restart(self):\n",
    "        self.subject = None\n",
    "        self.teacher = None\n",
    "\n",
    "    def swap(self, other):\n",
    "        self.subject, other.subject = other.subject, self.subject\n",
    "        self.teacher, other.teacher = other.teacher, self.teacher\n",
    "\n",
    "    def can_swap(self, other, timetable):\n",
    "        def can_swap_helper(s1, s2, timetable):\n",
    "            # Take all the slots from the same day and intervals\n",
    "            same_interval_slots = [s for s in timetable[\"timetable\"].slots\\\n",
    "                if s.day == s1.day and s.interval == s1.interval and s != s1]\n",
    "\n",
    "            # Check if the s2 teacher has another class\n",
    "            teacher_cond = any(s2.teacher == s.teacher for s in same_interval_slots)\n",
    "\n",
    "            # Check if the s2 lecture hall is used in that interval\n",
    "            lecture_hall_cond = any(s2.lecture_hall == s.lecture_hall for s in same_interval_slots)\n",
    "\n",
    "            return teacher_cond and lecture_hall_cond\n",
    "        \n",
    "        return can_swap_helper(self, other, timetable) and can_swap_helper(other, self, timetable)\n"
   ]
  },
  {
   "cell_type": "code",
   "execution_count": 603,
   "metadata": {},
   "outputs": [],
   "source": [
    "class Timetable:\n",
    "    def __init__(self, days, interval, lecture_halls):\n",
    "        self.slots = []\n",
    "        for d in days:\n",
    "            for i in interval:\n",
    "                for l in lecture_halls:\n",
    "                    self.slots.append(Slot(d, i, l))"
   ]
  },
  {
   "cell_type": "code",
   "execution_count": 604,
   "metadata": {},
   "outputs": [],
   "source": [
    "def process_data(data):\n",
    "    # Initialize Days and Intervals\n",
    "    days = [Day(day_name) for day_name in data[\"Zile\"]]\n",
    "    intervals = [Interval(interval) for interval in data[\"Intervale\"]]\n",
    "\n",
    "    # Initialize subjects\n",
    "    subjects = [Subject(name, capacity) for name, capacity in data[\"Materii\"].items()]\n",
    "    \n",
    "    # Initialize lecture halls\n",
    "    lecture_halls = [LectureHall(name, details[\"Capacitate\"], [s for s in subjects if s.name in details[\"Materii\"]]) for name, details in data[\"Sali\"].items()]\n",
    "\n",
    "    # Create empty timetable\n",
    "    timetable = Timetable(days, intervals, lecture_halls)\n",
    "\n",
    "    # Initialize teachers\n",
    "    teachers = [Teacher(name, details[\"Constrangeri\"], [s for s in subjects if s.name in details[\"Materii\"]]) for name, details in data[\"Profesori\"].items()]\n",
    "    \n",
    "    return {\n",
    "        \"timetable\": timetable,\n",
    "        \"days\": days,\n",
    "        \"intervals\": intervals,\n",
    "        \"subjects\": subjects,\n",
    "        \"lecture_halls\": lecture_halls,\n",
    "        \"teachers\": teachers\n",
    "    }"
   ]
  },
  {
   "cell_type": "code",
   "execution_count": 605,
   "metadata": {},
   "outputs": [],
   "source": [
    "def print_data(data):\n",
    "    print(\"Timetable Slots:\")\n",
    "    for slot in data[\"timetable\"].slots:\n",
    "        slot_details = f\"{slot.day.name} {slot.interval.interval}, Subject: {slot.subject.name if slot.subject else 'None'}, \"\n",
    "        slot_details += f\"Teacher: {slot.teacher.name if slot.teacher else 'None'}, \"\n",
    "        slot_details += f\"Hall: {slot.lecture_hall.name if slot.lecture_hall else 'None'}\"\n",
    "        print(slot_details)\n",
    "\n",
    "    print(\"\\nSubjects:\")\n",
    "    for subject in data[\"subjects\"]:\n",
    "        print(f\"{subject.name}, Capacity: {subject.capacity}, Occupied: {subject.occupied}\")\n",
    "\n",
    "    print(\"\\nLecture Halls:\")\n",
    "    for hall in data[\"lecture_halls\"]:\n",
    "        subjects = ', '.join([s.name for s in hall.subjects])\n",
    "        print(f\"{hall.name}, Capacity: {hall.capacity}, Subjects: {subjects}\")\n",
    "\n",
    "    print(\"\\nTeachers:\")\n",
    "    for teacher in data[\"teachers\"]:\n",
    "        subjects = ', '.join([s.name for s in teacher.subjects])\n",
    "        constraints = f\"Days: {', '.join(teacher.constraints.prefferable_days)}, Intervals: {', '.join(teacher.constraints.prefferable_intervals)}, Pauses: {', '.join(teacher.constraints.c_pauses)}\"\n",
    "        print(f\"{teacher.name}, Subjects: {subjects}, Constraints: {constraints}\")"
   ]
  },
  {
   "cell_type": "code",
   "execution_count": 606,
   "metadata": {},
   "outputs": [],
   "source": [
    "def get_interval_tuple(interval, delimiter=\", \"):\n",
    "    if delimiter == \"-\":\n",
    "        splitted = interval.split(delimiter)\n",
    "    else:\n",
    "        splitted = interval[1:len(interval) - 1].split(delimiter)\n",
    "    \n",
    "    first = int(splitted[0])\n",
    "    second = int(splitted[1])\n",
    "    return (first, second)"
   ]
  },
  {
   "cell_type": "code",
   "execution_count": 607,
   "metadata": {},
   "outputs": [],
   "source": [
    "def save_timetable(data, file_path):\n",
    "    processed_data = {}\n",
    "\n",
    "    for d in data[\"days\"]:\n",
    "        processed_data[d.name] = {}\n",
    "        for i in data[\"intervals\"]:\n",
    "            processed_data[d.name][get_interval_tuple(i.interval)] = {}\n",
    "            \n",
    "    for slot in data[\"timetable\"].slots:\n",
    "        processed_data[slot.day.name][get_interval_tuple(slot.interval.interval)][slot.lecture_hall.name] = (slot.teacher.name, slot.subject.name) if slot.teacher else None\n",
    "    \n",
    "    pretty_data = pretty_print_timetable(processed_data, file_path)\n",
    "\n",
    "    with open(f\"outputs/{file_path.split('/')[1].split('.')[0]}.txt\", \"w\") as f:\n",
    "        f.writelines(pretty_data)\n",
    "    "
   ]
  },
  {
   "cell_type": "markdown",
   "metadata": {},
   "source": [
    "Function to run the algorithm\n"
   ]
  },
  {
   "cell_type": "code",
   "execution_count": 608,
   "metadata": {},
   "outputs": [],
   "source": [
    "def run_algorithm(file_path, func, h=None) -> None:\n",
    "    data = process_data(utils.read_yaml_file(file_path))\n",
    "\n",
    "    if h is not None:\n",
    "        data[\"h\"] = h\n",
    "\n",
    "    # TODO run the algorithm\n",
    "    func(data, file_path)"
   ]
  },
  {
   "cell_type": "code",
   "execution_count": 609,
   "metadata": {},
   "outputs": [],
   "source": [
    "def is_solution(timetable, specs):\n",
    "    return not check_mandatory_constraints(timetable.state, specs)"
   ]
  },
  {
   "cell_type": "code",
   "execution_count": 610,
   "metadata": {},
   "outputs": [],
   "source": [
    "def astar(data):\n",
    "    h = data[\"h\"]\n",
    "    \n",
    "    # Initialize empty timetable\n",
    "    start_timetable = Timetable(0, h(data), h, data)\n",
    "    \n",
    "    OPEN = []\n",
    "    CLOSED = set()\n",
    "    heappush(OPEN, (start_timetable.f, start_timetable))\n",
    "    \n",
    "    while OPEN:\n",
    "        _, curr = heappop(OPEN)\n",
    "\n",
    "        if is_solution(curr, data):\n",
    "            return curr\n",
    "\n",
    "        CLOSED.add(curr)\n",
    "        for SUCC in curr.generate_successors():\n",
    "            if SUCC not in CLOSED:\n",
    "                heappush(OPEN, (SUCC.f, SUCC))\n",
    "    \n",
    "    \n",
    "    "
   ]
  },
  {
   "cell_type": "code",
   "execution_count": 611,
   "metadata": {},
   "outputs": [],
   "source": [
    "def h1():\n",
    "    pass"
   ]
  },
  {
   "cell_type": "code",
   "execution_count": 612,
   "metadata": {},
   "outputs": [],
   "source": [
    "class RandomRestartHillClimbing():\n",
    "    def __all_subjects_covered(subjects):\n",
    "        return all(s.is_covered() for s in subjects)\n",
    "    \n",
    "    def __interval_constraint_breach(interval, searched_intervals):\n",
    "        return not any(interval[0] >= i[0] and interval[1] <= i[1] for i in searched_intervals)\n",
    "    \n",
    "    def generate_initial_state_restart(data, restarts):\n",
    "        for slot in data[\"timetable\"].slots:\n",
    "            slot.restart()\n",
    "\n",
    "        for s in data[\"subjects\"]:\n",
    "            s.restart()\n",
    "    \n",
    "        for t in data[\"teachers\"]:\n",
    "            t.restart()\n",
    "\n",
    "        restarts += 1\n",
    "\n",
    "        sys.stdout.write(f\"\\rRestarts: {restarts}\")\n",
    "        sys.stdout.flush()\n",
    "\n",
    "        return data, restarts\n",
    "    \n",
    "    def generate_initial_state(data):\n",
    "        restarts = 0\n",
    "        print(\"Starting to generate the initial state...\")\n",
    "\n",
    "        while not RandomRestartHillClimbing.__all_subjects_covered(data[\"subjects\"]):\n",
    "            # Choose a random subject\n",
    "            s = rd.choice([s for s in data[\"subjects\"] if not s.is_covered()])\n",
    "\n",
    "            while not s.is_covered():\n",
    "                # Choose a random lecture hall\n",
    "                try:\n",
    "                    l = rd.choice([l for l in data[\"lecture_halls\"] if s in l.subjects])\n",
    "                except IndexError:\n",
    "                    # if there is an IndexError, it means that the choice() method was applied on an empty list\n",
    "                    # therefore there are no lecture halls available so the generating algorithm has to be restarted\n",
    "                    data, restarts = RandomRestartHillClimbing.generate_initial_state_restart(data, restarts)\n",
    "                    break\n",
    "\n",
    "                # Choose a random teacher\n",
    "                try:\n",
    "                    t = rd.choice([t for t in data[\"teachers\"] if t.is_available() and t.is_specialized(s)])\n",
    "                except IndexError:\n",
    "                    # if there is an IndexError, it means that the choice() method was applied on an empty list\n",
    "                    # therefore there are no teachers available so the generating algorithm has to be restarted\n",
    "                    data, restarts = RandomRestartHillClimbing.generate_initial_state_restart(data, restarts)\n",
    "                    break\n",
    "\n",
    "                # Choose a random slot\n",
    "                try:\n",
    "                    slot = rd.choice([slot for slot in data[\"timetable\"].slots\\\n",
    "                        if slot.is_available() and slot.matches_requirements(l, t, data[\"timetable\"].slots)])\n",
    "                except IndexError:\n",
    "                    # if there is an IndexError, it means that the choice() method was applied on an empty list\n",
    "                    # therefore there are no slots available so the generating algorithm has to be restarted\n",
    "                    data, restarts = RandomRestartHillClimbing.generate_initial_state_restart(data, restarts)\n",
    "                    break\n",
    "            \n",
    "                slot.update(s, t)\n",
    "                s.update(l)\n",
    "                t.update()\n",
    "        print(\"\\nGenerating the initial state - DONE\")\n",
    "        return data\n",
    "    \n",
    "    def eval(timetable):\n",
    "        \"\"\"\n",
    "            This is the method used for evaluating the cost of the current state/timetable.\n",
    "            It is used in Hill Climbing algorithm for choosing the next state.\n",
    "            The cost consists in the number of constraints that are not breached.\n",
    "\n",
    "            Used primarily for:\n",
    "                if Eval(S') > Eval(S) return S, where S' is max(s for s in SUCC(S))\n",
    "        \"\"\"\n",
    "        cost = 0\n",
    "        slots = timetable[\"timetable\"].slots\n",
    "    \n",
    "        # Evaluate each slot in the timetable\n",
    "        for slot in slots:\n",
    "            # If the slot is not available, it means there are a teacher and a subject allocated for the slot\n",
    "            if not slot.is_available():\n",
    "                # Day constraint breach\n",
    "                if slot.day.name not in slot.teacher.constraints.prefferable_days:\n",
    "                    cost += 1\n",
    "                \n",
    "                # Interval constraint breach\n",
    "                slot_interval = get_interval_tuple(slot.interval.interval)\n",
    "                prefferable_intervals = [get_interval_tuple(interval, \"-\") for interval in slot.teacher.constraints.prefferable_intervals]\n",
    "                if RandomRestartHillClimbing.__interval_constraint_breach(slot_interval, prefferable_intervals):\n",
    "                    cost += 1\n",
    "\n",
    "        return cost\n",
    "\n",
    "    def generate_successor(S):\n",
    "        \"\"\"\n",
    "            Generate all successors from the current timetable.\n",
    "            These successors are similar to the latter timetable,\n",
    "            as there is just a swap taking place, interchanging two slots\n",
    "            for example.\n",
    "            This approach is useful for reducing the number of constraints.\n",
    "            Choose the best one based on the eval() method.\n",
    "        \"\"\"\n",
    "        best_swap = None\n",
    "        best_cost = RandomRestartHillClimbing.eval(S)\n",
    "        slot_swaps = list(itertools.combinations(S[\"timetable\"].slots, 2))\n",
    "\n",
    "        # Keep the same variable/timetable to avoid deep copy and duplicating overhead\n",
    "        for s1, s2 in slot_swaps:\n",
    "            # Check if the swap will cause breaches among the hard constraints\n",
    "            if not s1.can_swap(s2, S):\n",
    "                continue\n",
    "\n",
    "            # Realize the swap\n",
    "            s1.swap(s2)\n",
    "\n",
    "            # If the new state's cost is better than the best cost, update the best swap\n",
    "            new_cost = RandomRestartHillClimbing.eval(S)\n",
    "            if new_cost > best_cost:\n",
    "                best_swap = (s1, s2)\n",
    "                best_cost = new_cost\n",
    "\n",
    "            # Undo the swap to proceed with the next ones\n",
    "            s1.swap(s2)\n",
    "\n",
    "        if best_swap:\n",
    "            s1, s2 = best_swap[0], best_swap[1]\n",
    "            s1.swap(s2)\n",
    "            return S, False\n",
    "        else:\n",
    "            # No better state found, should stop\n",
    "            return S, True"
   ]
  },
  {
   "cell_type": "code",
   "execution_count": 613,
   "metadata": {},
   "outputs": [],
   "source": [
    "def random_restart_hill_climbing(data, file_path):\n",
    "    # Generate the initial state\n",
    "    S = RandomRestartHillClimbing.generate_initial_state(data)\n",
    "\n",
    "    \"\"\"\n",
    "        Generate the best successor.\n",
    "        If the best one is no better than the current state, it should stop.\n",
    "    \"\"\"\n",
    "    stop = False\n",
    "    while not stop:\n",
    "        S, stop = RandomRestartHillClimbing.generate_successor(S)\n",
    "    \n",
    "    save_timetable(S, file_path)\n",
    "    "
   ]
  },
  {
   "cell_type": "markdown",
   "metadata": {},
   "source": [
    "Run the algorithm for \"dummy.yaml\""
   ]
  },
  {
   "cell_type": "code",
   "execution_count": 614,
   "metadata": {},
   "outputs": [
    {
     "name": "stdout",
     "output_type": "stream",
     "text": [
      "Starting to generate the initial state...\n",
      "\n",
      "Generating the initial state - DONE\n"
     ]
    },
    {
     "ename": "KeyError",
     "evalue": "(8, 10)",
     "output_type": "error",
     "traceback": [
      "\u001b[1;31m---------------------------------------------------------------------------\u001b[0m",
      "\u001b[1;31mKeyError\u001b[0m                                  Traceback (most recent call last)",
      "\u001b[1;32m~\\AppData\\Local\\Temp/ipykernel_10004/857682791.py\u001b[0m in \u001b[0;36m<module>\u001b[1;34m\u001b[0m\n\u001b[1;32m----> 1\u001b[1;33m \u001b[0mrun_algorithm\u001b[0m\u001b[1;33m(\u001b[0m\u001b[1;34m\"inputs/dummy.yaml\"\u001b[0m\u001b[1;33m,\u001b[0m \u001b[0mrandom_restart_hill_climbing\u001b[0m\u001b[1;33m)\u001b[0m\u001b[1;33m\u001b[0m\u001b[1;33m\u001b[0m\u001b[0m\n\u001b[0m",
      "\u001b[1;32m~\\AppData\\Local\\Temp/ipykernel_10004/719472094.py\u001b[0m in \u001b[0;36mrun_algorithm\u001b[1;34m(file_path, func, h)\u001b[0m\n\u001b[0;32m      6\u001b[0m \u001b[1;33m\u001b[0m\u001b[0m\n\u001b[0;32m      7\u001b[0m     \u001b[1;31m# TODO run the algorithm\u001b[0m\u001b[1;33m\u001b[0m\u001b[1;33m\u001b[0m\u001b[0m\n\u001b[1;32m----> 8\u001b[1;33m     \u001b[0mfunc\u001b[0m\u001b[1;33m(\u001b[0m\u001b[0mdata\u001b[0m\u001b[1;33m,\u001b[0m \u001b[0mfile_path\u001b[0m\u001b[1;33m)\u001b[0m\u001b[1;33m\u001b[0m\u001b[1;33m\u001b[0m\u001b[0m\n\u001b[0m",
      "\u001b[1;32m~\\AppData\\Local\\Temp/ipykernel_10004/490440441.py\u001b[0m in \u001b[0;36mrandom_restart_hill_climbing\u001b[1;34m(data, file_path)\u001b[0m\n\u001b[0;32m     11\u001b[0m         \u001b[0mS\u001b[0m\u001b[1;33m,\u001b[0m \u001b[0mstop\u001b[0m \u001b[1;33m=\u001b[0m \u001b[0mRandomRestartHillClimbing\u001b[0m\u001b[1;33m.\u001b[0m\u001b[0mgenerate_successor\u001b[0m\u001b[1;33m(\u001b[0m\u001b[0mS\u001b[0m\u001b[1;33m)\u001b[0m\u001b[1;33m\u001b[0m\u001b[1;33m\u001b[0m\u001b[0m\n\u001b[0;32m     12\u001b[0m \u001b[1;33m\u001b[0m\u001b[0m\n\u001b[1;32m---> 13\u001b[1;33m     \u001b[0msave_timetable\u001b[0m\u001b[1;33m(\u001b[0m\u001b[0mS\u001b[0m\u001b[1;33m,\u001b[0m \u001b[0mfile_path\u001b[0m\u001b[1;33m)\u001b[0m\u001b[1;33m\u001b[0m\u001b[1;33m\u001b[0m\u001b[0m\n\u001b[0m\u001b[0;32m     14\u001b[0m \u001b[1;33m\u001b[0m\u001b[0m\n",
      "\u001b[1;32m~\\AppData\\Local\\Temp/ipykernel_10004/3800017789.py\u001b[0m in \u001b[0;36msave_timetable\u001b[1;34m(data, file_path)\u001b[0m\n\u001b[0;32m     10\u001b[0m         \u001b[0mprocessed_data\u001b[0m\u001b[1;33m[\u001b[0m\u001b[0mslot\u001b[0m\u001b[1;33m.\u001b[0m\u001b[0mday\u001b[0m\u001b[1;33m.\u001b[0m\u001b[0mname\u001b[0m\u001b[1;33m]\u001b[0m\u001b[1;33m[\u001b[0m\u001b[0mget_interval_tuple\u001b[0m\u001b[1;33m(\u001b[0m\u001b[0mslot\u001b[0m\u001b[1;33m.\u001b[0m\u001b[0minterval\u001b[0m\u001b[1;33m.\u001b[0m\u001b[0minterval\u001b[0m\u001b[1;33m)\u001b[0m\u001b[1;33m]\u001b[0m\u001b[1;33m[\u001b[0m\u001b[0mslot\u001b[0m\u001b[1;33m.\u001b[0m\u001b[0mlecture_hall\u001b[0m\u001b[1;33m.\u001b[0m\u001b[0mname\u001b[0m\u001b[1;33m]\u001b[0m \u001b[1;33m=\u001b[0m \u001b[1;33m(\u001b[0m\u001b[0mslot\u001b[0m\u001b[1;33m.\u001b[0m\u001b[0mteacher\u001b[0m\u001b[1;33m.\u001b[0m\u001b[0mname\u001b[0m\u001b[1;33m,\u001b[0m \u001b[0mslot\u001b[0m\u001b[1;33m.\u001b[0m\u001b[0msubject\u001b[0m\u001b[1;33m.\u001b[0m\u001b[0mname\u001b[0m\u001b[1;33m)\u001b[0m \u001b[1;32mif\u001b[0m \u001b[0mslot\u001b[0m\u001b[1;33m.\u001b[0m\u001b[0mteacher\u001b[0m \u001b[1;32melse\u001b[0m \u001b[1;32mNone\u001b[0m\u001b[1;33m\u001b[0m\u001b[1;33m\u001b[0m\u001b[0m\n\u001b[0;32m     11\u001b[0m \u001b[1;33m\u001b[0m\u001b[0m\n\u001b[1;32m---> 12\u001b[1;33m     \u001b[0mpretty_data\u001b[0m \u001b[1;33m=\u001b[0m \u001b[0mpretty_print_timetable\u001b[0m\u001b[1;33m(\u001b[0m\u001b[0mprocessed_data\u001b[0m\u001b[1;33m,\u001b[0m \u001b[0mfile_path\u001b[0m\u001b[1;33m)\u001b[0m\u001b[1;33m\u001b[0m\u001b[1;33m\u001b[0m\u001b[0m\n\u001b[0m\u001b[0;32m     13\u001b[0m \u001b[1;33m\u001b[0m\u001b[0m\n\u001b[0;32m     14\u001b[0m     \u001b[1;32mwith\u001b[0m \u001b[0mopen\u001b[0m\u001b[1;33m(\u001b[0m\u001b[1;34mf\"outputs/{file_path.split('/')[1].split('.')[0]}.txt\"\u001b[0m\u001b[1;33m,\u001b[0m \u001b[1;34m\"w\"\u001b[0m\u001b[1;33m)\u001b[0m \u001b[1;32mas\u001b[0m \u001b[0mf\u001b[0m\u001b[1;33m:\u001b[0m\u001b[1;33m\u001b[0m\u001b[1;33m\u001b[0m\u001b[0m\n",
      "\u001b[1;32md:\\IA\\tema1\\utils.py\u001b[0m in \u001b[0;36mpretty_print_timetable\u001b[1;34m(timetable, input_path)\u001b[0m\n\u001b[0;32m    190\u001b[0m     '''\n\u001b[0;32m    191\u001b[0m     \u001b[1;32mif\u001b[0m \u001b[1;34m'Luni'\u001b[0m \u001b[1;32min\u001b[0m \u001b[0mtimetable\u001b[0m\u001b[1;33m:\u001b[0m\u001b[1;33m\u001b[0m\u001b[1;33m\u001b[0m\u001b[0m\n\u001b[1;32m--> 192\u001b[1;33m         \u001b[1;32mreturn\u001b[0m \u001b[0mpretty_print_timetable_aux_zile\u001b[0m\u001b[1;33m(\u001b[0m\u001b[0mtimetable\u001b[0m\u001b[1;33m,\u001b[0m \u001b[0minput_path\u001b[0m\u001b[1;33m)\u001b[0m\u001b[1;33m\u001b[0m\u001b[1;33m\u001b[0m\u001b[0m\n\u001b[0m\u001b[0;32m    193\u001b[0m     \u001b[1;32melse\u001b[0m\u001b[1;33m:\u001b[0m\u001b[1;33m\u001b[0m\u001b[1;33m\u001b[0m\u001b[0m\n\u001b[0;32m    194\u001b[0m         \u001b[1;32mreturn\u001b[0m \u001b[0mpretty_print_timetable_aux_intervale\u001b[0m\u001b[1;33m(\u001b[0m\u001b[0mtimetable\u001b[0m\u001b[1;33m,\u001b[0m \u001b[0minput_path\u001b[0m\u001b[1;33m)\u001b[0m\u001b[1;33m\u001b[0m\u001b[1;33m\u001b[0m\u001b[0m\n",
      "\u001b[1;32md:\\IA\\tema1\\utils.py\u001b[0m in \u001b[0;36mpretty_print_timetable_aux_zile\u001b[1;34m(timetable, input_path)\u001b[0m\n\u001b[0;32m    104\u001b[0m     \u001b[0mtable_str\u001b[0m \u001b[1;33m=\u001b[0m \u001b[1;34m'|           Interval           |             Luni             |             Marti            |           Miercuri           |              Joi             |            Vineri            |\\n'\u001b[0m\u001b[1;33m\u001b[0m\u001b[1;33m\u001b[0m\u001b[0m\n\u001b[0;32m    105\u001b[0m \u001b[1;33m\u001b[0m\u001b[0m\n\u001b[1;32m--> 106\u001b[1;33m     \u001b[0mno_classes\u001b[0m \u001b[1;33m=\u001b[0m \u001b[0mlen\u001b[0m\u001b[1;33m(\u001b[0m\u001b[0mtimetable\u001b[0m\u001b[1;33m[\u001b[0m\u001b[1;34m'Luni'\u001b[0m\u001b[1;33m]\u001b[0m\u001b[1;33m[\u001b[0m\u001b[1;33m(\u001b[0m\u001b[1;36m8\u001b[0m\u001b[1;33m,\u001b[0m \u001b[1;36m10\u001b[0m\u001b[1;33m)\u001b[0m\u001b[1;33m]\u001b[0m\u001b[1;33m)\u001b[0m\u001b[1;33m\u001b[0m\u001b[1;33m\u001b[0m\u001b[0m\n\u001b[0m\u001b[0;32m    107\u001b[0m \u001b[1;33m\u001b[0m\u001b[0m\n\u001b[0;32m    108\u001b[0m     \u001b[0mfirst_line_len\u001b[0m \u001b[1;33m=\u001b[0m \u001b[1;36m187\u001b[0m\u001b[1;33m\u001b[0m\u001b[1;33m\u001b[0m\u001b[0m\n",
      "\u001b[1;31mKeyError\u001b[0m: (8, 10)"
     ]
    }
   ],
   "source": [
    "run_algorithm(\"inputs/dummy.yaml\", random_restart_hill_climbing)"
   ]
  },
  {
   "cell_type": "markdown",
   "metadata": {},
   "source": [
    "Run the algorithm for \"orar_constrans_incalcat.yaml\""
   ]
  },
  {
   "cell_type": "code",
   "execution_count": null,
   "metadata": {},
   "outputs": [
    {
     "ename": "TypeError",
     "evalue": "run_algorithm() missing 1 required positional argument: 'func'",
     "output_type": "error",
     "traceback": [
      "\u001b[1;31m---------------------------------------------------------------------------\u001b[0m",
      "\u001b[1;31mTypeError\u001b[0m                                 Traceback (most recent call last)",
      "\u001b[1;32m~\\AppData\\Local\\Temp/ipykernel_10004/3266231344.py\u001b[0m in \u001b[0;36m<module>\u001b[1;34m\u001b[0m\n\u001b[1;32m----> 1\u001b[1;33m \u001b[0mrun_algorithm\u001b[0m\u001b[1;33m(\u001b[0m\u001b[1;34m\"inputs/orar_constrans_incalcat.yaml\"\u001b[0m\u001b[1;33m,\u001b[0m \u001b[0mh\u001b[0m\u001b[1;33m=\u001b[0m\u001b[0mh1\u001b[0m\u001b[1;33m)\u001b[0m\u001b[1;33m\u001b[0m\u001b[1;33m\u001b[0m\u001b[0m\n\u001b[0m",
      "\u001b[1;31mTypeError\u001b[0m: run_algorithm() missing 1 required positional argument: 'func'"
     ]
    }
   ],
   "source": [
    "run_algorithm(\"inputs/orar_constrans_incalcat.yaml\", h=h1)"
   ]
  },
  {
   "cell_type": "markdown",
   "metadata": {},
   "source": [
    "Run the algorithm for \"orar_mic_exact.yaml\""
   ]
  },
  {
   "cell_type": "code",
   "execution_count": null,
   "metadata": {},
   "outputs": [],
   "source": [
    "run_algorithm(\"inputs/orar_mic_exact.yaml\", h=h1)"
   ]
  },
  {
   "cell_type": "markdown",
   "metadata": {},
   "source": [
    "Run the algorithm for \"orar_mediu_relaxat.yaml\""
   ]
  },
  {
   "cell_type": "code",
   "execution_count": null,
   "metadata": {},
   "outputs": [],
   "source": [
    "run_algorithm(\"inputs/orar_mediu_relaxat.yaml\", h=h1)"
   ]
  },
  {
   "cell_type": "markdown",
   "metadata": {},
   "source": [
    "Run the algorithm for \"orar_mare_relaxat.yaml\""
   ]
  },
  {
   "cell_type": "code",
   "execution_count": null,
   "metadata": {},
   "outputs": [],
   "source": [
    "run_algorithm(\"inputs/orar_mare_relaxat.yaml\", h=h1)"
   ]
  },
  {
   "cell_type": "markdown",
   "metadata": {},
   "source": [
    "Run the algorithm for all files"
   ]
  },
  {
   "cell_type": "code",
   "execution_count": null,
   "metadata": {},
   "outputs": [
    {
     "name": "stdout",
     "output_type": "stream",
     "text": [
      "Starting to generate the initial state...\n",
      "Generating the initial state - DONE\n",
      "Starting to generate the initial state...\n",
      "Restarts: 4Generating the initial state - DONE\n",
      "Starting to generate the initial state...\n",
      "Generating the initial state - DONE\n",
      "Starting to generate the initial state...\n",
      "Generating the initial state - DONE\n",
      "Starting to generate the initial state...\n",
      "Generating the initial state - DONE\n",
      "Starting to generate the initial state...\n",
      "Generating the initial state - DONE\n"
     ]
    }
   ],
   "source": [
    "input_files = [\n",
    "    \"inputs/dummy.yaml\",\n",
    "    \"inputs/orar_bonus_exact.yaml\",\n",
    "    \"inputs/orar_constrans_incalcat.yaml\",\n",
    "    \"inputs/orar_mare_relaxat.yaml\",\n",
    "    \"inputs/orar_mediu_relaxat.yaml\",\n",
    "    \"inputs/orar_mic_exact.yaml\",\n",
    "]\n",
    "\n",
    "for file in input_files:\n",
    "    run_algorithm(file, random_restart_hill_climbing)"
   ]
  }
 ],
 "metadata": {
  "kernelspec": {
   "display_name": "Python 3",
   "language": "python",
   "name": "python3"
  },
  "language_info": {
   "codemirror_mode": {
    "name": "ipython",
    "version": 3
   },
   "file_extension": ".py",
   "mimetype": "text/x-python",
   "name": "python",
   "nbconvert_exporter": "python",
   "pygments_lexer": "ipython3",
   "version": "3.9.13"
  }
 },
 "nbformat": 4,
 "nbformat_minor": 2
}

{
 "cells": [
  {
   "cell_type": "markdown",
   "metadata": {},
   "source": [
    "\n",
    "Import the necessary modules"
   ]
  },
  {
   "cell_type": "code",
   "execution_count": 557,
   "metadata": {},
   "outputs": [],
   "source": [
    "import matplotlib.pyplot as plt\n",
    "import random as rd\n",
    "import numpy as np\n",
    "import contextlib\n",
    "import itertools\n",
    "import utils\n",
    "import time\n",
    "import sys\n",
    "import io\n",
    "\n",
    "from tqdm import tqdm\n",
    "from heapq import heappop, heappush\n",
    "from utils import pretty_print_timetable\n",
    "from check_constraints import check_mandatory_constraints"
   ]
  },
  {
   "cell_type": "code",
   "execution_count": 558,
   "metadata": {},
   "outputs": [],
   "source": [
    "class Day:\n",
    "    def __init__(self, name):\n",
    "        self.name = name"
   ]
  },
  {
   "cell_type": "code",
   "execution_count": 559,
   "metadata": {},
   "outputs": [],
   "source": [
    "class Interval:\n",
    "    def __init__(self, interval):\n",
    "        self.interval = interval"
   ]
  },
  {
   "cell_type": "code",
   "execution_count": 560,
   "metadata": {},
   "outputs": [],
   "source": [
    "class Subject:\n",
    "    def __init__(self, name, capacity, occupied=0):\n",
    "        self.name = name\n",
    "        self.capacity = capacity\n",
    "        self.occupied = occupied\n",
    "    \n",
    "    def is_covered(self):\n",
    "        return self.occupied >= self.capacity\n",
    "\n",
    "    def update(self, lecture_hall):\n",
    "        self.occupied += lecture_hall.capacity\n",
    "\n",
    "    def restart(self):\n",
    "        self.occupied = 0"
   ]
  },
  {
   "cell_type": "code",
   "execution_count": 561,
   "metadata": {},
   "outputs": [],
   "source": [
    "class Constraints:\n",
    "    def __init__(self, constraints):\n",
    "        days = [\"Luni\", \"Marti\", \"Miercuri\", \"Joi\", \"Vineri\", \"Sambata\", \"Duminica\"]\n",
    "        self.prefferable_days = []\n",
    "        self.prefferable_intervals = []\n",
    "        self.c_pauses = []\n",
    "        \n",
    "        for c in constraints:\n",
    "            if c in days:\n",
    "                self.prefferable_days.append(c)\n",
    "            \n",
    "            if \"-\" in c and not \"!\" in c:\n",
    "                self.prefferable_intervals.append(c)\n",
    "\n",
    "            if \"Pauza\" in c:\n",
    "                self.c_pauses.append(c)"
   ]
  },
  {
   "cell_type": "code",
   "execution_count": 562,
   "metadata": {},
   "outputs": [],
   "source": [
    "class Teacher:\n",
    "    def __init__(self, name, constraints, subjects, num_intervals=0):\n",
    "        self.name = name\n",
    "        self.num_intervals = num_intervals\n",
    "        self.constraints = Constraints(constraints)\n",
    "        self.subjects = subjects\n",
    "\n",
    "    def is_available(self):\n",
    "        return self.num_intervals < 7\n",
    "\n",
    "    def is_specialized(self, s):\n",
    "        \"\"\"\n",
    "            Tells if the teacher may teach the subject s received as a parameter\n",
    "        \"\"\"\n",
    "        return s in self.subjects\n",
    "\n",
    "    def matches_teacher_copy(self, other):\n",
    "        return self.name == other.name\n",
    "\n",
    "    def update(self):\n",
    "        self.num_intervals += 1\n",
    "\n",
    "    def restart(self):\n",
    "        self.num_intervals = 0\n",
    "\n",
    "    def matches_requirements(self, searched_slot, slots):\n",
    "        return not any(slot.teacher == self for slot in [s for s in slots if s.interval == searched_slot.interval and s.day == searched_slot.day])\n"
   ]
  },
  {
   "cell_type": "code",
   "execution_count": 563,
   "metadata": {},
   "outputs": [],
   "source": [
    "class LectureHall:\n",
    "    def __init__(self, name, capacity, subjects):\n",
    "        self.name = name\n",
    "        self.capacity = capacity\n",
    "        self.subjects = subjects"
   ]
  },
  {
   "cell_type": "code",
   "execution_count": 756,
   "metadata": {},
   "outputs": [],
   "source": [
    "class Slot:\n",
    "    def __init__(self, day, interval, lecture_hall):\n",
    "        self.day = day\n",
    "        self.interval = interval\n",
    "        self.lecture_hall = lecture_hall\n",
    "\n",
    "        self.teacher = None\n",
    "        self.subject = None\n",
    "\n",
    "    def is_available(self):\n",
    "        return (self.subject is None) or (self.teacher is None)\n",
    "\n",
    "    def matches_requirements(self, lecture_hall, slots, teacher = None):\n",
    "        return self.lecture_hall.name == lecture_hall.name and (teacher is None or\\\n",
    "            not any(slot.teacher == teacher for slot in [s for s in slots if s.interval == self.interval and s.day == self.day]))\n",
    "\n",
    "    def matches_subject(self, subject: str):\n",
    "        return subject in [s.name for s in lecture_hall.subjects]\n",
    "\n",
    "    def matches_slot_copy(self, other):\n",
    "        return self.day.name == other.day.name and self.interval.interval == other.interval.interval and self.lecture_hall.name == other.lecture_hall.name\n",
    "\n",
    "    def matches_slot_assignments(self, other):\n",
    "        if self.is_available() and other.is_available():\n",
    "            return True\n",
    "        return not((not self.is_available() and other.is_available()) or\\\n",
    "            (self.is_available() and not other.is_available()) or\\\n",
    "            (not self.teacher.name == other.teacher.name or not self.subject.name == other.subject.name)) \n",
    "\n",
    "    def update(self, subject, teacher):\n",
    "        self.subject = subject\n",
    "        self.teacher = teacher\n",
    "\n",
    "    def restart(self):\n",
    "        self.subject = None\n",
    "        self.teacher = None\n",
    "\n",
    "    def swap(self, other):\n",
    "        self.subject, other.subject = other.subject, self.subject\n",
    "        self.teacher, other.teacher = other.teacher, self.teacher                \n",
    "\n",
    "    def get_same_interval_slots(slot, day, interval, timetable):\n",
    "        return [s for s in timetable[\"timetable\"].slots\\\n",
    "                if s.day == day and s.interval == interval and s != slot]\n",
    "\n",
    "    def can_swap(self, other, timetable):\n",
    "        def can_swap_helper(s1, s2, timetable):\n",
    "            # Check subject permissions\n",
    "            subject_permissions = s1.subject_permissions(s2) and s2.subject_permissions(s1)\n",
    "\n",
    "            if not subject_permissions:\n",
    "                return False\n",
    "\n",
    "            # Take all the slots from the same day and intervals\n",
    "            same_interval_slots = Slot.get_same_interval_slots(s1, s1.day, s1.interval, timetable)\n",
    "\n",
    "            # Check if the s2 teacher has another class\n",
    "            teacher_cond = not any(s2.teacher == s.teacher for s in same_interval_slots)\n",
    "\n",
    "            # Check if the s2 lecture hall is used in that interval\n",
    "            lecture_hall_cond = not any(not s.is_available() and s2.lecture_hall == s.lecture_hall for s in same_interval_slots)\n",
    "\n",
    "            return teacher_cond and lecture_hall_cond\n",
    "        \n",
    "        return can_swap_helper(self, other, timetable) and can_swap_helper(other, self, timetable)\n",
    "\n",
    "    def move(self, day, interval, slot):\n",
    "        slot_to_move = slot\n",
    "        slot_to_move.teacher = self.teacher\n",
    "        slot_to_move.subject = self.subject\n",
    "\n",
    "        self.teacher = None\n",
    "        self.subject = None\n",
    "    \n",
    "    def can_move(self, day, interval, timetable):\n",
    "        same_interval_slots = Slot.get_same_interval_slots(self, day, interval, timetable)\n",
    "        return not any(s.teacher == self.teacher for s in same_interval_slots) and\\\n",
    "            not any(not s.is_available() and s.lecture_hall == self.lecture_hall for s in same_interval_slots)\n",
    "\n",
    "    def assign_new_teacher(self, teacher):\n",
    "        old_teacher = self.teacher\n",
    "        old_teacher.num_intervals -= 1\n",
    "        self.teacher = teacher\n",
    "        teacher.update()\n",
    "\n",
    "    def can_assign_new_teacher(self, teacher, timetable):\n",
    "        if teacher is self.teacher:\n",
    "            return False\n",
    "\n",
    "        if not teacher.is_available():\n",
    "            return False\n",
    "        \n",
    "        same_interval_slots = Slot.get_same_interval_slots(self, self.day, self.interval, timetable)\n",
    "        \n",
    "        return not any(s.teacher == teacher for s in same_interval_slots) and teacher.is_specialized(self.subject)\n",
    "\n",
    "    def subject_permissions(self, other):\n",
    "        if self.subject is None:\n",
    "            return True\n",
    "    \n",
    "        if self.subject.name not in [s.name for s in other.lecture_hall.subjects]:\n",
    "            return False\n",
    "        \n",
    "        if self.lecture_hall.capacity != other.lecture_hall.capacity:\n",
    "            return False\n",
    "        return True\n"
   ]
  },
  {
   "cell_type": "code",
   "execution_count": 565,
   "metadata": {},
   "outputs": [],
   "source": [
    "class Timetable:\n",
    "    def __init__(self, days=[], interval=[], lecture_halls=[]):\n",
    "        self.slots = []\n",
    "        for d in days:\n",
    "            for i in interval:\n",
    "                for l in lecture_halls:\n",
    "                    self.slots.append(Slot(d, i, l))"
   ]
  },
  {
   "cell_type": "code",
   "execution_count": 566,
   "metadata": {},
   "outputs": [],
   "source": [
    "def process_data(data):\n",
    "    # Initialize Days and Intervals\n",
    "    days = [Day(day_name) for day_name in data[\"Zile\"]]\n",
    "    intervals = [Interval(interval) for interval in data[\"Intervale\"]]\n",
    "\n",
    "    # Initialize subjects\n",
    "    subjects = [Subject(name, capacity) for name, capacity in data[\"Materii\"].items()]\n",
    "    \n",
    "    # Initialize lecture halls\n",
    "    lecture_halls = [LectureHall(name, details[\"Capacitate\"], [s for s in subjects if s.name in details[\"Materii\"]]) for name, details in data[\"Sali\"].items()]\n",
    "\n",
    "    # Create empty timetable\n",
    "    timetable = Timetable(days, intervals, lecture_halls)\n",
    "\n",
    "    # Initialize teachers\n",
    "    teachers = [Teacher(name, details[\"Constrangeri\"], [s for s in subjects if s.name in details[\"Materii\"]]) for name, details in data[\"Profesori\"].items()]\n",
    "    \n",
    "    return {\n",
    "        \"timetable\": timetable,\n",
    "        \"days\": days,\n",
    "        \"intervals\": intervals,\n",
    "        \"subjects\": subjects,\n",
    "        \"lecture_halls\": lecture_halls,\n",
    "        \"teachers\": teachers\n",
    "    }"
   ]
  },
  {
   "cell_type": "code",
   "execution_count": 748,
   "metadata": {},
   "outputs": [],
   "source": [
    "def print_data(data):\n",
    "    print(\"Timetable Slots:\")\n",
    "    for slot in data[\"timetable\"].slots:\n",
    "        slot_details = f\"{slot.day.name} {slot.interval.interval}, Subject: {slot.subject.name if slot.subject else 'None'}, \"\n",
    "        slot_details += f\"Teacher: {slot.teacher.name if slot.teacher else 'None'}, \"\n",
    "        slot_details += f\"Hall: {slot.lecture_hall.name if slot.lecture_hall else 'None'}\"\n",
    "        print(slot_details)\n",
    "\n",
    "    print(\"\\nSubjects:\")\n",
    "    for subject in data[\"subjects\"]:\n",
    "        print(f\"{subject.name}, Capacity: {subject.capacity}, Occupied: {subject.occupied}\")\n",
    "\n",
    "    print(\"\\nLecture Halls:\")\n",
    "    for hall in data[\"lecture_halls\"]:\n",
    "        subjects = ', '.join([s.name for s in hall.subjects])\n",
    "        print(f\"{hall.name}, Capacity: {hall.capacity}, Subjects: {subjects}\")\n",
    "\n",
    "    print(\"\\nTeachers:\")\n",
    "    for teacher in data[\"teachers\"]:\n",
    "        subjects = ', '.join([s.name for s in teacher.subjects])\n",
    "        constraints = f\"Days: {', '.join(teacher.constraints.prefferable_days)}, Intervals: {', '.join(teacher.constraints.prefferable_intervals)}, Pauses: {', '.join(teacher.constraints.c_pauses)}\"\n",
    "        print(f\"{teacher.name}, Subjects: {subjects}, Constraints: {constraints}\")"
   ]
  },
  {
   "cell_type": "code",
   "execution_count": 568,
   "metadata": {},
   "outputs": [],
   "source": [
    "def get_interval_tuple(interval, delimiter=\", \"):\n",
    "    if delimiter == \"-\":\n",
    "        splitted = interval.split(delimiter)\n",
    "    else:\n",
    "        splitted = interval[1:len(interval) - 1].split(delimiter)\n",
    "    \n",
    "    first = int(splitted[0])\n",
    "    second = int(splitted[1])\n",
    "    return (first, second)"
   ]
  },
  {
   "cell_type": "code",
   "execution_count": 569,
   "metadata": {},
   "outputs": [],
   "source": [
    "def save_timetable(data, file_path, save_to_file=True, data_processed=False):\n",
    "    if data_processed:\n",
    "        processed_data = data\n",
    "    else:\n",
    "        processed_data = {}\n",
    "        \n",
    "        for d in data[\"days\"]:\n",
    "            processed_data[d.name] = {}\n",
    "            for i in data[\"intervals\"]:\n",
    "                processed_data[d.name][get_interval_tuple(i.interval)] = {}\n",
    "                \n",
    "        for slot in data[\"timetable\"].slots:\n",
    "            processed_data[slot.day.name][get_interval_tuple(slot.interval.interval)][slot.lecture_hall.name] = (slot.teacher.name, slot.subject.name) if slot.teacher else None\n",
    "        \n",
    "    pretty_data = pretty_print_timetable(processed_data, file_path)\n",
    "\n",
    "    if save_to_file:\n",
    "        with open(f\"outputs/{file_path.split('/')[1].split('.')[0]}.txt\", \"w\") as f:\n",
    "            f.writelines(pretty_data)\n",
    "    else:\n",
    "        return processed_data\n",
    "        \n",
    "    "
   ]
  },
  {
   "cell_type": "code",
   "execution_count": 570,
   "metadata": {},
   "outputs": [],
   "source": [
    "class Astar():\n",
    "    days, intervals, subjects, lecture_halls = [], [], [], []\n",
    "    sorted_subjects = []\n",
    "    \n",
    "    def f(g, h):\n",
    "        return g + h\n",
    "\n",
    "    def h(S):\n",
    "        cost = 0\n",
    "        slots = S[\"timetable\"].slots\n",
    "    \n",
    "        # Evaluate each slot in the timetable\n",
    "        for slot in slots:\n",
    "            # If the slot is not available, it means there are a teacher and a subject allocated for the slot\n",
    "            if not slot.is_available():\n",
    "                # Day constraint breach\n",
    "                if slot.day.name not in slot.teacher.constraints.prefferable_days:\n",
    "                    cost += 1\n",
    "                \n",
    "                # Interval constraint breach\n",
    "                slot_interval = get_interval_tuple(slot.interval.interval)\n",
    "                prefferable_intervals = [get_interval_tuple(interval, \"-\") for interval in slot.teacher.constraints.prefferable_intervals]\n",
    "                if RandomRestartHillClimbing.__interval_constraint_breach(slot_interval, prefferable_intervals):\n",
    "                    cost += 1\n",
    "\n",
    "        return cost\n",
    "\n",
    "    def init_sorted_subjects(subjects, reverse_sort=True):\n",
    "        Astar.sorted_subjects = [x[1] for x in sorted([[s.capacity, s.name] for s in subjects], key=lambda x: x[0], reverse=True)]\n",
    "\n",
    "    def __deepcopy_state(S):\n",
    "        days = [Day(d.name) for d in S[\"days\"]]\n",
    "\n",
    "        intervals = [Interval(interval.interval) for interval in S[\"intervals\"]]\n",
    "\n",
    "        subjects = [Subject(s.name, s.capacity, s.occupied) for s in S[\"subjects\"]]\n",
    "\n",
    "        lecture_halls = [LectureHall(l.name, l.capacity, [s for s in subjects if s.name in [s2.name for s2 in l.subjects]]) for l in S[\"lecture_halls\"]]\n",
    "\n",
    "        timetable = Timetable(days, intervals, lecture_halls)\n",
    "\n",
    "        teachers = [Teacher(t.name, t.constraints, [s for s in subjects if s.name in [s2.name for s2 in t.subjects]], t.num_intervals) for t in S[\"teachers\"]]\n",
    "        \n",
    "        return {\n",
    "            \"timetable\": timetable,\n",
    "            \"days\": days,\n",
    "            \"intervals\": intervals,\n",
    "            \"subjects\": subjects,\n",
    "            \"lecture_halls\": lecture_halls,\n",
    "            \"teachers\": teachers\n",
    "        }\n",
    "\n",
    "    def __get_searched_subject(S):\n",
    "        state_subjects = {subject.name: subject.is_covered() for subject in S[\"subjects\"]}\n",
    "        return next((s for s in Astar.sorted_subjects if state_subjects[s]), None)\n",
    "\n",
    "    def __get_subject_by_name(S, searched_subject):\n",
    "        return [s for s in S[\"subjects\"] if s.name == searched_subject][0]\n",
    "\n",
    "    def __get_available_slots(S, searched_subject):\n",
    "        return [slot for slot in S[\"timetable\"].slots if slot.is_available() and slot.matches_subject(searched_subject)]\n",
    "\n",
    "    def __get_available_teachers(S, searched_subject):\n",
    "        return [teacher for teacher in S[\"teachers\"] if teacher.is_available() and teacher.is_specialized(searched_subjects)]\n",
    "\n",
    "    def __get_slot_by_copy(S, slot):\n",
    "        return [s for s in S[\"timetable\"].slots if s.matches_slot_copy(slot)][0]\n",
    "\n",
    "    def __get_teacher_by_copy(S, teacher):\n",
    "        return [t for t in S[\"teachers\"] if t.matches_teacher_copy(teacher)][0]\n",
    "\n",
    "    def __add_new_slot(S, slot, teacher, searched_subject: str):\n",
    "        searched_slot = Astar.__get_slot_by_copy(S, slot)\n",
    "        searched_teacher = Astar.__get_teacher_by_copy(S, teacher)\n",
    "        searched_subject = Astar.__get_subject_by_name(S, searched_subject)\n",
    "\n",
    "        searched_slot.update(searched_subject, searched_teacher)\n",
    "        searched_subject.update(searched_slot.lecture_hall)\n",
    "        searched_teacher.update()\n",
    "\n",
    "    def generate_successors(S):\n",
    "        \"\"\"\n",
    "            Generate the successors based on the following logic:\n",
    "                SUCC / S = {SLOTx}\n",
    "                not. SOFT = SOFT_BREACHED_CONSTRAINTS\n",
    "                not. HARD = HARD_BREACHED_CONSTRAINTS\n",
    "                where SLOTx belongs to {generated SLOTx | SOFT(SLOTx) = SOFT(S) - 1 and HARD(SLOTx) = 0}\n",
    "        \"\"\"\n",
    "        SUCCs = []\n",
    "\n",
    "        searched_subject = Astar.__get_searched_subject(S)\n",
    "        # If there is no searched subject, it means all subjects were covered\n",
    "        if not searched_subject:\n",
    "            return SUCCs\n",
    "\n",
    "        available_slots = Astar.__get_available_slots(S, searched_subject)\n",
    "        # If there is no searched subject, it returns an empty list\n",
    "        if not available_slots:\n",
    "            return SUCCs\n",
    "\n",
    "        searched_subject_instance = Astar.__get_subject_by_name(S, searched_subject)\n",
    "        teachers = Astar.__get_available_teachers(s, searched_subject_instance)\n",
    "\n",
    "        for t in teachers:\n",
    "            for s in available_slots:\n",
    "                SUCC = Astar.__deepcopy_state(S)\n",
    "                SUCC = Astar.__add_new_slot(SUCC, s, t, searched_subject)\n",
    "                SUCCs.append(SUCC)\n",
    "\n",
    "        return SUCCs\n",
    "\n",
    "    def __compare_states(S1, S2):\n",
    "        return not any(s[0].matches_slot_assignments(s[1]) for s in zip(S1[\"timetable\"].slots, S2[\"timetable\"].slots))\n",
    "\n",
    "    def successor_in_closed(S, CLOSED):\n",
    "        return any(Astar.__compare_states(S, CLOSED_STATE) for CLOSED_STATE in CLOSED)\n",
    "\n",
    "    def is_final(S, h):\n",
    "        return not Astar.__get_searched_subject(S) and not h(S)\n"
   ]
  },
  {
   "cell_type": "code",
   "execution_count": 571,
   "metadata": {},
   "outputs": [],
   "source": [
    "def astar(file_path, h):\n",
    "    # Initialize empty timetable\n",
    "    S = process_data(utils.read_yaml_file(file_path))\n",
    "    S[\"g\"] = 0 # initial cost\n",
    "    final_s = None\n",
    "\n",
    "    Astar.init_sorted_subjects(S[\"subjects\"])\n",
    "    OPEN, CLOSED = [], set()\n",
    "\n",
    "    heappush(OPEN, (Astar.f(S[\"g\"], h(S)), S))\n",
    "\n",
    "    while OPEN:\n",
    "        _, S = heappop(OPEN)\n",
    "\n",
    "        # If the heuristic gives 0, it means it is a final state\n",
    "        if Astar.is_final(S, h):\n",
    "            final_s = S\n",
    "            break\n",
    "\n",
    "        CLOSED.add(S)\n",
    "        for SUCC in Astar.generate_successors(S):\n",
    "            if not Astar.successor_in_closed(SUCC, CLOSED):\n",
    "                SUCC[\"g\"] = S[\"g\"] + 1\n",
    "                heappush(OPEN, (Astar.f(SUCC[\"g\"], h(SUCC)), SUCC))\n",
    "\n",
    "    if final_s:\n",
    "        save_timetable(final_s, file_path, save_to_file=True, data_processed=False)"
   ]
  },
  {
   "cell_type": "code",
   "execution_count": 572,
   "metadata": {},
   "outputs": [],
   "source": [
    "astar(\"inputs/dummy.yaml\", Astar.h)"
   ]
  },
  {
   "cell_type": "code",
   "execution_count": 800,
   "metadata": {},
   "outputs": [],
   "source": [
    "class RandomRestartHillClimbing():\n",
    "    no_swaps = 0\n",
    "    SWAP, MOVE, NEW_TEACHER = 0, 1, 2\n",
    "    SLOT, DAY, INTERVAL, TEACHER = 0, 1, 2, 1\n",
    "\n",
    "    def __all_subjects_covered(subjects):\n",
    "        return all(s.is_covered() for s in subjects)\n",
    "    \n",
    "    def __interval_constraint_breach(interval, searched_intervals):\n",
    "        return not any(interval[0] >= i[0] and interval[1] <= i[1] for i in searched_intervals)\n",
    "    \n",
    "    def __filter_slots_by_teacher(slots, teacher):\n",
    "        filtered_slots = []\n",
    "        prefferable_intervals = [get_interval_tuple(interval, \"-\") for interval in teacher.constraints.prefferable_intervals]\n",
    "\n",
    "        # Try to filter the slots that matches teacher's prefferences for days and intervals\n",
    "        for slot in slots:\n",
    "            slot_interval = get_interval_tuple(slot.interval.interval)\n",
    "            if slot.day.name in teacher.constraints.prefferable_days and not RandomRestartHillClimbing.__interval_constraint_breach(slot_interval, prefferable_intervals):\n",
    "                filtered_slots.append(slot)\n",
    "\n",
    "        if filtered_slots:\n",
    "            return filtered_slots\n",
    "\n",
    "        # Try to filter the slots for at least one of the teacher's prefferences\n",
    "        for slot in slots:\n",
    "            slot_interval = get_interval_tuple(slot.interval.interval)\n",
    "            if slot.day.name in teacher.constraints.prefferable_days or not RandomRestartHillClimbing.__interval_constraint_breach(slot_interval, prefferable_intervals):\n",
    "                filtered_slots.append(slot)\n",
    "        \n",
    "        if filtered_slots:\n",
    "            return filtered_slots\n",
    "        else:\n",
    "            # If there were'nt found any filtered slots, then return the slots and consider\n",
    "            # the teacher's prefferences when swapping\n",
    "            return slots\n",
    "\n",
    "    def __filter_teachers_by_slot(teachers, slot):\n",
    "        filtered_teachers = []\n",
    "        slot_interval = get_interval_tuple(slot.interval.interval)\n",
    "\n",
    "        # Try to filter the teachers that matches slot's day and interval\n",
    "        for teacher in teachers:\n",
    "            prefferable_intervals = [get_interval_tuple(interval, \"-\") for interval in teacher.constraints.prefferable_intervals]\n",
    "            if slot.day.name in teacher.constraints.prefferable_days and not RandomRestartHillClimbing.__interval_constraint_breach(slot_interval, prefferable_intervals):\n",
    "                filtered_teachers.append(teacher)\n",
    "        \n",
    "        if filtered_teachers:\n",
    "            return filtered_teachers\n",
    "\n",
    "        # Try to filter the teachers for with less constraints violated\n",
    "        for teacher in teachers:\n",
    "            prefferable_intervals = [get_interval_tuple(interval, \"-\") for interval in teacher.constraints.prefferable_intervals]\n",
    "            if slot.day.name in teacher.constraints.prefferable_days or not RandomRestartHillClimbing.__interval_constraint_breach(slot_interval, prefferable_intervals):\n",
    "                filtered_teachers.append(teacher)\n",
    "        \n",
    "        if filtered_teachers:\n",
    "            return filtered_teachers\n",
    "        else:\n",
    "            # If there were'nt found any filtered teachers, then return the teachers and consider\n",
    "            # the teacher's prefferences when swapping\n",
    "            return teachers\n",
    "\n",
    "    def restart_random_restart_hill_climbing():\n",
    "        RandomRestartHillClimbing.no_swaps = 0\n",
    "    \n",
    "    def generate_initial_state_restart(data, restarts):\n",
    "        for slot in data[\"timetable\"].slots:\n",
    "            slot.restart()\n",
    "\n",
    "        for s in data[\"subjects\"]:\n",
    "            s.restart()\n",
    "    \n",
    "        for t in data[\"teachers\"]:\n",
    "            t.restart()\n",
    "\n",
    "        restarts += 1\n",
    "\n",
    "        sys.stdout.write(f\"\\rRestarts: {restarts}\")\n",
    "        sys.stdout.flush()\n",
    "\n",
    "        return data, restarts\n",
    "    \n",
    "    def generate_initial_state(data):\n",
    "        restarts = 0\n",
    "        print(\"\\nStarting to generate the initial state...\")\n",
    "        slots = data[\"timetable\"].slots\n",
    "\n",
    "        while not RandomRestartHillClimbing.__all_subjects_covered(data[\"subjects\"]):\n",
    "            # Choose a random subject\n",
    "            s = rd.choice([s for s in data[\"subjects\"] if not s.is_covered()])\n",
    "\n",
    "            while not s.is_covered():\n",
    "                # Choose a random lecture hall\n",
    "                try:\n",
    "                    l = rd.choice([l for l in data[\"lecture_halls\"] if s in l.subjects])\n",
    "                except IndexError:\n",
    "                    # if there is an IndexError, it means that the choice() method was applied on an empty list\n",
    "                    # therefore there are no lecture halls available so the generating algorithm has to be restarted\n",
    "                    data, restarts = RandomRestartHillClimbing.generate_initial_state_restart(data, restarts)\n",
    "                    break\n",
    "\n",
    "                # Choose a random slot\n",
    "                try:\n",
    "                    slot = rd.choice([slot for slot in slots\\\n",
    "                        if slot.is_available() and slot.matches_requirements(l, slots)])\n",
    "                except IndexError:\n",
    "                    # if there is an IndexError, it means that the choice() method was applied on an empty list\n",
    "                    # therefore there are no slots available so the generating algorithm has to be restarted\n",
    "                    data, restarts = RandomRestartHillClimbing.generate_initial_state_restart(data, restarts)\n",
    "                    break\n",
    "                \n",
    "                # Choose a random teacher\n",
    "                try:\n",
    "                    t = rd.choice(RandomRestartHillClimbing.__filter_teachers_by_slot([t for t in data[\"teachers\"]\\\n",
    "                        if t.is_available() and t.is_specialized(s) and t.matches_requirements(slot, slots)], slot))\n",
    "                except IndexError:\n",
    "                    # if there is an IndexError, it means that the choice() method was applied on an empty list\n",
    "                    # therefore there are no teachers available so the generating algorithm has to be restarted\n",
    "                    data, restarts = RandomRestartHillClimbing.generate_initial_state_restart(data, restarts)\n",
    "                    break\n",
    "            \n",
    "                slot.update(s, t)\n",
    "                s.update(l)\n",
    "                t.update()\n",
    "        sys.stdout.write(f\"\\rRestarts: {restarts}\")\n",
    "        sys.stdout.flush()\n",
    "        print(\"\\nGenerating the initial state - DONE\")\n",
    "        return data\n",
    "    \n",
    "    def eval(timetable):\n",
    "        \"\"\"\n",
    "            This is the method used for evaluating the cost of the current state/timetable.\n",
    "            It is used in Hill Climbing algorithm for choosing the next state.\n",
    "            The cost consists in the number of constraints that are not breached.\n",
    "\n",
    "            Used primarily for:\n",
    "                if Eval(S') > Eval(S) return S, where S' is max(s for s in SUCC(S))\n",
    "        \"\"\"\n",
    "        cost = 0\n",
    "        slots = timetable[\"timetable\"].slots\n",
    "    \n",
    "        # Evaluate each slot in the timetable\n",
    "        for slot in slots:\n",
    "            # If the slot is not available, it means there are a teacher and a subject allocated for the slot\n",
    "            if not slot.is_available():\n",
    "                # Day constraint breach\n",
    "                if slot.day.name not in slot.teacher.constraints.prefferable_days:\n",
    "                    cost += 1\n",
    "                \n",
    "                # Interval constraint breach\n",
    "                slot_interval = get_interval_tuple(slot.interval.interval)\n",
    "                prefferable_intervals = [get_interval_tuple(interval, \"-\") for interval in slot.teacher.constraints.prefferable_intervals]\n",
    "                if RandomRestartHillClimbing.__interval_constraint_breach(slot_interval, prefferable_intervals):\n",
    "                    cost += 1\n",
    "\n",
    "        return cost\n",
    "    \n",
    "    def __generate_successor_slot_swaps(S, improvement, best_cost):\n",
    "        \"\"\"\n",
    "            Slot swaps focuses on swapping both slots - meaning the algorithm\n",
    "            moves the slot's teacher, subject and lecture hall to another slot\n",
    "            and vice versa.\n",
    "        \"\"\"\n",
    "        best_swap = None\n",
    "        slot_swaps = list(itertools.combinations(S[\"timetable\"].slots, 2))\n",
    "\n",
    "        # Keep the same variable/timetable to avoid deep copy and duplicating overhead\n",
    "        for s1, s2 in slot_swaps:\n",
    "            # Check if the swap will cause breaches among the hard constraints\n",
    "            if not s1.can_swap(s2, S):\n",
    "                continue\n",
    "\n",
    "            # Realize the swap\n",
    "            s1.swap(s2)\n",
    "\n",
    "            # If the new state's cost is better than the best cost, update the best swap\n",
    "            new_cost = RandomRestartHillClimbing.eval(S)\n",
    "            if new_cost < best_cost or (improvement and new_cost == best_cost):\n",
    "                best_swap = (s1, s2)\n",
    "                best_cost = new_cost\n",
    "\n",
    "            # Undo the swap to proceed with the next ones\n",
    "            s1.swap(s2)\n",
    "            RandomRestartHillClimbing.no_swaps += 1\n",
    "        \n",
    "        return best_cost, best_swap\n",
    "    \n",
    "    def __generate_successor_slot_move(S, improvement, best_cost):\n",
    "        \"\"\"\n",
    "            Slot move focuses just on moving a slot without swapping, just taking\n",
    "            it and moving somewhere else.\n",
    "        \"\"\"\n",
    "        best_move = None\n",
    "        slot_moves = list(itertools.product(S[\"timetable\"].slots, S[\"days\"], S[\"intervals\"]))\n",
    "\n",
    "        # Keep the same variable/timetable to avoid deep copy and duplicating overhead\n",
    "        for slot_move in slot_moves:\n",
    "            slot = slot_move[RandomRestartHillClimbing.SLOT]\n",
    "            prev_day, day = slot.day, slot_move[RandomRestartHillClimbing.DAY]\n",
    "            prev_interval, interval = slot.interval, slot_move[RandomRestartHillClimbing.INTERVAL]\n",
    "            searched_slot = [s for s in S[\"timetable\"].slots if s.day == day and s.interval == interval and s.lecture_hall == slot.lecture_hall][0]\n",
    "\n",
    "            # Check if the move will cause breaches among the hard constraints\n",
    "            if searched_slot == slot or not slot.can_move(day, interval, S) or not slot.subject_permissions(searched_slot):\n",
    "                continue\n",
    "\n",
    "            # Realize the move\n",
    "            slot.move(day, interval, searched_slot)\n",
    "\n",
    "            # If the new state's cost is better than the best cost, update the best swap\n",
    "            new_cost = RandomRestartHillClimbing.eval(S)\n",
    "            if new_cost < best_cost or (improvement and new_cost == best_cost):\n",
    "                best_move = slot_move\n",
    "                best_cost = new_cost\n",
    "\n",
    "            # Undo the move to proceed with the next ones\n",
    "            searched_slot.move(prev_day, prev_interval, slot)\n",
    "        \n",
    "        return best_cost, best_move\n",
    "\n",
    "    def __generate_successor_new_teacher(S, improvement, best_cost):\n",
    "        \"\"\"\n",
    "            Assign new teacher for a slot without breaching the hard constraints.\n",
    "        \"\"\"\n",
    "        best_assign = None\n",
    "        assignments = list(itertools.product(S[\"timetable\"].slots, S[\"teachers\"]))\n",
    "\n",
    "        # Keep the same variable/timetable to avoid deep copy and duplicating overhead\n",
    "        for assignment in assignments:\n",
    "            slot = assignment[RandomRestartHillClimbing.SLOT]\n",
    "            prev_teacher, teacher = slot.teacher, assignment[RandomRestartHillClimbing.TEACHER]\n",
    "\n",
    "            # Check if the move will cause breaches among the hard constraints\n",
    "            if not slot.can_assign_new_teacher(teacher, S):\n",
    "                continue\n",
    "\n",
    "            # Realize the assign\n",
    "            slot.assign_new_teacher(teacher)\n",
    "\n",
    "            # If the new state's cost is better than the best cost, update the best swap\n",
    "            new_cost = RandomRestartHillClimbing.eval(S)\n",
    "            if new_cost < best_cost or (improvement and new_cost == best_cost):\n",
    "                best_assign = assignment\n",
    "                best_cost = new_cost\n",
    "\n",
    "            # Undo the assign to proceed with the next ones\n",
    "            slot.assign_new_teacher(prev_teacher)\n",
    "        \n",
    "        return best_cost, best_assign\n",
    "\n",
    "    def __get_prefferable_slots(searched_slot, teacher, S):\n",
    "        slots = S[\"timetable\"].slots\n",
    "        prefferable_slots = []\n",
    "\n",
    "        for slot in slots:\n",
    "            if slot.is_available():\n",
    "                # Day constraint breach\n",
    "                if slot.day.name not in teacher.constraints.prefferable_days:\n",
    "                    continue\n",
    "                \n",
    "                # Interval constraint breach\n",
    "                slot_interval = get_interval_tuple(slot.interval.interval)\n",
    "                prefferable_intervals = [get_interval_tuple(interval, \"-\") for interval in teacher.constraints.prefferable_intervals]\n",
    "                if RandomRestartHillClimbing.__interval_constraint_breach(slot_interval, prefferable_intervals):\n",
    "                    continue\n",
    "\n",
    "                if searched_slot.can_move(slot.day, slot.interval, S) and searched_slot.subject_permissions(slot):\n",
    "                    prefferable_slots.append(slot)\n",
    "        return prefferable_slots\n",
    "\n",
    "    def __filter_soft_constraints_breaches(S):\n",
    "        \"\"\"\n",
    "            Focuses on making small changes in the timetable, changing just\n",
    "            some days or intervals for the teachers so the algorithm can\n",
    "            reduce the number of violated soft constraints more easily.\n",
    "        \"\"\"\n",
    "        slots = S[\"timetable\"].slots\n",
    "\n",
    "        # Choose the slots that have teachers with unwanted day or interval\n",
    "        searched_slots = []\n",
    "\n",
    "        for slot in slots:\n",
    "            # If the slot is not available, it means there are a teacher and a subject allocated for the slot\n",
    "            if not slot.is_available():\n",
    "                # Day constraint breach\n",
    "                if slot.day.name not in slot.teacher.constraints.prefferable_days:\n",
    "                    searched_slots.append(slot)\n",
    "                    continue\n",
    "                \n",
    "                # Interval constraint breach\n",
    "                slot_interval = get_interval_tuple(slot.interval.interval)\n",
    "                prefferable_intervals = [get_interval_tuple(interval, \"-\") for interval in slot.teacher.constraints.prefferable_intervals]\n",
    "                if RandomRestartHillClimbing.__interval_constraint_breach(slot_interval, prefferable_intervals):\n",
    "                    searched_slots.append(slot)\n",
    "\n",
    "        for slot in searched_slots:\n",
    "            prefferable_slots = RandomRestartHillClimbing.__get_prefferable_slots(slot, slot.teacher, S)\n",
    "\n",
    "            try:\n",
    "                # Choose a random prefferable slot and move it there\n",
    "                prefferable_slot = rd.choice(prefferable_slots)\n",
    "                slot.move(prefferable_slot.day, prefferable_slot.interval, prefferable_slot)\n",
    "            except IndexError:\n",
    "                # if there is an IndexError, it means that the choice() method was applied on an empty list\n",
    "                # therefore there are no prefferable slots available\n",
    "                continue\n",
    "        return S\n",
    "\n",
    "    def generate_successor(S, improvement):\n",
    "        \"\"\"\n",
    "            Generate all successors from the current timetable.\n",
    "            These successors are similar to the latter timetable,\n",
    "            as there is just a swap taking place, interchanging two slots\n",
    "            for example.\n",
    "            This approach is useful for reducing the number of constraints.\n",
    "            Choose the best one based on the eval() method.\n",
    "        \"\"\"\n",
    "        S = RandomRestartHillClimbing.__filter_soft_constraints_breaches(S)\n",
    "\n",
    "        best_change, data = None, None\n",
    "        best_cost = RandomRestartHillClimbing.eval(S)\n",
    "        strategies = {\n",
    "            RandomRestartHillClimbing.__generate_successor_slot_swaps: RandomRestartHillClimbing.SWAP,\n",
    "            RandomRestartHillClimbing.__generate_successor_slot_move: RandomRestartHillClimbing.MOVE,\n",
    "            RandomRestartHillClimbing.__generate_successor_new_teacher: RandomRestartHillClimbing.NEW_TEACHER,\n",
    "        }\n",
    "\n",
    "        for func, change in strategies.items():\n",
    "            new_best_cost, new_data = func(S, improvement, best_cost)\n",
    "            if new_best_cost < best_cost or (improvement and new_best_cost == best_cost and new_data is not None):\n",
    "                best_change = change\n",
    "                best_cost = new_best_cost\n",
    "                data = new_data\n",
    "\n",
    "        if best_change == RandomRestartHillClimbing.SWAP:\n",
    "            s1, s2 = data[0], data[1]\n",
    "            s1.swap(s2)\n",
    "            return S, False, best_cost\n",
    "        elif best_change == RandomRestartHillClimbing.MOVE:\n",
    "            s, day, interval = data[RandomRestartHillClimbing.SLOT], data[RandomRestartHillClimbing.DAY], data[RandomRestartHillClimbing.INTERVAL]\n",
    "            searched_slot = [slot for slot in S[\"timetable\"].slots if slot.day == day and slot.interval == interval and slot.lecture_hall == s.lecture_hall][0]\n",
    "            print(\"here\")\n",
    "            if not s.is_available():\n",
    "                print(\"slot\", s.teacher.name, s.subject.name)\n",
    "            if not searched_slot.is_available():\n",
    "                print(\"prefferable_slot\", searched_slot.teacher.name, searched_slot.subject.name)\n",
    "          \n",
    "            s.move(day, interval, searched_slot)\n",
    "            if not s.is_available():\n",
    "                print(\"slot\", s.teacher.name, s.subject.name)\n",
    "            if not searched_slot.is_available():\n",
    "                print(\"prefferable_slot\", searched_slot.teacher.name, searched_slot.subject.name)\n",
    "            return S, False, best_cost\n",
    "        elif best_change == RandomRestartHillClimbing.NEW_TEACHER:\n",
    "            s, teacher = data[RandomRestartHillClimbing.SLOT], data[RandomRestartHillClimbing.TEACHER]\n",
    "            s.assign_new_teacher(teacher)\n",
    "            return S, False, best_cost\n",
    "        else:\n",
    "            # No better state found, should stop\n",
    "            return S, True, best_cost"
   ]
  },
  {
   "cell_type": "code",
   "execution_count": 648,
   "metadata": {},
   "outputs": [],
   "source": [
    "def random_restart_hill_climbing(file_path, improvement=False, improvement_limit=10):\n",
    "    \"\"\"\n",
    "        improvement parameter is used for continuing the search over Eval(S') = Eval(S)\n",
    "    \"\"\"\n",
    "    progress = tqdm(range(100), desc=\"Random Restarts\")\n",
    "    iteration = 0\n",
    "    best_cost = -1\n",
    "    best_cost_overall = 1000\n",
    "    saved_timetable = None\n",
    "    initial_improvement_limit = improvement_limit\n",
    "    # As in the course slides - aprox. 100 lateral moves for improvement\n",
    "    for i in progress:\n",
    "        iteration = i\n",
    "\n",
    "        # Generate the initial state (always read and process data to avoid keeping unnecessary data in memory)\n",
    "        S = RandomRestartHillClimbing.generate_initial_state(process_data(utils.read_yaml_file(file_path)))\n",
    "    \n",
    "        # Generate the best successor. If the best one is no better than the current state, it should stop.\n",
    "        stop = False\n",
    "        prev_best_cost = -1\n",
    "        while not stop:\n",
    "            S, stop, best_cost = RandomRestartHillClimbing.generate_successor(S, improvement)\n",
    "\n",
    "            if improvement and prev_best_cost == best_cost:\n",
    "                improvement_limit -= 1\n",
    "                if improvement_limit <= 0:\n",
    "                    break\n",
    "            if prev_best_cost != best_cost:\n",
    "                improvement_limit = initial_improvement_limit\n",
    "            prev_best_cost = best_cost\n",
    "\n",
    "            if best_cost < best_cost_overall:\n",
    "                saved_timetable = save_timetable(S, file_path, save_to_file=False, data_processed=False)\n",
    "                best_cost_overall = best_cost \n",
    "                \n",
    "        print(\"Best cost found!\", best_cost)\n",
    "            \n",
    "        if best_cost == 0:\n",
    "            save_timetable(S, file_path, save_to_file=True, data_processed=False)\n",
    "            progress.update(100 - progress.n) \n",
    "            break\n",
    "\n",
    "    if best_cost_overall != 0:\n",
    "        save_timetable(saved_timetable, file_path, save_to_file=True, data_processed=True)\n",
    "    RandomRestartHillClimbing.restart_random_restart_hill_climbing()\n",
    "    return iteration, best_cost\n",
    "    "
   ]
  },
  {
   "cell_type": "markdown",
   "metadata": {},
   "source": [
    "Run the algorithm for \"dummy.yaml\""
   ]
  },
  {
   "cell_type": "code",
   "execution_count": 732,
   "metadata": {},
   "outputs": [
    {
     "name": "stderr",
     "output_type": "stream",
     "text": [
      "Random Restarts:   0%|          | 0/100 [00:00<?, ?it/s]"
     ]
    },
    {
     "name": "stdout",
     "output_type": "stream",
     "text": [
      "\n",
      "Starting to generate the initial state...\n",
      "Restarts: 0\n",
      "Generating the initial state - DONE\n",
      "slot Roxana Gheorghe MS\n",
      "prefferable_slot Roxana Gheorghe MS\n",
      "slot Pavel Filipescu IA\n",
      "prefferable_slot Pavel Filipescu IA\n",
      "Best cost found! 1\n",
      "\n",
      "Starting to generate the initial state...\n",
      "Restarts: 0\n",
      "Generating the initial state - DONE\n",
      "Best cost found! 3\n",
      "\n",
      "Starting to generate the initial state...\n",
      "Restarts: 0"
     ]
    },
    {
     "name": "stderr",
     "output_type": "stream",
     "text": [
      "Random Restarts:   2%|▏         | 2/100 [00:00<00:02, 42.09it/s]"
     ]
    },
    {
     "name": "stdout",
     "output_type": "stream",
     "text": [
      "\n",
      "Generating the initial state - DONE\n",
      "slot Pavel Filipescu IA\n",
      "prefferable_slot Pavel Filipescu IA\n",
      "slot Roxana Gheorghe MS\n",
      "prefferable_slot Roxana Gheorghe MS\n",
      "Best cost found! 0\n"
     ]
    },
    {
     "name": "stderr",
     "output_type": "stream",
     "text": [
      "\n"
     ]
    },
    {
     "data": {
      "text/plain": [
       "(2, 0)"
      ]
     },
     "execution_count": 732,
     "metadata": {},
     "output_type": "execute_result"
    }
   ],
   "source": [
    "random_restart_hill_climbing(\"inputs/dummy.yaml\", improvement=False, improvement_limit=50)"
   ]
  },
  {
   "cell_type": "markdown",
   "metadata": {},
   "source": [
    "Run the algorithm for \"orar_mic_exact.yaml\""
   ]
  },
  {
   "cell_type": "code",
   "execution_count": 734,
   "metadata": {},
   "outputs": [
    {
     "name": "stderr",
     "output_type": "stream",
     "text": [
      "Random Restarts:   0%|          | 0/100 [00:00<?, ?it/s]"
     ]
    },
    {
     "name": "stdout",
     "output_type": "stream",
     "text": [
      "\n",
      "Starting to generate the initial state...\n",
      "Restarts: 0"
     ]
    },
    {
     "name": "stderr",
     "output_type": "stream",
     "text": [
      "Random Restarts:   1%|          | 1/100 [00:00<00:16,  6.15it/s]"
     ]
    },
    {
     "name": "stdout",
     "output_type": "stream",
     "text": [
      "\n",
      "Generating the initial state - DONE\n",
      "slot Maria Ilie PA\n",
      "prefferable_slot Maria Ilie PA\n",
      "Best cost found! 2\n",
      "\n",
      "Starting to generate the initial state...\n",
      "Restarts: 0\n",
      "Generating the initial state - DONE\n",
      "slot Cristina Dinu PA\n",
      "prefferable_slot Cristina Dinu PA\n",
      "slot Alexandru Popa PA\n",
      "prefferable_slot Alexandru Popa PA\n",
      "slot Elena Ionescu PL\n",
      "prefferable_slot Elena Ionescu PL\n",
      "slot Alexandru Popa PA\n",
      "prefferable_slot Alexandru Popa PA\n"
     ]
    },
    {
     "name": "stderr",
     "output_type": "stream",
     "text": [
      "Random Restarts:   2%|▏         | 2/100 [00:00<00:24,  3.99it/s]"
     ]
    },
    {
     "name": "stdout",
     "output_type": "stream",
     "text": [
      "Best cost found! 1\n",
      "\n",
      "Starting to generate the initial state...\n",
      "Restarts: 0\n",
      "Generating the initial state - DONE\n",
      "slot Maria Ilie PA\n",
      "prefferable_slot Maria Ilie PA\n",
      "slot Alexandru Popa PA\n",
      "prefferable_slot Alexandru Popa PA\n",
      "slot Maria Ilie PA\n",
      "prefferable_slot Maria Ilie PA\n"
     ]
    },
    {
     "name": "stderr",
     "output_type": "stream",
     "text": [
      "Random Restarts:   3%|▎         | 3/100 [00:00<00:27,  3.53it/s]"
     ]
    },
    {
     "name": "stdout",
     "output_type": "stream",
     "text": [
      "Best cost found! 2\n",
      "\n",
      "Starting to generate the initial state...\n",
      "Restarts: 0\n",
      "Generating the initial state - DONE\n",
      "slot Roxana Ilie PA\n",
      "prefferable_slot Roxana Ilie PA\n",
      "slot Alexandru Popa PA\n",
      "prefferable_slot Alexandru Popa PA\n",
      "slot Ioana Scarlatescu PL\n",
      "prefferable_slot Ioana Scarlatescu PL\n"
     ]
    },
    {
     "name": "stderr",
     "output_type": "stream",
     "text": [
      "Random Restarts:   4%|▍         | 4/100 [00:01<00:32,  2.95it/s]"
     ]
    },
    {
     "name": "stdout",
     "output_type": "stream",
     "text": [
      "Best cost found! 2\n",
      "\n",
      "Starting to generate the initial state...\n",
      "Restarts: 0\n",
      "Generating the initial state - DONE\n"
     ]
    },
    {
     "name": "stderr",
     "output_type": "stream",
     "text": [
      "Random Restarts:   5%|▌         | 5/100 [00:01<00:37,  2.53it/s]"
     ]
    },
    {
     "name": "stdout",
     "output_type": "stream",
     "text": [
      "Best cost found! 4\n",
      "\n",
      "Starting to generate the initial state...\n",
      "Restarts: 0\n",
      "Generating the initial state - DONE\n",
      "slot Alexandru Popa PCom\n",
      "prefferable_slot Alexandru Popa PCom\n",
      "slot Maria Ilie PA\n",
      "prefferable_slot Maria Ilie PA\n",
      "slot Alexandru Popa PA\n",
      "prefferable_slot Alexandru Popa PA\n"
     ]
    },
    {
     "name": "stderr",
     "output_type": "stream",
     "text": [
      "Random Restarts:   6%|▌         | 6/100 [00:02<00:38,  2.41it/s]"
     ]
    },
    {
     "name": "stdout",
     "output_type": "stream",
     "text": [
      "Best cost found! 3\n",
      "\n",
      "Starting to generate the initial state...\n",
      "Restarts: 0"
     ]
    },
    {
     "name": "stderr",
     "output_type": "stream",
     "text": [
      "Random Restarts:   7%|▋         | 7/100 [00:02<00:30,  3.04it/s]"
     ]
    },
    {
     "name": "stdout",
     "output_type": "stream",
     "text": [
      "\n",
      "Generating the initial state - DONE\n",
      "slot Alexandru Popa PCom\n",
      "prefferable_slot Alexandru Popa PCom\n",
      "slot Andrei Moldovan PA\n",
      "prefferable_slot Andrei Moldovan PA\n",
      "Best cost found! 1\n",
      "\n",
      "Starting to generate the initial state...\n",
      "Restarts: 0\n",
      "Generating the initial state - DONE\n",
      "slot Alexandru Popa PCom\n",
      "prefferable_slot Alexandru Popa PCom\n",
      "slot Roxana Ilie PA\n",
      "prefferable_slot Roxana Ilie PA\n"
     ]
    },
    {
     "name": "stderr",
     "output_type": "stream",
     "text": [
      "Random Restarts:   8%|▊         | 8/100 [00:02<00:28,  3.21it/s]"
     ]
    },
    {
     "name": "stdout",
     "output_type": "stream",
     "text": [
      "Best cost found! 1\n",
      "\n",
      "Starting to generate the initial state...\n",
      "Restarts: 0\n",
      "Generating the initial state - DONE\n",
      "slot Alexandru Popa PA\n",
      "prefferable_slot Alexandru Popa PA\n",
      "slot Petru Chiriac PCom\n",
      "prefferable_slot Petru Chiriac PCom\n",
      "slot Andrei Moldovan PA\n",
      "prefferable_slot Andrei Moldovan PA\n",
      "slot Cristina Dinu PA\n",
      "prefferable_slot Cristina Dinu PA\n"
     ]
    },
    {
     "name": "stderr",
     "output_type": "stream",
     "text": [
      "Random Restarts:   9%|▉         | 9/100 [00:02<00:27,  3.33it/s]"
     ]
    },
    {
     "name": "stdout",
     "output_type": "stream",
     "text": [
      "Best cost found! 3\n",
      "\n",
      "Starting to generate the initial state...\n",
      "Restarts: 0\n",
      "Generating the initial state - DONE\n",
      "slot Maria Ilie PA\n",
      "prefferable_slot Maria Ilie PA\n"
     ]
    },
    {
     "name": "stderr",
     "output_type": "stream",
     "text": [
      "Random Restarts:  10%|█         | 10/100 [00:03<00:37,  2.40it/s]"
     ]
    },
    {
     "name": "stdout",
     "output_type": "stream",
     "text": [
      "Best cost found! 1\n",
      "\n",
      "Starting to generate the initial state...\n",
      "Restarts: 0\n",
      "Generating the initial state - DONE\n",
      "slot Alexandru Popa PA\n",
      "prefferable_slot Alexandru Popa PA\n",
      "slot Andrei Moldovan PL\n",
      "prefferable_slot Andrei Moldovan PL\n"
     ]
    },
    {
     "name": "stderr",
     "output_type": "stream",
     "text": [
      "Random Restarts:  11%|█         | 11/100 [00:03<00:34,  2.60it/s]"
     ]
    },
    {
     "name": "stdout",
     "output_type": "stream",
     "text": [
      "Best cost found! 3\n",
      "\n",
      "Starting to generate the initial state...\n",
      "Restarts: 0"
     ]
    },
    {
     "name": "stderr",
     "output_type": "stream",
     "text": [
      "Random Restarts:  12%|█▏        | 12/100 [00:04<00:27,  3.19it/s]"
     ]
    },
    {
     "name": "stdout",
     "output_type": "stream",
     "text": [
      "\n",
      "Generating the initial state - DONE\n",
      "slot Andrei Ilie PA\n",
      "prefferable_slot Andrei Ilie PA\n",
      "slot Cristina Dinu PL\n",
      "prefferable_slot Cristina Dinu PL\n",
      "slot Andrei Moldovan PA\n",
      "prefferable_slot Andrei Moldovan PA\n",
      "Best cost found! 2\n",
      "\n",
      "Starting to generate the initial state...\n",
      "Restarts: 0\n",
      "Generating the initial state - DONE\n",
      "slot Alexandru Popa PA\n",
      "prefferable_slot Alexandru Popa PA\n"
     ]
    },
    {
     "name": "stderr",
     "output_type": "stream",
     "text": [
      "Random Restarts:  13%|█▎        | 13/100 [00:04<00:26,  3.33it/s]"
     ]
    },
    {
     "name": "stdout",
     "output_type": "stream",
     "text": [
      "Best cost found! 1\n",
      "\n",
      "Starting to generate the initial state...\n",
      "Restarts: 0\n",
      "Generating the initial state - DONE\n",
      "slot Andrei Ilie PL\n",
      "prefferable_slot Andrei Ilie PL\n",
      "slot Ioana Scarlatescu PCom\n",
      "prefferable_slot Ioana Scarlatescu PCom\n",
      "slot Andrei Ilie PA\n",
      "prefferable_slot Andrei Ilie PA\n"
     ]
    },
    {
     "name": "stderr",
     "output_type": "stream",
     "text": [
      "Random Restarts:  14%|█▍        | 14/100 [00:04<00:28,  2.97it/s]"
     ]
    },
    {
     "name": "stdout",
     "output_type": "stream",
     "text": [
      "Best cost found! 2\n",
      "\n",
      "Starting to generate the initial state...\n",
      "Restarts: 0"
     ]
    },
    {
     "name": "stderr",
     "output_type": "stream",
     "text": [
      "Random Restarts:  15%|█▌        | 15/100 [00:04<00:23,  3.60it/s]"
     ]
    },
    {
     "name": "stdout",
     "output_type": "stream",
     "text": [
      "\n",
      "Generating the initial state - DONE\n",
      "slot Alexandru Popa PCom\n",
      "prefferable_slot Alexandru Popa PCom\n",
      "slot Roxana Ilie PA\n",
      "prefferable_slot Roxana Ilie PA\n",
      "Best cost found! 1\n",
      "\n",
      "Starting to generate the initial state...\n",
      "Restarts: 0\n",
      "Generating the initial state - DONE\n",
      "slot Maria Ilie PA\n",
      "prefferable_slot Maria Ilie PA\n"
     ]
    },
    {
     "name": "stderr",
     "output_type": "stream",
     "text": [
      "Random Restarts:  16%|█▌        | 16/100 [00:05<00:24,  3.50it/s]"
     ]
    },
    {
     "name": "stdout",
     "output_type": "stream",
     "text": [
      "Best cost found! 3\n",
      "\n",
      "Starting to generate the initial state...\n",
      "Restarts: 0\n",
      "Generating the initial state - DONE\n",
      "slot Alexandru Popa PA\n",
      "prefferable_slot Alexandru Popa PA\n"
     ]
    },
    {
     "name": "stderr",
     "output_type": "stream",
     "text": [
      "Random Restarts:  17%|█▋        | 17/100 [00:05<00:28,  2.96it/s]"
     ]
    },
    {
     "name": "stdout",
     "output_type": "stream",
     "text": [
      "Best cost found! 3\n",
      "\n",
      "Starting to generate the initial state...\n",
      "Restarts: 0"
     ]
    },
    {
     "name": "stderr",
     "output_type": "stream",
     "text": [
      "Random Restarts:  18%|█▊        | 18/100 [00:05<00:23,  3.56it/s]"
     ]
    },
    {
     "name": "stdout",
     "output_type": "stream",
     "text": [
      "\n",
      "Generating the initial state - DONE\n",
      "slot Petru Chiriac PCom\n",
      "prefferable_slot Petru Chiriac PCom\n",
      "slot Maria Ilie PA\n",
      "prefferable_slot Maria Ilie PA\n",
      "slot Maria Ilie PA\n",
      "prefferable_slot Maria Ilie PA\n",
      "slot Andrei Ilie PA\n",
      "prefferable_slot Andrei Ilie PA\n",
      "Best cost found! 1\n",
      "\n",
      "Starting to generate the initial state...\n",
      "Restarts: 0\n",
      "Generating the initial state - DONE\n",
      "slot Maria Ilie PCom\n",
      "prefferable_slot Maria Ilie PCom\n"
     ]
    },
    {
     "name": "stderr",
     "output_type": "stream",
     "text": [
      "Random Restarts:  18%|█▊        | 18/100 [00:06<00:28,  2.88it/s] "
     ]
    },
    {
     "name": "stdout",
     "output_type": "stream",
     "text": [
      "Best cost found! 0\n"
     ]
    },
    {
     "name": "stderr",
     "output_type": "stream",
     "text": [
      "\n"
     ]
    },
    {
     "data": {
      "text/plain": [
       "(18, 0)"
      ]
     },
     "execution_count": 734,
     "metadata": {},
     "output_type": "execute_result"
    }
   ],
   "source": [
    "random_restart_hill_climbing(\"inputs/orar_mic_exact.yaml\", improvement=False, improvement_limit=20)"
   ]
  },
  {
   "cell_type": "markdown",
   "metadata": {},
   "source": [
    "Run the algorithm for \"orar_mediu_relaxat.yaml\""
   ]
  },
  {
   "cell_type": "code",
   "execution_count": 802,
   "metadata": {},
   "outputs": [
    {
     "name": "stderr",
     "output_type": "stream",
     "text": [
      "Random Restarts:   0%|          | 0/100 [00:00<?, ?it/s]"
     ]
    },
    {
     "name": "stdout",
     "output_type": "stream",
     "text": [
      "\n",
      "Starting to generate the initial state...\n",
      "Restarts: 1\n",
      "Generating the initial state - DONE\n"
     ]
    },
    {
     "name": "stderr",
     "output_type": "stream",
     "text": [
      "Random Restarts:   0%|          | 0/100 [00:04<?, ?it/s]          "
     ]
    },
    {
     "name": "stdout",
     "output_type": "stream",
     "text": [
      "Best cost found! 0\n"
     ]
    },
    {
     "name": "stderr",
     "output_type": "stream",
     "text": [
      "\n"
     ]
    },
    {
     "data": {
      "text/plain": [
       "(0, 0)"
      ]
     },
     "execution_count": 802,
     "metadata": {},
     "output_type": "execute_result"
    }
   ],
   "source": [
    "random_restart_hill_climbing(\"inputs/orar_mediu_relaxat.yaml\", improvement=True, improvement_limit=5)"
   ]
  },
  {
   "cell_type": "markdown",
   "metadata": {},
   "source": [
    "Run the algorithm for \"orar_constrans_incalcat.yaml\""
   ]
  },
  {
   "cell_type": "code",
   "execution_count": 803,
   "metadata": {},
   "outputs": [
    {
     "name": "stderr",
     "output_type": "stream",
     "text": [
      "Random Restarts:   0%|          | 0/100 [00:00<?, ?it/s]"
     ]
    },
    {
     "name": "stdout",
     "output_type": "stream",
     "text": [
      "\n",
      "Starting to generate the initial state...\n",
      "Restarts: 2\n",
      "Generating the initial state - DONE\n"
     ]
    },
    {
     "name": "stderr",
     "output_type": "stream",
     "text": [
      "Random Restarts:   1%|          | 1/100 [00:01<01:40,  1.02s/it]"
     ]
    },
    {
     "name": "stdout",
     "output_type": "stream",
     "text": [
      "Best cost found! 4\n",
      "\n",
      "Starting to generate the initial state...\n",
      "Restarts: 9\n",
      "Generating the initial state - DONE\n"
     ]
    },
    {
     "name": "stderr",
     "output_type": "stream",
     "text": [
      "Random Restarts:   2%|▏         | 2/100 [00:02<02:05,  1.28s/it]"
     ]
    },
    {
     "name": "stdout",
     "output_type": "stream",
     "text": [
      "Best cost found! 6\n",
      "\n",
      "Starting to generate the initial state...\n",
      "Restarts: 17\n",
      "Generating the initial state - DONE\n"
     ]
    },
    {
     "name": "stderr",
     "output_type": "stream",
     "text": [
      "Random Restarts:   3%|▎         | 3/100 [00:03<01:52,  1.16s/it]"
     ]
    },
    {
     "name": "stdout",
     "output_type": "stream",
     "text": [
      "Best cost found! 6\n",
      "\n",
      "Starting to generate the initial state...\n",
      "Restarts: 16\n",
      "Generating the initial state - DONE\n"
     ]
    },
    {
     "name": "stderr",
     "output_type": "stream",
     "text": [
      "Random Restarts:   4%|▍         | 4/100 [00:05<02:20,  1.46s/it]"
     ]
    },
    {
     "name": "stdout",
     "output_type": "stream",
     "text": [
      "Best cost found! 6\n",
      "\n",
      "Starting to generate the initial state...\n",
      "Restarts: 0\n",
      "Generating the initial state - DONE\n"
     ]
    },
    {
     "name": "stderr",
     "output_type": "stream",
     "text": [
      "Random Restarts:   5%|▌         | 5/100 [00:06<02:20,  1.48s/it]"
     ]
    },
    {
     "name": "stdout",
     "output_type": "stream",
     "text": [
      "Best cost found! 6\n",
      "\n",
      "Starting to generate the initial state...\n",
      "Restarts: 6\n",
      "Generating the initial state - DONE\n"
     ]
    },
    {
     "name": "stderr",
     "output_type": "stream",
     "text": [
      "Random Restarts:   6%|▌         | 6/100 [00:08<02:07,  1.36s/it]"
     ]
    },
    {
     "name": "stdout",
     "output_type": "stream",
     "text": [
      "Best cost found! 5\n",
      "\n",
      "Starting to generate the initial state...\n",
      "Restarts: 15\n",
      "Generating the initial state - DONE\n"
     ]
    },
    {
     "name": "stderr",
     "output_type": "stream",
     "text": [
      "Random Restarts:   7%|▋         | 7/100 [00:10<02:27,  1.59s/it]"
     ]
    },
    {
     "name": "stdout",
     "output_type": "stream",
     "text": [
      "Best cost found! 6\n",
      "\n",
      "Starting to generate the initial state...\n",
      "Restarts: 2\n",
      "Generating the initial state - DONE\n"
     ]
    },
    {
     "name": "stderr",
     "output_type": "stream",
     "text": [
      "Random Restarts:   8%|▊         | 8/100 [00:10<01:57,  1.28s/it]"
     ]
    },
    {
     "name": "stdout",
     "output_type": "stream",
     "text": [
      "Best cost found! 5\n",
      "\n",
      "Starting to generate the initial state...\n",
      "Restarts: 4\n",
      "Generating the initial state - DONE\n"
     ]
    },
    {
     "name": "stderr",
     "output_type": "stream",
     "text": [
      "Random Restarts:   9%|▉         | 9/100 [00:12<02:16,  1.50s/it]"
     ]
    },
    {
     "name": "stdout",
     "output_type": "stream",
     "text": [
      "Best cost found! 6\n",
      "\n",
      "Starting to generate the initial state...\n",
      "Restarts: 6\n",
      "Generating the initial state - DONE\n"
     ]
    },
    {
     "name": "stderr",
     "output_type": "stream",
     "text": [
      "Random Restarts:  10%|█         | 10/100 [00:13<01:42,  1.14s/it]"
     ]
    },
    {
     "name": "stdout",
     "output_type": "stream",
     "text": [
      "Best cost found! 4\n",
      "\n",
      "Starting to generate the initial state...\n",
      "Restarts: 7\n",
      "Generating the initial state - DONE\n"
     ]
    },
    {
     "name": "stderr",
     "output_type": "stream",
     "text": [
      "Random Restarts:  11%|█         | 11/100 [00:14<01:50,  1.24s/it]"
     ]
    },
    {
     "name": "stdout",
     "output_type": "stream",
     "text": [
      "Best cost found! 8\n",
      "\n",
      "Starting to generate the initial state...\n",
      "Restarts: 3\n",
      "Generating the initial state - DONE\n"
     ]
    },
    {
     "name": "stderr",
     "output_type": "stream",
     "text": [
      "Random Restarts:  12%|█▏        | 12/100 [00:15<01:39,  1.13s/it]"
     ]
    },
    {
     "name": "stdout",
     "output_type": "stream",
     "text": [
      "Best cost found! 6\n",
      "\n",
      "Starting to generate the initial state...\n",
      "Restarts: 4\n",
      "Generating the initial state - DONE\n"
     ]
    },
    {
     "name": "stderr",
     "output_type": "stream",
     "text": [
      "Random Restarts:  13%|█▎        | 13/100 [00:17<02:02,  1.41s/it]"
     ]
    },
    {
     "name": "stdout",
     "output_type": "stream",
     "text": [
      "Best cost found! 12\n",
      "\n",
      "Starting to generate the initial state...\n",
      "Restarts: 0\n",
      "Generating the initial state - DONE\n"
     ]
    },
    {
     "name": "stderr",
     "output_type": "stream",
     "text": [
      "Random Restarts:  14%|█▍        | 14/100 [00:18<01:54,  1.33s/it]"
     ]
    },
    {
     "name": "stdout",
     "output_type": "stream",
     "text": [
      "Best cost found! 7\n",
      "\n",
      "Starting to generate the initial state...\n",
      "Restarts: 16\n",
      "Generating the initial state - DONE\n"
     ]
    },
    {
     "name": "stderr",
     "output_type": "stream",
     "text": [
      "Random Restarts:  15%|█▌        | 15/100 [00:19<01:47,  1.27s/it]"
     ]
    },
    {
     "name": "stdout",
     "output_type": "stream",
     "text": [
      "Best cost found! 4\n",
      "\n",
      "Starting to generate the initial state...\n",
      "Restarts: 0\n",
      "Generating the initial state - DONE\n"
     ]
    },
    {
     "name": "stderr",
     "output_type": "stream",
     "text": [
      "Random Restarts:  16%|█▌        | 16/100 [00:21<01:52,  1.34s/it]"
     ]
    },
    {
     "name": "stdout",
     "output_type": "stream",
     "text": [
      "Best cost found! 7\n",
      "\n",
      "Starting to generate the initial state...\n",
      "Restarts: 23\n",
      "Generating the initial state - DONE\n"
     ]
    },
    {
     "name": "stderr",
     "output_type": "stream",
     "text": [
      "Random Restarts:  17%|█▋        | 17/100 [00:22<01:43,  1.25s/it]"
     ]
    },
    {
     "name": "stdout",
     "output_type": "stream",
     "text": [
      "Best cost found! 7\n",
      "\n",
      "Starting to generate the initial state...\n",
      "Restarts: 2\n",
      "Generating the initial state - DONE\n"
     ]
    },
    {
     "name": "stderr",
     "output_type": "stream",
     "text": [
      "Random Restarts:  18%|█▊        | 18/100 [00:23<01:33,  1.14s/it]"
     ]
    },
    {
     "name": "stdout",
     "output_type": "stream",
     "text": [
      "Best cost found! 5\n",
      "\n",
      "Starting to generate the initial state...\n",
      "Restarts: 2\n",
      "Generating the initial state - DONE\n"
     ]
    },
    {
     "name": "stderr",
     "output_type": "stream",
     "text": [
      "Random Restarts:  19%|█▉        | 19/100 [00:23<01:19,  1.02it/s]"
     ]
    },
    {
     "name": "stdout",
     "output_type": "stream",
     "text": [
      "Best cost found! 6\n",
      "\n",
      "Starting to generate the initial state...\n",
      "Restarts: 3\n",
      "Generating the initial state - DONE\n"
     ]
    },
    {
     "name": "stderr",
     "output_type": "stream",
     "text": [
      "Random Restarts:  20%|██        | 20/100 [00:25<01:28,  1.11s/it]"
     ]
    },
    {
     "name": "stdout",
     "output_type": "stream",
     "text": [
      "Best cost found! 10\n",
      "\n",
      "Starting to generate the initial state...\n",
      "Restarts: 1\n",
      "Generating the initial state - DONE\n"
     ]
    },
    {
     "name": "stderr",
     "output_type": "stream",
     "text": [
      "Random Restarts:  21%|██        | 21/100 [00:26<01:28,  1.12s/it]"
     ]
    },
    {
     "name": "stdout",
     "output_type": "stream",
     "text": [
      "Best cost found! 9\n",
      "\n",
      "Starting to generate the initial state...\n",
      "Restarts: 6\n",
      "Generating the initial state - DONE\n"
     ]
    },
    {
     "name": "stderr",
     "output_type": "stream",
     "text": [
      "Random Restarts:  22%|██▏       | 22/100 [00:27<01:35,  1.22s/it]"
     ]
    },
    {
     "name": "stdout",
     "output_type": "stream",
     "text": [
      "Best cost found! 5\n",
      "\n",
      "Starting to generate the initial state...\n",
      "Restarts: 6\n",
      "Generating the initial state - DONE\n"
     ]
    },
    {
     "name": "stderr",
     "output_type": "stream",
     "text": [
      "Random Restarts:  23%|██▎       | 23/100 [00:28<01:30,  1.18s/it]"
     ]
    },
    {
     "name": "stdout",
     "output_type": "stream",
     "text": [
      "Best cost found! 6\n",
      "\n",
      "Starting to generate the initial state...\n",
      "Restarts: 6\n",
      "Generating the initial state - DONE\n"
     ]
    },
    {
     "name": "stderr",
     "output_type": "stream",
     "text": [
      "Random Restarts:  24%|██▍       | 24/100 [00:29<01:24,  1.11s/it]"
     ]
    },
    {
     "name": "stdout",
     "output_type": "stream",
     "text": [
      "Best cost found! 7\n",
      "\n",
      "Starting to generate the initial state...\n",
      "Restarts: 3\n",
      "Generating the initial state - DONE\n"
     ]
    },
    {
     "name": "stderr",
     "output_type": "stream",
     "text": [
      "Random Restarts:  25%|██▌       | 25/100 [00:31<01:28,  1.18s/it]"
     ]
    },
    {
     "name": "stdout",
     "output_type": "stream",
     "text": [
      "Best cost found! 5\n",
      "\n",
      "Starting to generate the initial state...\n",
      "Restarts: 15\n",
      "Generating the initial state - DONE\n"
     ]
    },
    {
     "name": "stderr",
     "output_type": "stream",
     "text": [
      "Random Restarts:  26%|██▌       | 26/100 [00:31<01:17,  1.05s/it]"
     ]
    },
    {
     "name": "stdout",
     "output_type": "stream",
     "text": [
      "Best cost found! 7\n",
      "\n",
      "Starting to generate the initial state...\n",
      "Restarts: 4\n",
      "Generating the initial state - DONE\n"
     ]
    },
    {
     "name": "stderr",
     "output_type": "stream",
     "text": [
      "Random Restarts:  27%|██▋       | 27/100 [00:33<01:20,  1.10s/it]"
     ]
    },
    {
     "name": "stdout",
     "output_type": "stream",
     "text": [
      "Best cost found! 3\n",
      "\n",
      "Starting to generate the initial state...\n",
      "Restarts: 5\n",
      "Generating the initial state - DONE\n"
     ]
    },
    {
     "name": "stderr",
     "output_type": "stream",
     "text": [
      "Random Restarts:  28%|██▊       | 28/100 [00:34<01:33,  1.30s/it]"
     ]
    },
    {
     "name": "stdout",
     "output_type": "stream",
     "text": [
      "Best cost found! 8\n",
      "\n",
      "Starting to generate the initial state...\n",
      "Restarts: 6\n",
      "Generating the initial state - DONE\n"
     ]
    },
    {
     "name": "stderr",
     "output_type": "stream",
     "text": [
      "Random Restarts:  29%|██▉       | 29/100 [00:35<01:17,  1.09s/it]"
     ]
    },
    {
     "name": "stdout",
     "output_type": "stream",
     "text": [
      "Best cost found! 6\n",
      "\n",
      "Starting to generate the initial state...\n",
      "Restarts: 1\n",
      "Generating the initial state - DONE\n"
     ]
    },
    {
     "name": "stderr",
     "output_type": "stream",
     "text": [
      "Random Restarts:  30%|███       | 30/100 [00:36<01:15,  1.08s/it]"
     ]
    },
    {
     "name": "stdout",
     "output_type": "stream",
     "text": [
      "Best cost found! 8\n",
      "\n",
      "Starting to generate the initial state...\n",
      "Restarts: 7\n",
      "Generating the initial state - DONE\n"
     ]
    },
    {
     "name": "stderr",
     "output_type": "stream",
     "text": [
      "Random Restarts:  31%|███       | 31/100 [00:38<01:23,  1.21s/it]"
     ]
    },
    {
     "name": "stdout",
     "output_type": "stream",
     "text": [
      "Best cost found! 6\n",
      "\n",
      "Starting to generate the initial state...\n",
      "Restarts: 18\n",
      "Generating the initial state - DONE\n"
     ]
    },
    {
     "name": "stderr",
     "output_type": "stream",
     "text": [
      "Random Restarts:  32%|███▏      | 32/100 [00:39<01:24,  1.24s/it]"
     ]
    },
    {
     "name": "stdout",
     "output_type": "stream",
     "text": [
      "Best cost found! 6\n",
      "\n",
      "Starting to generate the initial state...\n",
      "Restarts: 1\n",
      "Generating the initial state - DONE\n"
     ]
    },
    {
     "name": "stderr",
     "output_type": "stream",
     "text": [
      "Random Restarts:  33%|███▎      | 33/100 [00:40<01:23,  1.24s/it]"
     ]
    },
    {
     "name": "stdout",
     "output_type": "stream",
     "text": [
      "Best cost found! 8\n",
      "\n",
      "Starting to generate the initial state...\n",
      "Restarts: 16\n",
      "Generating the initial state - DONE\n"
     ]
    },
    {
     "name": "stderr",
     "output_type": "stream",
     "text": [
      "Random Restarts:  34%|███▍      | 34/100 [00:41<01:11,  1.09s/it]"
     ]
    },
    {
     "name": "stdout",
     "output_type": "stream",
     "text": [
      "Best cost found! 5\n",
      "\n",
      "Starting to generate the initial state...\n",
      "Restarts: 2\n",
      "Generating the initial state - DONE\n"
     ]
    },
    {
     "name": "stderr",
     "output_type": "stream",
     "text": [
      "Random Restarts:  35%|███▌      | 35/100 [00:42<01:17,  1.18s/it]"
     ]
    },
    {
     "name": "stdout",
     "output_type": "stream",
     "text": [
      "Best cost found! 9\n",
      "\n",
      "Starting to generate the initial state...\n",
      "Restarts: 0\n",
      "Generating the initial state - DONE\n"
     ]
    },
    {
     "name": "stderr",
     "output_type": "stream",
     "text": [
      "Random Restarts:  36%|███▌      | 36/100 [00:43<01:15,  1.18s/it]"
     ]
    },
    {
     "name": "stdout",
     "output_type": "stream",
     "text": [
      "Best cost found! 4\n",
      "\n",
      "Starting to generate the initial state...\n",
      "Restarts: 2\n",
      "Generating the initial state - DONE\n"
     ]
    },
    {
     "name": "stderr",
     "output_type": "stream",
     "text": [
      "Random Restarts:  37%|███▋      | 37/100 [00:44<00:57,  1.09it/s]"
     ]
    },
    {
     "name": "stdout",
     "output_type": "stream",
     "text": [
      "Best cost found! 7\n",
      "\n",
      "Starting to generate the initial state...\n",
      "Restarts: 0\n",
      "Generating the initial state - DONE\n"
     ]
    },
    {
     "name": "stderr",
     "output_type": "stream",
     "text": [
      "Random Restarts:  38%|███▊      | 38/100 [00:45<01:02,  1.01s/it]"
     ]
    },
    {
     "name": "stdout",
     "output_type": "stream",
     "text": [
      "Best cost found! 3\n",
      "\n",
      "Starting to generate the initial state...\n",
      "Restarts: 0\n",
      "Generating the initial state - DONE\n"
     ]
    },
    {
     "name": "stderr",
     "output_type": "stream",
     "text": [
      "Random Restarts:  39%|███▉      | 39/100 [00:47<01:16,  1.25s/it]"
     ]
    },
    {
     "name": "stdout",
     "output_type": "stream",
     "text": [
      "Best cost found! 5\n",
      "\n",
      "Starting to generate the initial state...\n",
      "Restarts: 2\n",
      "Generating the initial state - DONE\n"
     ]
    },
    {
     "name": "stderr",
     "output_type": "stream",
     "text": [
      "Random Restarts:  40%|████      | 40/100 [00:48<01:19,  1.33s/it]"
     ]
    },
    {
     "name": "stdout",
     "output_type": "stream",
     "text": [
      "Best cost found! 5\n",
      "\n",
      "Starting to generate the initial state...\n",
      "Restarts: 7\n",
      "Generating the initial state - DONE\n"
     ]
    },
    {
     "name": "stderr",
     "output_type": "stream",
     "text": [
      "Random Restarts:  41%|████      | 41/100 [00:50<01:30,  1.54s/it]"
     ]
    },
    {
     "name": "stdout",
     "output_type": "stream",
     "text": [
      "Best cost found! 9\n",
      "\n",
      "Starting to generate the initial state...\n",
      "Restarts: 7\n",
      "Generating the initial state - DONE\n"
     ]
    },
    {
     "name": "stderr",
     "output_type": "stream",
     "text": [
      "Random Restarts:  42%|████▏     | 42/100 [00:52<01:31,  1.57s/it]"
     ]
    },
    {
     "name": "stdout",
     "output_type": "stream",
     "text": [
      "Best cost found! 5\n",
      "\n",
      "Starting to generate the initial state...\n",
      "Restarts: 6\n",
      "Generating the initial state - DONE\n"
     ]
    },
    {
     "name": "stderr",
     "output_type": "stream",
     "text": [
      "Random Restarts:  43%|████▎     | 43/100 [00:53<01:23,  1.46s/it]"
     ]
    },
    {
     "name": "stdout",
     "output_type": "stream",
     "text": [
      "Best cost found! 7\n",
      "\n",
      "Starting to generate the initial state...\n",
      "Restarts: 1\n",
      "Generating the initial state - DONE\n"
     ]
    },
    {
     "name": "stderr",
     "output_type": "stream",
     "text": [
      "Random Restarts:  44%|████▍     | 44/100 [00:54<01:06,  1.19s/it]"
     ]
    },
    {
     "name": "stdout",
     "output_type": "stream",
     "text": [
      "Best cost found! 5\n",
      "\n",
      "Starting to generate the initial state...\n",
      "Restarts: 0\n",
      "Generating the initial state - DONE\n"
     ]
    },
    {
     "name": "stderr",
     "output_type": "stream",
     "text": [
      "Random Restarts:  45%|████▌     | 45/100 [00:55<01:00,  1.10s/it]"
     ]
    },
    {
     "name": "stdout",
     "output_type": "stream",
     "text": [
      "Best cost found! 7\n",
      "\n",
      "Starting to generate the initial state...\n",
      "Restarts: 6\n",
      "Generating the initial state - DONE\n"
     ]
    },
    {
     "name": "stderr",
     "output_type": "stream",
     "text": [
      "Random Restarts:  46%|████▌     | 46/100 [00:56<01:03,  1.18s/it]"
     ]
    },
    {
     "name": "stdout",
     "output_type": "stream",
     "text": [
      "Best cost found! 4\n",
      "\n",
      "Starting to generate the initial state...\n",
      "Restarts: 9\n",
      "Generating the initial state - DONE\n"
     ]
    },
    {
     "name": "stderr",
     "output_type": "stream",
     "text": [
      "Random Restarts:  47%|████▋     | 47/100 [00:57<00:54,  1.02s/it]"
     ]
    },
    {
     "name": "stdout",
     "output_type": "stream",
     "text": [
      "Best cost found! 9\n",
      "\n",
      "Starting to generate the initial state...\n",
      "Restarts: 13\n",
      "Generating the initial state - DONE\n"
     ]
    },
    {
     "name": "stderr",
     "output_type": "stream",
     "text": [
      "Random Restarts:  48%|████▊     | 48/100 [00:58<00:55,  1.06s/it]"
     ]
    },
    {
     "name": "stdout",
     "output_type": "stream",
     "text": [
      "Best cost found! 8\n",
      "\n",
      "Starting to generate the initial state...\n",
      "Restarts: 2\n",
      "Generating the initial state - DONE\n"
     ]
    },
    {
     "name": "stderr",
     "output_type": "stream",
     "text": [
      "Random Restarts:  49%|████▉     | 49/100 [00:58<00:42,  1.19it/s]"
     ]
    },
    {
     "name": "stdout",
     "output_type": "stream",
     "text": [
      "Best cost found! 7\n",
      "\n",
      "Starting to generate the initial state...\n",
      "Restarts: 4\n",
      "Generating the initial state - DONE\n"
     ]
    },
    {
     "name": "stderr",
     "output_type": "stream",
     "text": [
      "Random Restarts:  50%|█████     | 50/100 [00:59<00:48,  1.04it/s]"
     ]
    },
    {
     "name": "stdout",
     "output_type": "stream",
     "text": [
      "Best cost found! 8\n",
      "\n",
      "Starting to generate the initial state...\n",
      "Restarts: 26\n",
      "Generating the initial state - DONE\n"
     ]
    },
    {
     "name": "stderr",
     "output_type": "stream",
     "text": [
      "Random Restarts:  51%|█████     | 51/100 [01:00<00:44,  1.10it/s]"
     ]
    },
    {
     "name": "stdout",
     "output_type": "stream",
     "text": [
      "Best cost found! 6\n",
      "\n",
      "Starting to generate the initial state...\n",
      "Restarts: 0\n",
      "Generating the initial state - DONE\n"
     ]
    },
    {
     "name": "stderr",
     "output_type": "stream",
     "text": [
      "Random Restarts:  52%|█████▏    | 52/100 [01:02<00:57,  1.19s/it]"
     ]
    },
    {
     "name": "stdout",
     "output_type": "stream",
     "text": [
      "Best cost found! 5\n",
      "\n",
      "Starting to generate the initial state...\n",
      "Restarts: 16\n",
      "Generating the initial state - DONE\n"
     ]
    },
    {
     "name": "stderr",
     "output_type": "stream",
     "text": [
      "Random Restarts:  53%|█████▎    | 53/100 [01:03<01:00,  1.29s/it]"
     ]
    },
    {
     "name": "stdout",
     "output_type": "stream",
     "text": [
      "Best cost found! 3\n",
      "\n",
      "Starting to generate the initial state...\n",
      "Restarts: 16\n",
      "Generating the initial state - DONE\n"
     ]
    },
    {
     "name": "stderr",
     "output_type": "stream",
     "text": [
      "Random Restarts:  54%|█████▍    | 54/100 [01:05<00:55,  1.22s/it]"
     ]
    },
    {
     "name": "stdout",
     "output_type": "stream",
     "text": [
      "Best cost found! 7\n",
      "\n",
      "Starting to generate the initial state...\n",
      "Restarts: 4\n",
      "Generating the initial state - DONE\n"
     ]
    },
    {
     "name": "stderr",
     "output_type": "stream",
     "text": [
      "Random Restarts:  55%|█████▌    | 55/100 [01:05<00:48,  1.07s/it]"
     ]
    },
    {
     "name": "stdout",
     "output_type": "stream",
     "text": [
      "Best cost found! 5\n",
      "\n",
      "Starting to generate the initial state...\n",
      "Restarts: 7\n",
      "Generating the initial state - DONE\n"
     ]
    },
    {
     "name": "stderr",
     "output_type": "stream",
     "text": [
      "Random Restarts:  56%|█████▌    | 56/100 [01:06<00:48,  1.11s/it]"
     ]
    },
    {
     "name": "stdout",
     "output_type": "stream",
     "text": [
      "Best cost found! 7\n",
      "\n",
      "Starting to generate the initial state...\n",
      "Restarts: 0\n",
      "Generating the initial state - DONE\n"
     ]
    },
    {
     "name": "stderr",
     "output_type": "stream",
     "text": [
      "Random Restarts:  57%|█████▋    | 57/100 [01:08<00:54,  1.28s/it]"
     ]
    },
    {
     "name": "stdout",
     "output_type": "stream",
     "text": [
      "Best cost found! 5\n",
      "\n",
      "Starting to generate the initial state...\n",
      "Restarts: 1\n",
      "Generating the initial state - DONE\n"
     ]
    },
    {
     "name": "stderr",
     "output_type": "stream",
     "text": [
      "Random Restarts:  58%|█████▊    | 58/100 [01:10<01:05,  1.57s/it]"
     ]
    },
    {
     "name": "stdout",
     "output_type": "stream",
     "text": [
      "Best cost found! 6\n",
      "\n",
      "Starting to generate the initial state...\n",
      "Restarts: 4\n",
      "Generating the initial state - DONE\n"
     ]
    },
    {
     "name": "stderr",
     "output_type": "stream",
     "text": [
      "Random Restarts:  59%|█████▉    | 59/100 [01:12<01:02,  1.52s/it]"
     ]
    },
    {
     "name": "stdout",
     "output_type": "stream",
     "text": [
      "Best cost found! 4\n",
      "\n",
      "Starting to generate the initial state...\n",
      "Restarts: 2\n",
      "Generating the initial state - DONE\n"
     ]
    },
    {
     "name": "stderr",
     "output_type": "stream",
     "text": [
      "Random Restarts:  60%|██████    | 60/100 [01:13<00:56,  1.40s/it]"
     ]
    },
    {
     "name": "stdout",
     "output_type": "stream",
     "text": [
      "Best cost found! 7\n",
      "\n",
      "Starting to generate the initial state...\n",
      "Restarts: 2\n",
      "Generating the initial state - DONE\n"
     ]
    },
    {
     "name": "stderr",
     "output_type": "stream",
     "text": [
      "Random Restarts:  61%|██████    | 61/100 [01:14<00:48,  1.25s/it]"
     ]
    },
    {
     "name": "stdout",
     "output_type": "stream",
     "text": [
      "Best cost found! 7\n",
      "\n",
      "Starting to generate the initial state...\n",
      "Restarts: 3\n",
      "Generating the initial state - DONE\n"
     ]
    },
    {
     "name": "stderr",
     "output_type": "stream",
     "text": [
      "Random Restarts:  62%|██████▏   | 62/100 [01:15<00:46,  1.24s/it]"
     ]
    },
    {
     "name": "stdout",
     "output_type": "stream",
     "text": [
      "Best cost found! 7\n",
      "\n",
      "Starting to generate the initial state...\n",
      "Restarts: 15\n",
      "Generating the initial state - DONE\n"
     ]
    },
    {
     "name": "stderr",
     "output_type": "stream",
     "text": [
      "Random Restarts:  63%|██████▎   | 63/100 [01:16<00:47,  1.29s/it]"
     ]
    },
    {
     "name": "stdout",
     "output_type": "stream",
     "text": [
      "Best cost found! 9\n",
      "\n",
      "Starting to generate the initial state...\n",
      "Restarts: 13\n",
      "Generating the initial state - DONE\n"
     ]
    },
    {
     "name": "stderr",
     "output_type": "stream",
     "text": [
      "Random Restarts:  64%|██████▍   | 64/100 [01:17<00:39,  1.09s/it]"
     ]
    },
    {
     "name": "stdout",
     "output_type": "stream",
     "text": [
      "Best cost found! 5\n",
      "\n",
      "Starting to generate the initial state...\n",
      "Restarts: 2\n",
      "Generating the initial state - DONE\n"
     ]
    },
    {
     "name": "stderr",
     "output_type": "stream",
     "text": [
      "Random Restarts:  65%|██████▌   | 65/100 [01:18<00:41,  1.19s/it]"
     ]
    },
    {
     "name": "stdout",
     "output_type": "stream",
     "text": [
      "Best cost found! 6\n",
      "\n",
      "Starting to generate the initial state...\n",
      "Restarts: 15\n",
      "Generating the initial state - DONE\n"
     ]
    },
    {
     "name": "stderr",
     "output_type": "stream",
     "text": [
      "Random Restarts:  66%|██████▌   | 66/100 [01:19<00:37,  1.12s/it]"
     ]
    },
    {
     "name": "stdout",
     "output_type": "stream",
     "text": [
      "Best cost found! 8\n",
      "\n",
      "Starting to generate the initial state...\n",
      "Restarts: 3\n",
      "Generating the initial state - DONE\n"
     ]
    },
    {
     "name": "stderr",
     "output_type": "stream",
     "text": [
      "Random Restarts:  67%|██████▋   | 67/100 [01:20<00:29,  1.14it/s]"
     ]
    },
    {
     "name": "stdout",
     "output_type": "stream",
     "text": [
      "Best cost found! 4\n",
      "\n",
      "Starting to generate the initial state...\n",
      "Restarts: 0\n",
      "Generating the initial state - DONE\n"
     ]
    },
    {
     "name": "stderr",
     "output_type": "stream",
     "text": [
      "Random Restarts:  68%|██████▊   | 68/100 [01:21<00:35,  1.12s/it]"
     ]
    },
    {
     "name": "stdout",
     "output_type": "stream",
     "text": [
      "Best cost found! 5\n",
      "\n",
      "Starting to generate the initial state...\n",
      "Restarts: 11\n",
      "Generating the initial state - DONE\n"
     ]
    },
    {
     "name": "stderr",
     "output_type": "stream",
     "text": [
      "Random Restarts:  69%|██████▉   | 69/100 [01:24<00:46,  1.49s/it]"
     ]
    },
    {
     "name": "stdout",
     "output_type": "stream",
     "text": [
      "Best cost found! 6\n",
      "\n",
      "Starting to generate the initial state...\n",
      "Restarts: 3\n",
      "Generating the initial state - DONE\n"
     ]
    },
    {
     "name": "stderr",
     "output_type": "stream",
     "text": [
      "Random Restarts:  70%|███████   | 70/100 [01:25<00:42,  1.41s/it]"
     ]
    },
    {
     "name": "stdout",
     "output_type": "stream",
     "text": [
      "Best cost found! 8\n",
      "\n",
      "Starting to generate the initial state...\n",
      "Restarts: 6\n",
      "Generating the initial state - DONE\n"
     ]
    },
    {
     "name": "stderr",
     "output_type": "stream",
     "text": [
      "Random Restarts:  71%|███████   | 71/100 [01:26<00:33,  1.16s/it]"
     ]
    },
    {
     "name": "stdout",
     "output_type": "stream",
     "text": [
      "Best cost found! 7\n",
      "\n",
      "Starting to generate the initial state...\n",
      "Restarts: 3\n",
      "Generating the initial state - DONE\n"
     ]
    },
    {
     "name": "stderr",
     "output_type": "stream",
     "text": [
      "Random Restarts:  72%|███████▏  | 72/100 [01:27<00:32,  1.16s/it]"
     ]
    },
    {
     "name": "stdout",
     "output_type": "stream",
     "text": [
      "Best cost found! 6\n",
      "\n",
      "Starting to generate the initial state...\n",
      "Restarts: 1\n",
      "Generating the initial state - DONE\n"
     ]
    },
    {
     "name": "stderr",
     "output_type": "stream",
     "text": [
      "Random Restarts:  73%|███████▎  | 73/100 [01:29<00:39,  1.45s/it]"
     ]
    },
    {
     "name": "stdout",
     "output_type": "stream",
     "text": [
      "Best cost found! 5\n",
      "\n",
      "Starting to generate the initial state...\n",
      "Restarts: 2\n",
      "Generating the initial state - DONE\n"
     ]
    },
    {
     "name": "stderr",
     "output_type": "stream",
     "text": [
      "Random Restarts:  74%|███████▍  | 74/100 [01:29<00:31,  1.20s/it]"
     ]
    },
    {
     "name": "stdout",
     "output_type": "stream",
     "text": [
      "Best cost found! 6\n",
      "\n",
      "Starting to generate the initial state...\n",
      "Restarts: 8\n",
      "Generating the initial state - DONE\n"
     ]
    },
    {
     "name": "stderr",
     "output_type": "stream",
     "text": [
      "Random Restarts:  75%|███████▌  | 75/100 [01:31<00:29,  1.19s/it]"
     ]
    },
    {
     "name": "stdout",
     "output_type": "stream",
     "text": [
      "Best cost found! 4\n",
      "\n",
      "Starting to generate the initial state...\n",
      "Restarts: 1\n",
      "Generating the initial state - DONE\n"
     ]
    },
    {
     "name": "stderr",
     "output_type": "stream",
     "text": [
      "Random Restarts:  76%|███████▌  | 76/100 [01:32<00:26,  1.12s/it]"
     ]
    },
    {
     "name": "stdout",
     "output_type": "stream",
     "text": [
      "Best cost found! 4\n",
      "\n",
      "Starting to generate the initial state...\n",
      "Restarts: 8\n",
      "Generating the initial state - DONE\n"
     ]
    },
    {
     "name": "stderr",
     "output_type": "stream",
     "text": [
      "Random Restarts:  77%|███████▋  | 77/100 [01:34<00:36,  1.60s/it]"
     ]
    },
    {
     "name": "stdout",
     "output_type": "stream",
     "text": [
      "Best cost found! 6\n",
      "\n",
      "Starting to generate the initial state...\n",
      "Restarts: 2\n",
      "Generating the initial state - DONE\n"
     ]
    },
    {
     "name": "stderr",
     "output_type": "stream",
     "text": [
      "Random Restarts:  78%|███████▊  | 78/100 [01:36<00:35,  1.62s/it]"
     ]
    },
    {
     "name": "stdout",
     "output_type": "stream",
     "text": [
      "Best cost found! 10\n",
      "\n",
      "Starting to generate the initial state...\n",
      "Restarts: 0\n",
      "Generating the initial state - DONE\n"
     ]
    },
    {
     "name": "stderr",
     "output_type": "stream",
     "text": [
      "Random Restarts:  79%|███████▉  | 79/100 [01:37<00:33,  1.58s/it]"
     ]
    },
    {
     "name": "stdout",
     "output_type": "stream",
     "text": [
      "Best cost found! 6\n",
      "\n",
      "Starting to generate the initial state...\n",
      "Restarts: 1\n",
      "Generating the initial state - DONE\n"
     ]
    },
    {
     "name": "stderr",
     "output_type": "stream",
     "text": [
      "Random Restarts:  80%|████████  | 80/100 [01:38<00:27,  1.37s/it]"
     ]
    },
    {
     "name": "stdout",
     "output_type": "stream",
     "text": [
      "Best cost found! 4\n",
      "\n",
      "Starting to generate the initial state...\n",
      "Restarts: 5\n",
      "Generating the initial state - DONE\n"
     ]
    },
    {
     "name": "stderr",
     "output_type": "stream",
     "text": [
      "Random Restarts:  81%|████████  | 81/100 [01:40<00:26,  1.40s/it]"
     ]
    },
    {
     "name": "stdout",
     "output_type": "stream",
     "text": [
      "Best cost found! 7\n",
      "\n",
      "Starting to generate the initial state...\n",
      "Restarts: 3\n",
      "Generating the initial state - DONE\n"
     ]
    },
    {
     "name": "stderr",
     "output_type": "stream",
     "text": [
      "Random Restarts:  82%|████████▏ | 82/100 [01:40<00:19,  1.08s/it]"
     ]
    },
    {
     "name": "stdout",
     "output_type": "stream",
     "text": [
      "Best cost found! 7\n",
      "\n",
      "Starting to generate the initial state...\n",
      "Restarts: 2\n",
      "Generating the initial state - DONE\n"
     ]
    },
    {
     "name": "stderr",
     "output_type": "stream",
     "text": [
      "Random Restarts:  83%|████████▎ | 83/100 [01:42<00:22,  1.35s/it]"
     ]
    },
    {
     "name": "stdout",
     "output_type": "stream",
     "text": [
      "Best cost found! 6\n",
      "\n",
      "Starting to generate the initial state...\n",
      "Restarts: 27\n",
      "Generating the initial state - DONE\n"
     ]
    },
    {
     "name": "stderr",
     "output_type": "stream",
     "text": [
      "Random Restarts:  84%|████████▍ | 84/100 [01:45<00:29,  1.86s/it]"
     ]
    },
    {
     "name": "stdout",
     "output_type": "stream",
     "text": [
      "Best cost found! 7\n",
      "\n",
      "Starting to generate the initial state...\n",
      "Restarts: 0\n",
      "Generating the initial state - DONE\n"
     ]
    },
    {
     "name": "stderr",
     "output_type": "stream",
     "text": [
      "Random Restarts:  85%|████████▌ | 85/100 [01:47<00:25,  1.71s/it]"
     ]
    },
    {
     "name": "stdout",
     "output_type": "stream",
     "text": [
      "Best cost found! 6\n",
      "\n",
      "Starting to generate the initial state...\n",
      "Restarts: 6\n",
      "Generating the initial state - DONE\n"
     ]
    },
    {
     "name": "stderr",
     "output_type": "stream",
     "text": [
      "Random Restarts:  86%|████████▌ | 86/100 [01:48<00:21,  1.55s/it]"
     ]
    },
    {
     "name": "stdout",
     "output_type": "stream",
     "text": [
      "Best cost found! 7\n",
      "\n",
      "Starting to generate the initial state...\n",
      "Restarts: 3\n",
      "Generating the initial state - DONE\n"
     ]
    },
    {
     "name": "stderr",
     "output_type": "stream",
     "text": [
      "Random Restarts:  87%|████████▋ | 87/100 [01:50<00:23,  1.81s/it]"
     ]
    },
    {
     "name": "stdout",
     "output_type": "stream",
     "text": [
      "Best cost found! 7\n",
      "\n",
      "Starting to generate the initial state...\n",
      "Restarts: 10\n",
      "Generating the initial state - DONE\n"
     ]
    },
    {
     "name": "stderr",
     "output_type": "stream",
     "text": [
      "Random Restarts:  88%|████████▊ | 88/100 [01:51<00:19,  1.66s/it]"
     ]
    },
    {
     "name": "stdout",
     "output_type": "stream",
     "text": [
      "Best cost found! 6\n",
      "\n",
      "Starting to generate the initial state...\n",
      "Restarts: 7\n",
      "Generating the initial state - DONE\n"
     ]
    },
    {
     "name": "stderr",
     "output_type": "stream",
     "text": [
      "Random Restarts:  89%|████████▉ | 89/100 [01:53<00:18,  1.70s/it]"
     ]
    },
    {
     "name": "stdout",
     "output_type": "stream",
     "text": [
      "Best cost found! 9\n",
      "\n",
      "Starting to generate the initial state...\n",
      "Restarts: 19\n",
      "Generating the initial state - DONE\n"
     ]
    },
    {
     "name": "stderr",
     "output_type": "stream",
     "text": [
      "Random Restarts:  90%|█████████ | 90/100 [01:54<00:15,  1.56s/it]"
     ]
    },
    {
     "name": "stdout",
     "output_type": "stream",
     "text": [
      "Best cost found! 6\n",
      "\n",
      "Starting to generate the initial state...\n",
      "Restarts: 2\n",
      "Generating the initial state - DONE\n"
     ]
    },
    {
     "name": "stderr",
     "output_type": "stream",
     "text": [
      "Random Restarts:  91%|█████████ | 91/100 [01:56<00:13,  1.54s/it]"
     ]
    },
    {
     "name": "stdout",
     "output_type": "stream",
     "text": [
      "Best cost found! 5\n",
      "\n",
      "Starting to generate the initial state...\n",
      "Restarts: 1\n",
      "Generating the initial state - DONE\n"
     ]
    },
    {
     "name": "stderr",
     "output_type": "stream",
     "text": [
      "Random Restarts:  92%|█████████▏| 92/100 [01:57<00:10,  1.26s/it]"
     ]
    },
    {
     "name": "stdout",
     "output_type": "stream",
     "text": [
      "Best cost found! 13\n",
      "\n",
      "Starting to generate the initial state...\n",
      "Restarts: 13\n",
      "Generating the initial state - DONE\n"
     ]
    },
    {
     "name": "stderr",
     "output_type": "stream",
     "text": [
      "Random Restarts:  93%|█████████▎| 93/100 [01:57<00:07,  1.07s/it]"
     ]
    },
    {
     "name": "stdout",
     "output_type": "stream",
     "text": [
      "Best cost found! 6\n",
      "\n",
      "Starting to generate the initial state...\n",
      "Restarts: 5\n",
      "Generating the initial state - DONE\n"
     ]
    },
    {
     "name": "stderr",
     "output_type": "stream",
     "text": [
      "Random Restarts:  94%|█████████▍| 94/100 [01:58<00:05,  1.09it/s]"
     ]
    },
    {
     "name": "stdout",
     "output_type": "stream",
     "text": [
      "Best cost found! 9\n",
      "\n",
      "Starting to generate the initial state...\n",
      "Restarts: 6\n",
      "Generating the initial state - DONE\n"
     ]
    },
    {
     "name": "stderr",
     "output_type": "stream",
     "text": [
      "Random Restarts:  95%|█████████▌| 95/100 [01:58<00:04,  1.20it/s]"
     ]
    },
    {
     "name": "stdout",
     "output_type": "stream",
     "text": [
      "Best cost found! 10\n",
      "\n",
      "Starting to generate the initial state...\n",
      "Restarts: 1\n",
      "Generating the initial state - DONE\n"
     ]
    },
    {
     "name": "stderr",
     "output_type": "stream",
     "text": [
      "Random Restarts:  96%|█████████▌| 96/100 [01:59<00:03,  1.12it/s]"
     ]
    },
    {
     "name": "stdout",
     "output_type": "stream",
     "text": [
      "Best cost found! 4\n",
      "\n",
      "Starting to generate the initial state...\n",
      "Restarts: 1\n",
      "Generating the initial state - DONE\n"
     ]
    },
    {
     "name": "stderr",
     "output_type": "stream",
     "text": [
      "Random Restarts:  97%|█████████▋| 97/100 [02:01<00:03,  1.23s/it]"
     ]
    },
    {
     "name": "stdout",
     "output_type": "stream",
     "text": [
      "Best cost found! 6\n",
      "\n",
      "Starting to generate the initial state...\n",
      "Restarts: 22\n",
      "Generating the initial state - DONE\n"
     ]
    },
    {
     "name": "stderr",
     "output_type": "stream",
     "text": [
      "Random Restarts:  98%|█████████▊| 98/100 [02:02<00:02,  1.16s/it]"
     ]
    },
    {
     "name": "stdout",
     "output_type": "stream",
     "text": [
      "Best cost found! 8\n",
      "\n",
      "Starting to generate the initial state...\n",
      "Restarts: 3\n",
      "Generating the initial state - DONE\n"
     ]
    },
    {
     "name": "stderr",
     "output_type": "stream",
     "text": [
      "Random Restarts:  99%|█████████▉| 99/100 [02:04<00:01,  1.33s/it]"
     ]
    },
    {
     "name": "stdout",
     "output_type": "stream",
     "text": [
      "Best cost found! 8\n",
      "\n",
      "Starting to generate the initial state...\n",
      "Restarts: 4\n",
      "Generating the initial state - DONE\n"
     ]
    },
    {
     "name": "stderr",
     "output_type": "stream",
     "text": [
      "Random Restarts: 100%|██████████| 100/100 [02:05<00:00,  1.25s/it]"
     ]
    },
    {
     "name": "stdout",
     "output_type": "stream",
     "text": [
      "Best cost found! 5\n"
     ]
    },
    {
     "name": "stderr",
     "output_type": "stream",
     "text": [
      "\n"
     ]
    },
    {
     "data": {
      "text/plain": [
       "(99, 5)"
      ]
     },
     "execution_count": 803,
     "metadata": {},
     "output_type": "execute_result"
    }
   ],
   "source": [
    "random_restart_hill_climbing(\"inputs/orar_constrans_incalcat.yaml\", improvement=True, improvement_limit=5)"
   ]
  },
  {
   "cell_type": "markdown",
   "metadata": {},
   "source": [
    "Run the algorithm for \"orar_mare_relaxat.yaml\""
   ]
  },
  {
   "cell_type": "code",
   "execution_count": 579,
   "metadata": {},
   "outputs": [
    {
     "name": "stderr",
     "output_type": "stream",
     "text": [
      "Random Restarts:   0%|          | 0/100 [00:00<?, ?it/s]"
     ]
    },
    {
     "name": "stdout",
     "output_type": "stream",
     "text": [
      "\n",
      "Starting to generate the initial state...\n",
      "Restarts: 0\n",
      "Generating the initial state - DONE\n"
     ]
    },
    {
     "name": "stderr",
     "output_type": "stream",
     "text": [
      "Random Restarts:   0%|          | 0/100 [00:05<?, ?it/s]          "
     ]
    },
    {
     "name": "stdout",
     "output_type": "stream",
     "text": [
      "Best cost found! 0\n"
     ]
    },
    {
     "name": "stderr",
     "output_type": "stream",
     "text": [
      "\n"
     ]
    },
    {
     "data": {
      "text/plain": [
       "(0, 0)"
      ]
     },
     "execution_count": 579,
     "metadata": {},
     "output_type": "execute_result"
    }
   ],
   "source": [
    "random_restart_hill_climbing(\"inputs/orar_mare_relaxat.yaml\")"
   ]
  },
  {
   "cell_type": "markdown",
   "metadata": {},
   "source": [
    "Run the algorithm for all files"
   ]
  },
  {
   "cell_type": "code",
   "execution_count": 580,
   "metadata": {},
   "outputs": [],
   "source": [
    "def collect_data(file_path, runs=5, improvement=False):\n",
    "    results = np.zeros((runs, 2), dtype=int) # Array to store (iterations, best_cost)\n",
    "    averages = {}\n",
    "\n",
    "    for i in range(runs):\n",
    "        iterations, best_cost = random_restart_hill_climbing(file_path, improvement, improvement_limit=4)\n",
    "        if iterations not in averages:\n",
    "            averages[iterations] = [best_cost]\n",
    "        else:\n",
    "            averages[iterations].append(best_cost)\n",
    "        \n",
    "    averages = {k: int(np.mean(v)) for k, v in averages.items()}\n",
    "    return averages\n",
    "\n",
    "def plot_random_restart_hc(file_path):\n",
    "    results_without_improvement = collect_data(file_path, improvement=False)\n",
    "    results_with_improvement = collect_data(file_path, improvement=True)\n",
    "\n",
    "    fig, axs = plt.subplots(2, 1, figsize=(10, 10))\n",
    "    print(results_without_improvement)\n",
    "    print(results_with_improvement)\n",
    "    # Plot without improvement\n",
    "    axs[0].bar(results_without_improvement.values(), results_without_improvement.keys(), color='b', label='Iterations')\n",
    "    axs[0].set_title(f'{file_path} - Random Restart HC Without Improvement')\n",
    "    axs[0].set_xlabel('Best Cost')\n",
    "    axs[0].set_ylabel('Iterations')\n",
    "    axs[0].legend()\n",
    "\n",
    "    # Plot with improvement\n",
    "    axs[1].bar(results_with_improvement.values(), results_with_improvement.keys(), color='g', label='Iterations')\n",
    "    axs[1].set_title(f'{file_path} - Random Restart HC With Improvement')\n",
    "    axs[1].set_xlabel('Best Cost')\n",
    "    axs[1].set_ylabel('Iterations')\n",
    "    axs[1].legend()\n",
    "\n",
    "    plt.tight_layout()\n",
    "    plt.show()"
   ]
  },
  {
   "cell_type": "code",
   "execution_count": 581,
   "metadata": {},
   "outputs": [
    {
     "name": "stderr",
     "output_type": "stream",
     "text": [
      "Random Restarts:   2%|▏         | 2/100 [00:00<00:04, 21.73it/s]\n",
      "Random Restarts:   0%|          | 0/100 [00:00<?, ?it/s]\n",
      "Random Restarts:   0%|          | 0/100 [00:00<?, ?it/s]\n",
      "Random Restarts:   2%|▏         | 2/100 [00:00<00:02, 34.11it/s]\n",
      "Random Restarts:   0%|          | 0/100 [00:00<?, ?it/s]\n",
      "Random Restarts:   0%|          | 0/100 [00:00<?, ?it/s]\n",
      "Random Restarts:   0%|          | 0/100 [00:00<?, ?it/s]\n",
      "Random Restarts:   0%|          | 0/100 [00:00<?, ?it/s]\n",
      "Random Restarts:   0%|          | 0/100 [00:00<?, ?it/s]\n",
      "Random Restarts:   0%|          | 0/100 [00:00<?, ?it/s]\n"
     ]
    },
    {
     "data": {
      "image/png": "[encoded data removed]",
      "text/plain": [
       "<Figure size 720x720 with 2 Axes>"
      ]
     },
     "metadata": {
      "needs_background": "light"
     },
     "output_type": "display_data"
    },
    {
     "name": "stderr",
     "output_type": "stream",
     "text": [
      "Random Restarts:   1%|          | 1/100 [00:07<11:40,  7.08s/it]  \n",
      "Random Restarts:   0%|          | 0/100 [01:29<?, ?it/s]\n"
     ]
    },
    {
     "ename": "KeyboardInterrupt",
     "evalue": "",
     "output_type": "error",
     "traceback": [
      "\u001b[1;31m---------------------------------------------------------------------------\u001b[0m",
      "\u001b[1;31mKeyboardInterrupt\u001b[0m                         Traceback (most recent call last)",
      "\u001b[1;32m~\\AppData\\Local\\Temp/ipykernel_34460/827713636.py\u001b[0m in \u001b[0;36m<module>\u001b[1;34m\u001b[0m\n\u001b[0;32m     10\u001b[0m \u001b[1;32mwith\u001b[0m \u001b[0mcontextlib\u001b[0m\u001b[1;33m.\u001b[0m\u001b[0mredirect_stdout\u001b[0m\u001b[1;33m(\u001b[0m\u001b[0mio\u001b[0m\u001b[1;33m.\u001b[0m\u001b[0mStringIO\u001b[0m\u001b[1;33m(\u001b[0m\u001b[1;33m)\u001b[0m\u001b[1;33m)\u001b[0m\u001b[1;33m:\u001b[0m\u001b[1;33m\u001b[0m\u001b[1;33m\u001b[0m\u001b[0m\n\u001b[0;32m     11\u001b[0m     \u001b[1;32mfor\u001b[0m \u001b[0minput_file\u001b[0m \u001b[1;32min\u001b[0m \u001b[0minput_files\u001b[0m\u001b[1;33m:\u001b[0m\u001b[1;33m\u001b[0m\u001b[1;33m\u001b[0m\u001b[0m\n\u001b[1;32m---> 12\u001b[1;33m         \u001b[0mplot_random_restart_hc\u001b[0m\u001b[1;33m(\u001b[0m\u001b[0minput_file\u001b[0m\u001b[1;33m)\u001b[0m\u001b[1;33m\u001b[0m\u001b[1;33m\u001b[0m\u001b[0m\n\u001b[0m\u001b[0;32m     13\u001b[0m \u001b[1;33m\u001b[0m\u001b[0m\n\u001b[0;32m     14\u001b[0m \u001b[1;31m# for file in input_files:\u001b[0m\u001b[1;33m\u001b[0m\u001b[1;33m\u001b[0m\u001b[0m\n",
      "\u001b[1;32m~\\AppData\\Local\\Temp/ipykernel_34460/3679145135.py\u001b[0m in \u001b[0;36mplot_random_restart_hc\u001b[1;34m(file_path)\u001b[0m\n\u001b[0;32m     14\u001b[0m \u001b[1;33m\u001b[0m\u001b[0m\n\u001b[0;32m     15\u001b[0m \u001b[1;32mdef\u001b[0m \u001b[0mplot_random_restart_hc\u001b[0m\u001b[1;33m(\u001b[0m\u001b[0mfile_path\u001b[0m\u001b[1;33m)\u001b[0m\u001b[1;33m:\u001b[0m\u001b[1;33m\u001b[0m\u001b[1;33m\u001b[0m\u001b[0m\n\u001b[1;32m---> 16\u001b[1;33m     \u001b[0mresults_without_improvement\u001b[0m \u001b[1;33m=\u001b[0m \u001b[0mcollect_data\u001b[0m\u001b[1;33m(\u001b[0m\u001b[0mfile_path\u001b[0m\u001b[1;33m,\u001b[0m \u001b[0mimprovement\u001b[0m\u001b[1;33m=\u001b[0m\u001b[1;32mFalse\u001b[0m\u001b[1;33m)\u001b[0m\u001b[1;33m\u001b[0m\u001b[1;33m\u001b[0m\u001b[0m\n\u001b[0m\u001b[0;32m     17\u001b[0m     \u001b[0mresults_with_improvement\u001b[0m \u001b[1;33m=\u001b[0m \u001b[0mcollect_data\u001b[0m\u001b[1;33m(\u001b[0m\u001b[0mfile_path\u001b[0m\u001b[1;33m,\u001b[0m \u001b[0mimprovement\u001b[0m\u001b[1;33m=\u001b[0m\u001b[1;32mTrue\u001b[0m\u001b[1;33m)\u001b[0m\u001b[1;33m\u001b[0m\u001b[1;33m\u001b[0m\u001b[0m\n\u001b[0;32m     18\u001b[0m \u001b[1;33m\u001b[0m\u001b[0m\n",
      "\u001b[1;32m~\\AppData\\Local\\Temp/ipykernel_34460/3679145135.py\u001b[0m in \u001b[0;36mcollect_data\u001b[1;34m(file_path, runs, improvement)\u001b[0m\n\u001b[0;32m      4\u001b[0m \u001b[1;33m\u001b[0m\u001b[0m\n\u001b[0;32m      5\u001b[0m     \u001b[1;32mfor\u001b[0m \u001b[0mi\u001b[0m \u001b[1;32min\u001b[0m \u001b[0mrange\u001b[0m\u001b[1;33m(\u001b[0m\u001b[0mruns\u001b[0m\u001b[1;33m)\u001b[0m\u001b[1;33m:\u001b[0m\u001b[1;33m\u001b[0m\u001b[1;33m\u001b[0m\u001b[0m\n\u001b[1;32m----> 6\u001b[1;33m         \u001b[0miterations\u001b[0m\u001b[1;33m,\u001b[0m \u001b[0mbest_cost\u001b[0m \u001b[1;33m=\u001b[0m \u001b[0mrandom_restart_hill_climbing\u001b[0m\u001b[1;33m(\u001b[0m\u001b[0mfile_path\u001b[0m\u001b[1;33m,\u001b[0m \u001b[0mimprovement\u001b[0m\u001b[1;33m,\u001b[0m \u001b[0mimprovement_limit\u001b[0m\u001b[1;33m=\u001b[0m\u001b[1;36m4\u001b[0m\u001b[1;33m)\u001b[0m\u001b[1;33m\u001b[0m\u001b[1;33m\u001b[0m\u001b[0m\n\u001b[0m\u001b[0;32m      7\u001b[0m         \u001b[1;32mif\u001b[0m \u001b[0miterations\u001b[0m \u001b[1;32mnot\u001b[0m \u001b[1;32min\u001b[0m \u001b[0maverages\u001b[0m\u001b[1;33m:\u001b[0m\u001b[1;33m\u001b[0m\u001b[1;33m\u001b[0m\u001b[0m\n\u001b[0;32m      8\u001b[0m             \u001b[0maverages\u001b[0m\u001b[1;33m[\u001b[0m\u001b[0miterations\u001b[0m\u001b[1;33m]\u001b[0m \u001b[1;33m=\u001b[0m \u001b[1;33m[\u001b[0m\u001b[0mbest_cost\u001b[0m\u001b[1;33m]\u001b[0m\u001b[1;33m\u001b[0m\u001b[1;33m\u001b[0m\u001b[0m\n",
      "\u001b[1;32m~\\AppData\\Local\\Temp/ipykernel_34460/2921840250.py\u001b[0m in \u001b[0;36mrandom_restart_hill_climbing\u001b[1;34m(file_path, improvement, improvement_limit)\u001b[0m\n\u001b[0;32m     20\u001b[0m         \u001b[0mprev_best_cost\u001b[0m \u001b[1;33m=\u001b[0m \u001b[1;33m-\u001b[0m\u001b[1;36m1\u001b[0m\u001b[1;33m\u001b[0m\u001b[1;33m\u001b[0m\u001b[0m\n\u001b[0;32m     21\u001b[0m         \u001b[1;32mwhile\u001b[0m \u001b[1;32mnot\u001b[0m \u001b[0mstop\u001b[0m\u001b[1;33m:\u001b[0m\u001b[1;33m\u001b[0m\u001b[1;33m\u001b[0m\u001b[0m\n\u001b[1;32m---> 22\u001b[1;33m             \u001b[0mS\u001b[0m\u001b[1;33m,\u001b[0m \u001b[0mstop\u001b[0m\u001b[1;33m,\u001b[0m \u001b[0mbest_cost\u001b[0m \u001b[1;33m=\u001b[0m \u001b[0mRandomRestartHillClimbing\u001b[0m\u001b[1;33m.\u001b[0m\u001b[0mgenerate_successor\u001b[0m\u001b[1;33m(\u001b[0m\u001b[0mS\u001b[0m\u001b[1;33m,\u001b[0m \u001b[0mimprovement\u001b[0m\u001b[1;33m)\u001b[0m\u001b[1;33m\u001b[0m\u001b[1;33m\u001b[0m\u001b[0m\n\u001b[0m\u001b[0;32m     23\u001b[0m \u001b[1;33m\u001b[0m\u001b[0m\n\u001b[0;32m     24\u001b[0m             \u001b[1;32mif\u001b[0m \u001b[0mimprovement\u001b[0m \u001b[1;32mand\u001b[0m \u001b[0mprev_best_cost\u001b[0m \u001b[1;33m==\u001b[0m \u001b[0mbest_cost\u001b[0m\u001b[1;33m:\u001b[0m\u001b[1;33m\u001b[0m\u001b[1;33m\u001b[0m\u001b[0m\n",
      "\u001b[1;32m~\\AppData\\Local\\Temp/ipykernel_34460/874144353.py\u001b[0m in \u001b[0;36mgenerate_successor\u001b[1;34m(S, improvement)\u001b[0m\n\u001b[0;32m    327\u001b[0m \u001b[1;33m\u001b[0m\u001b[0m\n\u001b[0;32m    328\u001b[0m         \u001b[1;32mfor\u001b[0m \u001b[0mfunc\u001b[0m\u001b[1;33m,\u001b[0m \u001b[0mchange\u001b[0m \u001b[1;32min\u001b[0m \u001b[0mstrategies\u001b[0m\u001b[1;33m.\u001b[0m\u001b[0mitems\u001b[0m\u001b[1;33m(\u001b[0m\u001b[1;33m)\u001b[0m\u001b[1;33m:\u001b[0m\u001b[1;33m\u001b[0m\u001b[1;33m\u001b[0m\u001b[0m\n\u001b[1;32m--> 329\u001b[1;33m             \u001b[0mnew_best_cost\u001b[0m\u001b[1;33m,\u001b[0m \u001b[0mnew_data\u001b[0m \u001b[1;33m=\u001b[0m \u001b[0mfunc\u001b[0m\u001b[1;33m(\u001b[0m\u001b[0mS\u001b[0m\u001b[1;33m,\u001b[0m \u001b[0mimprovement\u001b[0m\u001b[1;33m,\u001b[0m \u001b[0mbest_cost\u001b[0m\u001b[1;33m)\u001b[0m\u001b[1;33m\u001b[0m\u001b[1;33m\u001b[0m\u001b[0m\n\u001b[0m\u001b[0;32m    330\u001b[0m             \u001b[1;32mif\u001b[0m \u001b[0mnew_best_cost\u001b[0m \u001b[1;33m<\u001b[0m \u001b[0mbest_cost\u001b[0m \u001b[1;32mor\u001b[0m \u001b[1;33m(\u001b[0m\u001b[0mimprovement\u001b[0m \u001b[1;32mand\u001b[0m \u001b[0mnew_best_cost\u001b[0m \u001b[1;33m==\u001b[0m \u001b[0mbest_cost\u001b[0m \u001b[1;32mand\u001b[0m \u001b[0mnew_data\u001b[0m \u001b[1;32mis\u001b[0m \u001b[1;32mnot\u001b[0m \u001b[1;32mNone\u001b[0m\u001b[1;33m)\u001b[0m\u001b[1;33m:\u001b[0m\u001b[1;33m\u001b[0m\u001b[1;33m\u001b[0m\u001b[0m\n\u001b[0;32m    331\u001b[0m                 \u001b[0mbest_change\u001b[0m \u001b[1;33m=\u001b[0m \u001b[0mchange\u001b[0m\u001b[1;33m\u001b[0m\u001b[1;33m\u001b[0m\u001b[0m\n",
      "\u001b[1;32m~\\AppData\\Local\\Temp/ipykernel_34460/874144353.py\u001b[0m in \u001b[0;36m__generate_successor_slot_swaps\u001b[1;34m(S, improvement, best_cost)\u001b[0m\n\u001b[0;32m    176\u001b[0m \u001b[1;33m\u001b[0m\u001b[0m\n\u001b[0;32m    177\u001b[0m             \u001b[1;31m# If the new state's cost is better than the best cost, update the best swap\u001b[0m\u001b[1;33m\u001b[0m\u001b[1;33m\u001b[0m\u001b[0m\n\u001b[1;32m--> 178\u001b[1;33m             \u001b[0mnew_cost\u001b[0m \u001b[1;33m=\u001b[0m \u001b[0mRandomRestartHillClimbing\u001b[0m\u001b[1;33m.\u001b[0m\u001b[0meval\u001b[0m\u001b[1;33m(\u001b[0m\u001b[0mS\u001b[0m\u001b[1;33m)\u001b[0m\u001b[1;33m\u001b[0m\u001b[1;33m\u001b[0m\u001b[0m\n\u001b[0m\u001b[0;32m    179\u001b[0m             \u001b[1;32mif\u001b[0m \u001b[0mnew_cost\u001b[0m \u001b[1;33m<\u001b[0m \u001b[0mbest_cost\u001b[0m \u001b[1;32mor\u001b[0m \u001b[1;33m(\u001b[0m\u001b[0mimprovement\u001b[0m \u001b[1;32mand\u001b[0m \u001b[0mnew_cost\u001b[0m \u001b[1;33m==\u001b[0m \u001b[0mbest_cost\u001b[0m\u001b[1;33m)\u001b[0m\u001b[1;33m:\u001b[0m\u001b[1;33m\u001b[0m\u001b[1;33m\u001b[0m\u001b[0m\n\u001b[0;32m    180\u001b[0m                 \u001b[0mbest_swap\u001b[0m \u001b[1;33m=\u001b[0m \u001b[1;33m(\u001b[0m\u001b[0ms1\u001b[0m\u001b[1;33m,\u001b[0m \u001b[0ms2\u001b[0m\u001b[1;33m)\u001b[0m\u001b[1;33m\u001b[0m\u001b[1;33m\u001b[0m\u001b[0m\n",
      "\u001b[1;32m~\\AppData\\Local\\Temp/ipykernel_34460/874144353.py\u001b[0m in \u001b[0;36meval\u001b[1;34m(timetable)\u001b[0m\n\u001b[0;32m    150\u001b[0m \u001b[1;33m\u001b[0m\u001b[0m\n\u001b[0;32m    151\u001b[0m                 \u001b[1;31m# Interval constraint breach\u001b[0m\u001b[1;33m\u001b[0m\u001b[1;33m\u001b[0m\u001b[0m\n\u001b[1;32m--> 152\u001b[1;33m                 \u001b[0mslot_interval\u001b[0m \u001b[1;33m=\u001b[0m \u001b[0mget_interval_tuple\u001b[0m\u001b[1;33m(\u001b[0m\u001b[0mslot\u001b[0m\u001b[1;33m.\u001b[0m\u001b[0minterval\u001b[0m\u001b[1;33m.\u001b[0m\u001b[0minterval\u001b[0m\u001b[1;33m)\u001b[0m\u001b[1;33m\u001b[0m\u001b[1;33m\u001b[0m\u001b[0m\n\u001b[0m\u001b[0;32m    153\u001b[0m                 \u001b[0mprefferable_intervals\u001b[0m \u001b[1;33m=\u001b[0m \u001b[1;33m[\u001b[0m\u001b[0mget_interval_tuple\u001b[0m\u001b[1;33m(\u001b[0m\u001b[0minterval\u001b[0m\u001b[1;33m,\u001b[0m \u001b[1;34m\"-\"\u001b[0m\u001b[1;33m)\u001b[0m \u001b[1;32mfor\u001b[0m \u001b[0minterval\u001b[0m \u001b[1;32min\u001b[0m \u001b[0mslot\u001b[0m\u001b[1;33m.\u001b[0m\u001b[0mteacher\u001b[0m\u001b[1;33m.\u001b[0m\u001b[0mconstraints\u001b[0m\u001b[1;33m.\u001b[0m\u001b[0mprefferable_intervals\u001b[0m\u001b[1;33m]\u001b[0m\u001b[1;33m\u001b[0m\u001b[1;33m\u001b[0m\u001b[0m\n\u001b[0;32m    154\u001b[0m                 \u001b[1;32mif\u001b[0m \u001b[0mRandomRestartHillClimbing\u001b[0m\u001b[1;33m.\u001b[0m\u001b[0m__interval_constraint_breach\u001b[0m\u001b[1;33m(\u001b[0m\u001b[0mslot_interval\u001b[0m\u001b[1;33m,\u001b[0m \u001b[0mprefferable_intervals\u001b[0m\u001b[1;33m)\u001b[0m\u001b[1;33m:\u001b[0m\u001b[1;33m\u001b[0m\u001b[1;33m\u001b[0m\u001b[0m\n",
      "\u001b[1;32m~\\AppData\\Local\\Temp/ipykernel_34460/2391645388.py\u001b[0m in \u001b[0;36mget_interval_tuple\u001b[1;34m(interval, delimiter)\u001b[0m\n\u001b[0;32m      5\u001b[0m         \u001b[0msplitted\u001b[0m \u001b[1;33m=\u001b[0m \u001b[0minterval\u001b[0m\u001b[1;33m[\u001b[0m\u001b[1;36m1\u001b[0m\u001b[1;33m:\u001b[0m\u001b[0mlen\u001b[0m\u001b[1;33m(\u001b[0m\u001b[0minterval\u001b[0m\u001b[1;33m)\u001b[0m \u001b[1;33m-\u001b[0m \u001b[1;36m1\u001b[0m\u001b[1;33m]\u001b[0m\u001b[1;33m.\u001b[0m\u001b[0msplit\u001b[0m\u001b[1;33m(\u001b[0m\u001b[0mdelimiter\u001b[0m\u001b[1;33m)\u001b[0m\u001b[1;33m\u001b[0m\u001b[1;33m\u001b[0m\u001b[0m\n\u001b[0;32m      6\u001b[0m \u001b[1;33m\u001b[0m\u001b[0m\n\u001b[1;32m----> 7\u001b[1;33m     \u001b[0mfirst\u001b[0m \u001b[1;33m=\u001b[0m \u001b[0mint\u001b[0m\u001b[1;33m(\u001b[0m\u001b[0msplitted\u001b[0m\u001b[1;33m[\u001b[0m\u001b[1;36m0\u001b[0m\u001b[1;33m]\u001b[0m\u001b[1;33m)\u001b[0m\u001b[1;33m\u001b[0m\u001b[1;33m\u001b[0m\u001b[0m\n\u001b[0m\u001b[0;32m      8\u001b[0m     \u001b[0msecond\u001b[0m \u001b[1;33m=\u001b[0m \u001b[0mint\u001b[0m\u001b[1;33m(\u001b[0m\u001b[0msplitted\u001b[0m\u001b[1;33m[\u001b[0m\u001b[1;36m1\u001b[0m\u001b[1;33m]\u001b[0m\u001b[1;33m)\u001b[0m\u001b[1;33m\u001b[0m\u001b[1;33m\u001b[0m\u001b[0m\n\u001b[0;32m      9\u001b[0m     \u001b[1;32mreturn\u001b[0m \u001b[1;33m(\u001b[0m\u001b[0mfirst\u001b[0m\u001b[1;33m,\u001b[0m \u001b[0msecond\u001b[0m\u001b[1;33m)\u001b[0m\u001b[1;33m\u001b[0m\u001b[1;33m\u001b[0m\u001b[0m\n",
      "\u001b[1;31mKeyboardInterrupt\u001b[0m: "
     ]
    }
   ],
   "source": [
    "# input_files = [\n",
    "#     \"inputs/dummy.yaml\",\n",
    "#     # \"inputs/orar_bonus_exact.yaml\",\n",
    "#     \"inputs/orar_constrans_incalcat.yaml\",\n",
    "#     \"inputs/orar_mare_relaxat.yaml\",\n",
    "#     \"inputs/orar_mediu_relaxat.yaml\",\n",
    "#     \"inputs/orar_mic_exact.yaml\",\n",
    "# ]\n",
    "\n",
    "# with contextlib.redirect_stdout(io.StringIO()):\n",
    "#     for input_file in input_files:\n",
    "#         plot_random_restart_hc(input_file)\n",
    "\n",
    "# for file in input_files:\n",
    "#     random_restart_hill_climbing(file)"
   ]
  }
 ],
 "metadata": {
  "kernelspec": {
   "display_name": "Python 3",
   "language": "python",
   "name": "python3"
  },
  "language_info": {
   "codemirror_mode": {
    "name": "ipython",
    "version": 3
   },
   "file_extension": ".py",
   "mimetype": "text/x-python",
   "name": "python",
   "nbconvert_exporter": "python",
   "pygments_lexer": "ipython3",
   "version": "3.9.13"
  }
 },
 "nbformat": 4,
 "nbformat_minor": 2
}
